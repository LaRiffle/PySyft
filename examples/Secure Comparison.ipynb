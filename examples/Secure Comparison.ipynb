{
 "cells": [
  {
   "cell_type": "code",
   "execution_count": 1,
   "metadata": {},
   "outputs": [],
   "source": [
    "import syft as sy\n",
    "import torch\n",
    "import time\n",
    "\n",
    "syft = sy \n",
    "\n",
    "hook = sy.TorchHook(torch)\n",
    "bob = sy.VirtualWorker(hook, id=\"bob\")\n",
    "alice = sy.VirtualWorker(hook, id=\"alice\")\n",
    "charlie = sy.VirtualWorker(hook, id=\"charlie\")\n",
    "james = sy.VirtualWorker(hook, id=\"james\")\n",
    "crypto_provider = james\n",
    "\n",
    "bit_decompose = syft.frameworks.torch.crypto.securenn.decompose"
   ]
  },
  {
   "cell_type": "markdown",
   "metadata": {},
   "source": [
    "### Descriptive"
   ]
  },
  {
   "cell_type": "markdown",
   "metadata": {},
   "source": [
    "0. Take an input"
   ]
  },
  {
   "cell_type": "code",
   "execution_count": 2,
   "metadata": {},
   "outputs": [],
   "source": [
    "x_sh = torch.tensor([2.])\\\n",
    "    .fix_prec(precision_fractional=0)\\\n",
    "    .share(alice, bob, crypto_provider=james)"
   ]
  },
  {
   "cell_type": "markdown",
   "metadata": {},
   "source": [
    "_Shares values are_"
   ]
  },
  {
   "cell_type": "code",
   "execution_count": 3,
   "metadata": {},
   "outputs": [
    {
     "name": "stdout",
     "output_type": "stream",
     "text": [
      "Shares\t\t tensor([3682865790395216025]) tensor([928820228032171881])\n",
      "Real sum\t tensor([4611686018427387906])\n",
      "Sum modulo\t tensor([2])\n"
     ]
    }
   ],
   "source": [
    "shares_values = [p.copy().get() for p in x_sh.child.child.child.values()]\n",
    "shares_sum = shares_values[0] + shares_values[1]\n",
    "print(\"Shares\\t\\t\", *shares_values)\n",
    "print(\"Real sum\\t\", shares_sum)\n",
    "print(\"Sum modulo\\t\", shares_sum % 2**62)"
   ]
  },
  {
   "cell_type": "markdown",
   "metadata": {},
   "source": [
    "_What should happen? Look at the last bit for each_"
   ]
  },
  {
   "cell_type": "code",
   "execution_count": 4,
   "metadata": {},
   "outputs": [
    {
     "name": "stdout",
     "output_type": "stream",
     "text": [
      "tensor(1) tensor(0)\n"
     ]
    }
   ],
   "source": [
    "print(*map(lambda x: bit_decompose(x)[0][-1], shares_values))"
   ]
  },
  {
   "cell_type": "code",
   "execution_count": 5,
   "metadata": {},
   "outputs": [
    {
     "name": "stdout",
     "output_type": "stream",
     "text": [
      "tensor(0)\n"
     ]
    }
   ],
   "source": [
    "print(bit_decompose(shares_sum)[0][-1])"
   ]
  },
  {
   "cell_type": "markdown",
   "metadata": {},
   "source": [
    "As you see we need carry bits and wan't just sum the MSB"
   ]
  },
  {
   "cell_type": "markdown",
   "metadata": {},
   "source": [
    "1. Decompose bitwise the shares"
   ]
  },
  {
   "cell_type": "code",
   "execution_count": 6,
   "metadata": {
    "scrolled": true
   },
   "outputs": [],
   "source": [
    "share_pointers = list(x_sh.child.child.child.values())\n",
    "x_mpt = sy.MultiPointerTensor(children=share_pointers)"
   ]
  },
  {
   "cell_type": "code",
   "execution_count": 7,
   "metadata": {},
   "outputs": [
    {
     "data": {
      "text/plain": [
       "MultiPointerTensor>{'alice': [PointerTensor | me:70461010071 -> alice:11891612859], 'bob': [PointerTensor | me:63010515958 -> bob:10586763251]}"
      ]
     },
     "execution_count": 7,
     "metadata": {},
     "output_type": "execute_result"
    }
   ],
   "source": [
    "x_mpt"
   ]
  },
  {
   "cell_type": "code",
   "execution_count": 8,
   "metadata": {},
   "outputs": [],
   "source": [
    "x_shares_bin = bit_decompose(x_mpt)"
   ]
  },
  {
   "cell_type": "code",
   "execution_count": 9,
   "metadata": {},
   "outputs": [
    {
     "data": {
      "text/plain": [
       "tensor([[1, 0, 0, 1, 1, 0, 0, 1, 0, 0, 0, 0, 1, 1, 1, 1, 1, 0, 0, 0, 1, 1, 1, 1,\n",
       "         1, 1, 1, 0, 1, 1, 1, 0, 0, 0, 1, 1, 0, 1, 1, 1, 0, 1, 0, 1, 0, 1, 0, 0,\n",
       "         0, 0, 1, 1, 1, 0, 0, 0, 1, 1, 0, 0, 1, 1]])"
      ]
     },
     "execution_count": 9,
     "metadata": {},
     "output_type": "execute_result"
    }
   ],
   "source": [
    "x_shares_bin.child['alice'].copy().get()"
   ]
  },
  {
   "cell_type": "markdown",
   "metadata": {},
   "source": [
    "2. Secret share these tensors"
   ]
  },
  {
   "cell_type": "code",
   "execution_count": 10,
   "metadata": {},
   "outputs": [
    {
     "data": {
      "text/plain": [
       "MultiPointerTensor>{'alice': [PointerTensor | me:71111319528 -> alice:58865810870], 'bob': [PointerTensor | me:63859771289 -> bob:59567078335]}"
      ]
     },
     "execution_count": 10,
     "metadata": {},
     "output_type": "execute_result"
    }
   ],
   "source": [
    "x_shares_bin"
   ]
  },
  {
   "cell_type": "code",
   "execution_count": 11,
   "metadata": {},
   "outputs": [],
   "source": [
    "x_sh_1_bin, x_sh_2_bin = [\n",
    "        share.share(alice, bob, crypto_provider=james, field=2).get().child\n",
    "        for w, share in x_shares_bin.child.items()\n",
    "    ]"
   ]
  },
  {
   "cell_type": "code",
   "execution_count": 12,
   "metadata": {},
   "outputs": [
    {
     "data": {
      "text/plain": [
       "[AdditiveSharingTensor]\n",
       "\t-> [PointerTensor | me:39695145315 -> alice:43764684627]\n",
       "\t-> [PointerTensor | me:68332488837 -> bob:22801229688]\n",
       "\t*crypto provider: james*"
      ]
     },
     "execution_count": 12,
     "metadata": {},
     "output_type": "execute_result"
    }
   ],
   "source": [
    "x_sh_1_bin"
   ]
  },
  {
   "cell_type": "markdown",
   "metadata": {},
   "source": [
    "3. Compute carry bit"
   ]
  },
  {
   "cell_type": "code",
   "execution_count": 13,
   "metadata": {},
   "outputs": [],
   "source": [
    "c_sh_bin = x_sh_1_bin * x_sh_2_bin"
   ]
  },
  {
   "cell_type": "code",
   "execution_count": 14,
   "metadata": {},
   "outputs": [
    {
     "data": {
      "text/plain": [
       "tensor([[1, 0, 0, 1, 0, 0, 0, 0, 0, 0, 0, 0, 0, 0, 0, 0, 0, 0, 0, 0, 0, 0, 0, 0,\n",
       "         0, 0, 0, 0, 0, 0, 0, 0, 0, 0, 0, 0, 0, 0, 0, 0, 0, 0, 0, 0, 0, 0, 0, 0,\n",
       "         0, 0, 0, 0, 0, 0, 0, 0, 0, 0, 0, 0, 0, 0]])"
      ]
     },
     "execution_count": 14,
     "metadata": {},
     "output_type": "execute_result"
    }
   ],
   "source": [
    "c_sh_bin.virtual_get()"
   ]
  },
  {
   "cell_type": "markdown",
   "metadata": {},
   "source": [
    "4. Shift carry bit"
   ]
  },
  {
   "cell_type": "code",
   "execution_count": 15,
   "metadata": {},
   "outputs": [],
   "source": [
    "c_sh_bin_shifted = torch.roll(c_sh_bin, shifts=1)\n",
    "c_sh_bin_shifted[:, 0] = 0"
   ]
  },
  {
   "cell_type": "code",
   "execution_count": 16,
   "metadata": {},
   "outputs": [
    {
     "data": {
      "text/plain": [
       "tensor([[0, 1, 0, 0, 1, 0, 0, 0, 0, 0, 0, 0, 0, 0, 0, 0, 0, 0, 0, 0, 0, 0, 0, 0,\n",
       "         0, 0, 0, 0, 0, 0, 0, 0, 0, 0, 0, 0, 0, 0, 0, 0, 0, 0, 0, 0, 0, 0, 0, 0,\n",
       "         0, 0, 0, 0, 0, 0, 0, 0, 0, 0, 0, 0, 0, 0]])"
      ]
     },
     "execution_count": 16,
     "metadata": {},
     "output_type": "execute_result"
    }
   ],
   "source": [
    "c_sh_bin_shifted.virtual_get()"
   ]
  },
  {
   "cell_type": "markdown",
   "metadata": {},
   "source": [
    "5. Sum binary shares"
   ]
  },
  {
   "cell_type": "code",
   "execution_count": 17,
   "metadata": {},
   "outputs": [],
   "source": [
    "s_sh_bin = x_sh_1_bin + x_sh_2_bin"
   ]
  },
  {
   "cell_type": "code",
   "execution_count": 18,
   "metadata": {},
   "outputs": [
    {
     "data": {
      "text/plain": [
       "tensor([[0, 0, 0, 0, 1, 1, 1, 1, 1, 1, 1, 1, 1, 1, 1, 1, 1, 1, 1, 1, 1, 1, 1, 1,\n",
       "         1, 1, 1, 1, 1, 1, 1, 1, 1, 1, 1, 1, 1, 1, 1, 1, 1, 1, 1, 1, 1, 1, 1, 1,\n",
       "         1, 1, 1, 1, 1, 1, 1, 1, 1, 1, 1, 1, 1, 1]])"
      ]
     },
     "execution_count": 18,
     "metadata": {},
     "output_type": "execute_result"
    }
   ],
   "source": [
    "s_sh_bin.virtual_get()"
   ]
  },
  {
   "cell_type": "markdown",
   "metadata": {},
   "source": [
    "6. Go back to 3."
   ]
  },
  {
   "cell_type": "code",
   "execution_count": 19,
   "metadata": {},
   "outputs": [],
   "source": [
    "x_sh_1_bin, x_sh_2_bin = s_sh_bin, c_sh_bin_shifted"
   ]
  },
  {
   "cell_type": "markdown",
   "metadata": {},
   "source": [
    "### Condensed"
   ]
  },
  {
   "cell_type": "code",
   "execution_count": 20,
   "metadata": {},
   "outputs": [
    {
     "name": "stdout",
     "output_type": "stream",
     "text": [
      "Provisory result tensor(1)\n",
      "Step 0\n",
      "Provisory result tensor(1)\n",
      "Step 1\n",
      "Provisory result tensor(1)\n",
      "Step 2\n",
      "Provisory result tensor(1)\n",
      "Step 3\n",
      "Provisory result tensor(1)\n",
      "Step 4\n",
      "Provisory result tensor(1)\n",
      "Step 5\n",
      "Provisory result tensor(1)\n",
      "Step 6\n",
      "Provisory result tensor(1)\n",
      "Step 7\n",
      "Provisory result tensor(1)\n",
      "Step 8\n",
      "Provisory result tensor(1)\n",
      "Step 9\n",
      "Provisory result tensor(1)\n",
      "Step 10\n",
      "Provisory result tensor(1)\n",
      "Step 11\n",
      "Provisory result tensor(1)\n",
      "Step 12\n",
      "Provisory result tensor(1)\n",
      "Step 13\n",
      "Provisory result tensor(1)\n",
      "Step 14\n",
      "Provisory result tensor(1)\n",
      "Step 15\n",
      "Provisory result tensor(1)\n",
      "Step 16\n",
      "Provisory result tensor(1)\n",
      "Step 17\n",
      "Provisory result tensor(1)\n",
      "Step 18\n",
      "Provisory result tensor(1)\n",
      "Step 19\n",
      "Provisory result tensor(1)\n",
      "Step 20\n",
      "Provisory result tensor(1)\n",
      "Step 21\n",
      "Provisory result tensor(1)\n",
      "Step 22\n",
      "Provisory result tensor(1)\n",
      "Step 23\n",
      "Provisory result tensor(1)\n",
      "Step 24\n",
      "Provisory result tensor(1)\n",
      "Step 25\n",
      "Provisory result tensor(1)\n",
      "Step 26\n",
      "Provisory result tensor(1)\n",
      "Step 27\n",
      "Provisory result tensor(1)\n",
      "Step 28\n",
      "Provisory result tensor(1)\n",
      "Step 29\n",
      "Provisory result tensor(1)\n",
      "Step 30\n",
      "Provisory result tensor(1)\n",
      "Step 31\n",
      "Provisory result tensor(1)\n",
      "Step 32\n",
      "Provisory result tensor(1)\n",
      "Step 33\n",
      "Provisory result tensor(1)\n",
      "Step 34\n",
      "Provisory result tensor(1)\n",
      "Step 35\n",
      "Provisory result tensor(1)\n",
      "Step 36\n",
      "Provisory result tensor(1)\n",
      "Step 37\n",
      "Provisory result tensor(1)\n",
      "Step 38\n",
      "Provisory result tensor(1)\n",
      "Step 39\n",
      "Provisory result tensor(1)\n",
      "Step 40\n",
      "Provisory result tensor(1)\n",
      "Step 41\n",
      "Provisory result tensor(1)\n",
      "Step 42\n",
      "Provisory result tensor(1)\n",
      "Step 43\n",
      "Provisory result tensor(1)\n",
      "Step 44\n",
      "Provisory result tensor(1)\n",
      "Step 45\n",
      "Provisory result tensor(1)\n",
      "Step 46\n",
      "Provisory result tensor(1)\n",
      "Step 47\n",
      "Provisory result tensor(1)\n",
      "Step 48\n",
      "Provisory result tensor(1)\n",
      "Step 49\n",
      "Provisory result tensor(1)\n",
      "Step 50\n",
      "Provisory result tensor(1)\n",
      "Step 51\n",
      "Provisory result tensor(1)\n",
      "Step 52\n",
      "Provisory result tensor(1)\n",
      "Step 53\n",
      "Provisory result tensor(1)\n",
      "Step 54\n",
      "Provisory result tensor(1)\n",
      "Step 55\n",
      "Provisory result tensor(1)\n",
      "Step 56\n",
      "Provisory result tensor(1)\n",
      "Step 57\n",
      "Provisory result tensor(1)\n",
      "Step 58\n",
      "Provisory result tensor(1)\n",
      "Step 59\n",
      "Provisory result tensor(1)\n",
      "Step 60\n",
      "Provisory result tensor(1)\n",
      "Step 61\n",
      "Provisory result tensor(1)\n"
     ]
    }
   ],
   "source": [
    "x_sh = torch.tensor([-9841.])\\\n",
    "    .fix_prec(precision_fractional=0)\\\n",
    "    .share(alice, bob, crypto_provider=james)\n",
    "\n",
    "share_pointers = list(x_sh.child.child.child.values())\n",
    "x_mpt = sy.MultiPointerTensor(children=share_pointers)\n",
    "\n",
    "x_shares_bin = bit_decompose(x_mpt)\n",
    "\n",
    "x_sh_1_bin, x_sh_2_bin = [\n",
    "    share.share(alice, bob, crypto_provider=james, field=2).get().child\n",
    "    for w, share in x_shares_bin.child.items()\n",
    "]\n",
    "\n",
    "r = x_sh_1_bin[0][-1] + x_sh_2_bin[0][-1]\n",
    "print('Provisory result', r.virtual_get())\n",
    "\n",
    "for i in range(62):\n",
    "    \n",
    "    c_sh_bin = x_sh_1_bin * x_sh_2_bin\n",
    "    \n",
    "    c_sh_bin_shifted = torch.roll(c_sh_bin, shifts=1)\n",
    "    c_sh_bin_shifted[:, 0] = 0\n",
    "    \n",
    "    s_sh_bin = x_sh_1_bin + x_sh_2_bin\n",
    "    \n",
    "    print('Step', i)\n",
    "    #print(s_sh_bin.virtual_get())\n",
    "    #print(c_sh_bin_shifted.virtual_get())\n",
    "    \n",
    "    x_sh_1_bin, x_sh_2_bin = s_sh_bin, c_sh_bin_shifted\n",
    "    \n",
    "    r = r + c_sh_bin_shifted[0][-1]\n",
    "    print('Provisory result', r.virtual_get())"
   ]
  },
  {
   "cell_type": "markdown",
   "metadata": {},
   "source": [
    "### Benchmarked"
   ]
  },
  {
   "cell_type": "code",
   "execution_count": 21,
   "metadata": {},
   "outputs": [],
   "source": [
    "Q_BITS = 32\n",
    "shape = (5, )"
   ]
  },
  {
   "cell_type": "code",
   "execution_count": 22,
   "metadata": {},
   "outputs": [],
   "source": [
    "def bit_decompose(tensor):\n",
    "    \"\"\"decompose a tensor into its binary representation.\"\"\"\n",
    "    n_bits = Q_BITS\n",
    "    powers = torch.arange(n_bits)\n",
    "    if hasattr(tensor, \"child\") and isinstance(tensor.child, dict):\n",
    "        powers = powers.send(*list(tensor.child.keys()), **{\"no_wrap\": True})\n",
    "    for i in range(len(tensor.shape)):\n",
    "        powers = powers.unsqueeze(0)\n",
    "    tensor = tensor.unsqueeze(-1)\n",
    "    moduli = 2 ** powers\n",
    "    tensor = torch.fmod((tensor / moduli.type_as(tensor)), 2)\n",
    "    return tensor\n"
   ]
  },
  {
   "cell_type": "code",
   "execution_count": 30,
   "metadata": {},
   "outputs": [],
   "source": [
    "def private_compare(x_sh):\n",
    "    share_pointers = list(x_sh.child.child.child.values())\n",
    "    x_mpt = sy.MultiPointerTensor(children=share_pointers)\n",
    "\n",
    "    x_shares_bin = bit_decompose(x_mpt)\n",
    "\n",
    "    x_sh_1_bin, x_sh_2_bin = [\n",
    "        share.share(alice, bob, crypto_provider=james, field=2).get().child\n",
    "        for w, share in x_shares_bin.child.items()\n",
    "    ]\n",
    "\n",
    "    r = x_sh_1_bin[:,-1] + x_sh_2_bin[:,-1]\n",
    "\n",
    "    for i in range(Q_BITS):\n",
    "\n",
    "        c_sh_bin = x_sh_1_bin * x_sh_2_bin\n",
    "\n",
    "        c_sh_bin_shifted = c_sh_bin.roll(shifts=1)\n",
    "        c_sh_bin_shifted[:, 0] = 0\n",
    "\n",
    "        s_sh_bin = x_sh_1_bin + x_sh_2_bin\n",
    "\n",
    "        x_sh_1_bin, x_sh_2_bin = s_sh_bin, c_sh_bin_shifted\n",
    "\n",
    "        r = r + c_sh_bin_shifted[:,-1]\n",
    "        \n",
    "    return r"
   ]
  },
  {
   "cell_type": "code",
   "execution_count": 31,
   "metadata": {},
   "outputs": [
    {
     "name": "stdout",
     "output_type": "stream",
     "text": [
      "tensor([  25.3318,  374.4645, -507.4072, -410.9270, -164.9139])\n",
      "         463735 function calls (428012 primitive calls) in 0.395 seconds\n",
      "\n",
      "   Ordered by: standard name\n",
      "\n",
      "   ncalls  tottime  percall  cumtime  percall filename:lineno(function)\n",
      "        1    0.000    0.000    0.003    0.003 <ipython-input-22-70c5daf652cb>:1(bit_decompose)\n",
      "        1    0.000    0.000    0.392    0.392 <ipython-input-30-a1f18dfa6eac>:1(private_compare)\n",
      "        1    0.000    0.000    0.002    0.002 <ipython-input-30-a1f18dfa6eac>:8(<listcomp>)\n",
      "        1    0.000    0.000    0.395    0.395 <ipython-input-31-65ea90bdbf4d>:3(foo)\n",
      "        1    0.000    0.000    0.000    0.000 <string>:1(<module>)\n",
      "     9478    0.002    0.000    0.002    0.000 __init__.py:123(is_storage)\n",
      "     8108    0.011    0.000    0.018    0.000 __init__.py:40(packb)\n",
      "        1    0.000    0.000    0.000    0.000 _tensor_str.py:132(width)\n",
      "        5    0.000    0.000    0.000    0.000 _tensor_str.py:135(format)\n",
      "        1    0.000    0.000    0.000    0.000 _tensor_str.py:154(_vector_str)\n",
      "        1    0.000    0.000    0.000    0.000 _tensor_str.py:165(<listcomp>)\n",
      "        1    0.000    0.000    0.000    0.000 _tensor_str.py:167(<listcomp>)\n",
      "        1    0.000    0.000    0.000    0.000 _tensor_str.py:168(<listcomp>)\n",
      "        1    0.000    0.000    0.000    0.000 _tensor_str.py:172(_tensor_str_with_formatter)\n",
      "        1    0.000    0.000    0.001    0.001 _tensor_str.py:194(_tensor_str)\n",
      "        1    0.000    0.000    0.000    0.000 _tensor_str.py:205(_add_suffixes)\n",
      "        1    0.000    0.000    0.001    0.001 _tensor_str.py:239(_str)\n",
      "        1    0.000    0.000    0.001    0.001 _tensor_str.py:72(__init__)\n",
      "      458    0.001    0.000    0.009    0.000 _utils.py:126(_rebuild_tensor)\n",
      "      458    0.000    0.000    0.009    0.000 _utils.py:132(_rebuild_tensor_v2)\n",
      "      877    0.000    0.000    0.001    0.000 abc.py:137(__instancecheck__)\n",
      "       64    0.001    0.000    0.019    0.000 additive_shared.py:107(get)\n",
      "       99    0.001    0.000    0.051    0.001 additive_shared.py:146(init_shares)\n",
      "       99    0.001    0.000    0.005    0.000 additive_shared.py:165(generate_shares)\n",
      "      488    0.001    0.000    0.003    0.000 additive_shared.py:17(__init__)\n",
      "       99    0.000    0.000    0.000    0.000 additive_shared.py:181(<listcomp>)\n",
      "       64    0.001    0.000    0.086    0.001 additive_shared.py:199(reconstruct)\n",
      "       34    0.000    0.000    0.007    0.000 additive_shared.py:268(_getitem_public)\n",
      "       34    0.000    0.000    0.009    0.000 additive_shared.py:287(__getitem__)\n",
      "      129    0.001    0.000    0.059    0.000 additive_shared.py:299(add)\n",
      "      129    0.000    0.000    0.062    0.000 additive_shared.py:342(__add__)\n",
      "       64    0.000    0.000    0.031    0.000 additive_shared.py:347(sub)\n",
      "       64    0.000    0.000    0.032    0.001 additive_shared.py:391(__sub__)\n",
      "       32    0.000    0.000    0.306    0.010 additive_shared.py:395(_private_mul)\n",
      "       32    0.000    0.000    0.019    0.001 additive_shared.py:419(_public_mul)\n",
      "       32    0.000    0.000    0.019    0.001 additive_shared.py:440(<dictcomp>)\n",
      "    64/32    0.000    0.000    0.306    0.010 additive_shared.py:462(mul)\n",
      "       32    0.000    0.000    0.306    0.010 additive_shared.py:474(__mul__)\n",
      "       32    0.000    0.000    0.020    0.001 additive_shared.py:606(mul)\n",
      "       96    0.000    0.000    0.000    0.000 additive_shared.py:73(locations)\n",
      "       96    0.000    0.000    0.000    0.000 additive_shared.py:76(<listcomp>)\n",
      "      128    0.000    0.000    0.006    0.000 additive_shared.py:78(shape)\n",
      "       32    0.000    0.000    0.020    0.001 additive_shared.py:898(handle_func_command)\n",
      "      323    0.000    0.000    0.000    0.000 additive_shared.py:90(get_class_attributes)\n",
      "      132    0.000    0.000    0.000    0.000 additive_shared.py:952(set_garbage_collect_data)\n",
      "       66    0.000    0.000    0.001    0.000 additive_shared.py:957(simplify)\n",
      "       66    0.000    0.000    0.002    0.000 additive_shared.py:978(detail)\n",
      "       66    0.000    0.000    0.000    0.000 additive_shared.py:98(grad)\n",
      "      194    0.000    0.000    0.000    0.000 attributes.py:37(_command_guard)\n",
      "4054/3922    0.007    0.000    0.312    0.000 base.py:210(send_msg)\n",
      "4054/3922    0.011    0.000    0.206    0.000 base.py:243(recv_msg)\n",
      "      392    0.002    0.000    0.083    0.000 base.py:280(send)\n",
      "     1558    0.005    0.000    0.090    0.000 base.py:358(execute_command)\n",
      "     1558    0.007    0.000    0.205    0.000 base.py:431(send_command)\n",
      "     2684    0.003    0.000    0.005    0.000 base.py:472(get_obj)\n",
      "      130    0.000    0.000    0.001    0.000 base.py:492(respond_to_obj_req)\n",
      "     1953    0.002    0.000    0.005    0.000 base.py:506(register_obj)\n",
      "      392    0.001    0.000    0.070    0.000 base.py:524(send_obj)\n",
      "      130    0.000    0.000    0.026    0.000 base.py:534(request_obj)\n",
      "     1380    0.001    0.000    0.001    0.000 base.py:550(get_worker)\n",
      "      222    0.000    0.000    0.000    0.000 base.py:723(get_tensor_shape)\n",
      "      222    0.000    0.000    0.011    0.000 base.py:737(request_remote_tensor_shape)\n",
      "       32    0.000    0.000    0.056    0.002 beaver.py:6(request_triple)\n",
      "      194    0.000    0.000    0.000    0.000 exceptions.py:38(__init__)\n",
      "     1886    0.002    0.000    0.004    0.000 federated_client.py:28(set_obj)\n",
      "        1    0.000    0.000    0.000    0.000 fromnumeric.py:2083(any)\n",
      "        1    0.000    0.000    0.000    0.000 fromnumeric.py:69(_wrapreduction)\n",
      "        1    0.000    0.000    0.000    0.000 fromnumeric.py:70(<dictcomp>)\n",
      "        1    0.000    0.000    0.000    0.000 functional.py:214(isfinite)\n",
      "        1    0.000    0.000    0.000    0.000 grad_mode.py:122(__init__)\n",
      "        1    0.000    0.000    0.000    0.000 grad_mode.py:31(__enter__)\n",
      "        1    0.000    0.000    0.000    0.000 grad_mode.py:35(__exit__)\n",
      "      263    0.001    0.000    0.003    0.000 hook.py:185(create_wrapper)\n",
      "     1230    0.001    0.000    0.001    0.000 hook.py:190(create_shape)\n",
      "     1234    0.002    0.000    0.136    0.000 hook.py:511(overloaded_pointer_method)\n",
      "      128    0.000    0.000    0.000    0.000 hook.py:549(dispatch)\n",
      "      128    0.000    0.000    0.000    0.000 hook.py:550(<lambda>)\n",
      "       64    0.001    0.000    0.028    0.000 hook.py:552(overloaded_attr)\n",
      "      138    0.000    0.000    0.000    0.000 hook.py:589(dispatch)\n",
      "      138    0.000    0.000    0.000    0.000 hook.py:590(<lambda>)\n",
      "       69    0.001    0.000    0.016    0.000 hook.py:592(overloaded_attr)\n",
      "2336/2330    0.004    0.000    0.035    0.000 hook.py:665(overloaded_native_method)\n",
      "  389/131    0.001    0.000    0.045    0.000 hook.py:728(overloaded_func)\n",
      "      263    0.000    0.000    0.002    0.000 hook.py:771(new___init__)\n",
      "      459    0.001    0.000    0.006    0.000 hook.py:794(new_tensor)\n",
      "     1543    0.001    0.000    0.001    0.000 hook.py:841(owner)\n",
      "     2547    0.001    0.000    0.001    0.000 hook.py:847(owner)\n",
      "        8    0.000    0.000    0.000    0.000 hook.py:872(dim)\n",
      "        1    0.000    0.000    0.000    0.000 hook.py:877(grad_fn)\n",
      "      392    0.001    0.000    0.003    0.000 hook_args.py:118(unwrap_args_from_method)\n",
      "      487    0.001    0.000    0.003    0.000 hook_args.py:160(unwrap_args_from_function)\n",
      "       34    0.000    0.000    0.001    0.000 hook_args.py:203(build_unwrap_args_from_function)\n",
      "      457    0.002    0.000    0.007    0.000 hook_args.py:221(hook_response)\n",
      "   204/34    0.000    0.000    0.000    0.000 hook_args.py:302(build_rule)\n",
      "       34    0.000    0.000    0.000    0.000 hook_args.py:31(<lambda>)\n",
      "   102/34    0.000    0.000    0.000    0.000 hook_args.py:329(build_unwrap_args_with_rules)\n",
      "   102/34    0.000    0.000    0.000    0.000 hook_args.py:350(<listcomp>)\n",
      "     1234    0.001    0.000    0.002    0.000 hook_args.py:357(<lambda>)\n",
      "   102/34    0.000    0.000    0.000    0.000 hook_args.py:36(<lambda>)\n",
      "   102/34    0.000    0.000    0.000    0.000 hook_args.py:36(<listcomp>)\n",
      " 1305/879    0.001    0.000    0.003    0.000 hook_args.py:379(<lambda>)\n",
      "       34    0.000    0.000    0.000    0.000 hook_args.py:382(build_get_tensor_type)\n",
      "       65    0.000    0.000    0.000    0.000 hook_args.py:439(<lambda>)\n",
      "       65    0.000    0.000    0.000    0.000 hook_args.py:460(one_layer)\n",
      "       65    0.000    0.000    0.000    0.000 hook_args.py:461(<lambda>)\n",
      "      457    0.000    0.000    0.000    0.000 hook_args.py:497(<lambda>)\n",
      "      457    0.000    0.000    0.003    0.000 hook_args.py:504(<lambda>)\n",
      "      457    0.000    0.000    0.004    0.000 hook_args.py:526(<lambda>)\n",
      "      102    0.000    0.000    0.000    0.000 hook_args.py:533(one_fold)\n",
      "      297    0.000    0.000    0.000    0.000 hook_args.py:537(tuple_one_fold)\n",
      "      194    0.000    0.000    0.000    0.000 hook_args.py:54(<genexpr>)\n",
      "      194    0.000    0.000    0.000    0.000 hook_args.py:54(<lambda>)\n",
      "2831/2701    0.003    0.000    0.018    0.000 hook_args.py:543(two_fold)\n",
      "      228    0.000    0.000    0.000    0.000 hook_args.py:55(<lambda>)\n",
      "      228    0.000    0.000    0.000    0.000 hook_args.py:57(<genexpr>)\n",
      "       68    0.000    0.000    0.000    0.000 hook_args.py:619(typed_identity)\n",
      "      102    0.000    0.000    0.000    0.000 hook_args.py:636(number_identity)\n",
      "      516    0.000    0.000    0.000    0.000 hook_args.py:64(<lambda>)\n",
      "      130    0.000    0.000    0.000    0.000 hook_args.py:643(<lambda>)\n",
      "      296    0.000    0.000    0.000    0.000 hook_args.py:65(<lambda>)\n",
      "     1366    0.002    0.000    0.015    0.000 hook_args.py:651(register_response)\n",
      "     1366    0.002    0.000    0.008    0.000 hook_args.py:722(register_tensor)\n",
      "     1366    0.000    0.000    0.000    0.000 hook_args.py:758(<lambda>)\n",
      "     1366    0.001    0.000    0.009    0.000 hook_args.py:765(<lambda>)\n",
      "     1366    0.001    0.000    0.012    0.000 hook_args.py:787(<lambda>)\n",
      "      323    0.000    0.000    0.002    0.000 hook_args.py:83(<lambda>)\n",
      "      134    0.000    0.000    0.001    0.000 hook_args.py:84(<lambda>)\n",
      "      458    0.000    0.000    0.000    0.000 hooks.py:51(warn_if_has_hooks)\n",
      "     5248    0.007    0.000    0.013    0.000 id_provider.py:26(pop)\n",
      "     5248    0.004    0.000    0.005    0.000 id_provider.py:6(create_random_id)\n",
      "        3    0.000    0.000    0.000    0.000 iostream.py:195(schedule)\n",
      "        2    0.000    0.000    0.000    0.000 iostream.py:307(_is_master_process)\n",
      "        2    0.000    0.000    0.000    0.000 iostream.py:320(_schedule_flush)\n",
      "        2    0.000    0.000    0.000    0.000 iostream.py:382(write)\n",
      "        3    0.000    0.000    0.000    0.000 iostream.py:93(_event_pipe)\n",
      "     3116    0.003    0.000    0.003    0.000 message.py:113(__init__)\n",
      "     1558    0.000    0.000    0.000    0.000 message.py:133(contents)\n",
      "     1558    0.001    0.000    0.017    0.000 message.py:145(simplify)\n",
      "     1558    0.002    0.000    0.025    0.000 message.py:160(detail)\n",
      "      784    0.001    0.000    0.001    0.000 message.py:186(__init__)\n",
      "      392    0.000    0.000    0.027    0.000 message.py:192(detail)\n",
      "      260    0.000    0.000    0.000    0.000 message.py:220(__init__)\n",
      "      130    0.000    0.000    0.000    0.000 message.py:226(detail)\n",
      "     8108    0.003    0.000    0.003    0.000 message.py:28(__init__)\n",
      "      444    0.000    0.000    0.000    0.000 message.py:291(__init__)\n",
      "      222    0.000    0.000    0.001    0.000 message.py:297(detail)\n",
      "     3504    0.002    0.000    0.003    0.000 message.py:326(__init__)\n",
      "     1752    0.001    0.000    0.003    0.000 message.py:332(detail)\n",
      "     4992    0.001    0.000    0.002    0.000 message.py:36(contents)\n",
      "     2496    0.002    0.000    0.031    0.000 message.py:53(simplify)\n",
      "       65    0.000    0.000    0.002    0.000 multi_pointer.py:108(shape)\n",
      "      130    0.000    0.000    0.000    0.000 multi_pointer.py:147(dispatch)\n",
      "      260    0.000    0.000    0.000    0.000 multi_pointer.py:162(<lambda>)\n",
      "       65    0.001    0.000    0.023    0.000 multi_pointer.py:164(handle_func_command)\n",
      "      232    0.000    0.000    0.005    0.000 multi_pointer.py:27(__init__)\n",
      "       64    0.000    0.000    0.022    0.000 multi_pointer.py:86(__add__)\n",
      "       32    0.000    0.000    0.007    0.000 multi_pointer.py:99(__mul__)\n",
      "  657/593    0.000    0.000    0.004    0.000 native.py:109(shape)\n",
      "      458    0.001    0.000    0.001    0.000 native.py:123(grad)\n",
      "        1    0.000    0.000    0.001    0.001 native.py:165(__str__)\n",
      "        1    0.000    0.000    0.001    0.001 native.py:174(__repr__)\n",
      "        1    0.000    0.000    0.000    0.000 native.py:200(__eq__)\n",
      "     2968    0.001    0.000    0.002    0.000 native.py:203(id)\n",
      "        1    0.000    0.000    0.000    0.000 native.py:22(_get_maximum_precision)\n",
      "     2674    0.001    0.000    0.001    0.000 native.py:243(id)\n",
      "      328    0.000    0.000    0.000    0.000 native.py:250(_is_parameter)\n",
      "      228    0.001    0.000    0.010    0.000 native.py:265(handle_func_command)\n",
      "  329/327    0.001    0.000    0.082    0.000 native.py:344(send)\n",
      "        1    0.000    0.000    0.000    0.000 native.py:35(default_pytorch_maximum_precision)\n",
      "      328    0.000    0.000    0.008    0.000 native.py:485(create_pointer)\n",
      "       64    0.000    0.000    0.019    0.000 native.py:530(mid_get)\n",
      "     2333    0.001    0.000    0.001    0.000 native.py:55(has_child)\n",
      "      130    0.000    0.000    0.000    0.000 native.py:604(allowed_to_get)\n",
      "        1    0.000    0.000    0.000    0.000 native.py:627(enc_fix_prec)\n",
      "        1    0.000    0.000    0.001    0.001 native.py:648(fix_prec)\n",
      "        1    0.000    0.000    0.000    0.000 native.py:705(_requires_large_precision)\n",
      "   100/99    0.001    0.000    0.056    0.001 native.py:714(share)\n",
      "     1115    0.001    0.000    0.001    0.000 native.py:74(tags)\n",
      "     1115    0.001    0.000    0.001    0.000 native.py:93(description)\n",
      "3248/1558    0.004    0.000    0.020    0.000 native_serde.py:109(_detail_collection_tuple)\n",
      "     1624    0.001    0.000    0.002    0.000 native_serde.py:137(_simplify_dictionary)\n",
      "     1624    0.001    0.000    0.002    0.000 native_serde.py:162(_detail_dictionary)\n",
      "3470/1780    0.005    0.000    0.016    0.000 native_serde.py:19(_simplify_collection)\n",
      "     1764    0.001    0.000    0.001    0.000 native_serde.py:201(_simplify_str)\n",
      "     1764    0.001    0.000    0.001    0.000 native_serde.py:205(_detail_str)\n",
      "      132    0.000    0.000    0.000    0.000 native_serde.py:260(_simplify_slice)\n",
      "      132    0.000    0.000    0.000    0.000 native_serde.py:278(_detail_slice)\n",
      "      222    0.001    0.000    0.001    0.000 native_serde.py:48(_detail_collection_list)\n",
      "      128    0.000    0.000    0.033    0.000 object.py:103(mid_get)\n",
      "      134    0.000    0.000    0.000    0.000 object.py:111(get_class_attributes)\n",
      "     2803    0.002    0.000    0.003    0.000 object.py:15(__init__)\n",
      "      325    0.000    0.000    0.002    0.000 object.py:178(rgetattr)\n",
      "      585    0.000    0.000    0.001    0.000 object.py:198(_getattr)\n",
      "      130    0.000    0.000    0.026    0.000 object_pointer.py:105(get)\n",
      "     2082    0.003    0.000    0.055    0.000 object_pointer.py:204(__del__)\n",
      "     2082    0.002    0.000    0.005    0.000 object_pointer.py:32(__init__)\n",
      "      194    0.000    0.000    0.030    0.000 object_pointer.py:72(handle_func_command)\n",
      "      194    0.000    0.000    0.001    0.000 object_pointer.py:92(find_a_pointer)\n",
      "     1752    0.001    0.000    0.001    0.000 object_storage.py:110(force_rm_obj)\n",
      "     1494    0.001    0.000    0.004    0.000 object_storage.py:18(register_obj)\n",
      "      260    0.000    0.000    0.001    0.000 object_storage.py:34(de_register_obj)\n",
      "     2684    0.001    0.000    0.001    0.000 object_storage.py:50(get_obj)\n",
      "     1886    0.001    0.000    0.002    0.000 object_storage.py:90(set_obj)\n",
      "      260    0.000    0.000    0.000    0.000 object_storage.py:98(rm_obj)\n",
      "      259    0.001    0.000    0.123    0.000 overload_torch.py:20(hook_args)\n",
      "      392    0.001    0.000    0.004    0.000 pointer_tensor.py:146(create_pointer)\n",
      "       64    0.000    0.000    0.024    0.000 pointer_tensor.py:235(move)\n",
      "      128    0.000    0.000    0.047    0.000 pointer_tensor.py:243(remote_get)\n",
      "      130    0.000    0.000    0.026    0.000 pointer_tensor.py:247(get)\n",
      "        2    0.000    0.000    0.002    0.001 pointer_tensor.py:315(share)\n",
      "     2686    0.002    0.000    0.004    0.000 pointer_tensor.py:345(simplify)\n",
      "     2686    0.004    0.000    0.011    0.000 pointer_tensor.py:374(detail)\n",
      "     2082    0.002    0.000    0.007    0.000 pointer_tensor.py:42(__init__)\n",
      "      222    0.000    0.000    0.011    0.000 pointer_tensor.py:92(get_shape)\n",
      "      585    0.000    0.000    0.011    0.000 pointer_tensor.py:96(shape)\n",
      "        1    0.000    0.000    0.000    0.000 precision.py:12(__init__)\n",
      "        1    0.000    0.000    0.001    0.001 precision.py:725(share)\n",
      "        1    0.000    0.000    0.000    0.000 precision.py:84(fix_precision)\n",
      "     8108    0.008    0.000    0.113    0.000 serde.py:197(serialize)\n",
      "     8108    0.007    0.000    0.108    0.000 serde.py:267(deserialize)\n",
      "     8108    0.002    0.000    0.016    0.000 serde.py:315(_apply_compress_scheme)\n",
      "     8108    0.003    0.000    0.014    0.000 serde.py:326(apply_lz4_compression)\n",
      "     8108    0.005    0.000    0.021    0.000 serde.py:367(_compress)\n",
      "     8108    0.005    0.000    0.024    0.000 serde.py:389(_decompress)\n",
      "23952/8108    0.015    0.000    0.065    0.000 serde.py:419(_simplify)\n",
      "22718/8108    0.012    0.000    0.071    0.000 serde.py:457(_detail)\n",
      "      458    0.000    0.000    0.001    0.000 serialization.py:108(location_tag)\n",
      "      458    0.000    0.000    0.000    0.000 serialization.py:117(default_restore_location)\n",
      "      458    0.000    0.000    0.000    0.000 serialization.py:127(normalize_storage_type)\n",
      "      458    0.001    0.000    0.031    0.000 serialization.py:137(_with_file_like)\n",
      "      916    0.001    0.000    0.001    0.000 serialization.py:155(_is_compressed_file)\n",
      "      916    0.001    0.000    0.003    0.000 serialization.py:163(_should_read_directly)\n",
      "      458    0.000    0.000    0.001    0.000 serialization.py:179(_check_seekable)\n",
      "      458    0.000    0.000    0.031    0.000 serialization.py:197(save)\n",
      "      458    0.001    0.000    0.030    0.000 serialization.py:224(<lambda>)\n",
      "      458    0.004    0.000    0.029    0.000 serialization.py:227(_save)\n",
      "     9478    0.005    0.000    0.009    0.000 serialization.py:240(persistent_id)\n",
      "      458    0.001    0.000    0.029    0.000 serialization.py:306(load)\n",
      "      458    0.002    0.000    0.027    0.000 serialization.py:393(_load)\n",
      "      916    0.000    0.000    0.000    0.000 serialization.py:510(maybe_decode_ascii)\n",
      "      458    0.001    0.000    0.002    0.000 serialization.py:521(persistent_load)\n",
      "      458    0.000    0.000    0.000    0.000 serialization.py:53(_cpu_tag)\n",
      "      458    0.000    0.000    0.000    0.000 serialization.py:63(_cpu_deserialize)\n",
      "        3    0.000    0.000    0.000    0.000 socket.py:337(send)\n",
      "       32    0.001    0.000    0.291    0.009 spdz.py:10(spdz_mul)\n",
      "     2803    0.002    0.000    0.006    0.000 tensor.py:10(__init__)\n",
      "     1180    0.002    0.000    0.004    0.000 tensor.py:117(_apply_args)\n",
      "      557    0.000    0.000    0.002    0.000 tensor.py:20(on)\n",
      "       64    0.000    0.000    0.000    0.000 tensor.py:370(__rsub__)\n",
      "      458    0.002    0.000    0.002    0.000 tensor.py:38(__reduce_ex__)\n",
      "        5    0.000    0.000    0.000    0.000 tensor.py:384(__format__)\n",
      "        2    0.000    0.000    0.000    0.000 tensor.py:392(__rpow__)\n",
      "        2    0.000    0.000    0.000    0.000 tensor.py:422(__iter__)\n",
      "        6    0.000    0.000    0.000    0.000 tensor.py:436(<lambda>)\n",
      "      263    0.000    0.000    0.003    0.000 tensor.py:44(wrap)\n",
      "        1    0.000    0.000    0.001    0.001 tensor.py:66(__repr__)\n",
      "       64    0.000    0.000    0.007    0.000 tensor.py:71(copy)\n",
      "      721    0.000    0.000    0.002    0.000 tensor.py:93(initialize_tensor)\n",
      "        3    0.000    0.000    0.000    0.000 threading.py:1038(_wait_for_tstate_lock)\n",
      "        3    0.000    0.000    0.000    0.000 threading.py:1080(is_alive)\n",
      "        3    0.000    0.000    0.000    0.000 threading.py:507(is_set)\n",
      "     2598    0.001    0.000    0.001    0.000 torch_attributes.py:143(is_inplace_method)\n",
      "      458    0.001    0.000    0.034    0.000 torch_serde.py:140(_detail_torch_tensor)\n",
      "      458    0.000    0.000    0.032    0.000 torch_serde.py:20(_serialize_tensor)\n",
      "      458    0.000    0.000    0.030    0.000 torch_serde.py:34(_deserialize_tensor)\n",
      "     1008    0.000    0.000    0.000    0.000 torch_serde.py:344(_simplify_torch_size)\n",
      "     1008    0.000    0.000    0.000    0.000 torch_serde.py:348(_detail_torch_size)\n",
      "      458    0.001    0.000    0.032    0.000 torch_serde.py:75(torch_tensor_serializer)\n",
      "      458    0.001    0.000    0.029    0.000 torch_serde.py:82(torch_tensor_deserializer)\n",
      "      458    0.001    0.000    0.036    0.000 torch_serde.py:91(_simplify_torch_tensor)\n",
      "4054/3922    0.003    0.000    0.209    0.000 virtual.py:12(_recv_msg)\n",
      "        6    0.000    0.000    0.000    0.000 virtual.py:35(simplify)\n",
      "        6    0.000    0.000    0.000    0.000 virtual.py:39(detail)\n",
      "4054/3922    0.001    0.000    0.210    0.000 virtual.py:9(_send_msg)\n",
      "      877    0.001    0.000    0.001    0.000 {built-in method _abc._abc_instancecheck}\n",
      "      325    0.000    0.000    0.001    0.000 {built-in method _functools.reduce}\n",
      "     1832    0.003    0.000    0.003    0.000 {built-in method _pickle.dump}\n",
      "     1832    0.005    0.000    0.005    0.000 {built-in method _pickle.load}\n",
      "        1    0.000    0.000    0.000    0.000 {built-in method arange}\n",
      "      228    0.004    0.000    0.004    0.000 {built-in method builtins.eval}\n",
      "        1    0.000    0.000    0.395    0.395 {built-in method builtins.exec}\n",
      "     5195    0.002    0.000    0.002    0.000 {built-in method builtins.getattr}\n",
      "    24737    0.003    0.000    0.004    0.000 {built-in method builtins.hasattr}\n",
      "      457    0.000    0.000    0.000    0.000 {built-in method builtins.hash}\n",
      "    26114    0.004    0.000    0.005    0.000 {built-in method builtins.isinstance}\n",
      "      916    0.000    0.000    0.000    0.000 {built-in method builtins.issubclass}\n",
      "        2    0.000    0.000    0.000    0.000 {built-in method builtins.iter}\n",
      "     9923    0.001    0.000    0.001    0.000 {built-in method builtins.len}\n",
      "      171    0.000    0.000    0.000    0.000 {built-in method builtins.max}\n",
      "        1    0.000    0.000    0.001    0.001 {built-in method builtins.print}\n",
      "      165    0.000    0.000    0.000    0.000 {built-in method builtins.round}\n",
      "      458    0.000    0.000    0.000    0.000 {built-in method builtins.sorted}\n",
      "       64    0.000    0.000    0.002    0.000 {built-in method builtins.sum}\n",
      "     8108    0.011    0.000    0.011    0.000 {built-in method lz4.frame._frame.compress}\n",
      "     8108    0.019    0.000    0.019    0.000 {built-in method lz4.frame._frame.decompress}\n",
      "        1    0.000    0.000    0.000    0.000 {built-in method math.floor}\n",
      "        1    0.000    0.000    0.000    0.000 {built-in method math.log2}\n",
      "      165    0.000    0.000    0.000    0.000 {built-in method math.log}\n",
      "       32    0.000    0.000    0.000    0.000 {built-in method ones}\n",
      "        2    0.000    0.000    0.000    0.000 {built-in method posix.getpid}\n",
      "       64    0.000    0.000    0.000    0.000 {built-in method randint}\n",
      "      459    0.003    0.000    0.003    0.000 {built-in method tensor}\n",
      "        2    0.000    0.000    0.000    0.000 {built-in method torch._C._get_tracing_state}\n",
      "        1    0.000    0.000    0.000    0.000 {built-in method torch._C._is_default_type_cuda}\n",
      "        1    0.000    0.000    0.000    0.000 {built-in method torch._C.get_default_dtype}\n",
      "        2    0.000    0.000    0.000    0.000 {built-in method torch._C.is_grad_enabled}\n",
      "        2    0.000    0.000    0.000    0.000 {built-in method torch._C.set_grad_enabled}\n",
      "        1    0.000    0.000    0.000    0.000 {built-in method torch.ceil}\n",
      "        2    0.000    0.000    0.000    0.000 {built-in method torch.fmod}\n",
      "        1    0.000    0.000    0.000    0.000 {built-in method torch.masked_select}\n",
      "      224    0.002    0.000    0.002    0.000 {built-in method torch.mul}\n",
      "       64    0.000    0.000    0.000    0.000 {built-in method torch.rsub}\n",
      "       33    0.000    0.000    0.000    0.000 {built-in method zeros}\n",
      "        2    0.000    0.000    0.000    0.000 {function TorchHook.get_hooked_method.<locals>.overloaded_native_method at 0x1445c1840}\n",
      "        3    0.000    0.000    0.000    0.000 {function TorchHook.get_hooked_method.<locals>.overloaded_native_method at 0x1445c19d8}\n",
      "        1    0.000    0.000    0.000    0.000 {function TorchHook.get_hooked_method.<locals>.overloaded_native_method at 0x14473d0d0}\n",
      "        3    0.000    0.000    0.000    0.000 {function TorchHook.get_hooked_method.<locals>.overloaded_native_method at 0x14473d158}\n",
      "        4    0.000    0.000    0.000    0.000 {function TorchHook.get_hooked_method.<locals>.overloaded_native_method at 0x14473d6a8}\n",
      "        1    0.000    0.000    0.000    0.000 {function TorchHook.get_hooked_method.<locals>.overloaded_native_method at 0x14473d8c8}\n",
      "        1    0.000    0.000    0.000    0.000 {function TorchHook.get_hooked_method.<locals>.overloaded_native_method at 0x14473f378}\n",
      "       64    0.000    0.000    0.000    0.000 {function TorchHook.get_hooked_method.<locals>.overloaded_native_method at 0x144742048}\n",
      "        2    0.000    0.000    0.000    0.000 {function TorchHook.get_hooked_method.<locals>.overloaded_native_method at 0x1447421e0}\n",
      "        1    0.000    0.000    0.000    0.000 {function TorchHook.get_hooked_method.<locals>.overloaded_native_method at 0x144742378}\n",
      "       64    0.001    0.000    0.001    0.000 {function TorchHook.get_hooked_method.<locals>.overloaded_native_method at 0x144749400}\n",
      "        1    0.000    0.000    0.000    0.000 {function TorchHook.get_hooked_method.<locals>.overloaded_native_method at 0x1447497b8}\n",
      "      713    0.005    0.000    0.005    0.000 {function TorchHook.get_hooked_method.<locals>.overloaded_native_method at 0x144749840}\n",
      "       64    0.013    0.000    0.013    0.000 {function TorchHook.get_hooked_method.<locals>.overloaded_native_method at 0x144749a60}\n",
      "       66    0.000    0.000    0.000    0.000 {function TorchHook.get_hooked_method.<locals>.overloaded_native_method at 0x14474b840}\n",
      "       99    0.001    0.000    0.001    0.000 {function TorchHook.get_hooked_method.<locals>.overloaded_native_method at 0x14474f510}\n",
      "        3    0.000    0.000    0.000    0.000 {function TorchHook.get_hooked_method.<locals>.overloaded_native_method at 0x144754f28}\n",
      "        1    0.000    0.000    0.000    0.000 {function TorchHook.get_hooked_method.<locals>.overloaded_native_method at 0x144756048}\n",
      "        1    0.000    0.000    0.000    0.000 {function TorchHook.get_hooked_method.<locals>.overloaded_native_method at 0x144756488}\n",
      "      291    0.003    0.000    0.003    0.000 {function TorchHook.get_hooked_method.<locals>.overloaded_native_method at 0x144756a60}\n",
      "        2    0.000    0.000    0.000    0.000 {function TorchHook.get_hooked_method.<locals>.overloaded_native_method at 0x14475b1e0}\n",
      "       64    0.000    0.000    0.000    0.000 {function TorchHook.get_hooked_method.<locals>.overloaded_native_method at 0x14475b268}\n",
      "        1    0.000    0.000    0.000    0.000 {function TorchHook.get_hooked_method.<locals>.overloaded_native_method at 0x14475b8c8}\n",
      "        1    0.000    0.000    0.000    0.000 {function TorchHook.get_hooked_method.<locals>.overloaded_native_method at 0x14475f598}\n",
      "      131    0.001    0.000    0.001    0.000 {function TorchHook.get_hooked_method.<locals>.overloaded_native_method at 0x14475f6a8}\n",
      "        5    0.000    0.000    0.000    0.000 {function TorchHook.get_hooked_method.<locals>.overloaded_native_method at 0x14475f950}\n",
      "      450    0.003    0.000    0.003    0.000 {function TorchHook.get_hooked_method.<locals>.overloaded_native_method at 0x14475fea0}\n",
      "        3    0.000    0.000    0.000    0.000 {function TorchHook.get_hooked_method.<locals>.overloaded_native_method at 0x144763048}\n",
      "        3    0.000    0.000    0.000    0.000 {function TorchHook.get_hooked_method.<locals>.overloaded_native_method at 0x144763d90}\n",
      "      129    0.000    0.000    0.000    0.000 {function TorchHook.get_hooked_method.<locals>.overloaded_native_method at 0x144766c80}\n",
      "        2    0.000    0.000    0.000    0.000 {function TorchHook.get_hooked_method.<locals>.overloaded_native_method at 0x144766d08}\n",
      "        1    0.000    0.000    0.000    0.000 {function TorchHook.get_hooked_method.<locals>.overloaded_native_method at 0x144766d90}\n",
      "        5    0.000    0.000    0.000    0.000 {function TorchHook.get_hooked_method.<locals>.overloaded_native_method at 0x14476b0d0}\n",
      "        4    0.000    0.000    0.000    0.000 {function TorchHook.get_hooked_method.<locals>.overloaded_native_method at 0x14476b378}\n",
      "        5    0.000    0.000    0.000    0.000 {method '__format__' of 'float' objects}\n",
      "       66    0.000    0.000    0.000    0.000 {method '_set_from_file' of 'torch._C.FloatStorageBase' objects}\n",
      "      392    0.001    0.000    0.001    0.000 {method '_set_from_file' of 'torch._C.LongStorageBase' objects}\n",
      "       66    0.000    0.000    0.000    0.000 {method '_write_file' of 'torch._C.FloatStorageBase' objects}\n",
      "      392    0.001    0.000    0.001    0.000 {method '_write_file' of 'torch._C.LongStorageBase' objects}\n",
      "        3    0.000    0.000    0.000    0.000 {method 'acquire' of '_thread.lock' objects}\n",
      "     5248    0.001    0.000    0.001    0.000 {method 'add' of 'set' objects}\n",
      "        3    0.000    0.000    0.000    0.000 {method 'append' of 'collections.deque' objects}\n",
      "    19351    0.002    0.000    0.002    0.000 {method 'append' of 'list' objects}\n",
      "     4450    0.001    0.000    0.001    0.000 {method 'decode' of 'bytes' objects}\n",
      "        1    0.000    0.000    0.000    0.000 {method 'disable' of '_lsprof.Profiler' objects}\n",
      "      458    0.008    0.000    0.019    0.000 {method 'dump' of '_pickle.Pickler' objects}\n",
      "     1764    0.001    0.000    0.001    0.000 {method 'encode' of 'str' objects}\n",
      "      916    0.000    0.000    0.000    0.000 {method 'fileno' of '_io._IOBase' objects}\n",
      "      458    0.000    0.000    0.000    0.000 {method 'flush' of '_io.BytesIO' objects}\n",
      "     1386    0.001    0.000    0.001    0.000 {method 'format' of 'str' objects}\n",
      "        2    0.000    0.000    0.000    0.000 {method 'get' of 'dict' objects}\n",
      "      458    0.000    0.000    0.000    0.000 {method 'getvalue' of '_io.BytesIO' objects}\n",
      "        1    0.000    0.000    0.000    0.000 {method 'is_floating_point' of 'torch._C._TensorBase' objects}\n",
      "     2672    0.000    0.000    0.000    0.000 {method 'items' of 'dict' objects}\n",
      "      231    0.000    0.000    0.000    0.000 {method 'join' of 'str' objects}\n",
      "      459    0.000    0.000    0.000    0.000 {method 'keys' of 'dict' objects}\n",
      "      458    0.005    0.000    0.016    0.000 {method 'load' of '_pickle.Unpickler' objects}\n",
      "     8108    0.007    0.000    0.007    0.000 {method 'pack' of 'msgpack._cmsgpack.Packer' objects}\n",
      "     1366    0.001    0.000    0.001    0.000 {method 'pop' of 'list' objects}\n",
      "     5248    0.001    0.000    0.001    0.000 {method 'random' of '_random.Random' objects}\n",
      "        1    0.000    0.000    0.000    0.000 {method 'reduce' of 'numpy.ufunc' objects}\n",
      "        1    0.000    0.000    0.000    0.000 {method 'rfind' of 'str' objects}\n",
      "      458    0.000    0.000    0.000    0.000 {method 'seek' of '_io.BytesIO' objects}\n",
      "      458    0.002    0.000    0.002    0.000 {method 'set_' of 'torch._C._TensorBase' objects}\n",
      "       66    0.000    0.000    0.000    0.000 {method 'size' of 'torch._C.FloatStorageBase' objects}\n",
      "      392    0.000    0.000    0.000    0.000 {method 'size' of 'torch._C.LongStorageBase' objects}\n",
      "      460    0.000    0.000    0.000    0.000 {method 'size' of 'torch._C._TensorBase' objects}\n",
      "      975    0.000    0.000    0.000    0.000 {method 'split' of 'str' objects}\n",
      "      458    0.000    0.000    0.000    0.000 {method 'storage' of 'torch._C._TensorBase' objects}\n",
      "      458    0.000    0.000    0.000    0.000 {method 'storage_offset' of 'torch._C._TensorBase' objects}\n",
      "      458    0.000    0.000    0.000    0.000 {method 'stride' of 'torch._C._TensorBase' objects}\n",
      "      458    0.000    0.000    0.000    0.000 {method 'tell' of '_io.BytesIO' objects}\n",
      "      422    0.000    0.000    0.000    0.000 {method 'throw' of 'generator' objects}\n",
      "      354    0.000    0.000    0.000    0.000 {method 'values' of 'dict' objects}\n",
      "     8108    0.006    0.000    0.006    0.000 {msgpack._cmsgpack.unpackb}\n",
      "\n",
      "\n"
     ]
    }
   ],
   "source": [
    "import cProfile\n",
    "n_bit = 10\n",
    "def foo():\n",
    "    t = torch.zeros(*shape).uniform_(-2**(n_bit-1), 2**(n_bit-1))\n",
    "    expected = (t<0).long()\n",
    "    print(t)\n",
    "    x_sh = t\\\n",
    "        .fix_prec(precision_fractional=0, field=2**Q_BITS)\\\n",
    "        .share(alice, bob, crypto_provider=james, field=2**Q_BITS)\n",
    "\n",
    "    r = private_compare(x_sh)\n",
    "\n",
    "cProfile.run('foo()')"
   ]
  },
  {
   "cell_type": "code",
   "execution_count": 32,
   "metadata": {},
   "outputs": [
    {
     "name": "stdout",
     "output_type": "stream",
     "text": [
      "tensor([-173.3583,  505.4964,   74.8992,  490.5034,  -62.6939])\n",
      "0.2968318462371826\n",
      "tensor([ 65.2811,  29.9857, 116.0848, 355.8784,  49.4533])\n",
      "0.2948291301727295\n",
      "tensor([-101.7766, -177.4821,  439.6923, -492.1521,  472.7072])\n",
      "0.31409573554992676\n",
      "tensor([-215.1983,   55.0895,  261.0670, -483.7092, -388.7967])\n",
      "0.30328798294067383\n",
      "tensor([-447.0695,   26.9320, -121.6979,  188.3701,  295.1523])\n",
      "0.2832529544830322\n",
      "tensor([ 440.2696,  161.3704, -213.3281,   48.0425,  448.4467])\n",
      "0.3066062927246094\n",
      "tensor([ 167.0793,  101.8032, -215.4391,  337.0345,   30.5123])\n",
      "0.3302731513977051\n",
      "tensor([ 510.8940,   91.6204,  499.7314, -419.6425, -298.2939])\n",
      "0.29282093048095703\n",
      "tensor([ -17.3899, -408.5215, -101.3419,  128.4747, -469.0257])\n",
      "0.33150506019592285\n",
      "tensor([-108.1748, -359.3439, -424.9121,  -51.2743,  -73.5583])\n",
      "0.3268759250640869\n"
     ]
    }
   ],
   "source": [
    "n_bit = 10\n",
    "for i in range(10):\n",
    "    t = torch.zeros(*shape).uniform_(-2**(n_bit-1), 2**(n_bit-1))\n",
    "    expected = (t<0).long()\n",
    "    print(t)\n",
    "    x_sh = t\\\n",
    "        .fix_prec(precision_fractional=0, field=2**Q_BITS)\\\n",
    "        .share(alice, bob, crypto_provider=james, field=2**Q_BITS)\n",
    "\n",
    "    start_time = time.time()\n",
    "    r = private_compare(x_sh)\n",
    "    print(time.time()- start_time)\n",
    "    \n",
    "    assert((expected == r.virtual_get()).all())\n",
    "    #print('Provisory result', r.virtual_get())"
   ]
  },
  {
   "cell_type": "markdown",
   "metadata": {},
   "source": [
    "### Comparison"
   ]
  },
  {
   "cell_type": "code",
   "execution_count": 26,
   "metadata": {},
   "outputs": [
    {
     "name": "stdout",
     "output_type": "stream",
     "text": [
      "tensor([-469.4106,  231.9222, -102.0841,   94.2505,  238.5734])\n",
      "0.09760904312133789\n",
      "tensor([   5.4621, -371.8509,  121.0632, -387.8480,  -41.7303])\n",
      "0.08513689041137695\n",
      "tensor([-279.3990, -345.9605, -101.5350, -428.3494,  448.5637])\n",
      "0.09500002861022949\n",
      "tensor([ 369.0379, -129.9125,  295.7458,  228.8887, -424.2844])\n",
      "0.09510016441345215\n",
      "tensor([ 185.3099, -482.8797, -179.1334,  -74.4338,   90.0060])\n",
      "0.09580326080322266\n",
      "tensor([ 421.9994, -425.0513, -427.8267,   -8.6971,  -69.3450])\n",
      "0.08884692192077637\n",
      "tensor([-84.9066, 437.8497, 341.8250, 491.7605,  72.7029])\n",
      "0.09327578544616699\n",
      "tensor([-259.6836,  243.7709, -324.7463,  -41.8763, -388.9908])\n",
      "0.08305621147155762\n",
      "tensor([ 243.3921, -156.6104,  288.5427,  102.8445,  478.0731])\n",
      "0.08210396766662598\n",
      "tensor([-505.5271,   27.2717, -160.4247, -172.6028, -126.6665])\n",
      "0.0785226821899414\n"
     ]
    }
   ],
   "source": [
    "n_bit = 10\n",
    "for i in range(10):\n",
    "    t = torch.zeros(*shape).uniform_(-2**(n_bit-1), 2**(n_bit-1))\n",
    "    expected = (t<0).long()\n",
    "    print(t)\n",
    "    x_sh = t\\\n",
    "        .fix_prec(precision_fractional=0, field=2**Q_BITS)\\\n",
    "        .share(alice, bob, crypto_provider=james, field=2**Q_BITS)\n",
    "\n",
    "    start_time = time.time()\n",
    "    r = (x_sh < 0)\n",
    "    print(time.time()- start_time)\n",
    "    \n",
    "    assert((expected == r.get().float_prec().long()).all())"
   ]
  },
  {
   "cell_type": "markdown",
   "metadata": {},
   "source": [
    "# Optimized version"
   ]
  },
  {
   "cell_type": "code",
   "execution_count": 38,
   "metadata": {},
   "outputs": [],
   "source": [
    "import math"
   ]
  },
  {
   "cell_type": "code",
   "execution_count": 47,
   "metadata": {},
   "outputs": [
    {
     "ename": "AttributeError",
     "evalue": "module 'torch' has no attribute 'concat'",
     "output_type": "error",
     "traceback": [
      "\u001b[0;31m---------------------------------------------------------------------------\u001b[0m",
      "\u001b[0;31mAttributeError\u001b[0m                            Traceback (most recent call last)",
      "\u001b[0;32m<ipython-input-47-1ab390e31753>\u001b[0m in \u001b[0;36m<module>\u001b[0;34m\u001b[0m\n\u001b[0;32m----> 1\u001b[0;31m \u001b[0mtorch\u001b[0m\u001b[0;34m.\u001b[0m\u001b[0mconcat\u001b[0m\u001b[0;34m\u001b[0m\u001b[0m\n\u001b[0m",
      "\u001b[0;31mAttributeError\u001b[0m: module 'torch' has no attribute 'concat'"
     ]
    }
   ],
   "source": [
    "torch.concat"
   ]
  },
  {
   "cell_type": "code",
   "execution_count": 59,
   "metadata": {},
   "outputs": [
    {
     "name": "stdout",
     "output_type": "stream",
     "text": [
      "torch.Size([4, 1])\n",
      "torch.Size([4, 3])\n"
     ]
    },
    {
     "data": {
      "text/plain": [
       "tensor([[0., 1., 1., 1.],\n",
       "        [0., 1., 1., 1.],\n",
       "        [0., 1., 1., 1.],\n",
       "        [0., 1., 1., 1.]])"
      ]
     },
     "execution_count": 59,
     "metadata": {},
     "output_type": "execute_result"
    }
   ],
   "source": [
    "blocks = torch.stack(torch.split(torch.ones(12), 3))\n",
    "carries = torch.zeros(4, 1)\n",
    "print(carries.shape)\n",
    "print(blocks.shape)\n",
    "torch.cat((carries, blocks), dim=1)"
   ]
  },
  {
   "cell_type": "code",
   "execution_count": 36,
   "metadata": {},
   "outputs": [],
   "source": [
    "def private_compare_optim(x_sh):\n",
    "    share_pointers = list(x_sh.child.child.child.values())\n",
    "    x_mpt = sy.MultiPointerTensor(children=share_pointers)\n",
    "\n",
    "    x_shares_bin = bit_decompose(x_mpt)\n",
    "\n",
    "    x_sh_1_bin, x_sh_2_bin = [\n",
    "        share.share(alice, bob, crypto_provider=james, field=2).get().child\n",
    "        for w, share in x_shares_bin.child.items()\n",
    "    ]\n",
    "    \n",
    "    # l := nb of bits\n",
    "    l = x_shares_bin.shape[-1]\n",
    "    # k := size of blocks\n",
    "    k = math.ceil(math.sqrt(l / 2))\n",
    "    \n",
    "    assert l == 32 and k == 4\n",
    "    \n",
    "    x_sh_1_bin_blocks = torch.split(x_sh_1_bin, k)\n",
    "    x_sh_2_bin_blocks = torch.split(x_sh_2_bin, k)\n",
    "    \n",
    "    x_sh_1_bin_blocks = torch.stack(x_sh_1_bin_blocks)\n",
    "    x_sh_2_bin_blocks = torch.stack(x_sh_2_bin_blocks)\n",
    "    \n",
    "\n",
    "    r = x_sh_1_bin[:,-1] + x_sh_2_bin[:,-1]\n",
    "\n",
    "    for i in range(Q_BITS):\n",
    "\n",
    "        c_sh_bin = x_sh_1_bin * x_sh_2_bin\n",
    "\n",
    "        c_sh_bin_shifted = c_sh_bin.roll(shifts=1)\n",
    "        c_sh_bin_shifted[:, 0] = 0\n",
    "\n",
    "        s_sh_bin = x_sh_1_bin + x_sh_2_bin\n",
    "\n",
    "        x_sh_1_bin, x_sh_2_bin = s_sh_bin, c_sh_bin_shifted\n",
    "\n",
    "        r = r + c_sh_bin_shifted[:,-1]\n",
    "        \n",
    "    return r"
   ]
  },
  {
   "cell_type": "code",
   "execution_count": 37,
   "metadata": {},
   "outputs": [
    {
     "name": "stdout",
     "output_type": "stream",
     "text": [
      "32\n"
     ]
    }
   ],
   "source": [
    "t = torch.zeros(*shape).uniform_(-2**(n_bit-1), 2**(n_bit-1))\n",
    "x_sh = t\\\n",
    "    .fix_prec(precision_fractional=0, field=2**Q_BITS)\\\n",
    "    .share(alice, bob, crypto_provider=james, field=2**Q_BITS)\n",
    "\n",
    "r = private_compare_optim(x_sh)"
   ]
  },
  {
   "cell_type": "code",
   "execution_count": null,
   "metadata": {},
   "outputs": [],
   "source": []
  }
 ],
 "metadata": {
  "kernelspec": {
   "display_name": "Python (Pysyft)",
   "language": "python",
   "name": "pysyft"
  },
  "language_info": {
   "codemirror_mode": {
    "name": "ipython",
    "version": 3
   },
   "file_extension": ".py",
   "mimetype": "text/x-python",
   "name": "python",
   "nbconvert_exporter": "python",
   "pygments_lexer": "ipython3",
   "version": "3.7.0"
  }
 },
 "nbformat": 4,
 "nbformat_minor": 2
}
