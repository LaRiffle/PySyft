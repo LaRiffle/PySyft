{
 "cells": [
  {
   "cell_type": "code",
   "execution_count": null,
   "metadata": {},
   "outputs": [],
   "source": []
  },
  {
   "cell_type": "code",
   "execution_count": 4,
   "metadata": {},
   "outputs": [],
   "source": [
    "import torch as th\n",
    "import torch.nn as nn\n",
    "import torch.nn.functional as F\n",
    "import syft as sy\n",
    "\n",
    "hook = sy.TorchHook(th)\n",
    "\n",
    "alice = sy.VirtualWorker(hook, id=\"alice\")\n",
    "bob = sy.VirtualWorker(hook, id=\"bob\")\n",
    "charlie = sy.VirtualWorker(hook, id=\"charlie\")\n",
    "dan = sy.VirtualWorker(hook, id=\"dan\")\n",
    "james = dan\n",
    "\n",
    "hook.local_worker.is_client_worker = False\n",
    "me = hook.local_worker\n",
    "from syft.generic.pointers.pointer_plan import PointerPlan\n",
    "\n",
    "import sys\n",
    "torch = th\n",
    "syft = sy\n",
    "#print(sy.hook.local_worker.get_worker('alice')._objects)"
   ]
  },
  {
   "cell_type": "code",
   "execution_count": 5,
   "metadata": {},
   "outputs": [],
   "source": [
    "x = th.tensor([4.2])"
   ]
  },
  {
   "cell_type": "code",
   "execution_count": 6,
   "metadata": {},
   "outputs": [
    {
     "name": "stdout",
     "output_type": "stream",
     "text": [
      "(32, (2, (13, (92434762338, b'\\x80\\x02\\x8a\\nl\\xfc\\x9cF\\xf9 j\\xa8P\\x19.\\x80\\x02M\\xe9\\x03.\\x80\\x02}q\\x00(X\\x10\\x00\\x00\\x00protocol_versionq\\x01M\\xe9\\x03X\\r\\x00\\x00\\x00little_endianq\\x02\\x88X\\n\\x00\\x00\\x00type_sizesq\\x03}q\\x04(X\\x05\\x00\\x00\\x00shortq\\x05K\\x02X\\x03\\x00\\x00\\x00intq\\x06K\\x04X\\x04\\x00\\x00\\x00longq\\x07K\\x04uu.\\x80\\x02ctorch._utils\\n_rebuild_tensor_v2\\nq\\x00((X\\x07\\x00\\x00\\x00storageq\\x01ctorch\\nFloatStorage\\nq\\x02X\\x0f\\x00\\x00\\x00140455363344384q\\x03X\\x03\\x00\\x00\\x00cpuq\\x04K\\x01Ntq\\x05QK\\x00K\\x01\\x85q\\x06K\\x01\\x85q\\x07\\x89ccollections\\nOrderedDict\\nq\\x08)Rq\\ttq\\nRq\\x0b.\\x80\\x02]q\\x00X\\x0f\\x00\\x00\\x00140455363344384q\\x01a.\\x01\\x00\\x00\\x00\\x00\\x00\\x00\\x00ff\\x86@', None, None, None, None))))\n",
      "None\n"
     ]
    },
    {
     "data": {
      "text/plain": [
       "(Wrapper)>[PointerTensor | me:61531830563 -> bob:92434762338]"
      ]
     },
     "execution_count": 6,
     "metadata": {},
     "output_type": "execute_result"
    }
   ],
   "source": [
    "x.send(bob)"
   ]
  },
  {
   "cell_type": "code",
   "execution_count": 8,
   "metadata": {},
   "outputs": [
    {
     "data": {
      "text/plain": [
       "(32,\n",
       " (2,\n",
       "  (13,\n",
       "   (92434762338,\n",
       "    b'\\x80\\x02\\x8a\\nl\\xfc\\x9cF\\xf9 j\\xa8P\\x19.\\x80\\x02M\\xe9\\x03.\\x80\\x02}q\\x00(X\\x10\\x00\\x00\\x00protocol_versionq\\x01M\\xe9\\x03X\\r\\x00\\x00\\x00little_endianq\\x02\\x88X\\n\\x00\\x00\\x00type_sizesq\\x03}q\\x04(X\\x05\\x00\\x00\\x00shortq\\x05K\\x02X\\x03\\x00\\x00\\x00intq\\x06K\\x04X\\x04\\x00\\x00\\x00longq\\x07K\\x04uu.\\x80\\x02ctorch._utils\\n_rebuild_tensor_v2\\nq\\x00((X\\x07\\x00\\x00\\x00storageq\\x01ctorch\\nFloatStorage\\nq\\x02X\\x0f\\x00\\x00\\x00140455363344384q\\x03X\\x03\\x00\\x00\\x00cpuq\\x04K\\x01Ntq\\x05QK\\x00K\\x01\\x85q\\x06K\\x01\\x85q\\x07\\x89ccollections\\nOrderedDict\\nq\\x08)Rq\\ttq\\nRq\\x0b.\\x80\\x02]q\\x00X\\x0f\\x00\\x00\\x00140455363344384q\\x01a.\\x01\\x00\\x00\\x00\\x00\\x00\\x00\\x00ff\\x86@',\n",
       "    None,\n",
       "    None,\n",
       "    None,\n",
       "    None))))"
      ]
     },
     "execution_count": 8,
     "metadata": {},
     "output_type": "execute_result"
    }
   ],
   "source": [
    "(32, (2, (13, (92434762338, b'\\x80\\x02\\x8a\\nl\\xfc\\x9cF\\xf9 j\\xa8P\\x19.\\x80\\x02M\\xe9\\x03.\\x80\\x02}q\\x00(X\\x10\\x00\\x00\\x00protocol_versionq\\x01M\\xe9\\x03X\\r\\x00\\x00\\x00little_endianq\\x02\\x88X\\n\\x00\\x00\\x00type_sizesq\\x03}q\\x04(X\\x05\\x00\\x00\\x00shortq\\x05K\\x02X\\x03\\x00\\x00\\x00intq\\x06K\\x04X\\x04\\x00\\x00\\x00longq\\x07K\\x04uu.\\x80\\x02ctorch._utils\\n_rebuild_tensor_v2\\nq\\x00((X\\x07\\x00\\x00\\x00storageq\\x01ctorch\\nFloatStorage\\nq\\x02X\\x0f\\x00\\x00\\x00140455363344384q\\x03X\\x03\\x00\\x00\\x00cpuq\\x04K\\x01Ntq\\x05QK\\x00K\\x01\\x85q\\x06K\\x01\\x85q\\x07\\x89ccollections\\nOrderedDict\\nq\\x08)Rq\\ttq\\nRq\\x0b.\\x80\\x02]q\\x00X\\x0f\\x00\\x00\\x00140455363344384q\\x01a.\\x01\\x00\\x00\\x00\\x00\\x00\\x00\\x00ff\\x86@', None, None, None, None))))"
   ]
  },
  {
   "cell_type": "code",
   "execution_count": 3,
   "metadata": {},
   "outputs": [],
   "source": [
    "from syft.messaging.message import Message"
   ]
  },
  {
   "cell_type": "code",
   "execution_count": 14,
   "metadata": {},
   "outputs": [],
   "source": [
    "from syft.serde.serde import simplifiers"
   ]
  },
  {
   "cell_type": "code",
   "execution_count": 15,
   "metadata": {},
   "outputs": [
    {
     "data": {
      "text/plain": [
       "OrderedDict([(dict,\n",
       "              (0,\n",
       "               <function syft.serde.native_serde._simplify_dictionary(my_dict: Dict) -> Tuple>)),\n",
       "             (list,\n",
       "              (1,\n",
       "               <function syft.serde.native_serde._simplify_collection(my_collection: Collection) -> Tuple>)),\n",
       "             (range,\n",
       "              (2,\n",
       "               <function syft.serde.native_serde._simplify_range(my_range: range) -> Tuple[int, int, int]>)),\n",
       "             (set,\n",
       "              (3,\n",
       "               <function syft.serde.native_serde._simplify_collection(my_collection: Collection) -> Tuple>)),\n",
       "             (slice,\n",
       "              (4,\n",
       "               <function syft.serde.native_serde._simplify_slice(my_slice: slice) -> Tuple[int, int, int]>)),\n",
       "             (str,\n",
       "              (5,\n",
       "               <function syft.serde.native_serde._simplify_str(obj: str) -> tuple>)),\n",
       "             (tuple,\n",
       "              (6,\n",
       "               <function syft.serde.native_serde._simplify_collection(my_collection: Collection) -> Tuple>)),\n",
       "             (ellipsis,\n",
       "              (7,\n",
       "               <function syft.serde.native_serde._simplify_ellipsis(e: Ellipsis) -> bytes>)),\n",
       "             (numpy.ndarray,\n",
       "              (8,\n",
       "               <function syft.serde.torch_serde._simplify_ndarray(my_array: numpy.ndarray) -> Tuple[<built-in function bin>, Tuple, str]>)),\n",
       "             (torch.device,\n",
       "              (9,\n",
       "               <function syft.serde.torch_serde._simplify_torch_device(device: torch.device) -> Tuple[str]>)),\n",
       "             (torch.Size,\n",
       "              (10,\n",
       "               <function syft.serde.torch_serde._simplify_torch_size(size: torch.Size) -> Tuple[int]>)),\n",
       "             (torch.jit.ScriptModule,\n",
       "              (11,\n",
       "               <function syft.serde.torch_serde._simplify_script_module(obj: torch.jit.ScriptModule) -> str>)),\n",
       "             (torch.jit.TopLevelTracedModule,\n",
       "              (11,\n",
       "               <function syft.serde.torch_serde._simplify_script_module(obj: torch.jit.ScriptModule) -> str>)),\n",
       "             (torch.nn.parameter.Parameter,\n",
       "              (12,\n",
       "               <function syft.serde.torch_serde._simplify_torch_parameter(param: torch.nn.parameter.Parameter) -> <built-in function bin>>)),\n",
       "             (torch.Tensor,\n",
       "              (13,\n",
       "               <function syft.serde.torch_serde._simplify_torch_tensor(tensor: torch.Tensor) -> <built-in function bin>>)),\n",
       "             (syft.frameworks.torch.tensors.interpreters.additive_shared.AdditiveSharingTensor,\n",
       "              (14,\n",
       "               <function syft.frameworks.torch.tensors.interpreters.additive_shared.AdditiveSharingTensor.simplify(tensor: 'AdditiveSharingTensor') -> tuple>)),\n",
       "             (syft.frameworks.torch.tensors.interpreters.precision.FixedPrecisionTensor,\n",
       "              (15,\n",
       "               <function syft.frameworks.torch.tensors.interpreters.precision.FixedPrecisionTensor.simplify(tensor: 'FixedPrecisionTensor') -> tuple>)),\n",
       "             (syft.frameworks.torch.tensors.interpreters.crt_precision.CRTPrecisionTensor,\n",
       "              (16,\n",
       "               <function syft.frameworks.torch.tensors.interpreters.crt_precision.CRTPrecisionTensor.simplify(tensor: 'CRTPrecisionTensor') -> tuple>)),\n",
       "             (syft.frameworks.torch.tensors.decorators.logging.LoggingTensor,\n",
       "              (17,\n",
       "               <function syft.frameworks.torch.tensors.decorators.logging.LoggingTensor.simplify(tensor: 'LoggingTensor') -> tuple>)),\n",
       "             (syft.generic.pointers.multi_pointer.MultiPointerTensor,\n",
       "              (18,\n",
       "               <function syft.generic.pointers.multi_pointer.MultiPointerTensor.simplify(tensor: 'MultiPointerTensor') -> tuple>)),\n",
       "             (syft.messaging.plan.Plan,\n",
       "              (19,\n",
       "               <function syft.messaging.plan.Plan.simplify(plan: 'Plan') -> tuple>)),\n",
       "             (syft.messaging.plan.State,\n",
       "              (20,\n",
       "               <function syft.messaging.plan.State.simplify(state: 'State') -> tuple>)),\n",
       "             (syft.messaging.plan.Procedure,\n",
       "              (21,\n",
       "               <function syft.messaging.plan.Procedure.simplify(procedure: 'Procedure') -> tuple>)),\n",
       "             (syft.messaging.protocol.Protocol,\n",
       "              (22,\n",
       "               <function syft.messaging.protocol.Protocol.simplify(protocol: 'Protocol') -> tuple>)),\n",
       "             (syft.generic.pointers.pointer_tensor.PointerTensor,\n",
       "              (23,\n",
       "               <function syft.generic.pointers.pointer_tensor.PointerTensor.simplify(ptr: 'PointerTensor') -> tuple>)),\n",
       "             (syft.generic.pointers.pointer_plan.PointerPlan,\n",
       "              (24,\n",
       "               <function syft.generic.pointers.pointer_plan.PointerPlan.simplify(ptr: 'PointerPlan') -> tuple>)),\n",
       "             (syft.generic.pointers.pointer_protocol.PointerProtocol,\n",
       "              (25,\n",
       "               <function syft.generic.pointers.pointer_protocol.PointerProtocol.simplify(ptr: 'PointerPlan') -> tuple>)),\n",
       "             (syft.generic.pointers.object_wrapper.ObjectWrapper,\n",
       "              (26,\n",
       "               <function syft.generic.pointers.object_wrapper.ObjectWrapper.simplify(obj: 'ObjectWrapper') -> tuple>)),\n",
       "             (syft.federated.train_config.TrainConfig,\n",
       "              (27,\n",
       "               <function syft.federated.train_config.TrainConfig.simplify(train_config: 'TrainConfig') -> tuple>)),\n",
       "             (syft.workers.base.BaseWorker,\n",
       "              (28,\n",
       "               <function syft.workers.base.BaseWorker.simplify(worker: syft.workers.abstract.AbstractWorker) -> tuple>)),\n",
       "             (syft.frameworks.torch.tensors.interpreters.autograd.AutogradTensor,\n",
       "              (29,\n",
       "               <function syft.frameworks.torch.tensors.interpreters.autograd.AutogradTensor.simplify(tensor: 'AutogradTensor') -> tuple>)),\n",
       "             (syft.messaging.message.Message,\n",
       "              (30,\n",
       "               <function syft.messaging.message.Message.simplify(ptr: 'Message') -> tuple>)),\n",
       "             (syft.messaging.message.Operation,\n",
       "              (31,\n",
       "               <function syft.messaging.message.Operation.simplify(ptr: 'Operation') -> tuple>)),\n",
       "             (syft.messaging.message.ObjectMessage,\n",
       "              (32,\n",
       "               <function syft.messaging.message.Message.simplify(ptr: 'Message') -> tuple>)),\n",
       "             (syft.messaging.message.ObjectRequestMessage,\n",
       "              (33,\n",
       "               <function syft.messaging.message.Message.simplify(ptr: 'Message') -> tuple>)),\n",
       "             (syft.messaging.message.IsNoneMessage,\n",
       "              (34,\n",
       "               <function syft.messaging.message.Message.simplify(ptr: 'Message') -> tuple>)),\n",
       "             (syft.messaging.message.GetShapeMessage,\n",
       "              (35,\n",
       "               <function syft.messaging.message.Message.simplify(ptr: 'Message') -> tuple>)),\n",
       "             (syft.messaging.message.ForceObjectDeleteMessage,\n",
       "              (36,\n",
       "               <function syft.messaging.message.Message.simplify(ptr: 'Message') -> tuple>)),\n",
       "             (syft.messaging.message.SearchMessage,\n",
       "              (37,\n",
       "               <function syft.messaging.message.Message.simplify(ptr: 'Message') -> tuple>)),\n",
       "             (syft.messaging.message.PlanCommandMessage,\n",
       "              (38,\n",
       "               <function syft.messaging.message.PlanCommandMessage.simplify(ptr: 'PlanCommandMessage') -> tuple>)),\n",
       "             (syft.exceptions.GetNotPermittedError,\n",
       "              (39,\n",
       "               <function syft.exceptions.GetNotPermittedError.simplify(e)>)),\n",
       "             (syft.exceptions.ResponseSignatureError,\n",
       "              (40,\n",
       "               <function syft.exceptions.ResponseSignatureError.simplify(e)>))])"
      ]
     },
     "execution_count": 15,
     "metadata": {},
     "output_type": "execute_result"
    }
   ],
   "source": [
    "simplifiers"
   ]
  },
  {
   "cell_type": "code",
   "execution_count": 20,
   "metadata": {
    "scrolled": true
   },
   "outputs": [
    {
     "name": "stdout",
     "output_type": "stream",
     "text": [
      "(32, (2, (13, (4761953181, b'\\x80\\x02\\x8a\\nl\\xfc\\x9cF\\xf9 j\\xa8P\\x19.\\x80\\x02M\\xe9\\x03.\\x80\\x02}q\\x00(X\\x10\\x00\\x00\\x00protocol_versionq\\x01M\\xe9\\x03X\\r\\x00\\x00\\x00little_endianq\\x02\\x88X\\n\\x00\\x00\\x00type_sizesq\\x03}q\\x04(X\\x05\\x00\\x00\\x00shortq\\x05K\\x02X\\x03\\x00\\x00\\x00intq\\x06K\\x04X\\x04\\x00\\x00\\x00longq\\x07K\\x04uu.\\x80\\x02ctorch._utils\\n_rebuild_tensor_v2\\nq\\x00((X\\x07\\x00\\x00\\x00storageq\\x01ctorch\\nFloatStorage\\nq\\x02X\\x0f\\x00\\x00\\x00140455365502960q\\x03X\\x03\\x00\\x00\\x00cpuq\\x04K\\x01Ntq\\x05QK\\x00K\\x01\\x85q\\x06K\\x01\\x85q\\x07\\x89ccollections\\nOrderedDict\\nq\\x08)Rq\\ttq\\nRq\\x0b.\\x80\\x02]q\\x00X\\x0f\\x00\\x00\\x00140455365502960q\\x01a.\\x01\\x00\\x00\\x00\\x00\\x00\\x00\\x00\\x00\\x00\\x00\\x00', None, None, None, None))))\n",
      "None\n",
      "(32, (2, (13, (79291281735, b'\\x80\\x02\\x8a\\nl\\xfc\\x9cF\\xf9 j\\xa8P\\x19.\\x80\\x02M\\xe9\\x03.\\x80\\x02}q\\x00(X\\x10\\x00\\x00\\x00protocol_versionq\\x01M\\xe9\\x03X\\r\\x00\\x00\\x00little_endianq\\x02\\x88X\\n\\x00\\x00\\x00type_sizesq\\x03}q\\x04(X\\x05\\x00\\x00\\x00shortq\\x05K\\x02X\\x03\\x00\\x00\\x00intq\\x06K\\x04X\\x04\\x00\\x00\\x00longq\\x07K\\x04uu.\\x80\\x02ctorch._utils\\n_rebuild_tensor_v2\\nq\\x00((X\\x07\\x00\\x00\\x00storageq\\x01ctorch\\nFloatStorage\\nq\\x02X\\x0f\\x00\\x00\\x00140455365509536q\\x03X\\x03\\x00\\x00\\x00cpuq\\x04K\\x01Ntq\\x05QK\\x00K\\x01\\x85q\\x06K\\x01\\x85q\\x07\\x89ccollections\\nOrderedDict\\nq\\x08)Rq\\ttq\\nRq\\x0b.\\x80\\x02]q\\x00X\\x0f\\x00\\x00\\x00140455365509536q\\x01a.\\x01\\x00\\x00\\x00\\x00\\x00\\x00\\x00ff\\x86@', None, None, None, None))))\n",
      "None\n",
      "(31, (1, ((6, ((5, (b'abs',)), (23, (26907042306, 4761953181, 72165846784, None, (10, (1,)), True)), (6, ()), (0, ()))), (48699021648,))))\n",
      "None\n",
      "(31, (1, ((6, ((5, (b'__add__',)), (23, (69709419596, 48699021648, 72165846784, None, None, True)), (6, ((23, (74656180278, 79291281735, 72165846784, None, (10, (1,)), False)),)), (0, ()))), (83495087450,))))\n",
      "None\n"
     ]
    }
   ],
   "source": [
    "@sy.func2plan(args_shape=[(1,)], state=(th.tensor([4.2]),))\n",
    "def plan(x, state):\n",
    "    bias, = state.read()\n",
    "    x = x.abs()\n",
    "    return x + bias"
   ]
  },
  {
   "cell_type": "code",
   "execution_count": 24,
   "metadata": {},
   "outputs": [
    {
     "data": {
      "text/plain": [
       "False"
      ]
     },
     "execution_count": 24,
     "metadata": {},
     "output_type": "execute_result"
    }
   ],
   "source": [
    "isinstance(b'__add__', bytearray)"
   ]
  },
  {
   "cell_type": "code",
   "execution_count": 22,
   "metadata": {},
   "outputs": [
    {
     "name": "stdout",
     "output_type": "stream",
     "text": [
      "(32, (2, (19, (72165846784, (21, (((31, (1, ((6, ((5, (b'abs',)), (23, (26907042306, 4761953181, 'alice', None, (10, (1,)), True)), (6, ()), (0, ()))), (48699021648,)))), (31, (1, ((6, ((5, (b'__add__',)), (23, (69709419596, 48699021648, 'alice', None, None, True)), (6, ((23, (74656180278, 79291281735, 'alice', None, (10, (1,)), False)),)), (0, ()))), (83495087450,))))), (6, (4761953181,)), (6, (83495087450,)))), (20, ((1, (79291281735,)), (1, ((13, (79291281735, b'\\x80\\x02\\x8a\\nl\\xfc\\x9cF\\xf9 j\\xa8P\\x19.\\x80\\x02M\\xe9\\x03.\\x80\\x02}q\\x00(X\\x10\\x00\\x00\\x00protocol_versionq\\x01M\\xe9\\x03X\\r\\x00\\x00\\x00little_endianq\\x02\\x88X\\n\\x00\\x00\\x00type_sizesq\\x03}q\\x04(X\\x05\\x00\\x00\\x00shortq\\x05K\\x02X\\x03\\x00\\x00\\x00intq\\x06K\\x04X\\x04\\x00\\x00\\x00longq\\x07K\\x04uu.\\x80\\x02ctorch._utils\\n_rebuild_tensor_v2\\nq\\x00((X\\x07\\x00\\x00\\x00storageq\\x01ctorch\\nFloatStorage\\nq\\x02X\\x0f\\x00\\x00\\x00140455350011776q\\x03X\\x03\\x00\\x00\\x00cpuq\\x04K\\x01Ntq\\x05QK\\x00K\\x01\\x85q\\x06K\\x01\\x85q\\x07\\x89ccollections\\nOrderedDict\\nq\\x08)Rq\\ttq\\nRq\\x0b.\\x80\\x02]q\\x00X\\x0f\\x00\\x00\\x00140455350011776q\\x01a.\\x01\\x00\\x00\\x00\\x00\\x00\\x00\\x00ff\\x86@', None, None, None, None)),)))), True, True, (5, (b'plan',)), None, None))))\n",
      "None\n",
      "(32, (2, (19, (72165846784, (21, (((31, (1, ((6, ((5, (b'abs',)), (23, (26907042306, 4761953181, 'bob', None, (10, (1,)), True)), (6, ()), (0, ()))), (48699021648,)))), (31, (1, ((6, ((5, (b'__add__',)), (23, (69709419596, 48699021648, 'bob', None, None, True)), (6, ((23, (74656180278, 79291281735, 'bob', None, (10, (1,)), False)),)), (0, ()))), (83495087450,))))), (6, (4761953181,)), (6, (83495087450,)))), (20, ((1, (79291281735,)), (1, ((13, (79291281735, b'\\x80\\x02\\x8a\\nl\\xfc\\x9cF\\xf9 j\\xa8P\\x19.\\x80\\x02M\\xe9\\x03.\\x80\\x02}q\\x00(X\\x10\\x00\\x00\\x00protocol_versionq\\x01M\\xe9\\x03X\\r\\x00\\x00\\x00little_endianq\\x02\\x88X\\n\\x00\\x00\\x00type_sizesq\\x03}q\\x04(X\\x05\\x00\\x00\\x00shortq\\x05K\\x02X\\x03\\x00\\x00\\x00intq\\x06K\\x04X\\x04\\x00\\x00\\x00longq\\x07K\\x04uu.\\x80\\x02ctorch._utils\\n_rebuild_tensor_v2\\nq\\x00((X\\x07\\x00\\x00\\x00storageq\\x01ctorch\\nFloatStorage\\nq\\x02X\\x0f\\x00\\x00\\x00140455350011776q\\x03X\\x03\\x00\\x00\\x00cpuq\\x04K\\x01Ntq\\x05QK\\x00K\\x01\\x85q\\x06K\\x01\\x85q\\x07\\x89ccollections\\nOrderedDict\\nq\\x08)Rq\\ttq\\nRq\\x0b.\\x80\\x02]q\\x00X\\x0f\\x00\\x00\\x00140455350011776q\\x01a.\\x01\\x00\\x00\\x00\\x00\\x00\\x00\\x00ff\\x86@', None, None, None, None)),)))), True, True, (5, (b'plan',)), None, None))))\n",
      "None\n"
     ]
    },
    {
     "data": {
      "text/plain": [
       "[PointerPlan | me:55894304374\n",
       "\t -> alice:72165846784\n",
       "\t -> bob:72165846784\n",
       "]"
      ]
     },
     "execution_count": 22,
     "metadata": {},
     "output_type": "execute_result"
    }
   ],
   "source": [
    "ptr_plan = plan.send(alice, bob)\n",
    "ptr_plan"
   ]
  },
  {
   "cell_type": "code",
   "execution_count": 4,
   "metadata": {},
   "outputs": [
    {
     "name": "stdout",
     "output_type": "stream",
     "text": [
      "(38, (10, ((5, (b'fetch_plan',)), (6, (57895708650, False)))))\n",
      "(19, (57895708650, (21, (((31, (1, ((6, ((5, (b'abs',)), (23, (25208484331, 51684948173, b'dan', None, (10, (1,)), True)), (6, ()), (0, ()))), (62869536441,)))), (31, (1, ((6, ((5, (b'__add__',)), (23, (9655331350, 62869536441, b'dan', None, None, True)), (6, ((23, (89426198911, 4863941835, b'dan', None, (10, (1,)), False)),)), (0, ()))), (3263650475,))))), (6, (51684948173,)), (6, (3263650475,)))), (20, ((1, (4863941835,)), (1, ((13, (4863941835, b'\\x80\\x02\\x8a\\nl\\xfc\\x9cF\\xf9 j\\xa8P\\x19.\\x80\\x02M\\xe9\\x03.\\x80\\x02}q\\x00(X\\x10\\x00\\x00\\x00protocol_versionq\\x01M\\xe9\\x03X\\r\\x00\\x00\\x00little_endianq\\x02\\x88X\\n\\x00\\x00\\x00type_sizesq\\x03}q\\x04(X\\x05\\x00\\x00\\x00shortq\\x05K\\x02X\\x03\\x00\\x00\\x00intq\\x06K\\x04X\\x04\\x00\\x00\\x00longq\\x07K\\x04uu.\\x80\\x02ctorch._utils\\n_rebuild_tensor_v2\\nq\\x00((X\\x07\\x00\\x00\\x00storageq\\x01ctorch\\nFloatStorage\\nq\\x02X\\x0f\\x00\\x00\\x00140400015244496q\\x03X\\x03\\x00\\x00\\x00cpuq\\x04K\\x01Ntq\\x05QK\\x00K\\x01\\x85q\\x06K\\x01\\x85q\\x07\\x89ccollections\\nOrderedDict\\nq\\x08)Rq\\ttq\\nRq\\x0b.\\x80\\x02]q\\x00X\\x0f\\x00\\x00\\x00140400015244496q\\x01a.\\x01\\x00\\x00\\x00\\x00\\x00\\x00\\x00ff\\x86@', None, None, None, None)),)))), True, True, (5, (b'plan',)), None, None))\n"
     ]
    }
   ],
   "source": [
    "fetched_plan = plan.owner.fetch_plan(ptr_plan.id_at_location, james)"
   ]
  },
  {
   "cell_type": "code",
   "execution_count": 6,
   "metadata": {},
   "outputs": [
    {
     "data": {
      "text/plain": [
       "(19,\n",
       " (57895708650,\n",
       "  (21,\n",
       "   (((31,\n",
       "      (1,\n",
       "       ((6,\n",
       "         ((5, (b'abs',)),\n",
       "          (23, (25208484331, 51684948173, b'dan', None, (10, (1,)), True)),\n",
       "          (6, ()),\n",
       "          (0, ()))),\n",
       "        (62869536441,)))),\n",
       "     (31,\n",
       "      (1,\n",
       "       ((6,\n",
       "         ((5, (b'__add__',)),\n",
       "          (23, (9655331350, 62869536441, b'dan', None, None, True)),\n",
       "          (6,\n",
       "           ((23,\n",
       "             (89426198911, 4863941835, b'dan', None, (10, (1,)), False)),)),\n",
       "          (0, ()))),\n",
       "        (3263650475,))))),\n",
       "    (6, (51684948173,)),\n",
       "    (6, (3263650475,)))),\n",
       "  (20,\n",
       "   ((1, (4863941835,)),\n",
       "    (1,\n",
       "     ((13,\n",
       "       (4863941835,\n",
       "        b'\\x80\\x02\\x8a\\nl\\xfc\\x9cF\\xf9 j\\xa8P\\x19.\\x80\\x02M\\xe9\\x03.\\x80\\x02}q\\x00(X\\x10\\x00\\x00\\x00protocol_versionq\\x01M\\xe9\\x03X\\r\\x00\\x00\\x00little_endianq\\x02\\x88X\\n\\x00\\x00\\x00type_sizesq\\x03}q\\x04(X\\x05\\x00\\x00\\x00shortq\\x05K\\x02X\\x03\\x00\\x00\\x00intq\\x06K\\x04X\\x04\\x00\\x00\\x00longq\\x07K\\x04uu.\\x80\\x02ctorch._utils\\n_rebuild_tensor_v2\\nq\\x00((X\\x07\\x00\\x00\\x00storageq\\x01ctorch\\nFloatStorage\\nq\\x02X\\x0f\\x00\\x00\\x00140400015244496q\\x03X\\x03\\x00\\x00\\x00cpuq\\x04K\\x01Ntq\\x05QK\\x00K\\x01\\x85q\\x06K\\x01\\x85q\\x07\\x89ccollections\\nOrderedDict\\nq\\x08)Rq\\ttq\\nRq\\x0b.\\x80\\x02]q\\x00X\\x0f\\x00\\x00\\x00140400015244496q\\x01a.\\x01\\x00\\x00\\x00\\x00\\x00\\x00\\x00ff\\x86@',\n",
       "        None,\n",
       "        None,\n",
       "        None,\n",
       "        None)),)))),\n",
       "  True,\n",
       "  True,\n",
       "  (5, (b'plan',)),\n",
       "  None,\n",
       "  None))"
      ]
     },
     "execution_count": 6,
     "metadata": {},
     "output_type": "execute_result"
    }
   ],
   "source": [
    "(38, (10, ((5, (b'fetch_plan',)), (6, (57895708650, False)))))\n",
    "(19, (57895708650, (21, (((31, (1, ((6, ((5, (b'abs',)), (23, (25208484331, 51684948173, b'dan', None, (10, (1,)), True)), (6, ()), (0, ()))), (62869536441,)))), (31, (1, ((6, ((5, (b'__add__',)), (23, (9655331350, 62869536441, b'dan', None, None, True)), (6, ((23, (89426198911, 4863941835, b'dan', None, (10, (1,)), False)),)), (0, ()))), (3263650475,))))), (6, (51684948173,)), (6, (3263650475,)))), (20, ((1, (4863941835,)), (1, ((13, (4863941835, b'\\x80\\x02\\x8a\\nl\\xfc\\x9cF\\xf9 j\\xa8P\\x19.\\x80\\x02M\\xe9\\x03.\\x80\\x02}q\\x00(X\\x10\\x00\\x00\\x00protocol_versionq\\x01M\\xe9\\x03X\\r\\x00\\x00\\x00little_endianq\\x02\\x88X\\n\\x00\\x00\\x00type_sizesq\\x03}q\\x04(X\\x05\\x00\\x00\\x00shortq\\x05K\\x02X\\x03\\x00\\x00\\x00intq\\x06K\\x04X\\x04\\x00\\x00\\x00longq\\x07K\\x04uu.\\x80\\x02ctorch._utils\\n_rebuild_tensor_v2\\nq\\x00((X\\x07\\x00\\x00\\x00storageq\\x01ctorch\\nFloatStorage\\nq\\x02X\\x0f\\x00\\x00\\x00140400015244496q\\x03X\\x03\\x00\\x00\\x00cpuq\\x04K\\x01Ntq\\x05QK\\x00K\\x01\\x85q\\x06K\\x01\\x85q\\x07\\x89ccollections\\nOrderedDict\\nq\\x08)Rq\\ttq\\nRq\\x0b.\\x80\\x02]q\\x00X\\x0f\\x00\\x00\\x00140400015244496q\\x01a.\\x01\\x00\\x00\\x00\\x00\\x00\\x00\\x00ff\\x86@', None, None, None, None)),)))), True, True, (5, (b'plan',)), None, None))"
   ]
  },
  {
   "cell_type": "code",
   "execution_count": 5,
   "metadata": {},
   "outputs": [
    {
     "data": {
      "text/plain": [
       "(19,\n",
       " (57895708650,\n",
       "  (21,\n",
       "   (((31,\n",
       "      (1,\n",
       "       ((6,\n",
       "         ((5, (b'abs',)),\n",
       "          (23, (25208484331, 51684948173, b'dan', None, (10, (1,)), True)),\n",
       "          (6, ()),\n",
       "          (0, ()))),\n",
       "        (62869536441,)))),\n",
       "     (31,\n",
       "      (1,\n",
       "       ((6,\n",
       "         ((5, (b'__add__',)),\n",
       "          (23, (9655331350, 62869536441, b'dan', None, None, True)),\n",
       "          (6,\n",
       "           ((23,\n",
       "             (89426198911, 4863941835, b'dan', None, (10, (1,)), False)),)),\n",
       "          (0, ()))),\n",
       "        (3263650475,))))),\n",
       "    (6, (51684948173,)),\n",
       "    (6, (3263650475,)))),\n",
       "  (20,\n",
       "   ((1, (4863941835,)),\n",
       "    (1,\n",
       "     ((13, (4863941835, b'binary_tensor_data', None, None, None, None)),)))),\n",
       "  True,\n",
       "  True,\n",
       "  (5, (b'plan',)),\n",
       "  None,\n",
       "  None))"
      ]
     },
     "execution_count": 5,
     "metadata": {},
     "output_type": "execute_result"
    }
   ],
   "source": [
    "(19, (57895708650, (21, (((31, (1, ((6, ((5, (b'abs',)), (23, (25208484331, 51684948173, b'dan', None, (10, (1,)), True)), (6, ()), (0, ()))), (62869536441,)))), (31, (1, ((6, ((5, (b'__add__',)), (23, (9655331350, 62869536441, b'dan', None, None, True)), (6, ((23, (89426198911, 4863941835, b'dan', None, (10, (1,)), False)),)), (0, ()))), (3263650475,))))), (6, (51684948173,)), (6, (3263650475,)))), (20, ((1, (4863941835,)), (1, ((13, (4863941835, b'binary_tensor_data', None, None, None, None)),)))), True, True, (5, (b'plan',)), None, None))"
   ]
  },
  {
   "cell_type": "code",
   "execution_count": null,
   "metadata": {},
   "outputs": [],
   "source": [
    "(19, (57895708650, (21, (((31, (1, ((6, ((5, (b'abs',)), (23, (25208484331, 51684948173, b'dan', None, (10, (1,)), True)), (6, ()), (0, ()))), (62869536441,)))), (31, (1, ((6, ((5, (b'__add__',)), (23, (9655331350, 62869536441, b'dan', None, None, True)))), )))), (6, (51684948173,)), (6, (3263650475,)))), (20, ((1, (4863941835,)), (1, ((13, (4863941835, b'binary_tensor_data', None, None, None, None)),)))), True, True, (5, (b'plan',)), None, None))"
   ]
  },
  {
   "cell_type": "code",
   "execution_count": null,
   "metadata": {},
   "outputs": [],
   "source": []
  },
  {
   "cell_type": "code",
   "execution_count": null,
   "metadata": {},
   "outputs": [],
   "source": []
  },
  {
   "cell_type": "code",
   "execution_count": 5,
   "metadata": {},
   "outputs": [
    {
     "name": "stdout",
     "output_type": "stream",
     "text": [
      "\n",
      " (32, (2, (13, (75049840459, b'\\x80\\x02\\x8a\\nl\\xfc\\x9cF\\xf9 j\\xa8P\\x19.\\x80\\x02M\\xe9\\x03.\\x80\\x02}q\\x00(X\\x10\\x00\\x00\\x00protocol_versionq\\x01M\\xe9\\x03X\\r\\x00\\x00\\x00little_endianq\\x02\\x88X\\n\\x00\\x00\\x00type_sizesq\\x03}q\\x04(X\\x05\\x00\\x00\\x00shortq\\x05K\\x02X\\x03\\x00\\x00\\x00intq\\x06K\\x04X\\x04\\x00\\x00\\x00longq\\x07K\\x04uu.\\x80\\x02ctorch._utils\\n_rebuild_tensor_v2\\nq\\x00((X\\x07\\x00\\x00\\x00storageq\\x01ctorch\\nFloatStorage\\nq\\x02X\\x0f\\x00\\x00\\x00140398958018944q\\x03X\\x03\\x00\\x00\\x00cpuq\\x04K\\x01Ntq\\x05QK\\x00K\\x01\\x85q\\x06K\\x01\\x85q\\x07\\x89ccollections\\nOrderedDict\\nq\\x08)Rq\\ttq\\nRq\\x0b.\\x80\\x02]q\\x00X\\x0f\\x00\\x00\\x00140398958018944q\\x01a.\\x01\\x00\\x00\\x00\\x00\\x00\\x00\\x00\\x00\\x00\\x00\\x00', None, None, None, None))))\n",
      "\n",
      " None\n",
      "\n",
      " (31, (1, ((6, ((5, (b'abs',)), (23, (6219287291, 75049840459, 76624135880, None, (10, (1,)), True)), (6, ()), (0, ()))), (67543886710,))))\n",
      "\n",
      " None\n",
      "\n",
      " (31, (1, ((6, ((5, (b'__add__',)), (23, (13387269616, 67543886710, 76624135880, None, None, True)), (6, (1.0,)), (0, ()))), (89151963699,))))\n",
      "\n",
      " None\n"
     ]
    }
   ],
   "source": [
    "@sy.func2plan(args_shape=[(1,)], state={\"bias\": 1.})\n",
    "def plan(x, state):\n",
    "    bias = state.read(\"bias\")\n",
    "    x = x.abs()\n",
    "    return x + bias"
   ]
  },
  {
   "cell_type": "code",
   "execution_count": 6,
   "metadata": {},
   "outputs": [
    {
     "name": "stdout",
     "output_type": "stream",
     "text": [
      "\n",
      " (32, (2, (19, (76624135880, (21, (((31, (1, ((6, ((5, (b'abs',)), (23, (6219287291, 75049840459, 'dan', None, (10, (1,)), True)), (6, ()), (0, ()))), (67543886710,)))), (31, (1, ((6, ((5, (b'__add__',)), (23, (13387269616, 67543886710, 'dan', None, None, True)), (6, (1.0,)), (0, ()))), (89151963699,))))), (6, (75049840459,)), (6, (89151963699,)))), (20, ((1, ()), (1, ()))), True, True, (5, (b'plan',)), None, None))))\n",
      "\n",
      " None\n"
     ]
    }
   ],
   "source": [
    "ptr_plan = plan.send(james)"
   ]
  },
  {
   "cell_type": "code",
   "execution_count": 7,
   "metadata": {},
   "outputs": [
    {
     "name": "stdout",
     "output_type": "stream",
     "text": [
      "\n",
      " (38, (10, ((5, (b'fetch_plan',)), (6, (76624135880, False)))))\n",
      "\n",
      " (19, (76624135880, (21, (((31, (1, ((6, ((5, (b'abs',)), (23, (6219287291, 75049840459, b'dan', None, (10, (1,)), True)), (6, ()), (0, ()))), (67543886710,)))), (31, (1, ((6, ((5, (b'__add__',)), (23, (13387269616, 67543886710, b'dan', None, None, True)), (6, (1.0,)), (0, ()))), (89151963699,))))), (6, (75049840459,)), (6, (89151963699,)))), (20, ((1, ()), (1, ()))), True, True, (5, (b'plan',)), None, None))\n"
     ]
    }
   ],
   "source": [
    "fetched_plan = plan.owner.fetch_plan(ptr_plan.id_at_location, james)"
   ]
  },
  {
   "cell_type": "code",
   "execution_count": 2,
   "metadata": {},
   "outputs": [
    {
     "data": {
      "text/plain": [
       "<VirtualWorker id:me #objects:0>"
      ]
     },
     "execution_count": 2,
     "metadata": {},
     "output_type": "execute_result"
    }
   ],
   "source": [
    "alice.clear_objects()\n",
    "bob.clear_objects()\n",
    "charlie.clear_objects()\n",
    "dan.clear_objects()\n",
    "me.clear_objects()"
   ]
  },
  {
   "cell_type": "code",
   "execution_count": 3,
   "metadata": {},
   "outputs": [
    {
     "name": "stdout",
     "output_type": "stream",
     "text": [
      "[PointerPlan | me:81687599853 -> bob:55135370543]\n"
     ]
    },
    {
     "ename": "KeyError",
     "evalue": "'Object \"7592351841\" not found on worker!!!You just tried to interact with an object ID:7592351841 on <VirtualWorker id:bob #objects:4> which does not exist!!! Use .send() and .get() on all your tensors to make sure they\\'reon the same machines. If you think this tensor does exist, check the ._objects dictionaryon the worker and see for yourself!!! The most common reason this error happens is because someone calls.get() on the object\\'s pointer without realizing it (which deletes the remote object and sends it to the pointer). Check your code to make sure you haven\\'t already called .get() on this pointer!!!'",
     "output_type": "error",
     "traceback": [
      "\u001b[0;31m---------------------------------------------------------------------------\u001b[0m",
      "\u001b[0;31mKeyError\u001b[0m                                  Traceback (most recent call last)",
      "\u001b[0;32m~/code/PySyft/syft/generic/object_storage.py\u001b[0m in \u001b[0;36mget_obj\u001b[0;34m(self, obj_id)\u001b[0m\n\u001b[1;32m     62\u001b[0m         \u001b[0;32mtry\u001b[0m\u001b[0;34m:\u001b[0m\u001b[0;34m\u001b[0m\u001b[0m\n\u001b[0;32m---> 63\u001b[0;31m             \u001b[0mobj\u001b[0m \u001b[0;34m=\u001b[0m \u001b[0mself\u001b[0m\u001b[0;34m.\u001b[0m\u001b[0m_objects\u001b[0m\u001b[0;34m[\u001b[0m\u001b[0mobj_id\u001b[0m\u001b[0;34m]\u001b[0m\u001b[0;34m\u001b[0m\u001b[0m\n\u001b[0m\u001b[1;32m     64\u001b[0m         \u001b[0;32mexcept\u001b[0m \u001b[0mKeyError\u001b[0m \u001b[0;32mas\u001b[0m \u001b[0me\u001b[0m\u001b[0;34m:\u001b[0m\u001b[0;34m\u001b[0m\u001b[0m\n",
      "\u001b[0;31mKeyError\u001b[0m: 7592351841",
      "\nDuring handling of the above exception, another exception occurred:\n",
      "\u001b[0;31mKeyError\u001b[0m                                  Traceback (most recent call last)",
      "\u001b[0;32m<ipython-input-3-2c6c77ce38df>\u001b[0m in \u001b[0;36m<module>\u001b[0;34m\u001b[0m\n\u001b[1;32m     13\u001b[0m \u001b[0;34m\u001b[0m\u001b[0m\n\u001b[1;32m     14\u001b[0m \u001b[0mx_ptr\u001b[0m \u001b[0;34m=\u001b[0m \u001b[0mth\u001b[0m\u001b[0;34m.\u001b[0m\u001b[0mtensor\u001b[0m\u001b[0;34m(\u001b[0m\u001b[0;34m[\u001b[0m\u001b[0;34m-\u001b[0m\u001b[0;36m1\u001b[0m\u001b[0;34m,\u001b[0m \u001b[0;36m9\u001b[0m\u001b[0;34m,\u001b[0m \u001b[0;36m3\u001b[0m\u001b[0;34m]\u001b[0m\u001b[0;34m)\u001b[0m\u001b[0;34m.\u001b[0m\u001b[0msend\u001b[0m\u001b[0;34m(\u001b[0m\u001b[0malice\u001b[0m\u001b[0;34m)\u001b[0m\u001b[0;34m\u001b[0m\u001b[0m\n\u001b[0;32m---> 15\u001b[0;31m \u001b[0mp\u001b[0m \u001b[0;34m=\u001b[0m \u001b[0mplan_ptr\u001b[0m\u001b[0;34m(\u001b[0m\u001b[0mx_ptr\u001b[0m\u001b[0;34m)\u001b[0m\u001b[0;34m\u001b[0m\u001b[0m\n\u001b[0m\u001b[1;32m     16\u001b[0m \u001b[0mx_abs\u001b[0m \u001b[0;34m=\u001b[0m \u001b[0mp\u001b[0m\u001b[0;34m.\u001b[0m\u001b[0mget\u001b[0m\u001b[0;34m(\u001b[0m\u001b[0;34m)\u001b[0m\u001b[0;34m\u001b[0m\u001b[0m\n\u001b[1;32m     17\u001b[0m \u001b[0;32massert\u001b[0m \u001b[0;34m(\u001b[0m\u001b[0mx_abs\u001b[0m \u001b[0;34m==\u001b[0m \u001b[0mth\u001b[0m\u001b[0;34m.\u001b[0m\u001b[0mtensor\u001b[0m\u001b[0;34m(\u001b[0m\u001b[0;34m[\u001b[0m\u001b[0;36m2\u001b[0m\u001b[0;34m,\u001b[0m \u001b[0;36m10\u001b[0m\u001b[0;34m,\u001b[0m \u001b[0;36m4\u001b[0m\u001b[0;34m]\u001b[0m\u001b[0;34m)\u001b[0m\u001b[0;34m)\u001b[0m\u001b[0;34m.\u001b[0m\u001b[0mall\u001b[0m\u001b[0;34m(\u001b[0m\u001b[0;34m)\u001b[0m\u001b[0;34m\u001b[0m\u001b[0m\n",
      "\u001b[0;32m~/code/PySyft/syft/generic/pointers/pointer_plan.py\u001b[0m in \u001b[0;36m__call__\u001b[0;34m(self, *args, **kwargs)\u001b[0m\n\u001b[1;32m     90\u001b[0m \u001b[0;34m\u001b[0m\u001b[0m\n\u001b[1;32m     91\u001b[0m         \u001b[0mresult_ids\u001b[0m \u001b[0;34m=\u001b[0m \u001b[0;34m[\u001b[0m\u001b[0msy\u001b[0m\u001b[0;34m.\u001b[0m\u001b[0mID_PROVIDER\u001b[0m\u001b[0;34m.\u001b[0m\u001b[0mpop\u001b[0m\u001b[0;34m(\u001b[0m\u001b[0;34m)\u001b[0m\u001b[0;34m]\u001b[0m\u001b[0;34m\u001b[0m\u001b[0m\n\u001b[0;32m---> 92\u001b[0;31m         \u001b[0mresponse\u001b[0m \u001b[0;34m=\u001b[0m \u001b[0mself\u001b[0m\u001b[0;34m.\u001b[0m\u001b[0mrequest_run_plan\u001b[0m\u001b[0;34m(\u001b[0m\u001b[0mlocation\u001b[0m\u001b[0;34m,\u001b[0m \u001b[0mresult_ids\u001b[0m\u001b[0;34m,\u001b[0m \u001b[0;34m*\u001b[0m\u001b[0margs\u001b[0m\u001b[0;34m)\u001b[0m\u001b[0;34m\u001b[0m\u001b[0m\n\u001b[0m\u001b[1;32m     93\u001b[0m \u001b[0;34m\u001b[0m\u001b[0m\n\u001b[1;32m     94\u001b[0m         \u001b[0;32mreturn\u001b[0m \u001b[0mresponse\u001b[0m\u001b[0;34m\u001b[0m\u001b[0m\n",
      "\u001b[0;32m~/code/PySyft/syft/generic/pointers/pointer_plan.py\u001b[0m in \u001b[0;36mrequest_run_plan\u001b[0;34m(self, location, response_ids, *args, **kwargs)\u001b[0m\n\u001b[1;32m    127\u001b[0m \u001b[0;34m\u001b[0m\u001b[0m\n\u001b[1;32m    128\u001b[0m         response = self.owner.send_command(\n\u001b[0;32m--> 129\u001b[0;31m             \u001b[0mmessage\u001b[0m\u001b[0;34m=\u001b[0m\u001b[0mcommand\u001b[0m\u001b[0;34m,\u001b[0m \u001b[0mrecipient\u001b[0m\u001b[0;34m=\u001b[0m\u001b[0mlocation\u001b[0m\u001b[0;34m,\u001b[0m \u001b[0mreturn_ids\u001b[0m\u001b[0;34m=\u001b[0m\u001b[0mresponse_ids\u001b[0m\u001b[0;34m\u001b[0m\u001b[0m\n\u001b[0m\u001b[1;32m    130\u001b[0m         )\n\u001b[1;32m    131\u001b[0m         \u001b[0mresponse\u001b[0m \u001b[0;34m=\u001b[0m \u001b[0mhook_args\u001b[0m\u001b[0;34m.\u001b[0m\u001b[0mhook_response\u001b[0m\u001b[0;34m(\u001b[0m\u001b[0mplan_name\u001b[0m\u001b[0;34m,\u001b[0m \u001b[0mresponse\u001b[0m\u001b[0;34m,\u001b[0m \u001b[0mwrap_type\u001b[0m\u001b[0;34m=\u001b[0m\u001b[0mFrameworkTensor\u001b[0m\u001b[0;34m[\u001b[0m\u001b[0;36m0\u001b[0m\u001b[0;34m]\u001b[0m\u001b[0;34m)\u001b[0m\u001b[0;34m\u001b[0m\u001b[0m\n",
      "\u001b[0;32m~/code/PySyft/syft/workers/base.py\u001b[0m in \u001b[0;36msend_command\u001b[0;34m(self, recipient, message, return_ids)\u001b[0m\n\u001b[1;32m    487\u001b[0m \u001b[0;34m\u001b[0m\u001b[0m\n\u001b[1;32m    488\u001b[0m         \u001b[0;32mtry\u001b[0m\u001b[0;34m:\u001b[0m\u001b[0;34m\u001b[0m\u001b[0m\n\u001b[0;32m--> 489\u001b[0;31m             \u001b[0mret_val\u001b[0m \u001b[0;34m=\u001b[0m \u001b[0mself\u001b[0m\u001b[0;34m.\u001b[0m\u001b[0msend_msg\u001b[0m\u001b[0;34m(\u001b[0m\u001b[0mOperation\u001b[0m\u001b[0;34m(\u001b[0m\u001b[0mmessage\u001b[0m\u001b[0;34m,\u001b[0m \u001b[0mreturn_ids\u001b[0m\u001b[0;34m)\u001b[0m\u001b[0;34m,\u001b[0m \u001b[0mlocation\u001b[0m\u001b[0;34m=\u001b[0m\u001b[0mrecipient\u001b[0m\u001b[0;34m)\u001b[0m\u001b[0;34m\u001b[0m\u001b[0m\n\u001b[0m\u001b[1;32m    490\u001b[0m         \u001b[0;32mexcept\u001b[0m \u001b[0mResponseSignatureError\u001b[0m \u001b[0;32mas\u001b[0m \u001b[0me\u001b[0m\u001b[0;34m:\u001b[0m\u001b[0;34m\u001b[0m\u001b[0m\n\u001b[1;32m    491\u001b[0m             \u001b[0mret_val\u001b[0m \u001b[0;34m=\u001b[0m \u001b[0;32mNone\u001b[0m\u001b[0;34m\u001b[0m\u001b[0m\n",
      "\u001b[0;32m~/code/PySyft/syft/workers/base.py\u001b[0m in \u001b[0;36msend_msg\u001b[0;34m(self, message, location)\u001b[0m\n\u001b[1;32m    256\u001b[0m \u001b[0;34m\u001b[0m\u001b[0m\n\u001b[1;32m    257\u001b[0m         \u001b[0;31m# Step 2: send the message and wait for a response\u001b[0m\u001b[0;34m\u001b[0m\u001b[0;34m\u001b[0m\u001b[0m\n\u001b[0;32m--> 258\u001b[0;31m         \u001b[0mbin_response\u001b[0m \u001b[0;34m=\u001b[0m \u001b[0mself\u001b[0m\u001b[0;34m.\u001b[0m\u001b[0m_send_msg\u001b[0m\u001b[0;34m(\u001b[0m\u001b[0mbin_message\u001b[0m\u001b[0;34m,\u001b[0m \u001b[0mlocation\u001b[0m\u001b[0;34m)\u001b[0m\u001b[0;34m\u001b[0m\u001b[0m\n\u001b[0m\u001b[1;32m    259\u001b[0m \u001b[0;34m\u001b[0m\u001b[0m\n\u001b[1;32m    260\u001b[0m         \u001b[0;31m# Step 3: deserialize the response\u001b[0m\u001b[0;34m\u001b[0m\u001b[0;34m\u001b[0m\u001b[0m\n",
      "\u001b[0;32m~/code/PySyft/syft/workers/virtual.py\u001b[0m in \u001b[0;36m_send_msg\u001b[0;34m(self, message, location)\u001b[0m\n\u001b[1;32m      5\u001b[0m \u001b[0;32mclass\u001b[0m \u001b[0mVirtualWorker\u001b[0m\u001b[0;34m(\u001b[0m\u001b[0mBaseWorker\u001b[0m\u001b[0;34m,\u001b[0m \u001b[0mFederatedClient\u001b[0m\u001b[0;34m)\u001b[0m\u001b[0;34m:\u001b[0m\u001b[0;34m\u001b[0m\u001b[0m\n\u001b[1;32m      6\u001b[0m     \u001b[0;32mdef\u001b[0m \u001b[0m_send_msg\u001b[0m\u001b[0;34m(\u001b[0m\u001b[0mself\u001b[0m\u001b[0;34m,\u001b[0m \u001b[0mmessage\u001b[0m\u001b[0;34m:\u001b[0m \u001b[0mbin\u001b[0m\u001b[0;34m,\u001b[0m \u001b[0mlocation\u001b[0m\u001b[0;34m:\u001b[0m \u001b[0mBaseWorker\u001b[0m\u001b[0;34m)\u001b[0m \u001b[0;34m->\u001b[0m \u001b[0mbin\u001b[0m\u001b[0;34m:\u001b[0m\u001b[0;34m\u001b[0m\u001b[0m\n\u001b[0;32m----> 7\u001b[0;31m         \u001b[0;32mreturn\u001b[0m \u001b[0mlocation\u001b[0m\u001b[0;34m.\u001b[0m\u001b[0m_recv_msg\u001b[0m\u001b[0;34m(\u001b[0m\u001b[0mmessage\u001b[0m\u001b[0;34m)\u001b[0m\u001b[0;34m\u001b[0m\u001b[0m\n\u001b[0m\u001b[1;32m      8\u001b[0m \u001b[0;34m\u001b[0m\u001b[0m\n\u001b[1;32m      9\u001b[0m     \u001b[0;32mdef\u001b[0m \u001b[0m_recv_msg\u001b[0m\u001b[0;34m(\u001b[0m\u001b[0mself\u001b[0m\u001b[0;34m,\u001b[0m \u001b[0mmessage\u001b[0m\u001b[0;34m:\u001b[0m \u001b[0mbin\u001b[0m\u001b[0;34m)\u001b[0m \u001b[0;34m->\u001b[0m \u001b[0mbin\u001b[0m\u001b[0;34m:\u001b[0m\u001b[0;34m\u001b[0m\u001b[0m\n",
      "\u001b[0;32m~/code/PySyft/syft/workers/virtual.py\u001b[0m in \u001b[0;36m_recv_msg\u001b[0;34m(self, message)\u001b[0m\n\u001b[1;32m      8\u001b[0m \u001b[0;34m\u001b[0m\u001b[0m\n\u001b[1;32m      9\u001b[0m     \u001b[0;32mdef\u001b[0m \u001b[0m_recv_msg\u001b[0m\u001b[0;34m(\u001b[0m\u001b[0mself\u001b[0m\u001b[0;34m,\u001b[0m \u001b[0mmessage\u001b[0m\u001b[0;34m:\u001b[0m \u001b[0mbin\u001b[0m\u001b[0;34m)\u001b[0m \u001b[0;34m->\u001b[0m \u001b[0mbin\u001b[0m\u001b[0;34m:\u001b[0m\u001b[0;34m\u001b[0m\u001b[0m\n\u001b[0;32m---> 10\u001b[0;31m         \u001b[0;32mreturn\u001b[0m \u001b[0mself\u001b[0m\u001b[0;34m.\u001b[0m\u001b[0mrecv_msg\u001b[0m\u001b[0;34m(\u001b[0m\u001b[0mmessage\u001b[0m\u001b[0;34m)\u001b[0m\u001b[0;34m\u001b[0m\u001b[0m\n\u001b[0m",
      "\u001b[0;32m~/code/PySyft/syft/workers/base.py\u001b[0m in \u001b[0;36mrecv_msg\u001b[0;34m(self, bin_message)\u001b[0m\n\u001b[1;32m    290\u001b[0m             \u001b[0mprint\u001b[0m\u001b[0;34m(\u001b[0m\u001b[0;34mf\"worker {self} received {sy.codes.code2MSGTYPE[msg_type]} {contents}\"\u001b[0m\u001b[0;34m)\u001b[0m\u001b[0;34m\u001b[0m\u001b[0m\n\u001b[1;32m    291\u001b[0m         \u001b[0;31m# Step 1: route message to appropriate function\u001b[0m\u001b[0;34m\u001b[0m\u001b[0;34m\u001b[0m\u001b[0m\n\u001b[0;32m--> 292\u001b[0;31m         \u001b[0mresponse\u001b[0m \u001b[0;34m=\u001b[0m \u001b[0mself\u001b[0m\u001b[0;34m.\u001b[0m\u001b[0m_message_router\u001b[0m\u001b[0;34m[\u001b[0m\u001b[0mmsg_type\u001b[0m\u001b[0;34m]\u001b[0m\u001b[0;34m(\u001b[0m\u001b[0mcontents\u001b[0m\u001b[0;34m)\u001b[0m\u001b[0;34m\u001b[0m\u001b[0m\n\u001b[0m\u001b[1;32m    293\u001b[0m \u001b[0;34m\u001b[0m\u001b[0m\n\u001b[1;32m    294\u001b[0m         \u001b[0;31m# Step 2: Serialize the message to simple python objects\u001b[0m\u001b[0;34m\u001b[0m\u001b[0;34m\u001b[0m\u001b[0m\n",
      "\u001b[0;32m~/code/PySyft/syft/workers/base.py\u001b[0m in \u001b[0;36mexecute_command\u001b[0;34m(self, message)\u001b[0m\n\u001b[1;32m    410\u001b[0m             \u001b[0;32melse\u001b[0m\u001b[0;34m:\u001b[0m\u001b[0;34m\u001b[0m\u001b[0m\n\u001b[1;32m    411\u001b[0m                 \u001b[0;32mtry\u001b[0m\u001b[0;34m:\u001b[0m\u001b[0;34m\u001b[0m\u001b[0m\n\u001b[0;32m--> 412\u001b[0;31m                     \u001b[0mresponse\u001b[0m \u001b[0;34m=\u001b[0m \u001b[0mgetattr\u001b[0m\u001b[0;34m(\u001b[0m\u001b[0m_self\u001b[0m\u001b[0;34m,\u001b[0m \u001b[0mcommand_name\u001b[0m\u001b[0;34m)\u001b[0m\u001b[0;34m(\u001b[0m\u001b[0;34m*\u001b[0m\u001b[0margs\u001b[0m\u001b[0;34m,\u001b[0m \u001b[0;34m**\u001b[0m\u001b[0mkwargs\u001b[0m\u001b[0;34m)\u001b[0m\u001b[0;34m\u001b[0m\u001b[0m\n\u001b[0m\u001b[1;32m    413\u001b[0m                 \u001b[0;32mexcept\u001b[0m \u001b[0mTypeError\u001b[0m\u001b[0;34m:\u001b[0m\u001b[0;34m\u001b[0m\u001b[0m\n\u001b[1;32m    414\u001b[0m                     \u001b[0;31m# TODO Andrew thinks this is gross, please fix. Instead need to properly deserialize strings\u001b[0m\u001b[0;34m\u001b[0m\u001b[0;34m\u001b[0m\u001b[0m\n",
      "\u001b[0;32m~/code/PySyft/syft/messaging/plan.py\u001b[0m in \u001b[0;36mrun\u001b[0;34m(self, args, result_ids)\u001b[0m\n\u001b[1;32m    604\u001b[0m         \u001b[0mself\u001b[0m\u001b[0;34m.\u001b[0m\u001b[0mprocedure\u001b[0m\u001b[0;34m.\u001b[0m\u001b[0mupdate_args\u001b[0m\u001b[0;34m(\u001b[0m\u001b[0margs\u001b[0m\u001b[0;34m,\u001b[0m \u001b[0mresult_ids\u001b[0m\u001b[0;34m)\u001b[0m\u001b[0;34m\u001b[0m\u001b[0m\n\u001b[1;32m    605\u001b[0m \u001b[0;34m\u001b[0m\u001b[0m\n\u001b[0;32m--> 606\u001b[0;31m         \u001b[0mself\u001b[0m\u001b[0;34m.\u001b[0m\u001b[0mexecute_commands\u001b[0m\u001b[0;34m(\u001b[0m\u001b[0;34m)\u001b[0m\u001b[0;34m\u001b[0m\u001b[0m\n\u001b[0m\u001b[1;32m    607\u001b[0m         \u001b[0mresponses\u001b[0m \u001b[0;34m=\u001b[0m \u001b[0;34m[\u001b[0m\u001b[0mself\u001b[0m\u001b[0;34m.\u001b[0m\u001b[0mowner\u001b[0m\u001b[0;34m.\u001b[0m\u001b[0mget_obj\u001b[0m\u001b[0;34m(\u001b[0m\u001b[0mresult_id\u001b[0m\u001b[0;34m)\u001b[0m \u001b[0;32mfor\u001b[0m \u001b[0mresult_id\u001b[0m \u001b[0;32min\u001b[0m \u001b[0mresult_ids\u001b[0m\u001b[0;34m]\u001b[0m\u001b[0;34m\u001b[0m\u001b[0m\n\u001b[1;32m    608\u001b[0m \u001b[0;34m\u001b[0m\u001b[0m\n",
      "\u001b[0;32m~/code/PySyft/syft/messaging/plan.py\u001b[0m in \u001b[0;36mexecute_commands\u001b[0;34m(self)\u001b[0m\n\u001b[1;32m    585\u001b[0m         \u001b[0;32mfor\u001b[0m \u001b[0mmessage\u001b[0m \u001b[0;32min\u001b[0m \u001b[0mself\u001b[0m\u001b[0;34m.\u001b[0m\u001b[0mprocedure\u001b[0m\u001b[0;34m.\u001b[0m\u001b[0mcommands\u001b[0m\u001b[0;34m:\u001b[0m\u001b[0;34m\u001b[0m\u001b[0m\n\u001b[1;32m    586\u001b[0m             \u001b[0mbin_message\u001b[0m \u001b[0;34m=\u001b[0m \u001b[0msy\u001b[0m\u001b[0;34m.\u001b[0m\u001b[0mserde\u001b[0m\u001b[0;34m.\u001b[0m\u001b[0mserialize\u001b[0m\u001b[0;34m(\u001b[0m\u001b[0mmessage\u001b[0m\u001b[0;34m,\u001b[0m \u001b[0msimplified\u001b[0m\u001b[0;34m=\u001b[0m\u001b[0;32mTrue\u001b[0m\u001b[0;34m)\u001b[0m\u001b[0;34m\u001b[0m\u001b[0m\n\u001b[0;32m--> 587\u001b[0;31m             \u001b[0m_\u001b[0m \u001b[0;34m=\u001b[0m \u001b[0mself\u001b[0m\u001b[0;34m.\u001b[0m\u001b[0mowner\u001b[0m\u001b[0;34m.\u001b[0m\u001b[0mrecv_msg\u001b[0m\u001b[0;34m(\u001b[0m\u001b[0mbin_message\u001b[0m\u001b[0;34m)\u001b[0m\u001b[0;34m\u001b[0m\u001b[0m\n\u001b[0m\u001b[1;32m    588\u001b[0m \u001b[0;34m\u001b[0m\u001b[0m\n\u001b[1;32m    589\u001b[0m     \u001b[0;32mdef\u001b[0m \u001b[0mrun\u001b[0m\u001b[0;34m(\u001b[0m\u001b[0mself\u001b[0m\u001b[0;34m,\u001b[0m \u001b[0margs\u001b[0m\u001b[0;34m:\u001b[0m \u001b[0mTuple\u001b[0m\u001b[0;34m,\u001b[0m \u001b[0mresult_ids\u001b[0m\u001b[0;34m:\u001b[0m \u001b[0mList\u001b[0m\u001b[0;34m[\u001b[0m\u001b[0mUnion\u001b[0m\u001b[0;34m[\u001b[0m\u001b[0mstr\u001b[0m\u001b[0;34m,\u001b[0m \u001b[0mint\u001b[0m\u001b[0;34m]\u001b[0m\u001b[0;34m]\u001b[0m\u001b[0;34m)\u001b[0m\u001b[0;34m:\u001b[0m\u001b[0;34m\u001b[0m\u001b[0m\n",
      "\u001b[0;32m~/code/PySyft/syft/workers/base.py\u001b[0m in \u001b[0;36mrecv_msg\u001b[0;34m(self, bin_message)\u001b[0m\n\u001b[1;32m    283\u001b[0m \u001b[0;34m\u001b[0m\u001b[0m\n\u001b[1;32m    284\u001b[0m         \u001b[0;31m# Step 0: deserialize message\u001b[0m\u001b[0;34m\u001b[0m\u001b[0;34m\u001b[0m\u001b[0m\n\u001b[0;32m--> 285\u001b[0;31m         \u001b[0mmsg\u001b[0m \u001b[0;34m=\u001b[0m \u001b[0msy\u001b[0m\u001b[0;34m.\u001b[0m\u001b[0mserde\u001b[0m\u001b[0;34m.\u001b[0m\u001b[0mdeserialize\u001b[0m\u001b[0;34m(\u001b[0m\u001b[0mbin_message\u001b[0m\u001b[0;34m,\u001b[0m \u001b[0mworker\u001b[0m\u001b[0;34m=\u001b[0m\u001b[0mself\u001b[0m\u001b[0;34m)\u001b[0m\u001b[0;34m\u001b[0m\u001b[0m\n\u001b[0m\u001b[1;32m    286\u001b[0m \u001b[0;34m\u001b[0m\u001b[0m\n\u001b[1;32m    287\u001b[0m         \u001b[0;34m(\u001b[0m\u001b[0mmsg_type\u001b[0m\u001b[0;34m,\u001b[0m \u001b[0mcontents\u001b[0m\u001b[0;34m)\u001b[0m \u001b[0;34m=\u001b[0m \u001b[0;34m(\u001b[0m\u001b[0mmsg\u001b[0m\u001b[0;34m.\u001b[0m\u001b[0mmsg_type\u001b[0m\u001b[0;34m,\u001b[0m \u001b[0mmsg\u001b[0m\u001b[0;34m.\u001b[0m\u001b[0mcontents\u001b[0m\u001b[0;34m)\u001b[0m\u001b[0;34m\u001b[0m\u001b[0m\n",
      "\u001b[0;32m~/code/PySyft/syft/serde/serde.py\u001b[0m in \u001b[0;36mdeserialize\u001b[0;34m(binary, worker, details)\u001b[0m\n\u001b[1;32m    347\u001b[0m         \u001b[0;31m# as msgpack's inability to serialize torch tensors or ... or\u001b[0m\u001b[0;34m\u001b[0m\u001b[0;34m\u001b[0m\u001b[0m\n\u001b[1;32m    348\u001b[0m         \u001b[0;31m# python slice objects\u001b[0m\u001b[0;34m\u001b[0m\u001b[0;34m\u001b[0m\u001b[0m\n\u001b[0;32m--> 349\u001b[0;31m         \u001b[0;32mreturn\u001b[0m \u001b[0m_detail\u001b[0m\u001b[0;34m(\u001b[0m\u001b[0mworker\u001b[0m\u001b[0;34m,\u001b[0m \u001b[0msimple_objects\u001b[0m\u001b[0;34m)\u001b[0m\u001b[0;34m\u001b[0m\u001b[0m\n\u001b[0m\u001b[1;32m    350\u001b[0m \u001b[0;34m\u001b[0m\u001b[0m\n\u001b[1;32m    351\u001b[0m     \u001b[0;32melse\u001b[0m\u001b[0;34m:\u001b[0m\u001b[0;34m\u001b[0m\u001b[0m\n",
      "\u001b[0;32m~/code/PySyft/syft/serde/serde.py\u001b[0m in \u001b[0;36m_detail\u001b[0;34m(worker, obj)\u001b[0m\n\u001b[1;32m    538\u001b[0m     \"\"\"\n\u001b[1;32m    539\u001b[0m     \u001b[0;32mif\u001b[0m \u001b[0mtype\u001b[0m\u001b[0;34m(\u001b[0m\u001b[0mobj\u001b[0m\u001b[0;34m)\u001b[0m \u001b[0;32min\u001b[0m \u001b[0;34m(\u001b[0m\u001b[0mlist\u001b[0m\u001b[0;34m,\u001b[0m \u001b[0mtuple\u001b[0m\u001b[0;34m)\u001b[0m\u001b[0;34m:\u001b[0m\u001b[0;34m\u001b[0m\u001b[0m\n\u001b[0;32m--> 540\u001b[0;31m         \u001b[0;32mreturn\u001b[0m \u001b[0mdetailers\u001b[0m\u001b[0;34m[\u001b[0m\u001b[0mobj\u001b[0m\u001b[0;34m[\u001b[0m\u001b[0;36m0\u001b[0m\u001b[0;34m]\u001b[0m\u001b[0;34m]\u001b[0m\u001b[0;34m(\u001b[0m\u001b[0mworker\u001b[0m\u001b[0;34m,\u001b[0m \u001b[0mobj\u001b[0m\u001b[0;34m[\u001b[0m\u001b[0;36m1\u001b[0m\u001b[0;34m]\u001b[0m\u001b[0;34m)\u001b[0m\u001b[0;34m\u001b[0m\u001b[0m\n\u001b[0m\u001b[1;32m    541\u001b[0m     \u001b[0;32melse\u001b[0m\u001b[0;34m:\u001b[0m\u001b[0;34m\u001b[0m\u001b[0m\n\u001b[1;32m    542\u001b[0m         \u001b[0;32mreturn\u001b[0m \u001b[0mobj\u001b[0m\u001b[0;34m\u001b[0m\u001b[0m\n",
      "\u001b[0;32m~/code/PySyft/syft/messaging/message.py\u001b[0m in \u001b[0;36mdetail\u001b[0;34m(worker, msg_tuple)\u001b[0m\n\u001b[1;32m    173\u001b[0m             \u001b[0mmessage\u001b[0m \u001b[0;34m=\u001b[0m \u001b[0mdetail\u001b[0m\u001b[0;34m(\u001b[0m\u001b[0msy\u001b[0m\u001b[0;34m.\u001b[0m\u001b[0mlocal_worker\u001b[0m\u001b[0;34m,\u001b[0m \u001b[0mmsg_tuple\u001b[0m\u001b[0;34m)\u001b[0m\u001b[0;34m\u001b[0m\u001b[0m\n\u001b[1;32m    174\u001b[0m         \"\"\"\n\u001b[0;32m--> 175\u001b[0;31m         \u001b[0;32mreturn\u001b[0m \u001b[0mOperation\u001b[0m\u001b[0;34m(\u001b[0m\u001b[0msy\u001b[0m\u001b[0;34m.\u001b[0m\u001b[0mserde\u001b[0m\u001b[0;34m.\u001b[0m\u001b[0m_detail\u001b[0m\u001b[0;34m(\u001b[0m\u001b[0mworker\u001b[0m\u001b[0;34m,\u001b[0m \u001b[0mmsg_tuple\u001b[0m\u001b[0;34m[\u001b[0m\u001b[0;36m1\u001b[0m\u001b[0;34m]\u001b[0m\u001b[0;34m[\u001b[0m\u001b[0;36m0\u001b[0m\u001b[0;34m]\u001b[0m\u001b[0;34m)\u001b[0m\u001b[0;34m,\u001b[0m \u001b[0mmsg_tuple\u001b[0m\u001b[0;34m[\u001b[0m\u001b[0;36m1\u001b[0m\u001b[0;34m]\u001b[0m\u001b[0;34m[\u001b[0m\u001b[0;36m1\u001b[0m\u001b[0;34m]\u001b[0m\u001b[0;34m)\u001b[0m\u001b[0;34m\u001b[0m\u001b[0m\n\u001b[0m\u001b[1;32m    176\u001b[0m \u001b[0;34m\u001b[0m\u001b[0m\n\u001b[1;32m    177\u001b[0m \u001b[0;34m\u001b[0m\u001b[0m\n",
      "\u001b[0;32m~/code/PySyft/syft/serde/serde.py\u001b[0m in \u001b[0;36m_detail\u001b[0;34m(worker, obj)\u001b[0m\n\u001b[1;32m    538\u001b[0m     \"\"\"\n\u001b[1;32m    539\u001b[0m     \u001b[0;32mif\u001b[0m \u001b[0mtype\u001b[0m\u001b[0;34m(\u001b[0m\u001b[0mobj\u001b[0m\u001b[0;34m)\u001b[0m \u001b[0;32min\u001b[0m \u001b[0;34m(\u001b[0m\u001b[0mlist\u001b[0m\u001b[0;34m,\u001b[0m \u001b[0mtuple\u001b[0m\u001b[0;34m)\u001b[0m\u001b[0;34m:\u001b[0m\u001b[0;34m\u001b[0m\u001b[0m\n\u001b[0;32m--> 540\u001b[0;31m         \u001b[0;32mreturn\u001b[0m \u001b[0mdetailers\u001b[0m\u001b[0;34m[\u001b[0m\u001b[0mobj\u001b[0m\u001b[0;34m[\u001b[0m\u001b[0;36m0\u001b[0m\u001b[0;34m]\u001b[0m\u001b[0;34m]\u001b[0m\u001b[0;34m(\u001b[0m\u001b[0mworker\u001b[0m\u001b[0;34m,\u001b[0m \u001b[0mobj\u001b[0m\u001b[0;34m[\u001b[0m\u001b[0;36m1\u001b[0m\u001b[0;34m]\u001b[0m\u001b[0;34m)\u001b[0m\u001b[0;34m\u001b[0m\u001b[0m\n\u001b[0m\u001b[1;32m    541\u001b[0m     \u001b[0;32melse\u001b[0m\u001b[0;34m:\u001b[0m\u001b[0;34m\u001b[0m\u001b[0m\n\u001b[1;32m    542\u001b[0m         \u001b[0;32mreturn\u001b[0m \u001b[0mobj\u001b[0m\u001b[0;34m\u001b[0m\u001b[0m\n",
      "\u001b[0;32m~/code/PySyft/syft/serde/native_serde.py\u001b[0m in \u001b[0;36m_detail_collection_tuple\u001b[0;34m(worker, my_tuple)\u001b[0m\n\u001b[1;32m    129\u001b[0m     \u001b[0;31m# Step 1: deserialize each part of the collection\u001b[0m\u001b[0;34m\u001b[0m\u001b[0;34m\u001b[0m\u001b[0m\n\u001b[1;32m    130\u001b[0m     \u001b[0;32mfor\u001b[0m \u001b[0mpart\u001b[0m \u001b[0;32min\u001b[0m \u001b[0mmy_tuple\u001b[0m\u001b[0;34m:\u001b[0m\u001b[0;34m\u001b[0m\u001b[0m\n\u001b[0;32m--> 131\u001b[0;31m         \u001b[0mpieces\u001b[0m\u001b[0;34m.\u001b[0m\u001b[0mappend\u001b[0m\u001b[0;34m(\u001b[0m\u001b[0mserde\u001b[0m\u001b[0;34m.\u001b[0m\u001b[0m_detail\u001b[0m\u001b[0;34m(\u001b[0m\u001b[0mworker\u001b[0m\u001b[0;34m,\u001b[0m \u001b[0mpart\u001b[0m\u001b[0;34m)\u001b[0m\u001b[0;34m)\u001b[0m\u001b[0;34m\u001b[0m\u001b[0m\n\u001b[0m\u001b[1;32m    132\u001b[0m \u001b[0;34m\u001b[0m\u001b[0m\n\u001b[1;32m    133\u001b[0m     \u001b[0;32mreturn\u001b[0m \u001b[0mtuple\u001b[0m\u001b[0;34m(\u001b[0m\u001b[0mpieces\u001b[0m\u001b[0;34m)\u001b[0m\u001b[0;34m\u001b[0m\u001b[0m\n",
      "\u001b[0;32m~/code/PySyft/syft/serde/serde.py\u001b[0m in \u001b[0;36m_detail\u001b[0;34m(worker, obj)\u001b[0m\n\u001b[1;32m    538\u001b[0m     \"\"\"\n\u001b[1;32m    539\u001b[0m     \u001b[0;32mif\u001b[0m \u001b[0mtype\u001b[0m\u001b[0;34m(\u001b[0m\u001b[0mobj\u001b[0m\u001b[0;34m)\u001b[0m \u001b[0;32min\u001b[0m \u001b[0;34m(\u001b[0m\u001b[0mlist\u001b[0m\u001b[0;34m,\u001b[0m \u001b[0mtuple\u001b[0m\u001b[0;34m)\u001b[0m\u001b[0;34m:\u001b[0m\u001b[0;34m\u001b[0m\u001b[0m\n\u001b[0;32m--> 540\u001b[0;31m         \u001b[0;32mreturn\u001b[0m \u001b[0mdetailers\u001b[0m\u001b[0;34m[\u001b[0m\u001b[0mobj\u001b[0m\u001b[0;34m[\u001b[0m\u001b[0;36m0\u001b[0m\u001b[0;34m]\u001b[0m\u001b[0;34m]\u001b[0m\u001b[0;34m(\u001b[0m\u001b[0mworker\u001b[0m\u001b[0;34m,\u001b[0m \u001b[0mobj\u001b[0m\u001b[0;34m[\u001b[0m\u001b[0;36m1\u001b[0m\u001b[0;34m]\u001b[0m\u001b[0;34m)\u001b[0m\u001b[0;34m\u001b[0m\u001b[0m\n\u001b[0m\u001b[1;32m    541\u001b[0m     \u001b[0;32melse\u001b[0m\u001b[0;34m:\u001b[0m\u001b[0;34m\u001b[0m\u001b[0m\n\u001b[1;32m    542\u001b[0m         \u001b[0;32mreturn\u001b[0m \u001b[0mobj\u001b[0m\u001b[0;34m\u001b[0m\u001b[0m\n",
      "\u001b[0;32m~/code/PySyft/syft/generic/pointers/pointer_tensor.py\u001b[0m in \u001b[0;36mdetail\u001b[0;34m(worker, tensor_tuple)\u001b[0m\n\u001b[1;32m    459\u001b[0m         \u001b[0;31m# If the pointer received is pointing at the current worker, we load the tensor instead\u001b[0m\u001b[0;34m\u001b[0m\u001b[0;34m\u001b[0m\u001b[0m\n\u001b[1;32m    460\u001b[0m         \u001b[0;32mif\u001b[0m \u001b[0mworker_id\u001b[0m \u001b[0;34m==\u001b[0m \u001b[0mworker\u001b[0m\u001b[0;34m.\u001b[0m\u001b[0mid\u001b[0m\u001b[0;34m:\u001b[0m\u001b[0;34m\u001b[0m\u001b[0m\n\u001b[0;32m--> 461\u001b[0;31m             \u001b[0mtensor\u001b[0m \u001b[0;34m=\u001b[0m \u001b[0mworker\u001b[0m\u001b[0;34m.\u001b[0m\u001b[0mget_obj\u001b[0m\u001b[0;34m(\u001b[0m\u001b[0mid_at_location\u001b[0m\u001b[0;34m)\u001b[0m\u001b[0;34m\u001b[0m\u001b[0m\n\u001b[0m\u001b[1;32m    462\u001b[0m \u001b[0;34m\u001b[0m\u001b[0m\n\u001b[1;32m    463\u001b[0m             \u001b[0;32mif\u001b[0m \u001b[0mpoint_to_attr\u001b[0m \u001b[0;32mis\u001b[0m \u001b[0;32mnot\u001b[0m \u001b[0;32mNone\u001b[0m \u001b[0;32mand\u001b[0m \u001b[0mtensor\u001b[0m \u001b[0;32mis\u001b[0m \u001b[0;32mnot\u001b[0m \u001b[0;32mNone\u001b[0m\u001b[0;34m:\u001b[0m\u001b[0;34m\u001b[0m\u001b[0m\n",
      "\u001b[0;32m~/code/PySyft/syft/workers/base.py\u001b[0m in \u001b[0;36mget_obj\u001b[0;34m(self, obj_id)\u001b[0m\n\u001b[1;32m    517\u001b[0m             \u001b[0mobj_id\u001b[0m\u001b[0;34m:\u001b[0m \u001b[0mA\u001b[0m \u001b[0mstring\u001b[0m \u001b[0;32mor\u001b[0m \u001b[0minteger\u001b[0m \u001b[0mid\u001b[0m \u001b[0mof\u001b[0m \u001b[0man\u001b[0m \u001b[0mobject\u001b[0m \u001b[0mto\u001b[0m \u001b[0mlook\u001b[0m \u001b[0mup\u001b[0m\u001b[0;34m.\u001b[0m\u001b[0;34m\u001b[0m\u001b[0m\n\u001b[1;32m    518\u001b[0m         \"\"\"\n\u001b[0;32m--> 519\u001b[0;31m         \u001b[0mobj\u001b[0m \u001b[0;34m=\u001b[0m \u001b[0msuper\u001b[0m\u001b[0;34m(\u001b[0m\u001b[0;34m)\u001b[0m\u001b[0;34m.\u001b[0m\u001b[0mget_obj\u001b[0m\u001b[0;34m(\u001b[0m\u001b[0mobj_id\u001b[0m\u001b[0;34m)\u001b[0m\u001b[0;34m\u001b[0m\u001b[0m\n\u001b[0m\u001b[1;32m    520\u001b[0m         \u001b[0;31m# An object called with get_obj will be \"with high probability\" serialized\u001b[0m\u001b[0;34m\u001b[0m\u001b[0;34m\u001b[0m\u001b[0m\n\u001b[1;32m    521\u001b[0m         \u001b[0;31m# and sent back, so it will be GCed but remote data is any shouldn't be\u001b[0m\u001b[0;34m\u001b[0m\u001b[0;34m\u001b[0m\u001b[0m\n",
      "\u001b[0;32m~/code/PySyft/syft/generic/object_storage.py\u001b[0m in \u001b[0;36mget_obj\u001b[0;34m(self, obj_id)\u001b[0m\n\u001b[1;32m     82\u001b[0m                     \u001b[0;34m\"make sure you haven't already called .get() on this pointer!!!\"\u001b[0m\u001b[0;34m\u001b[0m\u001b[0m\n\u001b[1;32m     83\u001b[0m                 )\n\u001b[0;32m---> 84\u001b[0;31m                 \u001b[0;32mraise\u001b[0m \u001b[0mKeyError\u001b[0m\u001b[0;34m(\u001b[0m\u001b[0mmsg\u001b[0m\u001b[0;34m)\u001b[0m\u001b[0;34m\u001b[0m\u001b[0m\n\u001b[0m\u001b[1;32m     85\u001b[0m             \u001b[0;32melse\u001b[0m\u001b[0;34m:\u001b[0m\u001b[0;34m\u001b[0m\u001b[0m\n\u001b[1;32m     86\u001b[0m                 \u001b[0;32mraise\u001b[0m \u001b[0me\u001b[0m\u001b[0;34m\u001b[0m\u001b[0m\n",
      "\u001b[0;31mKeyError\u001b[0m: 'Object \"7592351841\" not found on worker!!!You just tried to interact with an object ID:7592351841 on <VirtualWorker id:bob #objects:4> which does not exist!!! Use .send() and .get() on all your tensors to make sure they\\'reon the same machines. If you think this tensor does exist, check the ._objects dictionaryon the worker and see for yourself!!! The most common reason this error happens is because someone calls.get() on the object\\'s pointer without realizing it (which deletes the remote object and sends it to the pointer). Check your code to make sure you haven\\'t already called .get() on this pointer!!!'"
     ]
    }
   ],
   "source": [
    "@sy.func2plan(args_shape=[(1,)], state={\"bias\": th.tensor([1])})\n",
    "def plan_abs(x, state):\n",
    "    bias = state.read(\"bias\")\n",
    "    x = x.abs()\n",
    "    return x + bias\n",
    "\n",
    "plan_ptr = plan_abs.send(bob)\n",
    "x_ptr = th.tensor([-1, 7, 3]).send(bob)\n",
    "print(plan_ptr)\n",
    "p = plan_ptr(x_ptr)\n",
    "x_abs = p.get()\n",
    "assert (x_abs == th.tensor([2, 8, 4])).all()\n",
    "\n",
    "x_ptr = th.tensor([-1, 9, 3]).send(alice)\n",
    "p = plan_ptr(x_ptr)\n",
    "x_abs = p.get()\n",
    "assert (x_abs == th.tensor([2, 10, 4])).all()"
   ]
  },
  {
   "cell_type": "code",
   "execution_count": 3,
   "metadata": {},
   "outputs": [
    {
     "name": "stdout",
     "output_type": "stream",
     "text": [
      "(Wrapper)>[PointerTensor | me:81450360692 -> bob:60069576960]\n"
     ]
    }
   ],
   "source": [
    "@sy.func2plan(args_shape=[(1,)])\n",
    "def plan_abs(data):\n",
    "    return data.abs()\n",
    "\n",
    "plan_ptr = plan_abs.send(bob, alice)\n",
    "x_ptr = th.tensor([-1, 7, 3]).send(bob)\n",
    "p = plan_ptr(x_ptr)\n",
    "print(p)\n",
    "x_abs = p.get()\n",
    "assert (x_abs == th.tensor([1, 7, 3])).all()\n",
    "\n",
    "x_ptr = th.tensor([-1, 9, 3]).send(alice)\n",
    "p = plan_ptr(x_ptr)\n",
    "x_abs = p.get()\n",
    "assert (x_abs == th.tensor([1, 9, 3])).all()"
   ]
  },
  {
   "cell_type": "code",
   "execution_count": 4,
   "metadata": {},
   "outputs": [
    {
     "data": {
      "text/plain": [
       "(2, 2, 2)"
      ]
     },
     "execution_count": 4,
     "metadata": {},
     "output_type": "execute_result"
    }
   ],
   "source": [
    "a = b = c = 2\n",
    "b, c, a"
   ]
  },
  {
   "cell_type": "code",
   "execution_count": 5,
   "metadata": {},
   "outputs": [
    {
     "name": "stdout",
     "output_type": "stream",
     "text": [
      "89652066803 <VirtualWorker id:me #objects:26> 89652066803 <VirtualWorker id:me #objects:26> 35510113435 <VirtualWorker id:me #objects:26>\n",
      "89652066803 <VirtualWorker id:me #objects:26> 89652066803 <VirtualWorker id:me #objects:26> 35510113435 <VirtualWorker id:me #objects:26>\n",
      "{47184758592: tensor([488679289287760022])}\n"
     ]
    },
    {
     "data": {
      "text/plain": [
       "tensor([1.2000])"
      ]
     },
     "execution_count": 5,
     "metadata": {},
     "output_type": "execute_result"
    }
   ],
   "source": [
    "alice.clear_objects()\n",
    "x = th.tensor([1.2]).fix_precision().share(alice, bob, crypto_provider=charlie)\n",
    "\n",
    "def f(x):\n",
    "    print(x.id, x.owner, x.child.id, x.child.owner, x.child.child.id, x.child.child.owner)\n",
    "    xc = x.clone()\n",
    "    print(xc.id, xc.owner, xc.child.id, xc.child.owner, xc.child.child.id, xc.child.child.owner)\n",
    "    return xc\n",
    "\n",
    "xc = f(x)\n",
    "print(alice._objects)\n",
    "xc.get().float_prec()"
   ]
  },
  {
   "cell_type": "code",
   "execution_count": 4,
   "metadata": {},
   "outputs": [],
   "source": [
    "is_func2plan=True\n",
    "if is_func2plan:\n",
    "\n",
    "    @sy.func2plan(args_shape=[(1,)], state={\"bias\": th.tensor([3.0])})\n",
    "    def plan(data, state):\n",
    "        bias = state.read(\"bias\")\n",
    "        return data * bias\n",
    "\n",
    "else:\n",
    "\n",
    "    class Net(sy.Plan):\n",
    "        def __init__(self):\n",
    "            super(Net, self).__init__()\n",
    "            self.fc1 = nn.Linear(1, 1)\n",
    "\n",
    "        def forward(self, x):\n",
    "            return self.fc1(x)\n",
    "\n",
    "    plan = Net()\n",
    "    plan.build(th.tensor([1.2]))\n",
    "\n",
    "plan_pointer = plan.fix_precision().share(alice, bob, crypto_provider=charlie).send(james)"
   ]
  },
  {
   "cell_type": "code",
   "execution_count": 5,
   "metadata": {},
   "outputs": [
    {
     "data": {
      "text/plain": [
       "{6048816592: (Wrapper)>FixedPrecisionTensor>[AdditiveSharingTensor]\n",
       " \t-> [PointerTensor | dan:42695256424 -> alice:12851285675]\n",
       " \t-> [PointerTensor | dan:41809528293 -> bob:57767771314]\n",
       " \t*crypto provider: charlie*,\n",
       " 41621367669: <Plan plan id:41621367669 owner:dan built>}"
      ]
     },
     "execution_count": 5,
     "metadata": {},
     "output_type": "execute_result"
    }
   ],
   "source": [
    "james._objects"
   ]
  },
  {
   "cell_type": "code",
   "execution_count": 6,
   "metadata": {},
   "outputs": [
    {
     "data": {
      "text/plain": [
       "[6048816592]"
      ]
     },
     "execution_count": 6,
     "metadata": {},
     "output_type": "execute_result"
    }
   ],
   "source": [
    "state_ids = james._objects[plan.id].state.state_ids\n",
    "state_ids"
   ]
  },
  {
   "cell_type": "code",
   "execution_count": 7,
   "metadata": {},
   "outputs": [
    {
     "data": {
      "text/plain": [
       "(6048816592, (Wrapper)>FixedPrecisionTensor>[AdditiveSharingTensor]\n",
       " \t-> [PointerTensor | dan:42695256424 -> alice:12851285675]\n",
       " \t-> [PointerTensor | dan:41809528293 -> bob:57767771314]\n",
       " \t*crypto provider: charlie*)"
      ]
     },
     "execution_count": 7,
     "metadata": {},
     "output_type": "execute_result"
    }
   ],
   "source": [
    "tensor = james._objects[state_ids[0]]\n",
    "tensor.id, tensor"
   ]
  },
  {
   "cell_type": "code",
   "execution_count": 8,
   "metadata": {},
   "outputs": [],
   "source": [
    "fetched_plan = plan_pointer.owner.fetch_plan(plan_pointer.id_at_location, james, copy=True)"
   ]
  },
  {
   "cell_type": "code",
   "execution_count": null,
   "metadata": {},
   "outputs": [],
   "source": []
  },
  {
   "cell_type": "code",
   "execution_count": null,
   "metadata": {},
   "outputs": [],
   "source": []
  },
  {
   "cell_type": "code",
   "execution_count": null,
   "metadata": {},
   "outputs": [],
   "source": []
  },
  {
   "cell_type": "code",
   "execution_count": null,
   "metadata": {},
   "outputs": [],
   "source": []
  },
  {
   "cell_type": "code",
   "execution_count": 18,
   "metadata": {},
   "outputs": [
    {
     "name": "stdout",
     "output_type": "stream",
     "text": [
      "(Wrapper)>[CRTPrecisionTensor]\n",
      "\t -> 1201: (Wrapper)>FixedPrecisionTensor>tensor([100, 200])\n",
      "\t -> 1433: (Wrapper)>FixedPrecisionTensor>tensor([100, 200])\n",
      "\t -> 1217: (Wrapper)>FixedPrecisionTensor>tensor([100, 200])\n",
      "\t -> 1237: (Wrapper)>FixedPrecisionTensor>tensor([100, 200])\n",
      "\t -> 1321: (Wrapper)>FixedPrecisionTensor>tensor([100, 200])\n",
      "\t -> 1103: (Wrapper)>FixedPrecisionTensor>tensor([100, 200])\n",
      "\t -> 1129: (Wrapper)>FixedPrecisionTensor>tensor([100, 200])\n",
      "\t -> 1367: (Wrapper)>FixedPrecisionTensor>tensor([100, 200])\n",
      "\t -> 1093: (Wrapper)>FixedPrecisionTensor>tensor([100, 200])\n",
      "\t -> 1039: (Wrapper)>FixedPrecisionTensor>tensor([100, 200])\n",
      "(Wrapper)>[CRTPrecisionTensor]\n",
      "\t -> 1201: (Wrapper)>FixedPrecisionTensor>tensor([100, 200])\n",
      "\t -> 1433: (Wrapper)>FixedPrecisionTensor>tensor([100, 200])\n",
      "\t -> 1217: (Wrapper)>FixedPrecisionTensor>tensor([100, 200])\n",
      "\t -> 1237: (Wrapper)>FixedPrecisionTensor>tensor([100, 200])\n",
      "\t -> 1321: (Wrapper)>FixedPrecisionTensor>tensor([100, 200])\n",
      "\t -> 1103: (Wrapper)>FixedPrecisionTensor>tensor([100, 200])\n",
      "\t -> 1129: (Wrapper)>FixedPrecisionTensor>tensor([100, 200])\n",
      "\t -> 1367: (Wrapper)>FixedPrecisionTensor>tensor([100, 200])\n",
      "\t -> 1093: (Wrapper)>FixedPrecisionTensor>tensor([100, 200])\n",
      "\t -> 1039: (Wrapper)>FixedPrecisionTensor>tensor([100, 200])\n"
     ]
    }
   ],
   "source": [
    "t = torch.tensor([1, 2])\n",
    "crt = t.fix_precision(field_type=\"int100\", precision_fractional=2, storage=\"crt\")\n",
    "\n",
    "to_alice = crt.send(alice)\n",
    "to_alice_id = to_alice.id_at_location\n",
    "\n",
    "assert to_alice_id in alice._objects\n",
    "\n",
    "to_bob_to_alice = to_alice.send(bob)\n",
    "to_bob_to_alice_id = to_bob_to_alice.id_at_location\n",
    "\n",
    "assert to_alice_id in alice._objects\n",
    "assert to_bob_to_alice_id in bob._objects\n",
    "\n",
    "to_alice_back = to_bob_to_alice.get()\n",
    "\n",
    "assert to_bob_to_alice_id not in bob._objects\n",
    "assert to_alice_id in alice._objects\n",
    "\n",
    "t_back = to_alice_back.get()\n",
    "\n",
    "assert to_alice_id not in alice._objects\n",
    "\n",
    "print(t_back)\n",
    "print(crt)\n",
    "eq = (t_back == crt).float_precision()\n",
    "assert (eq == torch.tensor([1.0, 1.0])).all()"
   ]
  },
  {
   "cell_type": "code",
   "execution_count": null,
   "metadata": {},
   "outputs": [],
   "source": []
  },
  {
   "cell_type": "code",
   "execution_count": null,
   "metadata": {},
   "outputs": [],
   "source": []
  },
  {
   "cell_type": "code",
   "execution_count": null,
   "metadata": {},
   "outputs": [],
   "source": []
  },
  {
   "cell_type": "code",
   "execution_count": null,
   "metadata": {},
   "outputs": [],
   "source": []
  },
  {
   "cell_type": "code",
   "execution_count": 5,
   "metadata": {},
   "outputs": [
    {
     "name": "stdout",
     "output_type": "stream",
     "text": [
      "clone> 66729189993\n",
      "clone< 66729189993\n",
      "register at 3984857994 (Wrapper)>FixedPrecisionTensor>tensor([4611686018427386904]) where empty\n",
      "register at 81202324397 (Wrapper)>tensor([4611686018427386904]) where empty\n",
      "register at 72652447018 (Wrapper)>FixedPrecisionTensor>[AdditiveSharingTensor]\n",
      "\t-> [PointerTensor | me:79531369700 -> alice:1196459778]\n",
      "\t-> [PointerTensor | me:23340961389 -> bob:78692482375]\n",
      "\t*crypto provider: charlie* where empty\n"
     ]
    },
    {
     "data": {
      "text/plain": [
       "(Wrapper)>FixedPrecisionTensor>[AdditiveSharingTensor]\n",
       "\t-> [PointerTensor | me:79531369700 -> alice:1196459778]\n",
       "\t-> [PointerTensor | me:23340961389 -> bob:78692482375]\n",
       "\t*crypto provider: charlie*"
      ]
     },
     "execution_count": 5,
     "metadata": {},
     "output_type": "execute_result"
    }
   ],
   "source": [
    "x = th.tensor([-1.0])\n",
    "x_sh = x.fix_precision().share(alice, bob, crypto_provider=charlie)\n",
    "x_sh"
   ]
  },
  {
   "cell_type": "code",
   "execution_count": 6,
   "metadata": {},
   "outputs": [
    {
     "name": "stdout",
     "output_type": "stream",
     "text": [
      "clone> 72652447018\n",
      "register at 83642647197 (Wrapper)>tensor([0.]) where empty\n",
      "clone< 11463460143\n"
     ]
    },
    {
     "data": {
      "text/plain": [
       "(Wrapper)>FixedPrecisionTensor>[AdditiveSharingTensor]\n",
       "\t-> [PointerTensor | me:9511912212 -> alice:66991310238]\n",
       "\t-> [PointerTensor | me:89176795039 -> bob:46153768481]\n",
       "\t*crypto provider: charlie*"
      ]
     },
     "execution_count": 6,
     "metadata": {},
     "output_type": "execute_result"
    }
   ],
   "source": [
    "x_sh.clone()"
   ]
  },
  {
   "cell_type": "code",
   "execution_count": null,
   "metadata": {},
   "outputs": [],
   "source": []
  },
  {
   "cell_type": "code",
   "execution_count": null,
   "metadata": {},
   "outputs": [],
   "source": []
  },
  {
   "cell_type": "code",
   "execution_count": null,
   "metadata": {},
   "outputs": [],
   "source": []
  },
  {
   "cell_type": "code",
   "execution_count": 18,
   "metadata": {},
   "outputs": [
    {
     "name": "stdout",
     "output_type": "stream",
     "text": [
      "register at 1877891315 (Wrapper)>[PointerTensor | me:1877891315 -> 42938962171:57589981849] where empty\n",
      "register at 7481811826 (Wrapper)>[PointerTensor | me:7481811826 -> 42938962171:91709737234] where empty\n",
      "id 44236753458\n",
      "id 44236753458\n",
      "id 35703833413\n",
      "id 35703833413\n",
      "register at 70755656844 (Wrapper)>tensor([[887]]) where empty\n",
      "register at 70755656844 (Wrapper)>[AdditiveSharingTensor]\n",
      "\t-> [PointerTensor | me:93942095022 -> alice:30339481673]\n",
      "\t-> [PointerTensor | me:40751998353 -> bob:28399856703]\n",
      "\t*crypto provider: charlie* where (Wrapper)>[AdditiveSharingTensor]\n",
      "\t-> [PointerTensor | me:93942095022 -> alice:30339481673]\n",
      "\t-> [PointerTensor | me:40751998353 -> bob:28399856703]\n",
      "\t*crypto provider: charlie*\n",
      "register at 77852530424 (Wrapper)>tensor([4611686018427387293]) where empty\n",
      "register at 77852530424 (Wrapper)>[AdditiveSharingTensor]\n",
      "\t-> [PointerTensor | me:8598158522 -> alice:10441105603]\n",
      "\t-> [PointerTensor | me:56536484588 -> bob:9551109060]\n",
      "\t*crypto provider: charlie* where (Wrapper)>[AdditiveSharingTensor]\n",
      "\t-> [PointerTensor | me:8598158522 -> alice:10441105603]\n",
      "\t-> [PointerTensor | me:56536484588 -> bob:9551109060]\n",
      "\t*crypto provider: charlie*\n",
      "[Parameter containing:\n",
      "(Wrapper)>FixedPrecisionTensor>[AdditiveSharingTensor]\n",
      "\t-> [PointerTensor | me:93942095022 -> alice:30339481673]\n",
      "\t-> [PointerTensor | me:40751998353 -> bob:28399856703]\n",
      "\t*crypto provider: charlie*, Parameter containing:\n",
      "(Wrapper)>FixedPrecisionTensor>[AdditiveSharingTensor]\n",
      "\t-> [PointerTensor | me:8598158522 -> alice:10441105603]\n",
      "\t-> [PointerTensor | me:56536484588 -> bob:9551109060]\n",
      "\t*crypto provider: charlie*]\n",
      "Alice2 {54786673182: tensor([4151532663562727429]), 6454201972: tensor([4302488474607679911]), 5442517305: tensor([1976171194324143902]), 89338351087: tensor([3469687243193852734]), 82363323259: tensor([[646946441826276683]]), 22885526806: tensor([3028515421534799582]), 44799965005: tensor([3118169969557679072]), 26166618310: tensor([[596686070574628055]]), 9241346871: tensor([3199250206015417451]), 95222742020: tensor([2538826963979258488]), 53570799199: tensor([[3092669437946054423]]), 44313591279: tensor([1013816092656495965]), 35750766849: tensor([660423242036158963]), 28412258531: tensor([[3530914106440778032]]), 34875016193: tensor([1277381309021283908]), 95131104992: tensor([52601970661456205]), 18628735223: tensor([[1410052729842601751]]), 81753325832: tensor([4304396227165676185]), 93126958070: tensor([1224779338359827703]), 44123241989: tensor([[2240797174030652672]]), 66489839946: tensor([1026983467356370975]), 61067851427: tensor([1861951752221872295]), 56752984806: tensor([[3724222698200104767]]), 39682108414: tensor([4221122358993921784]), 30195124947: tensor([3776717733561886584]), 68315724595: tensor([[2824356022653829024]]), 56747889617: tensor([3048842909879299890]), 48133067769: tensor([3426549741390402495]), 17644993518: tensor([[3837151656814422890]]), 27845367743: tensor([566777915073332219]), 73201016111: tensor([4233979186916285299]), 83968836303: tensor([[569278674344325387]]), 6346332904: tensor([954604698129646046]), 79737556853: tensor([952676068906808080]), 94662160131: tensor([[3166354335480211510]]), 47715754205: tensor([3539074500302677065]), 68294500012: tensor([1928629222837966]), 97931507775: tensor([[3577786075710551446]]), 1717964944: tensor([3811419974982518575]), 56820099903: tensor([27252905547985866]), 85911988873: tensor([[567389497980212223]]), 19943319270: tensor([4332002130384288471]), 39788091632: tensor([3784167069434532709]), 980188421: tensor([[207530866652870240]]), 40912078143: tensor([[2164349974924277751]]), 22906072897: tensor([1263830768443172406]), 95676673361: tensor([[1871864839239102742]]), 87682966830: tensor([2996379395987173674]), 66443995396: tensor([3858795738770746337]), 30339481673: tensor([[787627161935358240]]), 10441105603: tensor([2317782798026790626])}\n",
      "Alice*1 {54786673182: tensor([4151532663562727429]), 6454201972: tensor([4302488474607679911]), 5442517305: tensor([1976171194324143902]), 89338351087: tensor([3469687243193852734]), 82363323259: tensor([[646946441826276683]]), 22885526806: tensor([3028515421534799582]), 44799965005: tensor([3118169969557679072]), 26166618310: tensor([[596686070574628055]]), 9241346871: tensor([3199250206015417451]), 95222742020: tensor([2538826963979258488]), 53570799199: tensor([[3092669437946054423]]), 44313591279: tensor([1013816092656495965]), 35750766849: tensor([660423242036158963]), 28412258531: tensor([[3530914106440778032]]), 34875016193: tensor([1277381309021283908]), 95131104992: tensor([52601970661456205]), 18628735223: tensor([[1410052729842601751]]), 81753325832: tensor([4304396227165676185]), 93126958070: tensor([1224779338359827703]), 44123241989: tensor([[2240797174030652672]]), 66489839946: tensor([1026983467356370975]), 61067851427: tensor([1861951752221872295]), 56752984806: tensor([[3724222698200104767]]), 39682108414: tensor([4221122358993921784]), 30195124947: tensor([3776717733561886584]), 68315724595: tensor([[2824356022653829024]]), 56747889617: tensor([3048842909879299890]), 48133067769: tensor([3426549741390402495]), 17644993518: tensor([[3837151656814422890]]), 27845367743: tensor([566777915073332219]), 73201016111: tensor([4233979186916285299]), 83968836303: tensor([[569278674344325387]]), 6346332904: tensor([954604698129646046]), 79737556853: tensor([952676068906808080]), 94662160131: tensor([[3166354335480211510]]), 47715754205: tensor([3539074500302677065]), 68294500012: tensor([1928629222837966]), 97931507775: tensor([[3577786075710551446]]), 1717964944: tensor([3811419974982518575]), 56820099903: tensor([27252905547985866]), 85911988873: tensor([[567389497980212223]]), 19943319270: tensor([4332002130384288471]), 39788091632: tensor([3784167069434532709]), 980188421: tensor([[207530866652870240]]), 40912078143: tensor([[2164349974924277751]]), 22906072897: tensor([1263830768443172406]), 95676673361: tensor([[1871864839239102742]]), 87682966830: tensor([2996379395987173674]), 66443995396: tensor([3858795738770746337]), 30339481673: tensor([[787627161935358240]]), 10441105603: tensor([2317782798026790626])}\n",
      "Alice*2 {54786673182: tensor([4151532663562727429]), 6454201972: tensor([4302488474607679911]), 5442517305: tensor([1976171194324143902]), 89338351087: tensor([3469687243193852734]), 82363323259: tensor([[646946441826276683]]), 22885526806: tensor([3028515421534799582]), 44799965005: tensor([3118169969557679072]), 26166618310: tensor([[596686070574628055]]), 9241346871: tensor([3199250206015417451]), 95222742020: tensor([2538826963979258488]), 53570799199: tensor([[3092669437946054423]]), 44313591279: tensor([1013816092656495965]), 35750766849: tensor([660423242036158963]), 28412258531: tensor([[3530914106440778032]]), 34875016193: tensor([1277381309021283908]), 95131104992: tensor([52601970661456205]), 18628735223: tensor([[1410052729842601751]]), 81753325832: tensor([4304396227165676185]), 93126958070: tensor([1224779338359827703]), 44123241989: tensor([[2240797174030652672]]), 66489839946: tensor([1026983467356370975]), 61067851427: tensor([1861951752221872295]), 56752984806: tensor([[3724222698200104767]]), 39682108414: tensor([4221122358993921784]), 30195124947: tensor([3776717733561886584]), 68315724595: tensor([[2824356022653829024]]), 56747889617: tensor([3048842909879299890]), 48133067769: tensor([3426549741390402495]), 17644993518: tensor([[3837151656814422890]]), 27845367743: tensor([566777915073332219]), 73201016111: tensor([4233979186916285299]), 83968836303: tensor([[569278674344325387]]), 6346332904: tensor([954604698129646046]), 79737556853: tensor([952676068906808080]), 94662160131: tensor([[3166354335480211510]]), 47715754205: tensor([3539074500302677065]), 68294500012: tensor([1928629222837966]), 97931507775: tensor([[3577786075710551446]]), 1717964944: tensor([3811419974982518575]), 56820099903: tensor([27252905547985866]), 85911988873: tensor([[567389497980212223]]), 19943319270: tensor([4332002130384288471]), 39788091632: tensor([3784167069434532709]), 980188421: tensor([[207530866652870240]]), 40912078143: tensor([[2164349974924277751]]), 22906072897: tensor([1263830768443172406]), 95676673361: tensor([[1871864839239102742]]), 87682966830: tensor([2996379395987173674]), 66443995396: tensor([3858795738770746337]), 30339481673: tensor([[787627161935358240]]), 10441105603: tensor([2317782798026790626])}\n",
      "built [AdditiveSharingTensor]\n",
      "\t-> [PointerTensor | dan:93942095022 -> alice:30339481673]\n",
      "\t-> [PointerTensor | dan:40751998353 -> bob:28399856703]\n",
      "\t*crypto provider: charlie*\n",
      "Alice*1 {54786673182: tensor([4151532663562727429]), 6454201972: tensor([4302488474607679911]), 5442517305: tensor([1976171194324143902]), 89338351087: tensor([3469687243193852734]), 82363323259: tensor([[646946441826276683]]), 22885526806: tensor([3028515421534799582]), 44799965005: tensor([3118169969557679072]), 26166618310: tensor([[596686070574628055]]), 9241346871: tensor([3199250206015417451]), 95222742020: tensor([2538826963979258488]), 53570799199: tensor([[3092669437946054423]]), 44313591279: tensor([1013816092656495965]), 35750766849: tensor([660423242036158963]), 28412258531: tensor([[3530914106440778032]]), 34875016193: tensor([1277381309021283908]), 95131104992: tensor([52601970661456205]), 18628735223: tensor([[1410052729842601751]]), 81753325832: tensor([4304396227165676185]), 93126958070: tensor([1224779338359827703]), 44123241989: tensor([[2240797174030652672]]), 66489839946: tensor([1026983467356370975]), 61067851427: tensor([1861951752221872295]), 56752984806: tensor([[3724222698200104767]]), 39682108414: tensor([4221122358993921784]), 30195124947: tensor([3776717733561886584]), 68315724595: tensor([[2824356022653829024]]), 56747889617: tensor([3048842909879299890]), 48133067769: tensor([3426549741390402495]), 17644993518: tensor([[3837151656814422890]]), 27845367743: tensor([566777915073332219]), 73201016111: tensor([4233979186916285299]), 83968836303: tensor([[569278674344325387]]), 6346332904: tensor([954604698129646046]), 79737556853: tensor([952676068906808080]), 94662160131: tensor([[3166354335480211510]]), 47715754205: tensor([3539074500302677065]), 68294500012: tensor([1928629222837966]), 97931507775: tensor([[3577786075710551446]]), 1717964944: tensor([3811419974982518575]), 56820099903: tensor([27252905547985866]), 85911988873: tensor([[567389497980212223]]), 19943319270: tensor([4332002130384288471]), 39788091632: tensor([3784167069434532709]), 980188421: tensor([[207530866652870240]]), 40912078143: tensor([[2164349974924277751]]), 22906072897: tensor([1263830768443172406]), 95676673361: tensor([[1871864839239102742]]), 87682966830: tensor([2996379395987173674]), 66443995396: tensor([3858795738770746337]), 30339481673: tensor([[787627161935358240]]), 10441105603: tensor([2317782798026790626])}\n",
      "Alice*2 {54786673182: tensor([4151532663562727429]), 6454201972: tensor([4302488474607679911]), 5442517305: tensor([1976171194324143902]), 89338351087: tensor([3469687243193852734]), 82363323259: tensor([[646946441826276683]]), 22885526806: tensor([3028515421534799582]), 44799965005: tensor([3118169969557679072]), 26166618310: tensor([[596686070574628055]]), 9241346871: tensor([3199250206015417451]), 95222742020: tensor([2538826963979258488]), 53570799199: tensor([[3092669437946054423]]), 44313591279: tensor([1013816092656495965]), 35750766849: tensor([660423242036158963]), 28412258531: tensor([[3530914106440778032]]), 34875016193: tensor([1277381309021283908]), 95131104992: tensor([52601970661456205]), 18628735223: tensor([[1410052729842601751]]), 81753325832: tensor([4304396227165676185]), 93126958070: tensor([1224779338359827703]), 44123241989: tensor([[2240797174030652672]]), 66489839946: tensor([1026983467356370975]), 61067851427: tensor([1861951752221872295]), 56752984806: tensor([[3724222698200104767]]), 39682108414: tensor([4221122358993921784]), 30195124947: tensor([3776717733561886584]), 68315724595: tensor([[2824356022653829024]]), 56747889617: tensor([3048842909879299890]), 48133067769: tensor([3426549741390402495]), 17644993518: tensor([[3837151656814422890]]), 27845367743: tensor([566777915073332219]), 73201016111: tensor([4233979186916285299]), 83968836303: tensor([[569278674344325387]]), 6346332904: tensor([954604698129646046]), 79737556853: tensor([952676068906808080]), 94662160131: tensor([[3166354335480211510]]), 47715754205: tensor([3539074500302677065]), 68294500012: tensor([1928629222837966]), 97931507775: tensor([[3577786075710551446]]), 1717964944: tensor([3811419974982518575]), 56820099903: tensor([27252905547985866]), 85911988873: tensor([[567389497980212223]]), 19943319270: tensor([4332002130384288471]), 39788091632: tensor([3784167069434532709]), 980188421: tensor([[207530866652870240]]), 40912078143: tensor([[2164349974924277751]]), 22906072897: tensor([1263830768443172406]), 95676673361: tensor([[1871864839239102742]]), 87682966830: tensor([2996379395987173674]), 66443995396: tensor([3858795738770746337]), 30339481673: tensor([[787627161935358240]]), 10441105603: tensor([2317782798026790626])}\n",
      "built [AdditiveSharingTensor]\n",
      "\t-> [PointerTensor | dan:8598158522 -> alice:10441105603]\n",
      "\t-> [PointerTensor | dan:56536484588 -> bob:9551109060]\n",
      "\t*crypto provider: charlie*\n",
      "Alice2b {54786673182: tensor([4151532663562727429]), 6454201972: tensor([4302488474607679911]), 5442517305: tensor([1976171194324143902]), 89338351087: tensor([3469687243193852734]), 82363323259: tensor([[646946441826276683]]), 22885526806: tensor([3028515421534799582]), 44799965005: tensor([3118169969557679072]), 26166618310: tensor([[596686070574628055]]), 9241346871: tensor([3199250206015417451]), 95222742020: tensor([2538826963979258488]), 53570799199: tensor([[3092669437946054423]]), 44313591279: tensor([1013816092656495965]), 35750766849: tensor([660423242036158963]), 28412258531: tensor([[3530914106440778032]]), 34875016193: tensor([1277381309021283908]), 95131104992: tensor([52601970661456205]), 18628735223: tensor([[1410052729842601751]]), 81753325832: tensor([4304396227165676185]), 93126958070: tensor([1224779338359827703]), 44123241989: tensor([[2240797174030652672]]), 66489839946: tensor([1026983467356370975]), 61067851427: tensor([1861951752221872295]), 56752984806: tensor([[3724222698200104767]]), 39682108414: tensor([4221122358993921784]), 30195124947: tensor([3776717733561886584]), 68315724595: tensor([[2824356022653829024]]), 56747889617: tensor([3048842909879299890]), 48133067769: tensor([3426549741390402495]), 17644993518: tensor([[3837151656814422890]]), 27845367743: tensor([566777915073332219]), 73201016111: tensor([4233979186916285299]), 83968836303: tensor([[569278674344325387]]), 6346332904: tensor([954604698129646046]), 79737556853: tensor([952676068906808080]), 94662160131: tensor([[3166354335480211510]]), 47715754205: tensor([3539074500302677065]), 68294500012: tensor([1928629222837966]), 97931507775: tensor([[3577786075710551446]]), 1717964944: tensor([3811419974982518575]), 56820099903: tensor([27252905547985866]), 85911988873: tensor([[567389497980212223]]), 19943319270: tensor([4332002130384288471]), 39788091632: tensor([3784167069434532709]), 980188421: tensor([[207530866652870240]]), 40912078143: tensor([[2164349974924277751]]), 22906072897: tensor([1263830768443172406]), 95676673361: tensor([[1871864839239102742]]), 87682966830: tensor([2996379395987173674]), 66443995396: tensor([3858795738770746337]), 30339481673: tensor([[787627161935358240]]), 10441105603: tensor([2317782798026790626])}\n",
      "[Parameter containing:\n",
      "Parameter>FixedPrecisionTensor>[AdditiveSharingTensor]\n",
      "\t-> [PointerTensor | dan:93942095022 -> alice:30339481673]\n",
      "\t-> [PointerTensor | dan:40751998353 -> bob:28399856703]\n",
      "\t*crypto provider: charlie*, Parameter containing:\n",
      "Parameter>FixedPrecisionTensor>[AdditiveSharingTensor]\n",
      "\t-> [PointerTensor | dan:8598158522 -> alice:10441105603]\n",
      "\t-> [PointerTensor | dan:56536484588 -> bob:9551109060]\n",
      "\t*crypto provider: charlie*]\n",
      "Alice2 {54786673182: tensor([4151532663562727429]), 6454201972: tensor([4302488474607679911]), 5442517305: tensor([1976171194324143902]), 89338351087: tensor([3469687243193852734]), 82363323259: tensor([[646946441826276683]]), 22885526806: tensor([3028515421534799582]), 44799965005: tensor([3118169969557679072]), 26166618310: tensor([[596686070574628055]]), 9241346871: tensor([3199250206015417451]), 95222742020: tensor([2538826963979258488]), 53570799199: tensor([[3092669437946054423]]), 44313591279: tensor([1013816092656495965]), 35750766849: tensor([660423242036158963]), 28412258531: tensor([[3530914106440778032]]), 34875016193: tensor([1277381309021283908]), 95131104992: tensor([52601970661456205]), 18628735223: tensor([[1410052729842601751]]), 81753325832: tensor([4304396227165676185]), 93126958070: tensor([1224779338359827703]), 44123241989: tensor([[2240797174030652672]]), 66489839946: tensor([1026983467356370975]), 61067851427: tensor([1861951752221872295]), 56752984806: tensor([[3724222698200104767]]), 39682108414: tensor([4221122358993921784]), 30195124947: tensor([3776717733561886584]), 68315724595: tensor([[2824356022653829024]]), 56747889617: tensor([3048842909879299890]), 48133067769: tensor([3426549741390402495]), 17644993518: tensor([[3837151656814422890]]), 27845367743: tensor([566777915073332219]), 73201016111: tensor([4233979186916285299]), 83968836303: tensor([[569278674344325387]]), 6346332904: tensor([954604698129646046]), 79737556853: tensor([952676068906808080]), 94662160131: tensor([[3166354335480211510]]), 47715754205: tensor([3539074500302677065]), 68294500012: tensor([1928629222837966]), 97931507775: tensor([[3577786075710551446]]), 1717964944: tensor([3811419974982518575]), 56820099903: tensor([27252905547985866]), 85911988873: tensor([[567389497980212223]]), 19943319270: tensor([4332002130384288471]), 39788091632: tensor([3784167069434532709]), 980188421: tensor([[207530866652870240]]), 40912078143: tensor([[2164349974924277751]]), 22906072897: tensor([1263830768443172406]), 95676673361: tensor([[1871864839239102742]]), 87682966830: tensor([2996379395987173674]), 66443995396: tensor([3858795738770746337]), 30339481673: tensor([[787627161935358240]]), 10441105603: tensor([2317782798026790626])}\n",
      "Alice*1 {54786673182: tensor([4151532663562727429]), 6454201972: tensor([4302488474607679911]), 5442517305: tensor([1976171194324143902]), 89338351087: tensor([3469687243193852734]), 82363323259: tensor([[646946441826276683]]), 22885526806: tensor([3028515421534799582]), 44799965005: tensor([3118169969557679072]), 26166618310: tensor([[596686070574628055]]), 9241346871: tensor([3199250206015417451]), 95222742020: tensor([2538826963979258488]), 53570799199: tensor([[3092669437946054423]]), 44313591279: tensor([1013816092656495965]), 35750766849: tensor([660423242036158963]), 28412258531: tensor([[3530914106440778032]]), 34875016193: tensor([1277381309021283908]), 95131104992: tensor([52601970661456205]), 18628735223: tensor([[1410052729842601751]]), 81753325832: tensor([4304396227165676185]), 93126958070: tensor([1224779338359827703]), 44123241989: tensor([[2240797174030652672]]), 66489839946: tensor([1026983467356370975]), 61067851427: tensor([1861951752221872295]), 56752984806: tensor([[3724222698200104767]]), 39682108414: tensor([4221122358993921784]), 30195124947: tensor([3776717733561886584]), 68315724595: tensor([[2824356022653829024]]), 56747889617: tensor([3048842909879299890]), 48133067769: tensor([3426549741390402495]), 17644993518: tensor([[3837151656814422890]]), 27845367743: tensor([566777915073332219]), 73201016111: tensor([4233979186916285299]), 83968836303: tensor([[569278674344325387]]), 6346332904: tensor([954604698129646046]), 79737556853: tensor([952676068906808080]), 94662160131: tensor([[3166354335480211510]]), 47715754205: tensor([3539074500302677065]), 68294500012: tensor([1928629222837966]), 97931507775: tensor([[3577786075710551446]]), 1717964944: tensor([3811419974982518575]), 56820099903: tensor([27252905547985866]), 85911988873: tensor([[567389497980212223]]), 19943319270: tensor([4332002130384288471]), 39788091632: tensor([3784167069434532709]), 980188421: tensor([[207530866652870240]]), 40912078143: tensor([[2164349974924277751]]), 22906072897: tensor([1263830768443172406]), 95676673361: tensor([[1871864839239102742]]), 87682966830: tensor([2996379395987173674]), 66443995396: tensor([3858795738770746337]), 30339481673: tensor([[787627161935358240]]), 10441105603: tensor([2317782798026790626])}\n",
      "Alice*2 {54786673182: tensor([4151532663562727429]), 6454201972: tensor([4302488474607679911]), 5442517305: tensor([1976171194324143902]), 89338351087: tensor([3469687243193852734]), 82363323259: tensor([[646946441826276683]]), 22885526806: tensor([3028515421534799582]), 44799965005: tensor([3118169969557679072]), 26166618310: tensor([[596686070574628055]]), 9241346871: tensor([3199250206015417451]), 95222742020: tensor([2538826963979258488]), 53570799199: tensor([[3092669437946054423]]), 44313591279: tensor([1013816092656495965]), 35750766849: tensor([660423242036158963]), 28412258531: tensor([[3530914106440778032]]), 34875016193: tensor([1277381309021283908]), 95131104992: tensor([52601970661456205]), 18628735223: tensor([[1410052729842601751]]), 81753325832: tensor([4304396227165676185]), 93126958070: tensor([1224779338359827703]), 44123241989: tensor([[2240797174030652672]]), 66489839946: tensor([1026983467356370975]), 61067851427: tensor([1861951752221872295]), 56752984806: tensor([[3724222698200104767]]), 39682108414: tensor([4221122358993921784]), 30195124947: tensor([3776717733561886584]), 68315724595: tensor([[2824356022653829024]]), 56747889617: tensor([3048842909879299890]), 48133067769: tensor([3426549741390402495]), 17644993518: tensor([[3837151656814422890]]), 27845367743: tensor([566777915073332219]), 73201016111: tensor([4233979186916285299]), 83968836303: tensor([[569278674344325387]]), 6346332904: tensor([954604698129646046]), 79737556853: tensor([952676068906808080]), 94662160131: tensor([[3166354335480211510]]), 47715754205: tensor([3539074500302677065]), 68294500012: tensor([1928629222837966]), 97931507775: tensor([[3577786075710551446]]), 1717964944: tensor([3811419974982518575]), 56820099903: tensor([27252905547985866]), 85911988873: tensor([[567389497980212223]]), 19943319270: tensor([4332002130384288471]), 39788091632: tensor([3784167069434532709]), 980188421: tensor([[207530866652870240]]), 40912078143: tensor([[2164349974924277751]]), 22906072897: tensor([1263830768443172406]), 95676673361: tensor([[1871864839239102742]]), 87682966830: tensor([2996379395987173674]), 66443995396: tensor([3858795738770746337]), 30339481673: tensor([[787627161935358240]]), 10441105603: tensor([2317782798026790626])}\n",
      "built [AdditiveSharingTensor]\n",
      "\t-> [PointerTensor | me:93942095022 -> alice:30339481673]\n",
      "\t-> [PointerTensor | me:40751998353 -> bob:28399856703]\n",
      "\t*crypto provider: charlie*\n",
      "Alice*1 {54786673182: tensor([4151532663562727429]), 6454201972: tensor([4302488474607679911]), 5442517305: tensor([1976171194324143902]), 89338351087: tensor([3469687243193852734]), 82363323259: tensor([[646946441826276683]]), 22885526806: tensor([3028515421534799582]), 44799965005: tensor([3118169969557679072]), 26166618310: tensor([[596686070574628055]]), 9241346871: tensor([3199250206015417451]), 95222742020: tensor([2538826963979258488]), 53570799199: tensor([[3092669437946054423]]), 44313591279: tensor([1013816092656495965]), 35750766849: tensor([660423242036158963]), 28412258531: tensor([[3530914106440778032]]), 34875016193: tensor([1277381309021283908]), 95131104992: tensor([52601970661456205]), 18628735223: tensor([[1410052729842601751]]), 81753325832: tensor([4304396227165676185]), 93126958070: tensor([1224779338359827703]), 44123241989: tensor([[2240797174030652672]]), 66489839946: tensor([1026983467356370975]), 61067851427: tensor([1861951752221872295]), 56752984806: tensor([[3724222698200104767]]), 39682108414: tensor([4221122358993921784]), 30195124947: tensor([3776717733561886584]), 68315724595: tensor([[2824356022653829024]]), 56747889617: tensor([3048842909879299890]), 48133067769: tensor([3426549741390402495]), 17644993518: tensor([[3837151656814422890]]), 27845367743: tensor([566777915073332219]), 73201016111: tensor([4233979186916285299]), 83968836303: tensor([[569278674344325387]]), 6346332904: tensor([954604698129646046]), 79737556853: tensor([952676068906808080]), 94662160131: tensor([[3166354335480211510]]), 47715754205: tensor([3539074500302677065]), 68294500012: tensor([1928629222837966]), 97931507775: tensor([[3577786075710551446]]), 1717964944: tensor([3811419974982518575]), 56820099903: tensor([27252905547985866]), 85911988873: tensor([[567389497980212223]]), 19943319270: tensor([4332002130384288471]), 39788091632: tensor([3784167069434532709]), 980188421: tensor([[207530866652870240]]), 40912078143: tensor([[2164349974924277751]]), 22906072897: tensor([1263830768443172406]), 95676673361: tensor([[1871864839239102742]]), 87682966830: tensor([2996379395987173674]), 66443995396: tensor([3858795738770746337]), 30339481673: tensor([[787627161935358240]]), 10441105603: tensor([2317782798026790626])}\n",
      "Alice*2 {54786673182: tensor([4151532663562727429]), 6454201972: tensor([4302488474607679911]), 5442517305: tensor([1976171194324143902]), 89338351087: tensor([3469687243193852734]), 82363323259: tensor([[646946441826276683]]), 22885526806: tensor([3028515421534799582]), 44799965005: tensor([3118169969557679072]), 26166618310: tensor([[596686070574628055]]), 9241346871: tensor([3199250206015417451]), 95222742020: tensor([2538826963979258488]), 53570799199: tensor([[3092669437946054423]]), 44313591279: tensor([1013816092656495965]), 35750766849: tensor([660423242036158963]), 28412258531: tensor([[3530914106440778032]]), 34875016193: tensor([1277381309021283908]), 95131104992: tensor([52601970661456205]), 18628735223: tensor([[1410052729842601751]]), 81753325832: tensor([4304396227165676185]), 93126958070: tensor([1224779338359827703]), 44123241989: tensor([[2240797174030652672]]), 66489839946: tensor([1026983467356370975]), 61067851427: tensor([1861951752221872295]), 56752984806: tensor([[3724222698200104767]]), 39682108414: tensor([4221122358993921784]), 30195124947: tensor([3776717733561886584]), 68315724595: tensor([[2824356022653829024]]), 56747889617: tensor([3048842909879299890]), 48133067769: tensor([3426549741390402495]), 17644993518: tensor([[3837151656814422890]]), 27845367743: tensor([566777915073332219]), 73201016111: tensor([4233979186916285299]), 83968836303: tensor([[569278674344325387]]), 6346332904: tensor([954604698129646046]), 79737556853: tensor([952676068906808080]), 94662160131: tensor([[3166354335480211510]]), 47715754205: tensor([3539074500302677065]), 68294500012: tensor([1928629222837966]), 97931507775: tensor([[3577786075710551446]]), 1717964944: tensor([3811419974982518575]), 56820099903: tensor([27252905547985866]), 85911988873: tensor([[567389497980212223]]), 19943319270: tensor([4332002130384288471]), 39788091632: tensor([3784167069434532709]), 980188421: tensor([[207530866652870240]]), 40912078143: tensor([[2164349974924277751]]), 22906072897: tensor([1263830768443172406]), 95676673361: tensor([[1871864839239102742]]), 87682966830: tensor([2996379395987173674]), 66443995396: tensor([3858795738770746337]), 30339481673: tensor([[787627161935358240]]), 10441105603: tensor([2317782798026790626])}\n",
      "built [AdditiveSharingTensor]\n",
      "\t-> [PointerTensor | me:8598158522 -> alice:10441105603]\n",
      "\t-> [PointerTensor | me:56536484588 -> bob:9551109060]\n",
      "\t*crypto provider: charlie*\n",
      "Alice2b {54786673182: tensor([4151532663562727429]), 6454201972: tensor([4302488474607679911]), 5442517305: tensor([1976171194324143902]), 89338351087: tensor([3469687243193852734]), 82363323259: tensor([[646946441826276683]]), 22885526806: tensor([3028515421534799582]), 44799965005: tensor([3118169969557679072]), 26166618310: tensor([[596686070574628055]]), 9241346871: tensor([3199250206015417451]), 95222742020: tensor([2538826963979258488]), 53570799199: tensor([[3092669437946054423]]), 44313591279: tensor([1013816092656495965]), 35750766849: tensor([660423242036158963]), 28412258531: tensor([[3530914106440778032]]), 34875016193: tensor([1277381309021283908]), 95131104992: tensor([52601970661456205]), 18628735223: tensor([[1410052729842601751]]), 81753325832: tensor([4304396227165676185]), 93126958070: tensor([1224779338359827703]), 44123241989: tensor([[2240797174030652672]]), 66489839946: tensor([1026983467356370975]), 61067851427: tensor([1861951752221872295]), 56752984806: tensor([[3724222698200104767]]), 39682108414: tensor([4221122358993921784]), 30195124947: tensor([3776717733561886584]), 68315724595: tensor([[2824356022653829024]]), 56747889617: tensor([3048842909879299890]), 48133067769: tensor([3426549741390402495]), 17644993518: tensor([[3837151656814422890]]), 27845367743: tensor([566777915073332219]), 73201016111: tensor([4233979186916285299]), 83968836303: tensor([[569278674344325387]]), 6346332904: tensor([954604698129646046]), 79737556853: tensor([952676068906808080]), 94662160131: tensor([[3166354335480211510]]), 47715754205: tensor([3539074500302677065]), 68294500012: tensor([1928629222837966]), 97931507775: tensor([[3577786075710551446]]), 1717964944: tensor([3811419974982518575]), 56820099903: tensor([27252905547985866]), 85911988873: tensor([[567389497980212223]]), 19943319270: tensor([4332002130384288471]), 39788091632: tensor([3784167069434532709]), 980188421: tensor([[207530866652870240]]), 40912078143: tensor([[2164349974924277751]]), 22906072897: tensor([1263830768443172406]), 95676673361: tensor([[1871864839239102742]]), 87682966830: tensor([2996379395987173674]), 66443995396: tensor([3858795738770746337]), 30339481673: tensor([[787627161935358240]]), 10441105603: tensor([2317782798026790626])}\n",
      "register at 92154820285 (Wrapper)>FixedPrecisionTensor>tensor([4611686018427386904]) where empty\n",
      "register at 55575458830 (Wrapper)>tensor([4611686018427386904]) where empty\n",
      "register at 93828290200 (Wrapper)>FixedPrecisionTensor>[AdditiveSharingTensor]\n",
      "\t-> [PointerTensor | me:59650327055 -> alice:22371472316]\n",
      "\t-> [PointerTensor | me:80438946523 -> bob:35356478425]\n",
      "\t*crypto provider: charlie* where empty\n",
      "READABLE [(31, (1, ((6, ((5, (b'torch.nn.functional.linear',)), None, (6, ((23, (1877891315, 93828290200, 'me', None, (10, (1,)), True)), (23, (39511932891, 44236753458, 'me', None, (10, (1, 1)), True)), (23, (60568774241, 35703833413, 'me', None, (10, (1,)), True)))), (0, ()))), (55303184317,))))]\n",
      "register at 40126570357 (Wrapper)>tensor([3061315960775678757]) where empty\n",
      "register at 40126570357 (Wrapper)>[AdditiveSharingTensor]\n",
      "\t-> [PointerTensor | me:61011310019 -> alice:2414719618]\n",
      "\t-> [PointerTensor | me:6185402676 -> bob:71303791041]\n",
      "\t*crypto provider: charlie* where (Wrapper)>[AdditiveSharingTensor]\n",
      "\t-> [PointerTensor | me:61011310019 -> alice:2414719618]\n",
      "\t-> [PointerTensor | me:6185402676 -> bob:71303791041]\n",
      "\t*crypto provider: charlie*\n",
      "register at 58448882687 (Wrapper)>tensor([[3713107500475815650]]) where empty\n",
      "register at 58448882687 (Wrapper)>[AdditiveSharingTensor]\n",
      "\t-> [PointerTensor | me:35291956785 -> alice:72637782510]\n",
      "\t-> [PointerTensor | me:79169896673 -> bob:9994051347]\n",
      "\t*crypto provider: charlie* where (Wrapper)>[AdditiveSharingTensor]\n",
      "\t-> [PointerTensor | me:35291956785 -> alice:72637782510]\n",
      "\t-> [PointerTensor | me:79169896673 -> bob:9994051347]\n",
      "\t*crypto provider: charlie*\n",
      "register at 45282729997 (Wrapper)>tensor([344647151345018026]) where empty\n",
      "register at 45282729997 (Wrapper)>[AdditiveSharingTensor]\n",
      "\t-> [PointerTensor | me:71384929705 -> alice:94184717082]\n",
      "\t-> [PointerTensor | me:34265440976 -> bob:90354777646]\n",
      "\t*crypto provider: charlie* where (Wrapper)>[AdditiveSharingTensor]\n",
      "\t-> [PointerTensor | me:71384929705 -> alice:94184717082]\n",
      "\t-> [PointerTensor | me:34265440976 -> bob:90354777646]\n",
      "\t*crypto provider: charlie*\n",
      "Alice*1 {54786673182: tensor([4151532663562727429]), 6454201972: tensor([4302488474607679911]), 5442517305: tensor([1976171194324143902]), 89338351087: tensor([3469687243193852734]), 82363323259: tensor([[646946441826276683]]), 22885526806: tensor([3028515421534799582]), 44799965005: tensor([3118169969557679072]), 26166618310: tensor([[596686070574628055]]), 9241346871: tensor([3199250206015417451]), 95222742020: tensor([2538826963979258488]), 53570799199: tensor([[3092669437946054423]]), 44313591279: tensor([1013816092656495965]), 35750766849: tensor([660423242036158963]), 28412258531: tensor([[3530914106440778032]]), 34875016193: tensor([1277381309021283908]), 95131104992: tensor([52601970661456205]), 18628735223: tensor([[1410052729842601751]]), 81753325832: tensor([4304396227165676185]), 93126958070: tensor([1224779338359827703]), 44123241989: tensor([[2240797174030652672]]), 66489839946: tensor([1026983467356370975]), 61067851427: tensor([1861951752221872295]), 56752984806: tensor([[3724222698200104767]]), 39682108414: tensor([4221122358993921784]), 30195124947: tensor([3776717733561886584]), 68315724595: tensor([[2824356022653829024]]), 56747889617: tensor([3048842909879299890]), 48133067769: tensor([3426549741390402495]), 17644993518: tensor([[3837151656814422890]]), 27845367743: tensor([566777915073332219]), 73201016111: tensor([4233979186916285299]), 83968836303: tensor([[569278674344325387]]), 6346332904: tensor([954604698129646046]), 79737556853: tensor([952676068906808080]), 94662160131: tensor([[3166354335480211510]]), 47715754205: tensor([3539074500302677065]), 68294500012: tensor([1928629222837966]), 97931507775: tensor([[3577786075710551446]]), 1717964944: tensor([3811419974982518575]), 56820099903: tensor([27252905547985866]), 85911988873: tensor([[567389497980212223]]), 19943319270: tensor([4332002130384288471]), 39788091632: tensor([3784167069434532709]), 980188421: tensor([[207530866652870240]]), 40912078143: tensor([[2164349974924277751]]), 22906072897: tensor([1263830768443172406]), 95676673361: tensor([[1871864839239102742]]), 87682966830: tensor([2996379395987173674]), 66443995396: tensor([3858795738770746337]), 30339481673: tensor([[787627161935358240]]), 10441105603: tensor([2317782798026790626]), 22371472316: tensor([2787874078716948433]), 74388112855: tensor([[787627161935358240]]), 2414719618: tensor([284074122158696030]), 72637782510: tensor([[1156931108837694440]]), 94184717082: tensor([3624268954383020572]), 17583937355: tensor([2503799956558252403]), 37271796624: tensor([[4242382071525051704]])}\n",
      "Alice*2 {54786673182: tensor([4151532663562727429]), 6454201972: tensor([4302488474607679911]), 5442517305: tensor([1976171194324143902]), 89338351087: tensor([3469687243193852734]), 82363323259: tensor([[646946441826276683]]), 22885526806: tensor([3028515421534799582]), 44799965005: tensor([3118169969557679072]), 26166618310: tensor([[596686070574628055]]), 9241346871: tensor([3199250206015417451]), 95222742020: tensor([2538826963979258488]), 53570799199: tensor([[3092669437946054423]]), 44313591279: tensor([1013816092656495965]), 35750766849: tensor([660423242036158963]), 28412258531: tensor([[3530914106440778032]]), 34875016193: tensor([1277381309021283908]), 95131104992: tensor([52601970661456205]), 18628735223: tensor([[1410052729842601751]]), 81753325832: tensor([4304396227165676185]), 93126958070: tensor([1224779338359827703]), 44123241989: tensor([[2240797174030652672]]), 66489839946: tensor([1026983467356370975]), 61067851427: tensor([1861951752221872295]), 56752984806: tensor([[3724222698200104767]]), 39682108414: tensor([4221122358993921784]), 30195124947: tensor([3776717733561886584]), 68315724595: tensor([[2824356022653829024]]), 56747889617: tensor([3048842909879299890]), 48133067769: tensor([3426549741390402495]), 17644993518: tensor([[3837151656814422890]]), 27845367743: tensor([566777915073332219]), 73201016111: tensor([4233979186916285299]), 83968836303: tensor([[569278674344325387]]), 6346332904: tensor([954604698129646046]), 79737556853: tensor([952676068906808080]), 94662160131: tensor([[3166354335480211510]]), 47715754205: tensor([3539074500302677065]), 68294500012: tensor([1928629222837966]), 97931507775: tensor([[3577786075710551446]]), 1717964944: tensor([3811419974982518575]), 56820099903: tensor([27252905547985866]), 85911988873: tensor([[567389497980212223]]), 19943319270: tensor([4332002130384288471]), 39788091632: tensor([3784167069434532709]), 980188421: tensor([[207530866652870240]]), 40912078143: tensor([[2164349974924277751]]), 22906072897: tensor([1263830768443172406]), 95676673361: tensor([[1871864839239102742]]), 87682966830: tensor([2996379395987173674]), 66443995396: tensor([3858795738770746337]), 30339481673: tensor([[787627161935358240]]), 10441105603: tensor([2317782798026790626]), 22371472316: tensor([2787874078716948433]), 74388112855: tensor([[787627161935358240]]), 2414719618: tensor([284074122158696030]), 72637782510: tensor([[1156931108837694440]]), 94184717082: tensor([3624268954383020572]), 17583937355: tensor([2503799956558252403]), 37271796624: tensor([[4242382071525051704]])}\n",
      "built [AdditiveSharingTensor]\n",
      "\t-> tensor([2503799956558252403])\n",
      "\t-> [PointerTensor | alice:60976121535 -> bob:9752887735]\n",
      "\t*crypto provider: charlie*\n",
      "Alice*1 {54786673182: tensor([4151532663562727429]), 6454201972: tensor([4302488474607679911]), 5442517305: tensor([1976171194324143902]), 89338351087: tensor([3469687243193852734]), 82363323259: tensor([[646946441826276683]]), 22885526806: tensor([3028515421534799582]), 44799965005: tensor([3118169969557679072]), 26166618310: tensor([[596686070574628055]]), 9241346871: tensor([3199250206015417451]), 95222742020: tensor([2538826963979258488]), 53570799199: tensor([[3092669437946054423]]), 44313591279: tensor([1013816092656495965]), 35750766849: tensor([660423242036158963]), 28412258531: tensor([[3530914106440778032]]), 34875016193: tensor([1277381309021283908]), 95131104992: tensor([52601970661456205]), 18628735223: tensor([[1410052729842601751]]), 81753325832: tensor([4304396227165676185]), 93126958070: tensor([1224779338359827703]), 44123241989: tensor([[2240797174030652672]]), 66489839946: tensor([1026983467356370975]), 61067851427: tensor([1861951752221872295]), 56752984806: tensor([[3724222698200104767]]), 39682108414: tensor([4221122358993921784]), 30195124947: tensor([3776717733561886584]), 68315724595: tensor([[2824356022653829024]]), 56747889617: tensor([3048842909879299890]), 48133067769: tensor([3426549741390402495]), 17644993518: tensor([[3837151656814422890]]), 27845367743: tensor([566777915073332219]), 73201016111: tensor([4233979186916285299]), 83968836303: tensor([[569278674344325387]]), 6346332904: tensor([954604698129646046]), 79737556853: tensor([952676068906808080]), 94662160131: tensor([[3166354335480211510]]), 47715754205: tensor([3539074500302677065]), 68294500012: tensor([1928629222837966]), 97931507775: tensor([[3577786075710551446]]), 1717964944: tensor([3811419974982518575]), 56820099903: tensor([27252905547985866]), 85911988873: tensor([[567389497980212223]]), 19943319270: tensor([4332002130384288471]), 39788091632: tensor([3784167069434532709]), 980188421: tensor([[207530866652870240]]), 40912078143: tensor([[2164349974924277751]]), 22906072897: tensor([1263830768443172406]), 95676673361: tensor([[1871864839239102742]]), 87682966830: tensor([2996379395987173674]), 66443995396: tensor([3858795738770746337]), 30339481673: tensor([[787627161935358240]]), 10441105603: tensor([2317782798026790626]), 22371472316: tensor([2787874078716948433]), 74388112855: tensor([[787627161935358240]]), 2414719618: tensor([284074122158696030]), 72637782510: tensor([[1156931108837694440]]), 94184717082: tensor([3624268954383020572]), 17583937355: tensor([2503799956558252403]), 37271796624: tensor([[4242382071525051704]]), 10614357193: tensor([1550370057651708147])}\n",
      "Alice*2 {54786673182: tensor([4151532663562727429]), 6454201972: tensor([4302488474607679911]), 5442517305: tensor([1976171194324143902]), 89338351087: tensor([3469687243193852734]), 82363323259: tensor([[646946441826276683]]), 22885526806: tensor([3028515421534799582]), 44799965005: tensor([3118169969557679072]), 26166618310: tensor([[596686070574628055]]), 9241346871: tensor([3199250206015417451]), 95222742020: tensor([2538826963979258488]), 53570799199: tensor([[3092669437946054423]]), 44313591279: tensor([1013816092656495965]), 35750766849: tensor([660423242036158963]), 28412258531: tensor([[3530914106440778032]]), 34875016193: tensor([1277381309021283908]), 95131104992: tensor([52601970661456205]), 18628735223: tensor([[1410052729842601751]]), 81753325832: tensor([4304396227165676185]), 93126958070: tensor([1224779338359827703]), 44123241989: tensor([[2240797174030652672]]), 66489839946: tensor([1026983467356370975]), 61067851427: tensor([1861951752221872295]), 56752984806: tensor([[3724222698200104767]]), 39682108414: tensor([4221122358993921784]), 30195124947: tensor([3776717733561886584]), 68315724595: tensor([[2824356022653829024]]), 56747889617: tensor([3048842909879299890]), 48133067769: tensor([3426549741390402495]), 17644993518: tensor([[3837151656814422890]]), 27845367743: tensor([566777915073332219]), 73201016111: tensor([4233979186916285299]), 83968836303: tensor([[569278674344325387]]), 6346332904: tensor([954604698129646046]), 79737556853: tensor([952676068906808080]), 94662160131: tensor([[3166354335480211510]]), 47715754205: tensor([3539074500302677065]), 68294500012: tensor([1928629222837966]), 97931507775: tensor([[3577786075710551446]]), 1717964944: tensor([3811419974982518575]), 56820099903: tensor([27252905547985866]), 85911988873: tensor([[567389497980212223]]), 19943319270: tensor([4332002130384288471]), 39788091632: tensor([3784167069434532709]), 980188421: tensor([[207530866652870240]]), 40912078143: tensor([[2164349974924277751]]), 22906072897: tensor([1263830768443172406]), 95676673361: tensor([[1871864839239102742]]), 87682966830: tensor([2996379395987173674]), 66443995396: tensor([3858795738770746337]), 30339481673: tensor([[787627161935358240]]), 10441105603: tensor([2317782798026790626]), 22371472316: tensor([2787874078716948433]), 74388112855: tensor([[787627161935358240]]), 2414719618: tensor([284074122158696030]), 72637782510: tensor([[1156931108837694440]]), 94184717082: tensor([3624268954383020572]), 17583937355: tensor([2503799956558252403]), 37271796624: tensor([[4242382071525051704]]), 10614357193: tensor([1550370057651708147])}\n",
      "built [AdditiveSharingTensor]\n",
      "\t-> tensor([[4242382071525051704]])\n",
      "\t-> [PointerTensor | alice:27680107110 -> bob:87900864245]\n",
      "\t*crypto provider: charlie*\n",
      "register at 24284229471 (Wrapper)>tensor([-1498]) where empty\n",
      "# Parameter>FixedPrecisionTensor>[AdditiveSharingTensor]\n",
      "\t-> [PointerTensor | me:93942095022 -> alice:30339481673]\n",
      "\t-> [PointerTensor | me:40751998353 -> bob:28399856703]\n",
      "\t*crypto provider: charlie*\n",
      "register at 92984751881 (Wrapper)>tensor([[887]]) where empty\n",
      "# Parameter>FixedPrecisionTensor>[AdditiveSharingTensor]\n",
      "\t-> [PointerTensor | me:8598158522 -> alice:10441105603]\n",
      "\t-> [PointerTensor | me:56536484588 -> bob:9551109060]\n",
      "\t*crypto provider: charlie*\n",
      "register at 33009219648 (Wrapper)>tensor([-611]) where empty\n",
      "To floatprec_ Parameter containing:\n",
      "tensor([[0.8870]], requires_grad=True)\n",
      "To floatprec_ Parameter containing:\n",
      "tensor([-0.6110], requires_grad=True)\n",
      "===\n",
      "(Wrapper)>FixedPrecisionTensor>[AdditiveSharingTensor]\n",
      "\t-> [PointerTensor | me:93942095022 -> alice:30339481673]\n",
      "\t-> [PointerTensor | me:40751998353 -> bob:28399856703]\n",
      "\t*crypto provider: charlie*\n"
     ]
    }
   ],
   "source": [
    "class Net(sy.Plan):\n",
    "    def __init__(self):\n",
    "        super(Net, self).__init__()\n",
    "        self.fc1 = nn.Linear(1, 1)\n",
    "\n",
    "    def forward(self, x):\n",
    "        return self.fc1(x)\n",
    "\n",
    "plan = Net()\n",
    "plan.build(th.tensor([1.2]))\n",
    "    \n",
    "plan.fix_precision().share(alice, bob, crypto_provider=charlie)\n",
    "\n",
    "\n",
    "ptr_plan = plan.send(james)\n",
    "\n",
    "# Fetch plan\n",
    "fetched_plan = a(ptr_plan.id_at_location, james)\n",
    "\n",
    "\n",
    "# Execute the fetch plan\n",
    "x = th.tensor([-1.0])\n",
    "x_sh = x.fix_precision().share(alice, bob, crypto_provider=charlie)\n",
    "result = fetched_plan(x_sh)\n",
    "decrypted = result.get().float_prec()\n",
    "\n",
    "# Compare with local plan\n",
    "plan.get()\n",
    "plan.float_precision()\n",
    "x = th.tensor([-1.0])\n",
    "print('===')\n",
    "print(plan.fc1.weight)"
   ]
  },
  {
   "cell_type": "code",
   "execution_count": null,
   "metadata": {},
   "outputs": [],
   "source": []
  },
  {
   "cell_type": "code",
   "execution_count": null,
   "metadata": {},
   "outputs": [],
   "source": []
  },
  {
   "cell_type": "code",
   "execution_count": null,
   "metadata": {},
   "outputs": [],
   "source": []
  },
  {
   "cell_type": "code",
   "execution_count": 3,
   "metadata": {},
   "outputs": [],
   "source": [
    "is_func2plan = False"
   ]
  },
  {
   "cell_type": "code",
   "execution_count": 12,
   "metadata": {},
   "outputs": [
    {
     "name": "stdout",
     "output_type": "stream",
     "text": [
      "register at 27134786911 (Wrapper)>[PointerTensor | me:27134786911 -> 13395450242:69773591621] where empty\n",
      "Forward (Wrapper)>[PointerTensor | me:27134786911 -> 13395450242:69773591621] (Wrapper)>[PointerTensor | me:55065245503 -> 13395450242:38244555299]\n",
      "register at 53412873828 (Wrapper)>[PointerTensor | me:53412873828 -> 13395450242:19151945245] where empty\n",
      "id 79424336584\n",
      "id 79424336584\n",
      "id 38244555299\n",
      "id 38244555299\n",
      "register at 4335107448 (Wrapper)>tensor([[338]]) where empty\n",
      "register at 4335107448 (Wrapper)>[AdditiveSharingTensor]\n",
      "\t-> [PointerTensor | me:97803861412 -> alice:45180580120]\n",
      "\t-> [PointerTensor | me:83607462488 -> bob:67081857389]\n",
      "\t*crypto provider: charlie* where (Wrapper)>[AdditiveSharingTensor]\n",
      "\t-> [PointerTensor | me:97803861412 -> alice:45180580120]\n",
      "\t-> [PointerTensor | me:83607462488 -> bob:67081857389]\n",
      "\t*crypto provider: charlie*\n",
      "register at 43143683546 (Wrapper)>tensor([266]) where empty\n",
      "register at 43143683546 (Wrapper)>[AdditiveSharingTensor]\n",
      "\t-> [PointerTensor | me:31630350025 -> alice:56583622885]\n",
      "\t-> [PointerTensor | me:75752949025 -> bob:73772896996]\n",
      "\t*crypto provider: charlie* where (Wrapper)>[AdditiveSharingTensor]\n",
      "\t-> [PointerTensor | me:31630350025 -> alice:56583622885]\n",
      "\t-> [PointerTensor | me:75752949025 -> bob:73772896996]\n",
      "\t*crypto provider: charlie*\n",
      "[Parameter containing:\n",
      "(Wrapper)>FixedPrecisionTensor>[AdditiveSharingTensor]\n",
      "\t-> [PointerTensor | me:97803861412 -> alice:45180580120]\n",
      "\t-> [PointerTensor | me:83607462488 -> bob:67081857389]\n",
      "\t*crypto provider: charlie*, Parameter containing:\n",
      "(Wrapper)>FixedPrecisionTensor>[AdditiveSharingTensor]\n",
      "\t-> [PointerTensor | me:31630350025 -> alice:56583622885]\n",
      "\t-> [PointerTensor | me:75752949025 -> bob:73772896996]\n",
      "\t*crypto provider: charlie*]\n",
      "Alice2 {54786673182: tensor([4151532663562727429]), 6454201972: tensor([4302488474607679911]), 5442517305: tensor([1976171194324143902]), 89338351087: tensor([3469687243193852734]), 82363323259: tensor([[646946441826276683]]), 22885526806: tensor([3028515421534799582]), 44799965005: tensor([3118169969557679072]), 26166618310: tensor([[596686070574628055]]), 9241346871: tensor([3199250206015417451]), 95222742020: tensor([2538826963979258488]), 53570799199: tensor([[3092669437946054423]]), 44313591279: tensor([1013816092656495965]), 35750766849: tensor([660423242036158963]), 28412258531: tensor([[3530914106440778032]]), 34875016193: tensor([1277381309021283908]), 95131104992: tensor([52601970661456205]), 18628735223: tensor([[1410052729842601751]]), 81753325832: tensor([4304396227165676185]), 93126958070: tensor([1224779338359827703]), 44123241989: tensor([[2240797174030652672]]), 66489839946: tensor([1026983467356370975]), 61067851427: tensor([1861951752221872295]), 56752984806: tensor([[3724222698200104767]]), 39682108414: tensor([4221122358993921784]), 30195124947: tensor([3776717733561886584]), 68315724595: tensor([[2824356022653829024]]), 56747889617: tensor([3048842909879299890]), 48133067769: tensor([3426549741390402495]), 17644993518: tensor([[3837151656814422890]]), 27845367743: tensor([566777915073332219]), 73201016111: tensor([4233979186916285299]), 83968836303: tensor([[569278674344325387]]), 6346332904: tensor([954604698129646046]), 79737556853: tensor([952676068906808080]), 94662160131: tensor([[3166354335480211510]]), 47715754205: tensor([3539074500302677065]), 68294500012: tensor([1928629222837966]), 97931507775: tensor([[3577786075710551446]]), 45180580120: tensor([[774920364633082463]]), 56583622885: tensor([1210376991112900646])}\n",
      "Alice*1 {54786673182: tensor([4151532663562727429]), 6454201972: tensor([4302488474607679911]), 5442517305: tensor([1976171194324143902]), 89338351087: tensor([3469687243193852734]), 82363323259: tensor([[646946441826276683]]), 22885526806: tensor([3028515421534799582]), 44799965005: tensor([3118169969557679072]), 26166618310: tensor([[596686070574628055]]), 9241346871: tensor([3199250206015417451]), 95222742020: tensor([2538826963979258488]), 53570799199: tensor([[3092669437946054423]]), 44313591279: tensor([1013816092656495965]), 35750766849: tensor([660423242036158963]), 28412258531: tensor([[3530914106440778032]]), 34875016193: tensor([1277381309021283908]), 95131104992: tensor([52601970661456205]), 18628735223: tensor([[1410052729842601751]]), 81753325832: tensor([4304396227165676185]), 93126958070: tensor([1224779338359827703]), 44123241989: tensor([[2240797174030652672]]), 66489839946: tensor([1026983467356370975]), 61067851427: tensor([1861951752221872295]), 56752984806: tensor([[3724222698200104767]]), 39682108414: tensor([4221122358993921784]), 30195124947: tensor([3776717733561886584]), 68315724595: tensor([[2824356022653829024]]), 56747889617: tensor([3048842909879299890]), 48133067769: tensor([3426549741390402495]), 17644993518: tensor([[3837151656814422890]]), 27845367743: tensor([566777915073332219]), 73201016111: tensor([4233979186916285299]), 83968836303: tensor([[569278674344325387]]), 6346332904: tensor([954604698129646046]), 79737556853: tensor([952676068906808080]), 94662160131: tensor([[3166354335480211510]]), 47715754205: tensor([3539074500302677065]), 68294500012: tensor([1928629222837966]), 97931507775: tensor([[3577786075710551446]]), 45180580120: tensor([[774920364633082463]]), 56583622885: tensor([1210376991112900646])}\n",
      "Alice*2 {54786673182: tensor([4151532663562727429]), 6454201972: tensor([4302488474607679911]), 5442517305: tensor([1976171194324143902]), 89338351087: tensor([3469687243193852734]), 82363323259: tensor([[646946441826276683]]), 22885526806: tensor([3028515421534799582]), 44799965005: tensor([3118169969557679072]), 26166618310: tensor([[596686070574628055]]), 9241346871: tensor([3199250206015417451]), 95222742020: tensor([2538826963979258488]), 53570799199: tensor([[3092669437946054423]]), 44313591279: tensor([1013816092656495965]), 35750766849: tensor([660423242036158963]), 28412258531: tensor([[3530914106440778032]]), 34875016193: tensor([1277381309021283908]), 95131104992: tensor([52601970661456205]), 18628735223: tensor([[1410052729842601751]]), 81753325832: tensor([4304396227165676185]), 93126958070: tensor([1224779338359827703]), 44123241989: tensor([[2240797174030652672]]), 66489839946: tensor([1026983467356370975]), 61067851427: tensor([1861951752221872295]), 56752984806: tensor([[3724222698200104767]]), 39682108414: tensor([4221122358993921784]), 30195124947: tensor([3776717733561886584]), 68315724595: tensor([[2824356022653829024]]), 56747889617: tensor([3048842909879299890]), 48133067769: tensor([3426549741390402495]), 17644993518: tensor([[3837151656814422890]]), 27845367743: tensor([566777915073332219]), 73201016111: tensor([4233979186916285299]), 83968836303: tensor([[569278674344325387]]), 6346332904: tensor([954604698129646046]), 79737556853: tensor([952676068906808080]), 94662160131: tensor([[3166354335480211510]]), 47715754205: tensor([3539074500302677065]), 68294500012: tensor([1928629222837966]), 97931507775: tensor([[3577786075710551446]]), 45180580120: tensor([[774920364633082463]]), 56583622885: tensor([1210376991112900646])}\n",
      "built [AdditiveSharingTensor]\n",
      "\t-> [PointerTensor | dan:97803861412 -> alice:45180580120]\n",
      "\t-> [PointerTensor | dan:83607462488 -> bob:67081857389]\n",
      "\t*crypto provider: charlie*\n",
      "Alice*1 {54786673182: tensor([4151532663562727429]), 6454201972: tensor([4302488474607679911]), 5442517305: tensor([1976171194324143902]), 89338351087: tensor([3469687243193852734]), 82363323259: tensor([[646946441826276683]]), 22885526806: tensor([3028515421534799582]), 44799965005: tensor([3118169969557679072]), 26166618310: tensor([[596686070574628055]]), 9241346871: tensor([3199250206015417451]), 95222742020: tensor([2538826963979258488]), 53570799199: tensor([[3092669437946054423]]), 44313591279: tensor([1013816092656495965]), 35750766849: tensor([660423242036158963]), 28412258531: tensor([[3530914106440778032]]), 34875016193: tensor([1277381309021283908]), 95131104992: tensor([52601970661456205]), 18628735223: tensor([[1410052729842601751]]), 81753325832: tensor([4304396227165676185]), 93126958070: tensor([1224779338359827703]), 44123241989: tensor([[2240797174030652672]]), 66489839946: tensor([1026983467356370975]), 61067851427: tensor([1861951752221872295]), 56752984806: tensor([[3724222698200104767]]), 39682108414: tensor([4221122358993921784]), 30195124947: tensor([3776717733561886584]), 68315724595: tensor([[2824356022653829024]]), 56747889617: tensor([3048842909879299890]), 48133067769: tensor([3426549741390402495]), 17644993518: tensor([[3837151656814422890]]), 27845367743: tensor([566777915073332219]), 73201016111: tensor([4233979186916285299]), 83968836303: tensor([[569278674344325387]]), 6346332904: tensor([954604698129646046]), 79737556853: tensor([952676068906808080]), 94662160131: tensor([[3166354335480211510]]), 47715754205: tensor([3539074500302677065]), 68294500012: tensor([1928629222837966]), 97931507775: tensor([[3577786075710551446]]), 45180580120: tensor([[774920364633082463]]), 56583622885: tensor([1210376991112900646])}\n",
      "Alice*2 {54786673182: tensor([4151532663562727429]), 6454201972: tensor([4302488474607679911]), 5442517305: tensor([1976171194324143902]), 89338351087: tensor([3469687243193852734]), 82363323259: tensor([[646946441826276683]]), 22885526806: tensor([3028515421534799582]), 44799965005: tensor([3118169969557679072]), 26166618310: tensor([[596686070574628055]]), 9241346871: tensor([3199250206015417451]), 95222742020: tensor([2538826963979258488]), 53570799199: tensor([[3092669437946054423]]), 44313591279: tensor([1013816092656495965]), 35750766849: tensor([660423242036158963]), 28412258531: tensor([[3530914106440778032]]), 34875016193: tensor([1277381309021283908]), 95131104992: tensor([52601970661456205]), 18628735223: tensor([[1410052729842601751]]), 81753325832: tensor([4304396227165676185]), 93126958070: tensor([1224779338359827703]), 44123241989: tensor([[2240797174030652672]]), 66489839946: tensor([1026983467356370975]), 61067851427: tensor([1861951752221872295]), 56752984806: tensor([[3724222698200104767]]), 39682108414: tensor([4221122358993921784]), 30195124947: tensor([3776717733561886584]), 68315724595: tensor([[2824356022653829024]]), 56747889617: tensor([3048842909879299890]), 48133067769: tensor([3426549741390402495]), 17644993518: tensor([[3837151656814422890]]), 27845367743: tensor([566777915073332219]), 73201016111: tensor([4233979186916285299]), 83968836303: tensor([[569278674344325387]]), 6346332904: tensor([954604698129646046]), 79737556853: tensor([952676068906808080]), 94662160131: tensor([[3166354335480211510]]), 47715754205: tensor([3539074500302677065]), 68294500012: tensor([1928629222837966]), 97931507775: tensor([[3577786075710551446]]), 45180580120: tensor([[774920364633082463]]), 56583622885: tensor([1210376991112900646])}\n",
      "built [AdditiveSharingTensor]\n",
      "\t-> [PointerTensor | dan:31630350025 -> alice:56583622885]\n",
      "\t-> [PointerTensor | dan:75752949025 -> bob:73772896996]\n",
      "\t*crypto provider: charlie*\n",
      "Alice2b {54786673182: tensor([4151532663562727429]), 6454201972: tensor([4302488474607679911]), 5442517305: tensor([1976171194324143902]), 89338351087: tensor([3469687243193852734]), 82363323259: tensor([[646946441826276683]]), 22885526806: tensor([3028515421534799582]), 44799965005: tensor([3118169969557679072]), 26166618310: tensor([[596686070574628055]]), 9241346871: tensor([3199250206015417451]), 95222742020: tensor([2538826963979258488]), 53570799199: tensor([[3092669437946054423]]), 44313591279: tensor([1013816092656495965]), 35750766849: tensor([660423242036158963]), 28412258531: tensor([[3530914106440778032]]), 34875016193: tensor([1277381309021283908]), 95131104992: tensor([52601970661456205]), 18628735223: tensor([[1410052729842601751]]), 81753325832: tensor([4304396227165676185]), 93126958070: tensor([1224779338359827703]), 44123241989: tensor([[2240797174030652672]]), 66489839946: tensor([1026983467356370975]), 61067851427: tensor([1861951752221872295]), 56752984806: tensor([[3724222698200104767]]), 39682108414: tensor([4221122358993921784]), 30195124947: tensor([3776717733561886584]), 68315724595: tensor([[2824356022653829024]]), 56747889617: tensor([3048842909879299890]), 48133067769: tensor([3426549741390402495]), 17644993518: tensor([[3837151656814422890]]), 27845367743: tensor([566777915073332219]), 73201016111: tensor([4233979186916285299]), 83968836303: tensor([[569278674344325387]]), 6346332904: tensor([954604698129646046]), 79737556853: tensor([952676068906808080]), 94662160131: tensor([[3166354335480211510]]), 47715754205: tensor([3539074500302677065]), 68294500012: tensor([1928629222837966]), 97931507775: tensor([[3577786075710551446]]), 45180580120: tensor([[774920364633082463]]), 56583622885: tensor([1210376991112900646])}\n",
      "[Parameter containing:\n",
      "Parameter>FixedPrecisionTensor>[AdditiveSharingTensor]\n",
      "\t-> [PointerTensor | dan:97803861412 -> alice:45180580120]\n",
      "\t-> [PointerTensor | dan:83607462488 -> bob:67081857389]\n",
      "\t*crypto provider: charlie*, Parameter containing:\n",
      "Parameter>FixedPrecisionTensor>[AdditiveSharingTensor]\n",
      "\t-> [PointerTensor | dan:31630350025 -> alice:56583622885]\n",
      "\t-> [PointerTensor | dan:75752949025 -> bob:73772896996]\n",
      "\t*crypto provider: charlie*]\n",
      "Alice2 {54786673182: tensor([4151532663562727429]), 6454201972: tensor([4302488474607679911]), 5442517305: tensor([1976171194324143902]), 89338351087: tensor([3469687243193852734]), 82363323259: tensor([[646946441826276683]]), 22885526806: tensor([3028515421534799582]), 44799965005: tensor([3118169969557679072]), 26166618310: tensor([[596686070574628055]]), 9241346871: tensor([3199250206015417451]), 95222742020: tensor([2538826963979258488]), 53570799199: tensor([[3092669437946054423]]), 44313591279: tensor([1013816092656495965]), 35750766849: tensor([660423242036158963]), 28412258531: tensor([[3530914106440778032]]), 34875016193: tensor([1277381309021283908]), 95131104992: tensor([52601970661456205]), 18628735223: tensor([[1410052729842601751]]), 81753325832: tensor([4304396227165676185]), 93126958070: tensor([1224779338359827703]), 44123241989: tensor([[2240797174030652672]]), 66489839946: tensor([1026983467356370975]), 61067851427: tensor([1861951752221872295]), 56752984806: tensor([[3724222698200104767]]), 39682108414: tensor([4221122358993921784]), 30195124947: tensor([3776717733561886584]), 68315724595: tensor([[2824356022653829024]]), 56747889617: tensor([3048842909879299890]), 48133067769: tensor([3426549741390402495]), 17644993518: tensor([[3837151656814422890]]), 27845367743: tensor([566777915073332219]), 73201016111: tensor([4233979186916285299]), 83968836303: tensor([[569278674344325387]]), 6346332904: tensor([954604698129646046]), 79737556853: tensor([952676068906808080]), 94662160131: tensor([[3166354335480211510]]), 47715754205: tensor([3539074500302677065]), 68294500012: tensor([1928629222837966]), 97931507775: tensor([[3577786075710551446]]), 45180580120: tensor([[774920364633082463]]), 56583622885: tensor([1210376991112900646])}\n",
      "Alice*1 {54786673182: tensor([4151532663562727429]), 6454201972: tensor([4302488474607679911]), 5442517305: tensor([1976171194324143902]), 89338351087: tensor([3469687243193852734]), 82363323259: tensor([[646946441826276683]]), 22885526806: tensor([3028515421534799582]), 44799965005: tensor([3118169969557679072]), 26166618310: tensor([[596686070574628055]]), 9241346871: tensor([3199250206015417451]), 95222742020: tensor([2538826963979258488]), 53570799199: tensor([[3092669437946054423]]), 44313591279: tensor([1013816092656495965]), 35750766849: tensor([660423242036158963]), 28412258531: tensor([[3530914106440778032]]), 34875016193: tensor([1277381309021283908]), 95131104992: tensor([52601970661456205]), 18628735223: tensor([[1410052729842601751]]), 81753325832: tensor([4304396227165676185]), 93126958070: tensor([1224779338359827703]), 44123241989: tensor([[2240797174030652672]]), 66489839946: tensor([1026983467356370975]), 61067851427: tensor([1861951752221872295]), 56752984806: tensor([[3724222698200104767]]), 39682108414: tensor([4221122358993921784]), 30195124947: tensor([3776717733561886584]), 68315724595: tensor([[2824356022653829024]]), 56747889617: tensor([3048842909879299890]), 48133067769: tensor([3426549741390402495]), 17644993518: tensor([[3837151656814422890]]), 27845367743: tensor([566777915073332219]), 73201016111: tensor([4233979186916285299]), 83968836303: tensor([[569278674344325387]]), 6346332904: tensor([954604698129646046]), 79737556853: tensor([952676068906808080]), 94662160131: tensor([[3166354335480211510]]), 47715754205: tensor([3539074500302677065]), 68294500012: tensor([1928629222837966]), 97931507775: tensor([[3577786075710551446]]), 45180580120: tensor([[774920364633082463]]), 56583622885: tensor([1210376991112900646])}\n",
      "Alice*2 {54786673182: tensor([4151532663562727429]), 6454201972: tensor([4302488474607679911]), 5442517305: tensor([1976171194324143902]), 89338351087: tensor([3469687243193852734]), 82363323259: tensor([[646946441826276683]]), 22885526806: tensor([3028515421534799582]), 44799965005: tensor([3118169969557679072]), 26166618310: tensor([[596686070574628055]]), 9241346871: tensor([3199250206015417451]), 95222742020: tensor([2538826963979258488]), 53570799199: tensor([[3092669437946054423]]), 44313591279: tensor([1013816092656495965]), 35750766849: tensor([660423242036158963]), 28412258531: tensor([[3530914106440778032]]), 34875016193: tensor([1277381309021283908]), 95131104992: tensor([52601970661456205]), 18628735223: tensor([[1410052729842601751]]), 81753325832: tensor([4304396227165676185]), 93126958070: tensor([1224779338359827703]), 44123241989: tensor([[2240797174030652672]]), 66489839946: tensor([1026983467356370975]), 61067851427: tensor([1861951752221872295]), 56752984806: tensor([[3724222698200104767]]), 39682108414: tensor([4221122358993921784]), 30195124947: tensor([3776717733561886584]), 68315724595: tensor([[2824356022653829024]]), 56747889617: tensor([3048842909879299890]), 48133067769: tensor([3426549741390402495]), 17644993518: tensor([[3837151656814422890]]), 27845367743: tensor([566777915073332219]), 73201016111: tensor([4233979186916285299]), 83968836303: tensor([[569278674344325387]]), 6346332904: tensor([954604698129646046]), 79737556853: tensor([952676068906808080]), 94662160131: tensor([[3166354335480211510]]), 47715754205: tensor([3539074500302677065]), 68294500012: tensor([1928629222837966]), 97931507775: tensor([[3577786075710551446]]), 45180580120: tensor([[774920364633082463]]), 56583622885: tensor([1210376991112900646])}\n",
      "built [AdditiveSharingTensor]\n",
      "\t-> [PointerTensor | me:97803861412 -> alice:45180580120]\n",
      "\t-> [PointerTensor | me:83607462488 -> bob:67081857389]\n",
      "\t*crypto provider: charlie*\n",
      "Alice*1 {54786673182: tensor([4151532663562727429]), 6454201972: tensor([4302488474607679911]), 5442517305: tensor([1976171194324143902]), 89338351087: tensor([3469687243193852734]), 82363323259: tensor([[646946441826276683]]), 22885526806: tensor([3028515421534799582]), 44799965005: tensor([3118169969557679072]), 26166618310: tensor([[596686070574628055]]), 9241346871: tensor([3199250206015417451]), 95222742020: tensor([2538826963979258488]), 53570799199: tensor([[3092669437946054423]]), 44313591279: tensor([1013816092656495965]), 35750766849: tensor([660423242036158963]), 28412258531: tensor([[3530914106440778032]]), 34875016193: tensor([1277381309021283908]), 95131104992: tensor([52601970661456205]), 18628735223: tensor([[1410052729842601751]]), 81753325832: tensor([4304396227165676185]), 93126958070: tensor([1224779338359827703]), 44123241989: tensor([[2240797174030652672]]), 66489839946: tensor([1026983467356370975]), 61067851427: tensor([1861951752221872295]), 56752984806: tensor([[3724222698200104767]]), 39682108414: tensor([4221122358993921784]), 30195124947: tensor([3776717733561886584]), 68315724595: tensor([[2824356022653829024]]), 56747889617: tensor([3048842909879299890]), 48133067769: tensor([3426549741390402495]), 17644993518: tensor([[3837151656814422890]]), 27845367743: tensor([566777915073332219]), 73201016111: tensor([4233979186916285299]), 83968836303: tensor([[569278674344325387]]), 6346332904: tensor([954604698129646046]), 79737556853: tensor([952676068906808080]), 94662160131: tensor([[3166354335480211510]]), 47715754205: tensor([3539074500302677065]), 68294500012: tensor([1928629222837966]), 97931507775: tensor([[3577786075710551446]]), 45180580120: tensor([[774920364633082463]]), 56583622885: tensor([1210376991112900646])}\n",
      "Alice*2 {54786673182: tensor([4151532663562727429]), 6454201972: tensor([4302488474607679911]), 5442517305: tensor([1976171194324143902]), 89338351087: tensor([3469687243193852734]), 82363323259: tensor([[646946441826276683]]), 22885526806: tensor([3028515421534799582]), 44799965005: tensor([3118169969557679072]), 26166618310: tensor([[596686070574628055]]), 9241346871: tensor([3199250206015417451]), 95222742020: tensor([2538826963979258488]), 53570799199: tensor([[3092669437946054423]]), 44313591279: tensor([1013816092656495965]), 35750766849: tensor([660423242036158963]), 28412258531: tensor([[3530914106440778032]]), 34875016193: tensor([1277381309021283908]), 95131104992: tensor([52601970661456205]), 18628735223: tensor([[1410052729842601751]]), 81753325832: tensor([4304396227165676185]), 93126958070: tensor([1224779338359827703]), 44123241989: tensor([[2240797174030652672]]), 66489839946: tensor([1026983467356370975]), 61067851427: tensor([1861951752221872295]), 56752984806: tensor([[3724222698200104767]]), 39682108414: tensor([4221122358993921784]), 30195124947: tensor([3776717733561886584]), 68315724595: tensor([[2824356022653829024]]), 56747889617: tensor([3048842909879299890]), 48133067769: tensor([3426549741390402495]), 17644993518: tensor([[3837151656814422890]]), 27845367743: tensor([566777915073332219]), 73201016111: tensor([4233979186916285299]), 83968836303: tensor([[569278674344325387]]), 6346332904: tensor([954604698129646046]), 79737556853: tensor([952676068906808080]), 94662160131: tensor([[3166354335480211510]]), 47715754205: tensor([3539074500302677065]), 68294500012: tensor([1928629222837966]), 97931507775: tensor([[3577786075710551446]]), 45180580120: tensor([[774920364633082463]]), 56583622885: tensor([1210376991112900646])}\n",
      "built [AdditiveSharingTensor]\n",
      "\t-> [PointerTensor | me:31630350025 -> alice:56583622885]\n",
      "\t-> [PointerTensor | me:75752949025 -> bob:73772896996]\n",
      "\t*crypto provider: charlie*\n",
      "Alice2b {54786673182: tensor([4151532663562727429]), 6454201972: tensor([4302488474607679911]), 5442517305: tensor([1976171194324143902]), 89338351087: tensor([3469687243193852734]), 82363323259: tensor([[646946441826276683]]), 22885526806: tensor([3028515421534799582]), 44799965005: tensor([3118169969557679072]), 26166618310: tensor([[596686070574628055]]), 9241346871: tensor([3199250206015417451]), 95222742020: tensor([2538826963979258488]), 53570799199: tensor([[3092669437946054423]]), 44313591279: tensor([1013816092656495965]), 35750766849: tensor([660423242036158963]), 28412258531: tensor([[3530914106440778032]]), 34875016193: tensor([1277381309021283908]), 95131104992: tensor([52601970661456205]), 18628735223: tensor([[1410052729842601751]]), 81753325832: tensor([4304396227165676185]), 93126958070: tensor([1224779338359827703]), 44123241989: tensor([[2240797174030652672]]), 66489839946: tensor([1026983467356370975]), 61067851427: tensor([1861951752221872295]), 56752984806: tensor([[3724222698200104767]]), 39682108414: tensor([4221122358993921784]), 30195124947: tensor([3776717733561886584]), 68315724595: tensor([[2824356022653829024]]), 56747889617: tensor([3048842909879299890]), 48133067769: tensor([3426549741390402495]), 17644993518: tensor([[3837151656814422890]]), 27845367743: tensor([566777915073332219]), 73201016111: tensor([4233979186916285299]), 83968836303: tensor([[569278674344325387]]), 6346332904: tensor([954604698129646046]), 79737556853: tensor([952676068906808080]), 94662160131: tensor([[3166354335480211510]]), 47715754205: tensor([3539074500302677065]), 68294500012: tensor([1928629222837966]), 97931507775: tensor([[3577786075710551446]]), 45180580120: tensor([[774920364633082463]]), 56583622885: tensor([1210376991112900646])}\n",
      "register at 1497185251 (Wrapper)>FixedPrecisionTensor>tensor([4611686018427386904]) where empty\n",
      "register at 16889514496 (Wrapper)>tensor([4611686018427386904]) where empty\n",
      "register at 11367131507 (Wrapper)>FixedPrecisionTensor>[AdditiveSharingTensor]\n",
      "\t-> [PointerTensor | me:92960454832 -> alice:1717964944]\n",
      "\t-> [PointerTensor | me:89782921408 -> bob:1629331790]\n",
      "\t*crypto provider: charlie* where empty\n",
      "READABLE [(31, (1, ((6, ((5, (b'torch.nn.functional.linear',)), None, (6, ((23, (27134786911, 11367131507, 'me', None, (10, (1,)), True)), (23, (66514790364, 79424336584, 'me', None, (10, (1, 1)), True)), (23, (55065245503, 38244555299, 'me', None, (10, (1,)), True)))), (0, ()))), (35253514308,))))]\n",
      "register at 80975665439 (Wrapper)>tensor([2481718931828273310]) where empty\n",
      "register at 80975665439 (Wrapper)>[AdditiveSharingTensor]\n",
      "\t-> [PointerTensor | me:19655385095 -> alice:56820099903]\n",
      "\t-> [PointerTensor | me:61424630084 -> bob:91291920759]\n",
      "\t*crypto provider: charlie* where (Wrapper)>[AdditiveSharingTensor]\n",
      "\t-> [PointerTensor | me:19655385095 -> alice:56820099903]\n",
      "\t-> [PointerTensor | me:61424630084 -> bob:91291920759]\n",
      "\t*crypto provider: charlie*\n",
      "register at 25658178973 (Wrapper)>tensor([[3301701997886600738]]) where empty\n",
      "register at 25658178973 (Wrapper)>[AdditiveSharingTensor]\n",
      "\t-> [PointerTensor | me:69781631620 -> alice:85911988873]\n",
      "\t-> [PointerTensor | me:9008744110 -> bob:51275339976]\n",
      "\t*crypto provider: charlie* where (Wrapper)>[AdditiveSharingTensor]\n",
      "\t-> [PointerTensor | me:69781631620 -> alice:85911988873]\n",
      "\t-> [PointerTensor | me:9008744110 -> bob:51275339976]\n",
      "\t*crypto provider: charlie*\n",
      "register at 57583661778 (Wrapper)>tensor([7939248839859095804]) where empty\n",
      "register at 57583661778 (Wrapper)>[AdditiveSharingTensor]\n",
      "\t-> [PointerTensor | me:67257026700 -> alice:19943319270]\n",
      "\t-> [PointerTensor | me:36526651214 -> bob:34519254057]\n",
      "\t*crypto provider: charlie* where (Wrapper)>[AdditiveSharingTensor]\n",
      "\t-> [PointerTensor | me:67257026700 -> alice:19943319270]\n",
      "\t-> [PointerTensor | me:36526651214 -> bob:34519254057]\n",
      "\t*crypto provider: charlie*\n",
      "Alice*1 {54786673182: tensor([4151532663562727429]), 6454201972: tensor([4302488474607679911]), 5442517305: tensor([1976171194324143902]), 89338351087: tensor([3469687243193852734]), 82363323259: tensor([[646946441826276683]]), 22885526806: tensor([3028515421534799582]), 44799965005: tensor([3118169969557679072]), 26166618310: tensor([[596686070574628055]]), 9241346871: tensor([3199250206015417451]), 95222742020: tensor([2538826963979258488]), 53570799199: tensor([[3092669437946054423]]), 44313591279: tensor([1013816092656495965]), 35750766849: tensor([660423242036158963]), 28412258531: tensor([[3530914106440778032]]), 34875016193: tensor([1277381309021283908]), 95131104992: tensor([52601970661456205]), 18628735223: tensor([[1410052729842601751]]), 81753325832: tensor([4304396227165676185]), 93126958070: tensor([1224779338359827703]), 44123241989: tensor([[2240797174030652672]]), 66489839946: tensor([1026983467356370975]), 61067851427: tensor([1861951752221872295]), 56752984806: tensor([[3724222698200104767]]), 39682108414: tensor([4221122358993921784]), 30195124947: tensor([3776717733561886584]), 68315724595: tensor([[2824356022653829024]]), 56747889617: tensor([3048842909879299890]), 48133067769: tensor([3426549741390402495]), 17644993518: tensor([[3837151656814422890]]), 27845367743: tensor([566777915073332219]), 73201016111: tensor([4233979186916285299]), 83968836303: tensor([[569278674344325387]]), 6346332904: tensor([954604698129646046]), 79737556853: tensor([952676068906808080]), 94662160131: tensor([[3166354335480211510]]), 47715754205: tensor([3539074500302677065]), 68294500012: tensor([1928629222837966]), 97931507775: tensor([[3577786075710551446]]), 45180580120: tensor([[774920364633082463]]), 56583622885: tensor([1210376991112900646]), 1717964944: tensor([3811419974982518575]), 67773815042: tensor([[774920364633082463]]), 56820099903: tensor([27252905547985866]), 85911988873: tensor([[567389497980212223]]), 19943319270: tensor([4332002130384288471]), 39788091632: tensor([3784167069434532709]), 980188421: tensor([[207530866652870240]])}\n",
      "Alice*2 {54786673182: tensor([4151532663562727429]), 6454201972: tensor([4302488474607679911]), 5442517305: tensor([1976171194324143902]), 89338351087: tensor([3469687243193852734]), 82363323259: tensor([[646946441826276683]]), 22885526806: tensor([3028515421534799582]), 44799965005: tensor([3118169969557679072]), 26166618310: tensor([[596686070574628055]]), 9241346871: tensor([3199250206015417451]), 95222742020: tensor([2538826963979258488]), 53570799199: tensor([[3092669437946054423]]), 44313591279: tensor([1013816092656495965]), 35750766849: tensor([660423242036158963]), 28412258531: tensor([[3530914106440778032]]), 34875016193: tensor([1277381309021283908]), 95131104992: tensor([52601970661456205]), 18628735223: tensor([[1410052729842601751]]), 81753325832: tensor([4304396227165676185]), 93126958070: tensor([1224779338359827703]), 44123241989: tensor([[2240797174030652672]]), 66489839946: tensor([1026983467356370975]), 61067851427: tensor([1861951752221872295]), 56752984806: tensor([[3724222698200104767]]), 39682108414: tensor([4221122358993921784]), 30195124947: tensor([3776717733561886584]), 68315724595: tensor([[2824356022653829024]]), 56747889617: tensor([3048842909879299890]), 48133067769: tensor([3426549741390402495]), 17644993518: tensor([[3837151656814422890]]), 27845367743: tensor([566777915073332219]), 73201016111: tensor([4233979186916285299]), 83968836303: tensor([[569278674344325387]]), 6346332904: tensor([954604698129646046]), 79737556853: tensor([952676068906808080]), 94662160131: tensor([[3166354335480211510]]), 47715754205: tensor([3539074500302677065]), 68294500012: tensor([1928629222837966]), 97931507775: tensor([[3577786075710551446]]), 45180580120: tensor([[774920364633082463]]), 56583622885: tensor([1210376991112900646]), 1717964944: tensor([3811419974982518575]), 67773815042: tensor([[774920364633082463]]), 56820099903: tensor([27252905547985866]), 85911988873: tensor([[567389497980212223]]), 19943319270: tensor([4332002130384288471]), 39788091632: tensor([3784167069434532709]), 980188421: tensor([[207530866652870240]])}\n",
      "built [AdditiveSharingTensor]\n",
      "\t-> tensor([3784167069434532709])\n",
      "\t-> [PointerTensor | alice:5313178766 -> bob:35913241514]\n",
      "\t*crypto provider: charlie*\n",
      "Alice*1 {54786673182: tensor([4151532663562727429]), 6454201972: tensor([4302488474607679911]), 5442517305: tensor([1976171194324143902]), 89338351087: tensor([3469687243193852734]), 82363323259: tensor([[646946441826276683]]), 22885526806: tensor([3028515421534799582]), 44799965005: tensor([3118169969557679072]), 26166618310: tensor([[596686070574628055]]), 9241346871: tensor([3199250206015417451]), 95222742020: tensor([2538826963979258488]), 53570799199: tensor([[3092669437946054423]]), 44313591279: tensor([1013816092656495965]), 35750766849: tensor([660423242036158963]), 28412258531: tensor([[3530914106440778032]]), 34875016193: tensor([1277381309021283908]), 95131104992: tensor([52601970661456205]), 18628735223: tensor([[1410052729842601751]]), 81753325832: tensor([4304396227165676185]), 93126958070: tensor([1224779338359827703]), 44123241989: tensor([[2240797174030652672]]), 66489839946: tensor([1026983467356370975]), 61067851427: tensor([1861951752221872295]), 56752984806: tensor([[3724222698200104767]]), 39682108414: tensor([4221122358993921784]), 30195124947: tensor([3776717733561886584]), 68315724595: tensor([[2824356022653829024]]), 56747889617: tensor([3048842909879299890]), 48133067769: tensor([3426549741390402495]), 17644993518: tensor([[3837151656814422890]]), 27845367743: tensor([566777915073332219]), 73201016111: tensor([4233979186916285299]), 83968836303: tensor([[569278674344325387]]), 6346332904: tensor([954604698129646046]), 79737556853: tensor([952676068906808080]), 94662160131: tensor([[3166354335480211510]]), 47715754205: tensor([3539074500302677065]), 68294500012: tensor([1928629222837966]), 97931507775: tensor([[3577786075710551446]]), 45180580120: tensor([[774920364633082463]]), 56583622885: tensor([1210376991112900646]), 1717964944: tensor([3811419974982518575]), 67773815042: tensor([[774920364633082463]]), 56820099903: tensor([27252905547985866]), 85911988873: tensor([[567389497980212223]]), 19943319270: tensor([4332002130384288471]), 39788091632: tensor([3784167069434532709]), 980188421: tensor([[207530866652870240]]), 36792745072: tensor([2129967086599113594])}\n",
      "Alice*2 {54786673182: tensor([4151532663562727429]), 6454201972: tensor([4302488474607679911]), 5442517305: tensor([1976171194324143902]), 89338351087: tensor([3469687243193852734]), 82363323259: tensor([[646946441826276683]]), 22885526806: tensor([3028515421534799582]), 44799965005: tensor([3118169969557679072]), 26166618310: tensor([[596686070574628055]]), 9241346871: tensor([3199250206015417451]), 95222742020: tensor([2538826963979258488]), 53570799199: tensor([[3092669437946054423]]), 44313591279: tensor([1013816092656495965]), 35750766849: tensor([660423242036158963]), 28412258531: tensor([[3530914106440778032]]), 34875016193: tensor([1277381309021283908]), 95131104992: tensor([52601970661456205]), 18628735223: tensor([[1410052729842601751]]), 81753325832: tensor([4304396227165676185]), 93126958070: tensor([1224779338359827703]), 44123241989: tensor([[2240797174030652672]]), 66489839946: tensor([1026983467356370975]), 61067851427: tensor([1861951752221872295]), 56752984806: tensor([[3724222698200104767]]), 39682108414: tensor([4221122358993921784]), 30195124947: tensor([3776717733561886584]), 68315724595: tensor([[2824356022653829024]]), 56747889617: tensor([3048842909879299890]), 48133067769: tensor([3426549741390402495]), 17644993518: tensor([[3837151656814422890]]), 27845367743: tensor([566777915073332219]), 73201016111: tensor([4233979186916285299]), 83968836303: tensor([[569278674344325387]]), 6346332904: tensor([954604698129646046]), 79737556853: tensor([952676068906808080]), 94662160131: tensor([[3166354335480211510]]), 47715754205: tensor([3539074500302677065]), 68294500012: tensor([1928629222837966]), 97931507775: tensor([[3577786075710551446]]), 45180580120: tensor([[774920364633082463]]), 56583622885: tensor([1210376991112900646]), 1717964944: tensor([3811419974982518575]), 67773815042: tensor([[774920364633082463]]), 56820099903: tensor([27252905547985866]), 85911988873: tensor([[567389497980212223]]), 19943319270: tensor([4332002130384288471]), 39788091632: tensor([3784167069434532709]), 980188421: tensor([[207530866652870240]]), 36792745072: tensor([2129967086599113594])}\n",
      "built [AdditiveSharingTensor]\n",
      "\t-> tensor([[207530866652870240]])\n",
      "\t-> [PointerTensor | alice:92945974706 -> bob:37067840172]\n",
      "\t*crypto provider: charlie*\n",
      "register at 78108602617 (Wrapper)>tensor([-72]) where empty\n",
      "# Parameter>FixedPrecisionTensor>[AdditiveSharingTensor]\n",
      "\t-> [PointerTensor | me:97803861412 -> alice:45180580120]\n",
      "\t-> [PointerTensor | me:83607462488 -> bob:67081857389]\n",
      "\t*crypto provider: charlie*\n",
      "register at 97490463145 (Wrapper)>tensor([[338]]) where empty\n",
      "# Parameter>FixedPrecisionTensor>[AdditiveSharingTensor]\n",
      "\t-> [PointerTensor | me:31630350025 -> alice:56583622885]\n",
      "\t-> [PointerTensor | me:75752949025 -> bob:73772896996]\n",
      "\t*crypto provider: charlie*\n",
      "register at 2908609207 (Wrapper)>tensor([266]) where empty\n",
      "To floatprec_ Parameter containing:\n",
      "tensor([[0.3380]], requires_grad=True)\n",
      "To floatprec_ Parameter containing:\n",
      "tensor([0.2660], requires_grad=True)\n",
      "===\n",
      "(Wrapper)>FixedPrecisionTensor>[AdditiveSharingTensor]\n",
      "\t-> [PointerTensor | me:97803861412 -> alice:45180580120]\n",
      "\t-> [PointerTensor | me:83607462488 -> bob:67081857389]\n",
      "\t*crypto provider: charlie*\n",
      "Forward tensor([-1.]) (Wrapper)>FixedPrecisionTensor>[AdditiveSharingTensor]\n",
      "\t-> [PointerTensor | me:31630350025 -> alice:56583622885]\n",
      "\t-> [PointerTensor | me:75752949025 -> bob:73772896996]\n",
      "\t*crypto provider: charlie*\n"
     ]
    },
    {
     "ename": "KeyError",
     "evalue": "'Object \"45180580120\" not found on worker!!!You just tried to interact with an object ID:45180580120 on <VirtualWorker id:alice #objects:44> which does not exist!!! Use .send() and .get() on all your tensors to make sure they\\'reon the same machines. If you think this tensor does exist, check the ._objects dictionaryon the worker and see for yourself!!! The most common reason this error happens is because someone calls.get() on the object\\'s pointer without realizing it (which deletes the remote object and sends it to the pointer). Check your code to make sure you haven\\'t already called .get() on this pointer!!!'",
     "output_type": "error",
     "traceback": [
      "\u001b[0;31m---------------------------------------------------------------------------\u001b[0m",
      "\u001b[0;31mPureFrameworkTensorFoundError\u001b[0m             Traceback (most recent call last)",
      "\u001b[0;32m~/code/PySyft/syft/frameworks/torch/tensors/interpreters/native.py\u001b[0m in \u001b[0;36mhandle_func_command\u001b[0;34m(cls, command)\u001b[0m\n\u001b[1;32m    287\u001b[0m             new_args, new_kwargs, new_type, args_type = hook_args.unwrap_args_from_function(\n\u001b[0;32m--> 288\u001b[0;31m                 \u001b[0mcmd\u001b[0m\u001b[0;34m,\u001b[0m \u001b[0margs\u001b[0m\u001b[0;34m,\u001b[0m \u001b[0mkwargs\u001b[0m\u001b[0;34m,\u001b[0m \u001b[0mreturn_args_type\u001b[0m\u001b[0;34m=\u001b[0m\u001b[0;32mTrue\u001b[0m\u001b[0;34m\u001b[0m\u001b[0m\n\u001b[0m\u001b[1;32m    289\u001b[0m             )\n",
      "\u001b[0;32m~/code/PySyft/syft/generic/frameworks/hook/hook_args.py\u001b[0m in \u001b[0;36munwrap_args_from_function\u001b[0;34m(attr, args, kwargs, return_args_type)\u001b[0m\n\u001b[1;32m    165\u001b[0m         \u001b[0;31m# Try running it\u001b[0m\u001b[0;34m\u001b[0m\u001b[0;34m\u001b[0m\u001b[0m\n\u001b[0;32m--> 166\u001b[0;31m         \u001b[0mnew_args\u001b[0m \u001b[0;34m=\u001b[0m \u001b[0mhook_args\u001b[0m\u001b[0;34m(\u001b[0m\u001b[0margs\u001b[0m\u001b[0;34m)\u001b[0m\u001b[0;34m\u001b[0m\u001b[0m\n\u001b[0m\u001b[1;32m    167\u001b[0m \u001b[0;34m\u001b[0m\u001b[0m\n",
      "\u001b[0;32m~/code/PySyft/syft/generic/frameworks/hook/hook_args.py\u001b[0m in \u001b[0;36m<lambda>\u001b[0;34m(x)\u001b[0m\n\u001b[1;32m    358\u001b[0m \u001b[0;34m\u001b[0m\u001b[0m\n\u001b[0;32m--> 359\u001b[0;31m     \u001b[0;32mreturn\u001b[0m \u001b[0;32mlambda\u001b[0m \u001b[0mx\u001b[0m\u001b[0;34m:\u001b[0m \u001b[0mf\u001b[0m\u001b[0;34m(\u001b[0m\u001b[0mlambdas\u001b[0m\u001b[0;34m,\u001b[0m \u001b[0mx\u001b[0m\u001b[0;34m)\u001b[0m\u001b[0;34m\u001b[0m\u001b[0m\n\u001b[0m\u001b[1;32m    360\u001b[0m \u001b[0;34m\u001b[0m\u001b[0m\n",
      "\u001b[0;32m~/code/PySyft/syft/generic/frameworks/hook/hook_args.py\u001b[0m in \u001b[0;36mthree_fold\u001b[0;34m(lambdas, args, **kwargs)\u001b[0m\n\u001b[1;32m    528\u001b[0m     return (\n\u001b[0;32m--> 529\u001b[0;31m         \u001b[0mlambdas\u001b[0m\u001b[0;34m[\u001b[0m\u001b[0;36m0\u001b[0m\u001b[0;34m]\u001b[0m\u001b[0;34m(\u001b[0m\u001b[0margs\u001b[0m\u001b[0;34m[\u001b[0m\u001b[0;36m0\u001b[0m\u001b[0;34m]\u001b[0m\u001b[0;34m,\u001b[0m \u001b[0;34m**\u001b[0m\u001b[0mkwargs\u001b[0m\u001b[0;34m)\u001b[0m\u001b[0;34m,\u001b[0m\u001b[0;34m\u001b[0m\u001b[0m\n\u001b[0m\u001b[1;32m    530\u001b[0m         \u001b[0mlambdas\u001b[0m\u001b[0;34m[\u001b[0m\u001b[0;36m1\u001b[0m\u001b[0;34m]\u001b[0m\u001b[0;34m(\u001b[0m\u001b[0margs\u001b[0m\u001b[0;34m[\u001b[0m\u001b[0;36m1\u001b[0m\u001b[0;34m]\u001b[0m\u001b[0;34m,\u001b[0m \u001b[0;34m**\u001b[0m\u001b[0mkwargs\u001b[0m\u001b[0;34m)\u001b[0m\u001b[0;34m,\u001b[0m\u001b[0;34m\u001b[0m\u001b[0m\n",
      "\u001b[0;32m~/code/PySyft/syft/generic/frameworks/hook/hook_args.py\u001b[0m in \u001b[0;36m<lambda>\u001b[0;34m(i)\u001b[0m\n\u001b[1;32m    336\u001b[0m         \u001b[0;31m# Last if not, rule is probably == 1 so use type to return the right transformation.\u001b[0m\u001b[0;34m\u001b[0m\u001b[0;34m\u001b[0m\u001b[0m\n\u001b[0;32m--> 337\u001b[0;31m         \u001b[0;32melse\u001b[0m \u001b[0;32mlambda\u001b[0m \u001b[0mi\u001b[0m\u001b[0;34m:\u001b[0m \u001b[0mforward_func\u001b[0m\u001b[0;34m[\u001b[0m\u001b[0mtype\u001b[0m\u001b[0;34m(\u001b[0m\u001b[0mi\u001b[0m\u001b[0;34m)\u001b[0m\u001b[0;34m]\u001b[0m\u001b[0;34m(\u001b[0m\u001b[0mi\u001b[0m\u001b[0;34m)\u001b[0m\u001b[0;34m\u001b[0m\u001b[0m\n\u001b[0m\u001b[1;32m    338\u001b[0m         \u001b[0;32mfor\u001b[0m \u001b[0ma\u001b[0m\u001b[0;34m,\u001b[0m \u001b[0mr\u001b[0m \u001b[0;32min\u001b[0m \u001b[0mzip\u001b[0m\u001b[0;34m(\u001b[0m\u001b[0margs\u001b[0m\u001b[0;34m,\u001b[0m \u001b[0mrules\u001b[0m\u001b[0;34m)\u001b[0m  \u001b[0;31m# And do this for all the args / rules provided\u001b[0m\u001b[0;34m\u001b[0m\u001b[0m\n",
      "\u001b[0;32m~/code/PySyft/syft/frameworks/torch/hook/hook_args.py\u001b[0m in \u001b[0;36m<lambda>\u001b[0;34m(i)\u001b[0m\n\u001b[1;32m     20\u001b[0m     \u001b[0;32mif\u001b[0m \u001b[0mhasattr\u001b[0m\u001b[0;34m(\u001b[0m\u001b[0mi\u001b[0m\u001b[0;34m,\u001b[0m \u001b[0;34m\"child\"\u001b[0m\u001b[0;34m)\u001b[0m\u001b[0;34m\u001b[0m\u001b[0m\n\u001b[0;32m---> 21\u001b[0;31m     \u001b[0;32melse\u001b[0m \u001b[0;34m(\u001b[0m\u001b[0m_\u001b[0m \u001b[0;32mfor\u001b[0m \u001b[0m_\u001b[0m \u001b[0;32min\u001b[0m \u001b[0;34m(\u001b[0m\u001b[0;34m)\u001b[0m\u001b[0;34m)\u001b[0m\u001b[0;34m.\u001b[0m\u001b[0mthrow\u001b[0m\u001b[0;34m(\u001b[0m\u001b[0mPureFrameworkTensorFoundError\u001b[0m\u001b[0;34m)\u001b[0m\u001b[0;34m,\u001b[0m\u001b[0;34m\u001b[0m\u001b[0m\n\u001b[0m\u001b[1;32m     22\u001b[0m     \u001b[0mtorch\u001b[0m\u001b[0;34m.\u001b[0m\u001b[0mnn\u001b[0m\u001b[0;34m.\u001b[0m\u001b[0mParameter\u001b[0m\u001b[0;34m:\u001b[0m \u001b[0;32mlambda\u001b[0m \u001b[0mi\u001b[0m\u001b[0;34m:\u001b[0m \u001b[0mi\u001b[0m\u001b[0;34m.\u001b[0m\u001b[0mchild\u001b[0m\u001b[0;34m\u001b[0m\u001b[0m\n",
      "\u001b[0;32m~/code/PySyft/syft/frameworks/torch/hook/hook_args.py\u001b[0m in \u001b[0;36m<genexpr>\u001b[0;34m(.0)\u001b[0m\n\u001b[1;32m     20\u001b[0m     \u001b[0;32mif\u001b[0m \u001b[0mhasattr\u001b[0m\u001b[0;34m(\u001b[0m\u001b[0mi\u001b[0m\u001b[0;34m,\u001b[0m \u001b[0;34m\"child\"\u001b[0m\u001b[0;34m)\u001b[0m\u001b[0;34m\u001b[0m\u001b[0m\n\u001b[0;32m---> 21\u001b[0;31m     \u001b[0;32melse\u001b[0m \u001b[0;34m(\u001b[0m\u001b[0m_\u001b[0m \u001b[0;32mfor\u001b[0m \u001b[0m_\u001b[0m \u001b[0;32min\u001b[0m \u001b[0;34m(\u001b[0m\u001b[0;34m)\u001b[0m\u001b[0;34m)\u001b[0m\u001b[0;34m.\u001b[0m\u001b[0mthrow\u001b[0m\u001b[0;34m(\u001b[0m\u001b[0mPureFrameworkTensorFoundError\u001b[0m\u001b[0;34m)\u001b[0m\u001b[0;34m,\u001b[0m\u001b[0;34m\u001b[0m\u001b[0m\n\u001b[0m\u001b[1;32m     22\u001b[0m     \u001b[0mtorch\u001b[0m\u001b[0;34m.\u001b[0m\u001b[0mnn\u001b[0m\u001b[0;34m.\u001b[0m\u001b[0mParameter\u001b[0m\u001b[0;34m:\u001b[0m \u001b[0;32mlambda\u001b[0m \u001b[0mi\u001b[0m\u001b[0;34m:\u001b[0m \u001b[0mi\u001b[0m\u001b[0;34m.\u001b[0m\u001b[0mchild\u001b[0m\u001b[0;34m\u001b[0m\u001b[0m\n",
      "\u001b[0;31mPureFrameworkTensorFoundError\u001b[0m: ",
      "\nDuring handling of the above exception, another exception occurred:\n",
      "\u001b[0;31mKeyError\u001b[0m                                  Traceback (most recent call last)",
      "\u001b[0;32m~/code/PySyft/syft/generic/object_storage.py\u001b[0m in \u001b[0;36mget_obj\u001b[0;34m(self, obj_id)\u001b[0m\n\u001b[1;32m     62\u001b[0m         \u001b[0;32mtry\u001b[0m\u001b[0;34m:\u001b[0m\u001b[0;34m\u001b[0m\u001b[0m\n\u001b[0;32m---> 63\u001b[0;31m             \u001b[0mobj\u001b[0m \u001b[0;34m=\u001b[0m \u001b[0mself\u001b[0m\u001b[0;34m.\u001b[0m\u001b[0m_objects\u001b[0m\u001b[0;34m[\u001b[0m\u001b[0mobj_id\u001b[0m\u001b[0;34m]\u001b[0m\u001b[0;34m\u001b[0m\u001b[0m\n\u001b[0m\u001b[1;32m     64\u001b[0m         \u001b[0;32mexcept\u001b[0m \u001b[0mKeyError\u001b[0m \u001b[0;32mas\u001b[0m \u001b[0me\u001b[0m\u001b[0;34m:\u001b[0m\u001b[0;34m\u001b[0m\u001b[0m\n",
      "\u001b[0;31mKeyError\u001b[0m: 45180580120",
      "\nDuring handling of the above exception, another exception occurred:\n",
      "\u001b[0;31mKeyError\u001b[0m                                  Traceback (most recent call last)",
      "\u001b[0;32m<ipython-input-12-bec043a7ac65>\u001b[0m in \u001b[0;36m<module>\u001b[0;34m\u001b[0m\n\u001b[1;32m     33\u001b[0m \u001b[0mprint\u001b[0m\u001b[0;34m(\u001b[0m\u001b[0;34m'==='\u001b[0m\u001b[0;34m)\u001b[0m\u001b[0;34m\u001b[0m\u001b[0m\n\u001b[1;32m     34\u001b[0m \u001b[0mprint\u001b[0m\u001b[0;34m(\u001b[0m\u001b[0mplan\u001b[0m\u001b[0;34m.\u001b[0m\u001b[0mfc1\u001b[0m\u001b[0;34m.\u001b[0m\u001b[0mweight\u001b[0m\u001b[0;34m)\u001b[0m\u001b[0;34m\u001b[0m\u001b[0m\n\u001b[0;32m---> 35\u001b[0;31m \u001b[0mexpected\u001b[0m \u001b[0;34m=\u001b[0m \u001b[0mplan\u001b[0m\u001b[0;34m(\u001b[0m\u001b[0mx\u001b[0m\u001b[0;34m)\u001b[0m\u001b[0;34m\u001b[0m\u001b[0m\n\u001b[0m\u001b[1;32m     36\u001b[0m \u001b[0;32massert\u001b[0m \u001b[0mth\u001b[0m\u001b[0;34m.\u001b[0m\u001b[0mall\u001b[0m\u001b[0;34m(\u001b[0m\u001b[0mdecrypted\u001b[0m \u001b[0;34m-\u001b[0m \u001b[0mexpected\u001b[0m\u001b[0;34m.\u001b[0m\u001b[0mdetach\u001b[0m\u001b[0;34m(\u001b[0m\u001b[0;34m)\u001b[0m \u001b[0;34m<\u001b[0m \u001b[0;36m1e-2\u001b[0m\u001b[0;34m)\u001b[0m\u001b[0;34m\u001b[0m\u001b[0m\n\u001b[1;32m     37\u001b[0m \u001b[0;31m# assert fetched_plan.state.state_ids != plan.state.state_ids #TODO\u001b[0m\u001b[0;34m\u001b[0m\u001b[0;34m\u001b[0m\u001b[0m\n",
      "\u001b[0;32m~/code/PySyft/syft/messaging/plan.py\u001b[0m in \u001b[0;36m__call__\u001b[0;34m(self, *args, **kwargs)\u001b[0m\n\u001b[1;32m    630\u001b[0m             \u001b[0;32mif\u001b[0m \u001b[0mself\u001b[0m\u001b[0;34m.\u001b[0m\u001b[0minclude_state\u001b[0m\u001b[0;34m:\u001b[0m\u001b[0;34m\u001b[0m\u001b[0m\n\u001b[1;32m    631\u001b[0m                 \u001b[0margs\u001b[0m \u001b[0;34m=\u001b[0m \u001b[0;34m(\u001b[0m\u001b[0;34m*\u001b[0m\u001b[0margs\u001b[0m\u001b[0;34m,\u001b[0m \u001b[0mself\u001b[0m\u001b[0;34m.\u001b[0m\u001b[0mstate\u001b[0m\u001b[0;34m)\u001b[0m\u001b[0;34m\u001b[0m\u001b[0m\n\u001b[0;32m--> 632\u001b[0;31m             \u001b[0;32mreturn\u001b[0m \u001b[0mself\u001b[0m\u001b[0;34m.\u001b[0m\u001b[0mforward\u001b[0m\u001b[0;34m(\u001b[0m\u001b[0;34m*\u001b[0m\u001b[0margs\u001b[0m\u001b[0;34m)\u001b[0m\u001b[0;34m\u001b[0m\u001b[0m\n\u001b[0m\u001b[1;32m    633\u001b[0m         \u001b[0;32melse\u001b[0m\u001b[0;34m:\u001b[0m\u001b[0;34m\u001b[0m\u001b[0m\n\u001b[1;32m    634\u001b[0m             \u001b[0;32mreturn\u001b[0m \u001b[0mself\u001b[0m\u001b[0;34m.\u001b[0m\u001b[0mrun\u001b[0m\u001b[0;34m(\u001b[0m\u001b[0margs\u001b[0m\u001b[0;34m,\u001b[0m \u001b[0mresult_ids\u001b[0m\u001b[0;34m=\u001b[0m\u001b[0mresult_ids\u001b[0m\u001b[0;34m)\u001b[0m\u001b[0;34m\u001b[0m\u001b[0m\n",
      "\u001b[0;32m<ipython-input-12-bec043a7ac65>\u001b[0m in \u001b[0;36mforward\u001b[0;34m(self, x)\u001b[0m\n\u001b[1;32m      7\u001b[0m     \u001b[0;32mdef\u001b[0m \u001b[0mforward\u001b[0m\u001b[0;34m(\u001b[0m\u001b[0mself\u001b[0m\u001b[0;34m,\u001b[0m \u001b[0mx\u001b[0m\u001b[0;34m)\u001b[0m\u001b[0;34m:\u001b[0m\u001b[0;34m\u001b[0m\u001b[0m\n\u001b[1;32m      8\u001b[0m         \u001b[0mprint\u001b[0m\u001b[0;34m(\u001b[0m\u001b[0;34m'Forward'\u001b[0m\u001b[0;34m,\u001b[0m \u001b[0mx\u001b[0m\u001b[0;34m,\u001b[0m \u001b[0mself\u001b[0m\u001b[0;34m.\u001b[0m\u001b[0mfc1\u001b[0m\u001b[0;34m.\u001b[0m\u001b[0mbias\u001b[0m\u001b[0;34m)\u001b[0m\u001b[0;34m\u001b[0m\u001b[0m\n\u001b[0;32m----> 9\u001b[0;31m         \u001b[0;32mreturn\u001b[0m \u001b[0mself\u001b[0m\u001b[0;34m.\u001b[0m\u001b[0mfc1\u001b[0m\u001b[0;34m(\u001b[0m\u001b[0mx\u001b[0m\u001b[0;34m)\u001b[0m\u001b[0;34m\u001b[0m\u001b[0m\n\u001b[0m\u001b[1;32m     10\u001b[0m \u001b[0;34m\u001b[0m\u001b[0m\n\u001b[1;32m     11\u001b[0m \u001b[0mplan\u001b[0m \u001b[0;34m=\u001b[0m \u001b[0mNet\u001b[0m\u001b[0;34m(\u001b[0m\u001b[0;34m)\u001b[0m\u001b[0;34m\u001b[0m\u001b[0m\n",
      "\u001b[0;32m~/code/env/pysyft/lib/python3.7/site-packages/torch/nn/modules/module.py\u001b[0m in \u001b[0;36m__call__\u001b[0;34m(self, *input, **kwargs)\u001b[0m\n\u001b[1;32m    491\u001b[0m             \u001b[0mresult\u001b[0m \u001b[0;34m=\u001b[0m \u001b[0mself\u001b[0m\u001b[0;34m.\u001b[0m\u001b[0m_slow_forward\u001b[0m\u001b[0;34m(\u001b[0m\u001b[0;34m*\u001b[0m\u001b[0minput\u001b[0m\u001b[0;34m,\u001b[0m \u001b[0;34m**\u001b[0m\u001b[0mkwargs\u001b[0m\u001b[0;34m)\u001b[0m\u001b[0;34m\u001b[0m\u001b[0m\n\u001b[1;32m    492\u001b[0m         \u001b[0;32melse\u001b[0m\u001b[0;34m:\u001b[0m\u001b[0;34m\u001b[0m\u001b[0m\n\u001b[0;32m--> 493\u001b[0;31m             \u001b[0mresult\u001b[0m \u001b[0;34m=\u001b[0m \u001b[0mself\u001b[0m\u001b[0;34m.\u001b[0m\u001b[0mforward\u001b[0m\u001b[0;34m(\u001b[0m\u001b[0;34m*\u001b[0m\u001b[0minput\u001b[0m\u001b[0;34m,\u001b[0m \u001b[0;34m**\u001b[0m\u001b[0mkwargs\u001b[0m\u001b[0;34m)\u001b[0m\u001b[0;34m\u001b[0m\u001b[0m\n\u001b[0m\u001b[1;32m    494\u001b[0m         \u001b[0;32mfor\u001b[0m \u001b[0mhook\u001b[0m \u001b[0;32min\u001b[0m \u001b[0mself\u001b[0m\u001b[0;34m.\u001b[0m\u001b[0m_forward_hooks\u001b[0m\u001b[0;34m.\u001b[0m\u001b[0mvalues\u001b[0m\u001b[0;34m(\u001b[0m\u001b[0;34m)\u001b[0m\u001b[0;34m:\u001b[0m\u001b[0;34m\u001b[0m\u001b[0m\n\u001b[1;32m    495\u001b[0m             \u001b[0mhook_result\u001b[0m \u001b[0;34m=\u001b[0m \u001b[0mhook\u001b[0m\u001b[0;34m(\u001b[0m\u001b[0mself\u001b[0m\u001b[0;34m,\u001b[0m \u001b[0minput\u001b[0m\u001b[0;34m,\u001b[0m \u001b[0mresult\u001b[0m\u001b[0;34m)\u001b[0m\u001b[0;34m\u001b[0m\u001b[0m\n",
      "\u001b[0;32m~/code/env/pysyft/lib/python3.7/site-packages/torch/nn/modules/linear.py\u001b[0m in \u001b[0;36mforward\u001b[0;34m(self, input)\u001b[0m\n\u001b[1;32m     90\u001b[0m     \u001b[0;34m@\u001b[0m\u001b[0mweak_script_method\u001b[0m\u001b[0;34m\u001b[0m\u001b[0m\n\u001b[1;32m     91\u001b[0m     \u001b[0;32mdef\u001b[0m \u001b[0mforward\u001b[0m\u001b[0;34m(\u001b[0m\u001b[0mself\u001b[0m\u001b[0;34m,\u001b[0m \u001b[0minput\u001b[0m\u001b[0;34m)\u001b[0m\u001b[0;34m:\u001b[0m\u001b[0;34m\u001b[0m\u001b[0m\n\u001b[0;32m---> 92\u001b[0;31m         \u001b[0;32mreturn\u001b[0m \u001b[0mF\u001b[0m\u001b[0;34m.\u001b[0m\u001b[0mlinear\u001b[0m\u001b[0;34m(\u001b[0m\u001b[0minput\u001b[0m\u001b[0;34m,\u001b[0m \u001b[0mself\u001b[0m\u001b[0;34m.\u001b[0m\u001b[0mweight\u001b[0m\u001b[0;34m,\u001b[0m \u001b[0mself\u001b[0m\u001b[0;34m.\u001b[0m\u001b[0mbias\u001b[0m\u001b[0;34m)\u001b[0m\u001b[0;34m\u001b[0m\u001b[0m\n\u001b[0m\u001b[1;32m     93\u001b[0m \u001b[0;34m\u001b[0m\u001b[0m\n\u001b[1;32m     94\u001b[0m     \u001b[0;32mdef\u001b[0m \u001b[0mextra_repr\u001b[0m\u001b[0;34m(\u001b[0m\u001b[0mself\u001b[0m\u001b[0;34m)\u001b[0m\u001b[0;34m:\u001b[0m\u001b[0;34m\u001b[0m\u001b[0m\n",
      "\u001b[0;32m~/code/PySyft/syft/generic/frameworks/hook/hook.py\u001b[0m in \u001b[0;36moverloaded_func\u001b[0;34m(*args, **kwargs)\u001b[0m\n\u001b[1;32m    411\u001b[0m                 \u001b[0mhandle_func_command\u001b[0m \u001b[0;34m=\u001b[0m \u001b[0msyft\u001b[0m\u001b[0;34m.\u001b[0m\u001b[0mframework\u001b[0m\u001b[0;34m.\u001b[0m\u001b[0mTensor\u001b[0m\u001b[0;34m.\u001b[0m\u001b[0mhandle_func_command\u001b[0m\u001b[0;34m\u001b[0m\u001b[0m\n\u001b[1;32m    412\u001b[0m \u001b[0;34m\u001b[0m\u001b[0m\n\u001b[0;32m--> 413\u001b[0;31m             \u001b[0mresponse\u001b[0m \u001b[0;34m=\u001b[0m \u001b[0mhandle_func_command\u001b[0m\u001b[0;34m(\u001b[0m\u001b[0mcommand\u001b[0m\u001b[0;34m)\u001b[0m\u001b[0;34m\u001b[0m\u001b[0m\n\u001b[0m\u001b[1;32m    414\u001b[0m \u001b[0;34m\u001b[0m\u001b[0m\n\u001b[1;32m    415\u001b[0m             \u001b[0;32mreturn\u001b[0m \u001b[0mresponse\u001b[0m\u001b[0;34m\u001b[0m\u001b[0m\n",
      "\u001b[0;32m~/code/PySyft/syft/frameworks/torch/tensors/interpreters/native.py\u001b[0m in \u001b[0;36mhandle_func_command\u001b[0;34m(cls, command)\u001b[0m\n\u001b[1;32m    320\u001b[0m             \u001b[0;31m# in the execute_command function\u001b[0m\u001b[0;34m\u001b[0m\u001b[0;34m\u001b[0m\u001b[0m\n\u001b[1;32m    321\u001b[0m             \u001b[0;32mif\u001b[0m \u001b[0misinstance\u001b[0m\u001b[0;34m(\u001b[0m\u001b[0margs\u001b[0m\u001b[0;34m,\u001b[0m \u001b[0mtuple\u001b[0m\u001b[0;34m)\u001b[0m\u001b[0;34m:\u001b[0m\u001b[0;34m\u001b[0m\u001b[0m\n\u001b[0;32m--> 322\u001b[0;31m                 \u001b[0mresponse\u001b[0m \u001b[0;34m=\u001b[0m \u001b[0meval\u001b[0m\u001b[0;34m(\u001b[0m\u001b[0mcmd\u001b[0m\u001b[0;34m)\u001b[0m\u001b[0;34m(\u001b[0m\u001b[0;34m*\u001b[0m\u001b[0margs\u001b[0m\u001b[0;34m,\u001b[0m \u001b[0;34m**\u001b[0m\u001b[0mkwargs\u001b[0m\u001b[0;34m)\u001b[0m\u001b[0;34m\u001b[0m\u001b[0m\n\u001b[0m\u001b[1;32m    323\u001b[0m             \u001b[0;32melse\u001b[0m\u001b[0;34m:\u001b[0m\u001b[0;34m\u001b[0m\u001b[0m\n\u001b[1;32m    324\u001b[0m                 \u001b[0mresponse\u001b[0m \u001b[0;34m=\u001b[0m \u001b[0meval\u001b[0m\u001b[0;34m(\u001b[0m\u001b[0mcmd\u001b[0m\u001b[0;34m)\u001b[0m\u001b[0;34m(\u001b[0m\u001b[0margs\u001b[0m\u001b[0;34m,\u001b[0m \u001b[0;34m**\u001b[0m\u001b[0mkwargs\u001b[0m\u001b[0;34m)\u001b[0m\u001b[0;34m\u001b[0m\u001b[0m\n",
      "\u001b[0;32m~/code/env/pysyft/lib/python3.7/site-packages/torch/nn/functional.py\u001b[0m in \u001b[0;36mlinear\u001b[0;34m(input, weight, bias)\u001b[0m\n\u001b[1;32m   1406\u001b[0m         \u001b[0mret\u001b[0m \u001b[0;34m=\u001b[0m \u001b[0mtorch\u001b[0m\u001b[0;34m.\u001b[0m\u001b[0maddmm\u001b[0m\u001b[0;34m(\u001b[0m\u001b[0mbias\u001b[0m\u001b[0;34m,\u001b[0m \u001b[0minput\u001b[0m\u001b[0;34m,\u001b[0m \u001b[0mweight\u001b[0m\u001b[0;34m.\u001b[0m\u001b[0mt\u001b[0m\u001b[0;34m(\u001b[0m\u001b[0;34m)\u001b[0m\u001b[0;34m)\u001b[0m\u001b[0;34m\u001b[0m\u001b[0m\n\u001b[1;32m   1407\u001b[0m     \u001b[0;32melse\u001b[0m\u001b[0;34m:\u001b[0m\u001b[0;34m\u001b[0m\u001b[0m\n\u001b[0;32m-> 1408\u001b[0;31m         \u001b[0moutput\u001b[0m \u001b[0;34m=\u001b[0m \u001b[0minput\u001b[0m\u001b[0;34m.\u001b[0m\u001b[0mmatmul\u001b[0m\u001b[0;34m(\u001b[0m\u001b[0mweight\u001b[0m\u001b[0;34m.\u001b[0m\u001b[0mt\u001b[0m\u001b[0;34m(\u001b[0m\u001b[0;34m)\u001b[0m\u001b[0;34m)\u001b[0m\u001b[0;34m\u001b[0m\u001b[0m\n\u001b[0m\u001b[1;32m   1409\u001b[0m         \u001b[0;32mif\u001b[0m \u001b[0mbias\u001b[0m \u001b[0;32mis\u001b[0m \u001b[0;32mnot\u001b[0m \u001b[0;32mNone\u001b[0m\u001b[0;34m:\u001b[0m\u001b[0;34m\u001b[0m\u001b[0m\n\u001b[1;32m   1410\u001b[0m             \u001b[0moutput\u001b[0m \u001b[0;34m+=\u001b[0m \u001b[0mbias\u001b[0m\u001b[0;34m\u001b[0m\u001b[0m\n",
      "\u001b[0;32m~/code/PySyft/syft/generic/frameworks/hook/hook.py\u001b[0m in \u001b[0;36moverloaded_native_method\u001b[0;34m(self, *args, **kwargs)\u001b[0m\n\u001b[1;32m    357\u001b[0m                 \u001b[0;31m# Send the new command to the appropriate class and get the response\u001b[0m\u001b[0;34m\u001b[0m\u001b[0;34m\u001b[0m\u001b[0m\n\u001b[1;32m    358\u001b[0m                 \u001b[0mmethod\u001b[0m \u001b[0;34m=\u001b[0m \u001b[0mgetattr\u001b[0m\u001b[0;34m(\u001b[0m\u001b[0mnew_self\u001b[0m\u001b[0;34m,\u001b[0m \u001b[0mmethod_name\u001b[0m\u001b[0;34m)\u001b[0m\u001b[0;34m\u001b[0m\u001b[0m\n\u001b[0;32m--> 359\u001b[0;31m                 \u001b[0mresponse\u001b[0m \u001b[0;34m=\u001b[0m \u001b[0mmethod\u001b[0m\u001b[0;34m(\u001b[0m\u001b[0;34m*\u001b[0m\u001b[0mnew_args\u001b[0m\u001b[0;34m,\u001b[0m \u001b[0;34m**\u001b[0m\u001b[0mnew_kwargs\u001b[0m\u001b[0;34m)\u001b[0m\u001b[0;34m\u001b[0m\u001b[0m\n\u001b[0m\u001b[1;32m    360\u001b[0m \u001b[0;34m\u001b[0m\u001b[0m\n\u001b[1;32m    361\u001b[0m                 \u001b[0;31m# For inplace methods, just directly return self\u001b[0m\u001b[0;34m\u001b[0m\u001b[0;34m\u001b[0m\u001b[0m\n",
      "\u001b[0;32m~/code/PySyft/syft/generic/frameworks/overload.py\u001b[0m in \u001b[0;36m_hook_method_args\u001b[0;34m(self, *args, **kwargs)\u001b[0m\n\u001b[1;32m     26\u001b[0m \u001b[0;34m\u001b[0m\u001b[0m\n\u001b[1;32m     27\u001b[0m             \u001b[0;31m# Send it to the appropriate class and get the response\u001b[0m\u001b[0;34m\u001b[0m\u001b[0;34m\u001b[0m\u001b[0m\n\u001b[0;32m---> 28\u001b[0;31m             \u001b[0mresponse\u001b[0m \u001b[0;34m=\u001b[0m \u001b[0mattr\u001b[0m\u001b[0;34m(\u001b[0m\u001b[0mself\u001b[0m\u001b[0;34m,\u001b[0m \u001b[0mnew_self\u001b[0m\u001b[0;34m,\u001b[0m \u001b[0;34m*\u001b[0m\u001b[0mnew_args\u001b[0m\u001b[0;34m,\u001b[0m \u001b[0;34m**\u001b[0m\u001b[0mnew_kwargs\u001b[0m\u001b[0;34m)\u001b[0m\u001b[0;34m\u001b[0m\u001b[0m\n\u001b[0m\u001b[1;32m     29\u001b[0m \u001b[0;34m\u001b[0m\u001b[0m\n\u001b[1;32m     30\u001b[0m             \u001b[0;31m# Put back SyftTensor on the tensors found in the response\u001b[0m\u001b[0;34m\u001b[0m\u001b[0;34m\u001b[0m\u001b[0m\n",
      "\u001b[0;32m~/code/PySyft/syft/frameworks/torch/tensors/interpreters/precision.py\u001b[0m in \u001b[0;36mt\u001b[0;34m(self, _self, *args, **kwargs)\u001b[0m\n\u001b[1;32m    220\u001b[0m     \u001b[0;32mdef\u001b[0m \u001b[0mt\u001b[0m\u001b[0;34m(\u001b[0m\u001b[0mself\u001b[0m\u001b[0;34m,\u001b[0m \u001b[0m_self\u001b[0m\u001b[0;34m,\u001b[0m \u001b[0;34m*\u001b[0m\u001b[0margs\u001b[0m\u001b[0;34m,\u001b[0m \u001b[0;34m**\u001b[0m\u001b[0mkwargs\u001b[0m\u001b[0;34m)\u001b[0m\u001b[0;34m:\u001b[0m\u001b[0;34m\u001b[0m\u001b[0m\n\u001b[1;32m    221\u001b[0m         \u001b[0;34m\"\"\"Transpose a tensor. Hooked is handled by the decorator\"\"\"\u001b[0m\u001b[0;34m\u001b[0m\u001b[0m\n\u001b[0;32m--> 222\u001b[0;31m         \u001b[0mresponse\u001b[0m \u001b[0;34m=\u001b[0m \u001b[0mgetattr\u001b[0m\u001b[0;34m(\u001b[0m\u001b[0m_self\u001b[0m\u001b[0;34m,\u001b[0m \u001b[0;34m\"t\"\u001b[0m\u001b[0;34m)\u001b[0m\u001b[0;34m(\u001b[0m\u001b[0;34m*\u001b[0m\u001b[0margs\u001b[0m\u001b[0;34m,\u001b[0m \u001b[0;34m**\u001b[0m\u001b[0mkwargs\u001b[0m\u001b[0;34m)\u001b[0m\u001b[0;34m\u001b[0m\u001b[0m\n\u001b[0m\u001b[1;32m    223\u001b[0m \u001b[0;34m\u001b[0m\u001b[0m\n\u001b[1;32m    224\u001b[0m         \u001b[0;32mreturn\u001b[0m \u001b[0mresponse\u001b[0m\u001b[0;34m\u001b[0m\u001b[0m\n",
      "\u001b[0;32m~/code/PySyft/syft/frameworks/torch/hook/hook.py\u001b[0m in \u001b[0;36moverloaded_attr\u001b[0;34m(self, *args, **kwargs)\u001b[0m\n\u001b[1;32m    455\u001b[0m             \u001b[0mresults\u001b[0m \u001b[0;34m=\u001b[0m \u001b[0;34m{\u001b[0m\u001b[0;34m}\u001b[0m\u001b[0;34m\u001b[0m\u001b[0m\n\u001b[1;32m    456\u001b[0m             \u001b[0;32mfor\u001b[0m \u001b[0mk\u001b[0m\u001b[0;34m,\u001b[0m \u001b[0mv\u001b[0m \u001b[0;32min\u001b[0m \u001b[0mnew_self\u001b[0m\u001b[0;34m.\u001b[0m\u001b[0mitems\u001b[0m\u001b[0;34m(\u001b[0m\u001b[0;34m)\u001b[0m\u001b[0;34m:\u001b[0m\u001b[0;34m\u001b[0m\u001b[0m\n\u001b[0;32m--> 457\u001b[0;31m                 \u001b[0mresults\u001b[0m\u001b[0;34m[\u001b[0m\u001b[0mk\u001b[0m\u001b[0;34m]\u001b[0m \u001b[0;34m=\u001b[0m \u001b[0mv\u001b[0m\u001b[0;34m.\u001b[0m\u001b[0m__getattribute__\u001b[0m\u001b[0;34m(\u001b[0m\u001b[0mattr\u001b[0m\u001b[0;34m)\u001b[0m\u001b[0;34m(\u001b[0m\u001b[0;34m*\u001b[0m\u001b[0mdispatch\u001b[0m\u001b[0;34m(\u001b[0m\u001b[0mnew_args\u001b[0m\u001b[0;34m,\u001b[0m \u001b[0mk\u001b[0m\u001b[0;34m)\u001b[0m\u001b[0;34m,\u001b[0m \u001b[0;34m**\u001b[0m\u001b[0mnew_kwargs\u001b[0m\u001b[0;34m)\u001b[0m\u001b[0;34m\u001b[0m\u001b[0m\n\u001b[0m\u001b[1;32m    458\u001b[0m \u001b[0;34m\u001b[0m\u001b[0m\n\u001b[1;32m    459\u001b[0m             \u001b[0;31m# Put back AdditiveSharingTensor on the tensors found in the response\u001b[0m\u001b[0;34m\u001b[0m\u001b[0;34m\u001b[0m\u001b[0m\n",
      "\u001b[0;32m~/code/PySyft/syft/generic/frameworks/hook/hook.py\u001b[0m in \u001b[0;36moverloaded_pointer_method\u001b[0;34m(self, *args, **kwargs)\u001b[0m\n\u001b[1;32m    445\u001b[0m             \u001b[0mcommand\u001b[0m \u001b[0;34m=\u001b[0m \u001b[0;34m(\u001b[0m\u001b[0mattr\u001b[0m\u001b[0;34m,\u001b[0m \u001b[0mself\u001b[0m\u001b[0;34m,\u001b[0m \u001b[0margs\u001b[0m\u001b[0;34m,\u001b[0m \u001b[0mkwargs\u001b[0m\u001b[0;34m)\u001b[0m\u001b[0;34m\u001b[0m\u001b[0m\n\u001b[1;32m    446\u001b[0m \u001b[0;34m\u001b[0m\u001b[0m\n\u001b[0;32m--> 447\u001b[0;31m             \u001b[0mresponse\u001b[0m \u001b[0;34m=\u001b[0m \u001b[0mowner\u001b[0m\u001b[0;34m.\u001b[0m\u001b[0msend_command\u001b[0m\u001b[0;34m(\u001b[0m\u001b[0mlocation\u001b[0m\u001b[0;34m,\u001b[0m \u001b[0mcommand\u001b[0m\u001b[0;34m)\u001b[0m\u001b[0;34m\u001b[0m\u001b[0m\n\u001b[0m\u001b[1;32m    448\u001b[0m \u001b[0;34m\u001b[0m\u001b[0m\n\u001b[1;32m    449\u001b[0m             \u001b[0;31m# For inplace methods, just directly return self\u001b[0m\u001b[0;34m\u001b[0m\u001b[0;34m\u001b[0m\u001b[0m\n",
      "\u001b[0;32m~/code/PySyft/syft/workers/base.py\u001b[0m in \u001b[0;36msend_command\u001b[0;34m(self, recipient, message, return_ids)\u001b[0m\n\u001b[1;32m    487\u001b[0m \u001b[0;34m\u001b[0m\u001b[0m\n\u001b[1;32m    488\u001b[0m         \u001b[0;32mtry\u001b[0m\u001b[0;34m:\u001b[0m\u001b[0;34m\u001b[0m\u001b[0m\n\u001b[0;32m--> 489\u001b[0;31m             \u001b[0mret_val\u001b[0m \u001b[0;34m=\u001b[0m \u001b[0mself\u001b[0m\u001b[0;34m.\u001b[0m\u001b[0msend_msg\u001b[0m\u001b[0;34m(\u001b[0m\u001b[0mOperation\u001b[0m\u001b[0;34m(\u001b[0m\u001b[0mmessage\u001b[0m\u001b[0;34m,\u001b[0m \u001b[0mreturn_ids\u001b[0m\u001b[0;34m)\u001b[0m\u001b[0;34m,\u001b[0m \u001b[0mlocation\u001b[0m\u001b[0;34m=\u001b[0m\u001b[0mrecipient\u001b[0m\u001b[0;34m)\u001b[0m\u001b[0;34m\u001b[0m\u001b[0m\n\u001b[0m\u001b[1;32m    490\u001b[0m         \u001b[0;32mexcept\u001b[0m \u001b[0mResponseSignatureError\u001b[0m \u001b[0;32mas\u001b[0m \u001b[0me\u001b[0m\u001b[0;34m:\u001b[0m\u001b[0;34m\u001b[0m\u001b[0m\n\u001b[1;32m    491\u001b[0m             \u001b[0mret_val\u001b[0m \u001b[0;34m=\u001b[0m \u001b[0;32mNone\u001b[0m\u001b[0;34m\u001b[0m\u001b[0m\n",
      "\u001b[0;32m~/code/PySyft/syft/workers/base.py\u001b[0m in \u001b[0;36msend_msg\u001b[0;34m(self, message, location)\u001b[0m\n\u001b[1;32m    256\u001b[0m \u001b[0;34m\u001b[0m\u001b[0m\n\u001b[1;32m    257\u001b[0m         \u001b[0;31m# Step 2: send the message and wait for a response\u001b[0m\u001b[0;34m\u001b[0m\u001b[0;34m\u001b[0m\u001b[0m\n\u001b[0;32m--> 258\u001b[0;31m         \u001b[0mbin_response\u001b[0m \u001b[0;34m=\u001b[0m \u001b[0mself\u001b[0m\u001b[0;34m.\u001b[0m\u001b[0m_send_msg\u001b[0m\u001b[0;34m(\u001b[0m\u001b[0mbin_message\u001b[0m\u001b[0;34m,\u001b[0m \u001b[0mlocation\u001b[0m\u001b[0;34m)\u001b[0m\u001b[0;34m\u001b[0m\u001b[0m\n\u001b[0m\u001b[1;32m    259\u001b[0m \u001b[0;34m\u001b[0m\u001b[0m\n\u001b[1;32m    260\u001b[0m         \u001b[0;31m# Step 3: deserialize the response\u001b[0m\u001b[0;34m\u001b[0m\u001b[0;34m\u001b[0m\u001b[0m\n",
      "\u001b[0;32m~/code/PySyft/syft/workers/virtual.py\u001b[0m in \u001b[0;36m_send_msg\u001b[0;34m(self, message, location)\u001b[0m\n\u001b[1;32m      5\u001b[0m \u001b[0;32mclass\u001b[0m \u001b[0mVirtualWorker\u001b[0m\u001b[0;34m(\u001b[0m\u001b[0mBaseWorker\u001b[0m\u001b[0;34m,\u001b[0m \u001b[0mFederatedClient\u001b[0m\u001b[0;34m)\u001b[0m\u001b[0;34m:\u001b[0m\u001b[0;34m\u001b[0m\u001b[0m\n\u001b[1;32m      6\u001b[0m     \u001b[0;32mdef\u001b[0m \u001b[0m_send_msg\u001b[0m\u001b[0;34m(\u001b[0m\u001b[0mself\u001b[0m\u001b[0;34m,\u001b[0m \u001b[0mmessage\u001b[0m\u001b[0;34m:\u001b[0m \u001b[0mbin\u001b[0m\u001b[0;34m,\u001b[0m \u001b[0mlocation\u001b[0m\u001b[0;34m:\u001b[0m \u001b[0mBaseWorker\u001b[0m\u001b[0;34m)\u001b[0m \u001b[0;34m->\u001b[0m \u001b[0mbin\u001b[0m\u001b[0;34m:\u001b[0m\u001b[0;34m\u001b[0m\u001b[0m\n\u001b[0;32m----> 7\u001b[0;31m         \u001b[0;32mreturn\u001b[0m \u001b[0mlocation\u001b[0m\u001b[0;34m.\u001b[0m\u001b[0m_recv_msg\u001b[0m\u001b[0;34m(\u001b[0m\u001b[0mmessage\u001b[0m\u001b[0;34m)\u001b[0m\u001b[0;34m\u001b[0m\u001b[0m\n\u001b[0m\u001b[1;32m      8\u001b[0m \u001b[0;34m\u001b[0m\u001b[0m\n\u001b[1;32m      9\u001b[0m     \u001b[0;32mdef\u001b[0m \u001b[0m_recv_msg\u001b[0m\u001b[0;34m(\u001b[0m\u001b[0mself\u001b[0m\u001b[0;34m,\u001b[0m \u001b[0mmessage\u001b[0m\u001b[0;34m:\u001b[0m \u001b[0mbin\u001b[0m\u001b[0;34m)\u001b[0m \u001b[0;34m->\u001b[0m \u001b[0mbin\u001b[0m\u001b[0;34m:\u001b[0m\u001b[0;34m\u001b[0m\u001b[0m\n",
      "\u001b[0;32m~/code/PySyft/syft/workers/virtual.py\u001b[0m in \u001b[0;36m_recv_msg\u001b[0;34m(self, message)\u001b[0m\n\u001b[1;32m      8\u001b[0m \u001b[0;34m\u001b[0m\u001b[0m\n\u001b[1;32m      9\u001b[0m     \u001b[0;32mdef\u001b[0m \u001b[0m_recv_msg\u001b[0m\u001b[0;34m(\u001b[0m\u001b[0mself\u001b[0m\u001b[0;34m,\u001b[0m \u001b[0mmessage\u001b[0m\u001b[0;34m:\u001b[0m \u001b[0mbin\u001b[0m\u001b[0;34m)\u001b[0m \u001b[0;34m->\u001b[0m \u001b[0mbin\u001b[0m\u001b[0;34m:\u001b[0m\u001b[0;34m\u001b[0m\u001b[0m\n\u001b[0;32m---> 10\u001b[0;31m         \u001b[0;32mreturn\u001b[0m \u001b[0mself\u001b[0m\u001b[0;34m.\u001b[0m\u001b[0mrecv_msg\u001b[0m\u001b[0;34m(\u001b[0m\u001b[0mmessage\u001b[0m\u001b[0;34m)\u001b[0m\u001b[0;34m\u001b[0m\u001b[0m\n\u001b[0m",
      "\u001b[0;32m~/code/PySyft/syft/workers/base.py\u001b[0m in \u001b[0;36mrecv_msg\u001b[0;34m(self, bin_message)\u001b[0m\n\u001b[1;32m    283\u001b[0m \u001b[0;34m\u001b[0m\u001b[0m\n\u001b[1;32m    284\u001b[0m         \u001b[0;31m# Step 0: deserialize message\u001b[0m\u001b[0;34m\u001b[0m\u001b[0;34m\u001b[0m\u001b[0m\n\u001b[0;32m--> 285\u001b[0;31m         \u001b[0mmsg\u001b[0m \u001b[0;34m=\u001b[0m \u001b[0msy\u001b[0m\u001b[0;34m.\u001b[0m\u001b[0mserde\u001b[0m\u001b[0;34m.\u001b[0m\u001b[0mdeserialize\u001b[0m\u001b[0;34m(\u001b[0m\u001b[0mbin_message\u001b[0m\u001b[0;34m,\u001b[0m \u001b[0mworker\u001b[0m\u001b[0;34m=\u001b[0m\u001b[0mself\u001b[0m\u001b[0;34m)\u001b[0m\u001b[0;34m\u001b[0m\u001b[0m\n\u001b[0m\u001b[1;32m    286\u001b[0m \u001b[0;34m\u001b[0m\u001b[0m\n\u001b[1;32m    287\u001b[0m         \u001b[0;34m(\u001b[0m\u001b[0mmsg_type\u001b[0m\u001b[0;34m,\u001b[0m \u001b[0mcontents\u001b[0m\u001b[0;34m)\u001b[0m \u001b[0;34m=\u001b[0m \u001b[0;34m(\u001b[0m\u001b[0mmsg\u001b[0m\u001b[0;34m.\u001b[0m\u001b[0mmsg_type\u001b[0m\u001b[0;34m,\u001b[0m \u001b[0mmsg\u001b[0m\u001b[0;34m.\u001b[0m\u001b[0mcontents\u001b[0m\u001b[0;34m)\u001b[0m\u001b[0;34m\u001b[0m\u001b[0m\n",
      "\u001b[0;32m~/code/PySyft/syft/serde/serde.py\u001b[0m in \u001b[0;36mdeserialize\u001b[0;34m(binary, worker, details)\u001b[0m\n\u001b[1;32m    347\u001b[0m         \u001b[0;31m# as msgpack's inability to serialize torch tensors or ... or\u001b[0m\u001b[0;34m\u001b[0m\u001b[0;34m\u001b[0m\u001b[0m\n\u001b[1;32m    348\u001b[0m         \u001b[0;31m# python slice objects\u001b[0m\u001b[0;34m\u001b[0m\u001b[0;34m\u001b[0m\u001b[0m\n\u001b[0;32m--> 349\u001b[0;31m         \u001b[0;32mreturn\u001b[0m \u001b[0m_detail\u001b[0m\u001b[0;34m(\u001b[0m\u001b[0mworker\u001b[0m\u001b[0;34m,\u001b[0m \u001b[0msimple_objects\u001b[0m\u001b[0;34m)\u001b[0m\u001b[0;34m\u001b[0m\u001b[0m\n\u001b[0m\u001b[1;32m    350\u001b[0m \u001b[0;34m\u001b[0m\u001b[0m\n\u001b[1;32m    351\u001b[0m     \u001b[0;32melse\u001b[0m\u001b[0;34m:\u001b[0m\u001b[0;34m\u001b[0m\u001b[0m\n",
      "\u001b[0;32m~/code/PySyft/syft/serde/serde.py\u001b[0m in \u001b[0;36m_detail\u001b[0;34m(worker, obj)\u001b[0m\n\u001b[1;32m    538\u001b[0m     \"\"\"\n\u001b[1;32m    539\u001b[0m     \u001b[0;32mif\u001b[0m \u001b[0mtype\u001b[0m\u001b[0;34m(\u001b[0m\u001b[0mobj\u001b[0m\u001b[0;34m)\u001b[0m \u001b[0;32min\u001b[0m \u001b[0;34m(\u001b[0m\u001b[0mlist\u001b[0m\u001b[0;34m,\u001b[0m \u001b[0mtuple\u001b[0m\u001b[0;34m)\u001b[0m\u001b[0;34m:\u001b[0m\u001b[0;34m\u001b[0m\u001b[0m\n\u001b[0;32m--> 540\u001b[0;31m         \u001b[0;32mreturn\u001b[0m \u001b[0mdetailers\u001b[0m\u001b[0;34m[\u001b[0m\u001b[0mobj\u001b[0m\u001b[0;34m[\u001b[0m\u001b[0;36m0\u001b[0m\u001b[0;34m]\u001b[0m\u001b[0;34m]\u001b[0m\u001b[0;34m(\u001b[0m\u001b[0mworker\u001b[0m\u001b[0;34m,\u001b[0m \u001b[0mobj\u001b[0m\u001b[0;34m[\u001b[0m\u001b[0;36m1\u001b[0m\u001b[0;34m]\u001b[0m\u001b[0;34m)\u001b[0m\u001b[0;34m\u001b[0m\u001b[0m\n\u001b[0m\u001b[1;32m    541\u001b[0m     \u001b[0;32melse\u001b[0m\u001b[0;34m:\u001b[0m\u001b[0;34m\u001b[0m\u001b[0m\n\u001b[1;32m    542\u001b[0m         \u001b[0;32mreturn\u001b[0m \u001b[0mobj\u001b[0m\u001b[0;34m\u001b[0m\u001b[0m\n",
      "\u001b[0;32m~/code/PySyft/syft/messaging/message.py\u001b[0m in \u001b[0;36mdetail\u001b[0;34m(worker, msg_tuple)\u001b[0m\n\u001b[1;32m    173\u001b[0m             \u001b[0mmessage\u001b[0m \u001b[0;34m=\u001b[0m \u001b[0mdetail\u001b[0m\u001b[0;34m(\u001b[0m\u001b[0msy\u001b[0m\u001b[0;34m.\u001b[0m\u001b[0mlocal_worker\u001b[0m\u001b[0;34m,\u001b[0m \u001b[0mmsg_tuple\u001b[0m\u001b[0;34m)\u001b[0m\u001b[0;34m\u001b[0m\u001b[0m\n\u001b[1;32m    174\u001b[0m         \"\"\"\n\u001b[0;32m--> 175\u001b[0;31m         \u001b[0;32mreturn\u001b[0m \u001b[0mOperation\u001b[0m\u001b[0;34m(\u001b[0m\u001b[0msy\u001b[0m\u001b[0;34m.\u001b[0m\u001b[0mserde\u001b[0m\u001b[0;34m.\u001b[0m\u001b[0m_detail\u001b[0m\u001b[0;34m(\u001b[0m\u001b[0mworker\u001b[0m\u001b[0;34m,\u001b[0m \u001b[0mmsg_tuple\u001b[0m\u001b[0;34m[\u001b[0m\u001b[0;36m1\u001b[0m\u001b[0;34m]\u001b[0m\u001b[0;34m[\u001b[0m\u001b[0;36m0\u001b[0m\u001b[0;34m]\u001b[0m\u001b[0;34m)\u001b[0m\u001b[0;34m,\u001b[0m \u001b[0mmsg_tuple\u001b[0m\u001b[0;34m[\u001b[0m\u001b[0;36m1\u001b[0m\u001b[0;34m]\u001b[0m\u001b[0;34m[\u001b[0m\u001b[0;36m1\u001b[0m\u001b[0;34m]\u001b[0m\u001b[0;34m)\u001b[0m\u001b[0;34m\u001b[0m\u001b[0m\n\u001b[0m\u001b[1;32m    176\u001b[0m \u001b[0;34m\u001b[0m\u001b[0m\n\u001b[1;32m    177\u001b[0m \u001b[0;34m\u001b[0m\u001b[0m\n",
      "\u001b[0;32m~/code/PySyft/syft/serde/serde.py\u001b[0m in \u001b[0;36m_detail\u001b[0;34m(worker, obj)\u001b[0m\n\u001b[1;32m    538\u001b[0m     \"\"\"\n\u001b[1;32m    539\u001b[0m     \u001b[0;32mif\u001b[0m \u001b[0mtype\u001b[0m\u001b[0;34m(\u001b[0m\u001b[0mobj\u001b[0m\u001b[0;34m)\u001b[0m \u001b[0;32min\u001b[0m \u001b[0;34m(\u001b[0m\u001b[0mlist\u001b[0m\u001b[0;34m,\u001b[0m \u001b[0mtuple\u001b[0m\u001b[0;34m)\u001b[0m\u001b[0;34m:\u001b[0m\u001b[0;34m\u001b[0m\u001b[0m\n\u001b[0;32m--> 540\u001b[0;31m         \u001b[0;32mreturn\u001b[0m \u001b[0mdetailers\u001b[0m\u001b[0;34m[\u001b[0m\u001b[0mobj\u001b[0m\u001b[0;34m[\u001b[0m\u001b[0;36m0\u001b[0m\u001b[0;34m]\u001b[0m\u001b[0;34m]\u001b[0m\u001b[0;34m(\u001b[0m\u001b[0mworker\u001b[0m\u001b[0;34m,\u001b[0m \u001b[0mobj\u001b[0m\u001b[0;34m[\u001b[0m\u001b[0;36m1\u001b[0m\u001b[0;34m]\u001b[0m\u001b[0;34m)\u001b[0m\u001b[0;34m\u001b[0m\u001b[0m\n\u001b[0m\u001b[1;32m    541\u001b[0m     \u001b[0;32melse\u001b[0m\u001b[0;34m:\u001b[0m\u001b[0;34m\u001b[0m\u001b[0m\n\u001b[1;32m    542\u001b[0m         \u001b[0;32mreturn\u001b[0m \u001b[0mobj\u001b[0m\u001b[0;34m\u001b[0m\u001b[0m\n",
      "\u001b[0;32m~/code/PySyft/syft/serde/native_serde.py\u001b[0m in \u001b[0;36m_detail_collection_tuple\u001b[0;34m(worker, my_tuple)\u001b[0m\n\u001b[1;32m    131\u001b[0m     \u001b[0;31m# Step 1: deserialize each part of the collection\u001b[0m\u001b[0;34m\u001b[0m\u001b[0;34m\u001b[0m\u001b[0m\n\u001b[1;32m    132\u001b[0m     \u001b[0;32mfor\u001b[0m \u001b[0mpart\u001b[0m \u001b[0;32min\u001b[0m \u001b[0mmy_tuple\u001b[0m\u001b[0;34m:\u001b[0m\u001b[0;34m\u001b[0m\u001b[0m\n\u001b[0;32m--> 133\u001b[0;31m         \u001b[0mpieces\u001b[0m\u001b[0;34m.\u001b[0m\u001b[0mappend\u001b[0m\u001b[0;34m(\u001b[0m\u001b[0mserde\u001b[0m\u001b[0;34m.\u001b[0m\u001b[0m_detail\u001b[0m\u001b[0;34m(\u001b[0m\u001b[0mworker\u001b[0m\u001b[0;34m,\u001b[0m \u001b[0mpart\u001b[0m\u001b[0;34m)\u001b[0m\u001b[0;34m)\u001b[0m\u001b[0;34m\u001b[0m\u001b[0m\n\u001b[0m\u001b[1;32m    134\u001b[0m \u001b[0;34m\u001b[0m\u001b[0m\n\u001b[1;32m    135\u001b[0m     \u001b[0;32mreturn\u001b[0m \u001b[0mtuple\u001b[0m\u001b[0;34m(\u001b[0m\u001b[0mpieces\u001b[0m\u001b[0;34m)\u001b[0m\u001b[0;34m\u001b[0m\u001b[0m\n",
      "\u001b[0;32m~/code/PySyft/syft/serde/serde.py\u001b[0m in \u001b[0;36m_detail\u001b[0;34m(worker, obj)\u001b[0m\n\u001b[1;32m    538\u001b[0m     \"\"\"\n\u001b[1;32m    539\u001b[0m     \u001b[0;32mif\u001b[0m \u001b[0mtype\u001b[0m\u001b[0;34m(\u001b[0m\u001b[0mobj\u001b[0m\u001b[0;34m)\u001b[0m \u001b[0;32min\u001b[0m \u001b[0;34m(\u001b[0m\u001b[0mlist\u001b[0m\u001b[0;34m,\u001b[0m \u001b[0mtuple\u001b[0m\u001b[0;34m)\u001b[0m\u001b[0;34m:\u001b[0m\u001b[0;34m\u001b[0m\u001b[0m\n\u001b[0;32m--> 540\u001b[0;31m         \u001b[0;32mreturn\u001b[0m \u001b[0mdetailers\u001b[0m\u001b[0;34m[\u001b[0m\u001b[0mobj\u001b[0m\u001b[0;34m[\u001b[0m\u001b[0;36m0\u001b[0m\u001b[0;34m]\u001b[0m\u001b[0;34m]\u001b[0m\u001b[0;34m(\u001b[0m\u001b[0mworker\u001b[0m\u001b[0;34m,\u001b[0m \u001b[0mobj\u001b[0m\u001b[0;34m[\u001b[0m\u001b[0;36m1\u001b[0m\u001b[0;34m]\u001b[0m\u001b[0;34m)\u001b[0m\u001b[0;34m\u001b[0m\u001b[0m\n\u001b[0m\u001b[1;32m    541\u001b[0m     \u001b[0;32melse\u001b[0m\u001b[0;34m:\u001b[0m\u001b[0;34m\u001b[0m\u001b[0m\n\u001b[1;32m    542\u001b[0m         \u001b[0;32mreturn\u001b[0m \u001b[0mobj\u001b[0m\u001b[0;34m\u001b[0m\u001b[0m\n",
      "\u001b[0;32m~/code/PySyft/syft/generic/pointers/pointer_tensor.py\u001b[0m in \u001b[0;36mdetail\u001b[0;34m(worker, tensor_tuple)\u001b[0m\n\u001b[1;32m    420\u001b[0m         \u001b[0;31m# If the pointer received is pointing at the current worker, we load the tensor instead\u001b[0m\u001b[0;34m\u001b[0m\u001b[0;34m\u001b[0m\u001b[0m\n\u001b[1;32m    421\u001b[0m         \u001b[0;32mif\u001b[0m \u001b[0mworker_id\u001b[0m \u001b[0;34m==\u001b[0m \u001b[0mworker\u001b[0m\u001b[0;34m.\u001b[0m\u001b[0mid\u001b[0m\u001b[0;34m:\u001b[0m\u001b[0;34m\u001b[0m\u001b[0m\n\u001b[0;32m--> 422\u001b[0;31m             \u001b[0mtensor\u001b[0m \u001b[0;34m=\u001b[0m \u001b[0mworker\u001b[0m\u001b[0;34m.\u001b[0m\u001b[0mget_obj\u001b[0m\u001b[0;34m(\u001b[0m\u001b[0mid_at_location\u001b[0m\u001b[0;34m)\u001b[0m\u001b[0;34m\u001b[0m\u001b[0m\n\u001b[0m\u001b[1;32m    423\u001b[0m \u001b[0;34m\u001b[0m\u001b[0m\n\u001b[1;32m    424\u001b[0m             \u001b[0;32mif\u001b[0m \u001b[0mpoint_to_attr\u001b[0m \u001b[0;32mis\u001b[0m \u001b[0;32mnot\u001b[0m \u001b[0;32mNone\u001b[0m \u001b[0;32mand\u001b[0m \u001b[0mtensor\u001b[0m \u001b[0;32mis\u001b[0m \u001b[0;32mnot\u001b[0m \u001b[0;32mNone\u001b[0m\u001b[0;34m:\u001b[0m\u001b[0;34m\u001b[0m\u001b[0m\n",
      "\u001b[0;32m~/code/PySyft/syft/workers/base.py\u001b[0m in \u001b[0;36mget_obj\u001b[0;34m(self, obj_id)\u001b[0m\n\u001b[1;32m    517\u001b[0m             \u001b[0mobj_id\u001b[0m\u001b[0;34m:\u001b[0m \u001b[0mA\u001b[0m \u001b[0mstring\u001b[0m \u001b[0;32mor\u001b[0m \u001b[0minteger\u001b[0m \u001b[0mid\u001b[0m \u001b[0mof\u001b[0m \u001b[0man\u001b[0m \u001b[0mobject\u001b[0m \u001b[0mto\u001b[0m \u001b[0mlook\u001b[0m \u001b[0mup\u001b[0m\u001b[0;34m.\u001b[0m\u001b[0;34m\u001b[0m\u001b[0m\n\u001b[1;32m    518\u001b[0m         \"\"\"\n\u001b[0;32m--> 519\u001b[0;31m         \u001b[0mobj\u001b[0m \u001b[0;34m=\u001b[0m \u001b[0msuper\u001b[0m\u001b[0;34m(\u001b[0m\u001b[0;34m)\u001b[0m\u001b[0;34m.\u001b[0m\u001b[0mget_obj\u001b[0m\u001b[0;34m(\u001b[0m\u001b[0mobj_id\u001b[0m\u001b[0;34m)\u001b[0m\u001b[0;34m\u001b[0m\u001b[0m\n\u001b[0m\u001b[1;32m    520\u001b[0m         \u001b[0;31m# An object called with get_obj will be \"with high probability\" serialized\u001b[0m\u001b[0;34m\u001b[0m\u001b[0;34m\u001b[0m\u001b[0m\n\u001b[1;32m    521\u001b[0m         \u001b[0;31m# and sent back, so it will be GCed but remote data is any shouldn't be\u001b[0m\u001b[0;34m\u001b[0m\u001b[0;34m\u001b[0m\u001b[0m\n",
      "\u001b[0;32m~/code/PySyft/syft/generic/object_storage.py\u001b[0m in \u001b[0;36mget_obj\u001b[0;34m(self, obj_id)\u001b[0m\n\u001b[1;32m     82\u001b[0m                     \u001b[0;34m\"make sure you haven't already called .get() on this pointer!!!\"\u001b[0m\u001b[0;34m\u001b[0m\u001b[0m\n\u001b[1;32m     83\u001b[0m                 )\n\u001b[0;32m---> 84\u001b[0;31m                 \u001b[0;32mraise\u001b[0m \u001b[0mKeyError\u001b[0m\u001b[0;34m(\u001b[0m\u001b[0mmsg\u001b[0m\u001b[0;34m)\u001b[0m\u001b[0;34m\u001b[0m\u001b[0m\n\u001b[0m\u001b[1;32m     85\u001b[0m             \u001b[0;32melse\u001b[0m\u001b[0;34m:\u001b[0m\u001b[0;34m\u001b[0m\u001b[0m\n\u001b[1;32m     86\u001b[0m                 \u001b[0;32mraise\u001b[0m \u001b[0me\u001b[0m\u001b[0;34m\u001b[0m\u001b[0m\n",
      "\u001b[0;31mKeyError\u001b[0m: 'Object \"45180580120\" not found on worker!!!You just tried to interact with an object ID:45180580120 on <VirtualWorker id:alice #objects:44> which does not exist!!! Use .send() and .get() on all your tensors to make sure they\\'reon the same machines. If you think this tensor does exist, check the ._objects dictionaryon the worker and see for yourself!!! The most common reason this error happens is because someone calls.get() on the object\\'s pointer without realizing it (which deletes the remote object and sends it to the pointer). Check your code to make sure you haven\\'t already called .get() on this pointer!!!'"
     ]
    }
   ],
   "source": [
    "if is_func2plan:\n",
    "\n",
    "    @sy.func2plan(args_shape=[(1,)], state={\"bias\": th.tensor([3.0])})\n",
    "    def plan(data, state):\n",
    "        bias = state.read(\"bias\")\n",
    "        return data * bias\n",
    "\n",
    "else:\n",
    "\n",
    "    class Net(sy.Plan):\n",
    "        def __init__(self):\n",
    "            super(Net, self).__init__()\n",
    "            self.fc1 = nn.Linear(1, 1)\n",
    "\n",
    "        def forward(self, x):\n",
    "            print('Forward', x, self.fc1.bias)\n",
    "            return self.fc1(x)\n",
    "\n",
    "    plan = Net()\n",
    "    plan.build(th.tensor([1.2]))\n",
    "\n",
    "plan.fix_precision().share(alice, bob, crypto_provider=charlie)\n",
    "\n",
    "\n",
    "ptr_plan = plan.send(james)\n",
    "\n",
    "# Fetch plan\n",
    "fetched_plan = plan.owner.fetch_plan(ptr_plan.id_at_location, james)\n",
    "\n",
    "\n",
    "# Execute the fetch plan\n",
    "x = th.tensor([-1.0])\n",
    "x_sh = x.fix_precision().share(alice, bob, crypto_provider=charlie)\n",
    "result = fetched_plan(x_sh)\n",
    "decrypted = result.get().float_prec()\n",
    "\n",
    "# Compare with local plan\n",
    "plan.get()\n",
    "plan.float_precision()\n",
    "x = th.tensor([-1.0])\n",
    "print('===')\n",
    "print(plan.fc1.weight)\n",
    "expected = plan(x)\n",
    "assert th.all(decrypted - expected.detach() < 1e-2)\n",
    "# assert fetched_plan.state.state_ids != plan.state.state_ids #TODO\n",
    "\n",
    "# Make sure fetched_plan is using the readable_plan\n",
    "assert fetched_plan.forward is None\n",
    "assert fetched_plan.is_built\n",
    "\n",
    "# Make sure plan is using the blueprint: forward\n",
    "assert plan.forward is not None"
   ]
  },
  {
   "cell_type": "code",
   "execution_count": 3,
   "metadata": {},
   "outputs": [
    {
     "name": "stdout",
     "output_type": "stream",
     "text": [
      "80339099253\n",
      "id 80339099253\n",
      "id 80339099253\n",
      "80339099253\n",
      "80339099253\n"
     ]
    }
   ],
   "source": [
    "x = th.tensor([-1.0])\n",
    "print(x.id)\n",
    "x.fix_precision_()\n",
    "print(x.id)\n",
    "x.share_(alice, bob, crypto_provider=charlie)\n",
    "print(x.id)"
   ]
  },
  {
   "cell_type": "code",
   "execution_count": 6,
   "metadata": {},
   "outputs": [
    {
     "name": "stdout",
     "output_type": "stream",
     "text": [
      "meth arg tensor([-1.])\n",
      "Tensor>FixedPrecisionTensor>(Wrapper)>[AdditiveSharingTensor]\n",
      "\t-> [PointerTensor | me:72721408490 -> alice:17319977397]\n",
      "\t-> [PointerTensor | me:30576794046 -> bob:21503752519]\n",
      "\t*crypto provider: charlie*\n",
      "tensor([-1.])\n"
     ]
    }
   ],
   "source": [
    "x = th.tensor([-1.0])\n",
    "x.fix_precision_().share_(alice, bob, crypto_provider=charlie)\n",
    "print(x)\n",
    "x.get_().float_precision_()\n",
    "print(x)"
   ]
  },
  {
   "cell_type": "code",
   "execution_count": null,
   "metadata": {},
   "outputs": [],
   "source": []
  },
  {
   "cell_type": "code",
   "execution_count": 5,
   "metadata": {},
   "outputs": [
    {
     "name": "stdout",
     "output_type": "stream",
     "text": [
      "meth arg tensor([-1.])\n",
      "id set at 25166120385 : 25166120385\n"
     ]
    }
   ],
   "source": [
    "x = th.tensor([-1.0])\n",
    "x_sh = x.fix_precision().share(alice, bob, crypto_provider=charlie)"
   ]
  },
  {
   "cell_type": "code",
   "execution_count": 6,
   "metadata": {},
   "outputs": [
    {
     "name": "stdout",
     "output_type": "stream",
     "text": [
      "meth arg (Wrapper)>FixedPrecisionTensor>[AdditiveSharingTensor]\n",
      "\t-> [PointerTensor | me:6480982762 -> alice:18760437809]\n",
      "\t-> [PointerTensor | me:19191973230 -> bob:60456761549]\n",
      "\t*crypto provider: charlie*\n",
      "id set at 92216924999 : 92216924999\n"
     ]
    },
    {
     "data": {
      "text/plain": [
       "tensor([])"
      ]
     },
     "execution_count": 6,
     "metadata": {},
     "output_type": "execute_result"
    }
   ],
   "source": [
    "x_sh.clone()"
   ]
  },
  {
   "cell_type": "code",
   "execution_count": 15,
   "metadata": {
    "scrolled": true
   },
   "outputs": [
    {
     "name": "stdout",
     "output_type": "stream",
     "text": [
      "bias tensor([3.])\n"
     ]
    }
   ],
   "source": [
    "res = plan(th.tensor([1.0]))"
   ]
  },
  {
   "cell_type": "code",
   "execution_count": 6,
   "metadata": {},
   "outputs": [
    {
     "data": {
      "text/plain": [
       "tensor([3.])"
      ]
     },
     "execution_count": 6,
     "metadata": {},
     "output_type": "execute_result"
    }
   ],
   "source": [
    "res"
   ]
  },
  {
   "cell_type": "code",
   "execution_count": 7,
   "metadata": {},
   "outputs": [
    {
     "name": "stdout",
     "output_type": "stream",
     "text": [
      "simplify [tensor([3.])]\n"
     ]
    }
   ],
   "source": [
    "ptr_plan = plan.send(alice)"
   ]
  },
  {
   "cell_type": "code",
   "execution_count": 9,
   "metadata": {},
   "outputs": [
    {
     "data": {
      "text/plain": [
       "(Wrapper)>[PointerTensor | me:10755526900 -> alice:81168473358]"
      ]
     },
     "execution_count": 9,
     "metadata": {},
     "output_type": "execute_result"
    }
   ],
   "source": [
    "p = th.tensor([2.0]).send(alice)\n",
    "p"
   ]
  },
  {
   "cell_type": "code",
   "execution_count": 10,
   "metadata": {},
   "outputs": [
    {
     "data": {
      "text/plain": [
       "tensor([6.])"
      ]
     },
     "execution_count": 10,
     "metadata": {},
     "output_type": "execute_result"
    }
   ],
   "source": [
    "ptr_plan(p).get()"
   ]
  },
  {
   "cell_type": "code",
   "execution_count": 20,
   "metadata": {},
   "outputs": [
    {
     "name": "stdout",
     "output_type": "stream",
     "text": [
      "[(31, (1, ((6, ((5, (b'__mul__',)), (23, (35713076843, 12275943928, 'me', None, (10, (1,)), True)), (6, ((23, (92917339826, 56915725177, 'me', None, (10, (1,)), True)),)), (0, ()))), (17100190141,))))]\n",
      "* [56915725177]\n",
      "ptr tensor([3.])\n"
     ]
    },
    {
     "ename": "AttributeError",
     "evalue": "'Tensor' object has no attribute 'child'",
     "output_type": "error",
     "traceback": [
      "\u001b[0;31m---------------------------------------------------------------------------\u001b[0m",
      "\u001b[0;31mAttributeError\u001b[0m                            Traceback (most recent call last)",
      "\u001b[0;32m<ipython-input-20-75fc0bda2d0d>\u001b[0m in \u001b[0;36m<module>\u001b[0;34m\u001b[0m\n\u001b[1;32m      6\u001b[0m \u001b[0mptr_plan\u001b[0m \u001b[0;34m=\u001b[0m \u001b[0mplan\u001b[0m\u001b[0;34m.\u001b[0m\u001b[0msend\u001b[0m\u001b[0;34m(\u001b[0m\u001b[0malice\u001b[0m\u001b[0;34m)\u001b[0m\u001b[0;34m\u001b[0m\u001b[0m\n\u001b[1;32m      7\u001b[0m \u001b[0;34m\u001b[0m\u001b[0m\n\u001b[0;32m----> 8\u001b[0;31m \u001b[0mplan\u001b[0m\u001b[0;34m.\u001b[0m\u001b[0mget\u001b[0m\u001b[0;34m(\u001b[0m\u001b[0;34m)\u001b[0m\u001b[0;34m\u001b[0m\u001b[0m\n\u001b[0m",
      "\u001b[0;32m~/code/PySyft/syft/messaging/plan.py\u001b[0m in \u001b[0;36mget\u001b[0;34m(self)\u001b[0m\n\u001b[1;32m    680\u001b[0m \u001b[0;34m\u001b[0m\u001b[0m\n\u001b[1;32m    681\u001b[0m     \u001b[0;32mdef\u001b[0m \u001b[0mget\u001b[0m\u001b[0;34m(\u001b[0m\u001b[0mself\u001b[0m\u001b[0;34m)\u001b[0m\u001b[0;34m:\u001b[0m\u001b[0;34m\u001b[0m\u001b[0m\n\u001b[0;32m--> 682\u001b[0;31m         \u001b[0mself\u001b[0m\u001b[0;34m.\u001b[0m\u001b[0mstate\u001b[0m\u001b[0;34m.\u001b[0m\u001b[0mget\u001b[0m\u001b[0;34m(\u001b[0m\u001b[0;34m)\u001b[0m\u001b[0;34m\u001b[0m\u001b[0m\n\u001b[0m\u001b[1;32m    683\u001b[0m         \u001b[0;32mreturn\u001b[0m \u001b[0mself\u001b[0m\u001b[0;34m\u001b[0m\u001b[0m\n\u001b[1;32m    684\u001b[0m         \u001b[0;31m# TODO add the following in a smart way?\u001b[0m\u001b[0;34m\u001b[0m\u001b[0;34m\u001b[0m\u001b[0m\n",
      "\u001b[0;32m~/code/PySyft/syft/messaging/plan.py\u001b[0m in \u001b[0;36mget\u001b[0;34m(self)\u001b[0m\n\u001b[1;32m    184\u001b[0m         \u001b[0;32mfor\u001b[0m \u001b[0mstate_id\u001b[0m \u001b[0;32min\u001b[0m \u001b[0mself\u001b[0m\u001b[0;34m.\u001b[0m\u001b[0mstate_ids\u001b[0m\u001b[0;34m:\u001b[0m\u001b[0;34m\u001b[0m\u001b[0m\n\u001b[1;32m    185\u001b[0m             \u001b[0mt\u001b[0m \u001b[0;34m=\u001b[0m \u001b[0mself\u001b[0m\u001b[0;34m.\u001b[0m\u001b[0mowner\u001b[0m\u001b[0;34m.\u001b[0m\u001b[0mget_obj\u001b[0m\u001b[0;34m(\u001b[0m\u001b[0mstate_id\u001b[0m\u001b[0;34m)\u001b[0m\u001b[0;34m\u001b[0m\u001b[0m\n\u001b[0;32m--> 186\u001b[0;31m             \u001b[0mprint\u001b[0m\u001b[0;34m(\u001b[0m\u001b[0;34m'ptr'\u001b[0m\u001b[0;34m,\u001b[0m \u001b[0mt\u001b[0m\u001b[0;34m)\u001b[0m\u001b[0;34m\u001b[0m\u001b[0m\n\u001b[0m\u001b[1;32m    187\u001b[0m             \u001b[0mprint\u001b[0m\u001b[0;34m(\u001b[0m\u001b[0mt\u001b[0m\u001b[0;34m.\u001b[0m\u001b[0mlocation\u001b[0m\u001b[0;34m.\u001b[0m\u001b[0m_objects\u001b[0m\u001b[0;34m)\u001b[0m\u001b[0;34m\u001b[0m\u001b[0m\n\u001b[1;32m    188\u001b[0m             \u001b[0mt\u001b[0m\u001b[0;34m.\u001b[0m\u001b[0mget_\u001b[0m\u001b[0;34m(\u001b[0m\u001b[0;34m)\u001b[0m\u001b[0;34m\u001b[0m\u001b[0m\n",
      "\u001b[0;32m~/code/PySyft/syft/generic/frameworks/hook/hook.py\u001b[0m in \u001b[0;36mlocation\u001b[0;34m(self)\u001b[0m\n\u001b[1;32m    109\u001b[0m         \u001b[0;34m@\u001b[0m\u001b[0mproperty\u001b[0m\u001b[0;34m\u001b[0m\u001b[0m\n\u001b[1;32m    110\u001b[0m         \u001b[0;32mdef\u001b[0m \u001b[0mlocation\u001b[0m\u001b[0;34m(\u001b[0m\u001b[0mself\u001b[0m\u001b[0;34m)\u001b[0m\u001b[0;34m:\u001b[0m\u001b[0;34m\u001b[0m\u001b[0m\n\u001b[0;32m--> 111\u001b[0;31m             \u001b[0;32mreturn\u001b[0m \u001b[0mself\u001b[0m\u001b[0;34m.\u001b[0m\u001b[0mchild\u001b[0m\u001b[0;34m.\u001b[0m\u001b[0mlocation\u001b[0m\u001b[0;34m\u001b[0m\u001b[0m\n\u001b[0m\u001b[1;32m    112\u001b[0m \u001b[0;34m\u001b[0m\u001b[0m\n\u001b[1;32m    113\u001b[0m         \u001b[0mtensor_type\u001b[0m\u001b[0;34m.\u001b[0m\u001b[0mlocation\u001b[0m \u001b[0;34m=\u001b[0m \u001b[0mlocation\u001b[0m\u001b[0;34m\u001b[0m\u001b[0m\n",
      "\u001b[0;31mAttributeError\u001b[0m: 'Tensor' object has no attribute 'child'"
     ]
    }
   ],
   "source": [
    "@sy.func2plan(args_shape=[(1,)], state={\"bias\": th.tensor([3.0])})\n",
    "def plan(data, state):\n",
    "    bias = state.read(\"bias\")\n",
    "    return data * bias\n",
    "\n",
    "ptr_plan = plan.send(alice)\n",
    "\n",
    "plan.get()"
   ]
  },
  {
   "cell_type": "code",
   "execution_count": 19,
   "metadata": {},
   "outputs": [],
   "source": [
    "x_sh = th.tensor([3.0]).fix_precision()#.share(alice, bob, crypto_provider=charlie)"
   ]
  },
  {
   "cell_type": "code",
   "execution_count": 20,
   "metadata": {},
   "outputs": [
    {
     "data": {
      "text/plain": [
       "tensor([1], dtype=torch.uint8)"
      ]
     },
     "execution_count": 20,
     "metadata": {},
     "output_type": "execute_result"
    }
   ],
   "source": [
    "x_sh.float_prec_() == th.tensor([3.0])"
   ]
  },
  {
   "cell_type": "code",
   "execution_count": 14,
   "metadata": {},
   "outputs": [
    {
     "data": {
      "text/plain": [
       "(Wrapper)>FixedPrecisionTensor>tensor([4611686018427386904])"
      ]
     },
     "execution_count": 14,
     "metadata": {},
     "output_type": "execute_result"
    }
   ],
   "source": [
    "me.get_obj(57192922242)"
   ]
  },
  {
   "cell_type": "code",
   "execution_count": 11,
   "metadata": {},
   "outputs": [
    {
     "data": {
      "text/plain": [
       "tensor([3.])"
      ]
     },
     "execution_count": 11,
     "metadata": {},
     "output_type": "execute_result"
    }
   ],
   "source": [
    "me.get_obj(84112600942)"
   ]
  },
  {
   "cell_type": "code",
   "execution_count": 7,
   "metadata": {},
   "outputs": [
    {
     "data": {
      "text/plain": [
       "[68519530406]"
      ]
     },
     "execution_count": 7,
     "metadata": {},
     "output_type": "execute_result"
    }
   ],
   "source": [
    "plan.commands.arg_ids"
   ]
  },
  {
   "cell_type": "code",
   "execution_count": 8,
   "metadata": {},
   "outputs": [
    {
     "data": {
      "text/plain": [
       "(75165665059,)"
      ]
     },
     "execution_count": 8,
     "metadata": {},
     "output_type": "execute_result"
    }
   ],
   "source": [
    "plan.commands.result_ids"
   ]
  },
  {
   "cell_type": "code",
   "execution_count": 9,
   "metadata": {},
   "outputs": [
    {
     "data": {
      "text/plain": [
       "{}"
      ]
     },
     "execution_count": 9,
     "metadata": {},
     "output_type": "execute_result"
    }
   ],
   "source": [
    "alice._objects"
   ]
  },
  {
   "cell_type": "code",
   "execution_count": 6,
   "metadata": {},
   "outputs": [],
   "source": [
    "rplan = alice.get_obj(48869846473)"
   ]
  },
  {
   "cell_type": "code",
   "execution_count": 7,
   "metadata": {},
   "outputs": [
    {
     "data": {
      "text/plain": [
       "tensor([2.])"
      ]
     },
     "execution_count": 7,
     "metadata": {},
     "output_type": "execute_result"
    }
   ],
   "source": [
    "rplan.bias"
   ]
  },
  {
   "cell_type": "code",
   "execution_count": 15,
   "metadata": {},
   "outputs": [
    {
     "data": {
      "text/plain": [
       "tensor([2.])"
      ]
     },
     "execution_count": 15,
     "metadata": {},
     "output_type": "execute_result"
    }
   ],
   "source": [
    "plan.bias"
   ]
  },
  {
   "cell_type": "code",
   "execution_count": null,
   "metadata": {},
   "outputs": [],
   "source": []
  },
  {
   "cell_type": "code",
   "execution_count": 8,
   "metadata": {},
   "outputs": [
    {
     "name": "stdout",
     "output_type": "stream",
     "text": [
      "state tupele (20, ((1, ((5, (b'bias',)),)), (1, (50428538245,)), (1, ((13, (1674357582, b'\\x80\\x02\\x8a\\nl\\xfc\\x9cF\\xf9 j\\xa8P\\x19.\\x80\\x02M\\xe9\\x03.\\x80\\x02}q\\x00(X\\x10\\x00\\x00\\x00protocol_versionq\\x01M\\xe9\\x03X\\r\\x00\\x00\\x00little_endianq\\x02\\x88X\\n\\x00\\x00\\x00type_sizesq\\x03}q\\x04(X\\x05\\x00\\x00\\x00shortq\\x05K\\x02X\\x03\\x00\\x00\\x00intq\\x06K\\x04X\\x04\\x00\\x00\\x00longq\\x07K\\x04uu.\\x80\\x02ctorch._utils\\n_rebuild_tensor_v2\\nq\\x00((X\\x07\\x00\\x00\\x00storageq\\x01ctorch\\nFloatStorage\\nq\\x02X\\x0f\\x00\\x00\\x00140419995499696q\\x03X\\x03\\x00\\x00\\x00cpuq\\x04K\\x01Ntq\\x05QK\\x00K\\x01\\x85q\\x06K\\x01\\x85q\\x07\\x89ccollections\\nOrderedDict\\nq\\x08)Rq\\ttq\\nRq\\x0b.\\x80\\x02]q\\x00X\\x0f\\x00\\x00\\x00140419995499696q\\x01a.\\x01\\x00\\x00\\x00\\x00\\x00\\x00\\x00\\x00\\x00\\x00@', None, None, None, None)),))))\n",
      "state tupele (20, ((1, ((5, (b'bias',)),)), (1, (50428538245,)), (1, ((13, (50428538245, b'\\x80\\x02\\x8a\\nl\\xfc\\x9cF\\xf9 j\\xa8P\\x19.\\x80\\x02M\\xe9\\x03.\\x80\\x02}q\\x00(X\\x10\\x00\\x00\\x00protocol_versionq\\x01M\\xe9\\x03X\\r\\x00\\x00\\x00little_endianq\\x02\\x88X\\n\\x00\\x00\\x00type_sizesq\\x03}q\\x04(X\\x05\\x00\\x00\\x00shortq\\x05K\\x02X\\x03\\x00\\x00\\x00intq\\x06K\\x04X\\x04\\x00\\x00\\x00longq\\x07K\\x04uu.\\x80\\x02ctorch._utils\\n_rebuild_tensor_v2\\nq\\x00((X\\x07\\x00\\x00\\x00storageq\\x01ctorch\\nFloatStorage\\nq\\x02X\\x0f\\x00\\x00\\x00140420001859088q\\x03X\\x03\\x00\\x00\\x00cpuq\\x04K\\x01Ntq\\x05QK\\x00K\\x01\\x85q\\x06K\\x01\\x85q\\x07\\x89ccollections\\nOrderedDict\\nq\\x08)Rq\\ttq\\nRq\\x0b.\\x80\\x02]q\\x00X\\x0f\\x00\\x00\\x00140420001859088q\\x01a.\\x01\\x00\\x00\\x00\\x00\\x00\\x00\\x00\\x00\\x00\\x00@', None, None, None, None)),))))\n",
      "{12422712784: tensor([2.]), 62795618189: tensor([2.]), 50428538245: tensor([2.]), 30720274227: tensor([2.])}\n",
      "<Plan plan id:34221954514 owner:me built>\n",
      "[50428538245]\n",
      "[86415039230]\n",
      "[(31, (1, ((6, ((5, (b'__add__',)), (23, (74927931612, 86415039230, 'me', None, (10, (1,)), True)), (6, ((23, (41060487485, 50428538245, 'me', None, (10, (1,)), True)),)), (0, ()))), (59290175893,))))]\n",
      "Run plan 34221954514@me isbuilt=True > 4640773387\n",
      "[(31, (1, ((6, ((5, (b'__add__',)), (23, (74927931612, 1876188916, 'me', None, (10, (1,)), True)), (6, ((23, (41060487485, 50428538245, 'me', None, (10, (1,)), True)),)), (0, ()))), (4640773387,))))]\n",
      "tensor([1.])\n"
     ]
    }
   ],
   "source": [
    "hook.local_worker.is_client_worker = False\n",
    "\n",
    "@sy.func2plan(args_shape=[(1,)], state={\"bias\": th.tensor([2.0])})\n",
    "def plan(x, state):\n",
    "    bias = state.read(\"bias\")\n",
    "    return x + bias\n",
    "\n",
    "plan.send(alice)\n",
    "\n",
    "hook.local_worker.clear_objects()\n",
    "\n",
    "# Fetch plan\n",
    "fetched_plan = plan.owner.fetch_plan(plan.id, alice)\n",
    "\n",
    "print(hook.local_worker._objects)\n",
    "print(fetched_plan)\n",
    "print(fetched_plan.state.state_ids)\n",
    "print(fetched_plan.commands.arg_ids)\n",
    "print(fetched_plan.readable_plan)\n",
    "# Execute it locally\n",
    "x = th.tensor([-1.0])\n",
    "print(fetched_plan(x))\n",
    "\n",
    "hook.local_worker.is_client_worker = True"
   ]
  },
  {
   "cell_type": "code",
   "execution_count": 2,
   "metadata": {},
   "outputs": [
    {
     "data": {
      "text/plain": [
       "<VirtualWorker id:alice #objects:0>"
      ]
     },
     "execution_count": 2,
     "metadata": {},
     "output_type": "execute_result"
    }
   ],
   "source": [
    "alice.clear_objects()"
   ]
  },
  {
   "cell_type": "code",
   "execution_count": 3,
   "metadata": {},
   "outputs": [],
   "source": [
    "@sy.func2plan(args_shape=[(1,)], state={\"bias\": th.tensor([2.0])})\n",
    "def plan(x, state):\n",
    "    bias = state.read(\"bias\")\n",
    "    return x + bias\n"
   ]
  },
  {
   "cell_type": "code",
   "execution_count": 4,
   "metadata": {},
   "outputs": [
    {
     "data": {
      "text/plain": [
       "[(31,\n",
       "  (1,\n",
       "   ((6,\n",
       "     ((5, (b'__add__',)),\n",
       "      (23, (20678530031, 73920391858, 'me', None, (10, (1,)), True)),\n",
       "      (6, ((23, (86948992756, 451532547, 'me', None, (10, (1,)), True)),)),\n",
       "      (0, ()))),\n",
       "    (63415937032,))))]"
      ]
     },
     "execution_count": 4,
     "metadata": {},
     "output_type": "execute_result"
    }
   ],
   "source": [
    "plan.commands.commands"
   ]
  },
  {
   "cell_type": "code",
   "execution_count": 5,
   "metadata": {},
   "outputs": [
    {
     "name": "stdout",
     "output_type": "stream",
     "text": [
      "state_elements [tensor([2.])]\n"
     ]
    }
   ],
   "source": [
    "ptr_plan = plan.send(alice)"
   ]
  },
  {
   "cell_type": "code",
   "execution_count": 6,
   "metadata": {},
   "outputs": [
    {
     "data": {
      "text/plain": [
       "{451532547: tensor([2.]),\n",
       " 52376384404: <Plan plan id:52376384404 owner:alice built>}"
      ]
     },
     "execution_count": 6,
     "metadata": {},
     "output_type": "execute_result"
    }
   ],
   "source": [
    "alice._objects"
   ]
  },
  {
   "cell_type": "code",
   "execution_count": 7,
   "metadata": {},
   "outputs": [
    {
     "data": {
      "text/plain": [
       "[PointerPlan | me:37703660786 -> alice:52376384404]"
      ]
     },
     "execution_count": 7,
     "metadata": {},
     "output_type": "execute_result"
    }
   ],
   "source": [
    "ptr_plan"
   ]
  },
  {
   "cell_type": "code",
   "execution_count": 8,
   "metadata": {},
   "outputs": [
    {
     "data": {
      "text/plain": [
       "[451532547]"
      ]
     },
     "execution_count": 8,
     "metadata": {},
     "output_type": "execute_result"
    }
   ],
   "source": [
    "alice.get_obj(ptr_plan.id_at_location).state.state_ids"
   ]
  },
  {
   "cell_type": "code",
   "execution_count": 9,
   "metadata": {},
   "outputs": [
    {
     "data": {
      "text/plain": [
       "[73920391858]"
      ]
     },
     "execution_count": 9,
     "metadata": {},
     "output_type": "execute_result"
    }
   ],
   "source": [
    "alice.get_obj(ptr_plan.id_at_location).commands.arg_ids"
   ]
  },
  {
   "cell_type": "code",
   "execution_count": 10,
   "metadata": {},
   "outputs": [
    {
     "data": {
      "text/plain": [
       "[(31,\n",
       "  (1,\n",
       "   ((6,\n",
       "     ((5, (b'__add__',)),\n",
       "      (23, (20678530031, 73920391858, b'alice', None, (10, (1,)), True)),\n",
       "      (6, ((23, (86948992756, 451532547, b'alice', None, (10, (1,)), True)),)),\n",
       "      (0, ()))),\n",
       "    (63415937032,))))]"
      ]
     },
     "execution_count": 10,
     "metadata": {},
     "output_type": "execute_result"
    }
   ],
   "source": [
    "alice.get_obj(ptr_plan.id_at_location).commands.commands"
   ]
  },
  {
   "cell_type": "code",
   "execution_count": 11,
   "metadata": {
    "scrolled": true
   },
   "outputs": [
    {
     "name": "stdout",
     "output_type": "stream",
     "text": [
      "Run plan 52376384404@alice isbuilt=True > 3504548155\n",
      "====> {451532547: tensor([2.]), 52376384404: <Plan plan id:52376384404 owner:alice built>, 47779633425: tensor([1.]), 3504548155: tensor([3.])}\n",
      "tensor([3.])\n"
     ]
    },
    {
     "data": {
      "text/plain": [
       "(Wrapper)>[PointerTensor | me:91236084300 -> alice:3504548155]"
      ]
     },
     "execution_count": 11,
     "metadata": {},
     "output_type": "execute_result"
    }
   ],
   "source": [
    "x = th.tensor([1.]).send(alice)\n",
    "p = ptr_plan(x)\n",
    "p"
   ]
  },
  {
   "cell_type": "code",
   "execution_count": 12,
   "metadata": {},
   "outputs": [
    {
     "data": {
      "text/plain": [
       "47779633425"
      ]
     },
     "execution_count": 12,
     "metadata": {},
     "output_type": "execute_result"
    }
   ],
   "source": [
    "x.id_at_location"
   ]
  },
  {
   "cell_type": "code",
   "execution_count": 13,
   "metadata": {},
   "outputs": [
    {
     "data": {
      "text/plain": [
       "{451532547: tensor([2.]),\n",
       " 52376384404: <Plan plan id:52376384404 owner:alice built>,\n",
       " 47779633425: tensor([1.]),\n",
       " 3504548155: tensor([3.])}"
      ]
     },
     "execution_count": 13,
     "metadata": {},
     "output_type": "execute_result"
    }
   ],
   "source": [
    "alice._objects"
   ]
  },
  {
   "cell_type": "code",
   "execution_count": null,
   "metadata": {},
   "outputs": [],
   "source": []
  },
  {
   "cell_type": "code",
   "execution_count": 14,
   "metadata": {},
   "outputs": [
    {
     "data": {
      "text/plain": [
       "tensor([3.])"
      ]
     },
     "execution_count": 14,
     "metadata": {},
     "output_type": "execute_result"
    }
   ],
   "source": [
    "p.get()"
   ]
  },
  {
   "cell_type": "code",
   "execution_count": 15,
   "metadata": {},
   "outputs": [
    {
     "name": "stdout",
     "output_type": "stream",
     "text": [
      "state_elements [tensor([1.])]\n"
     ]
    },
    {
     "ename": "TypeError",
     "evalue": "create_pointer() missing 2 required positional arguments: 'location' and 'id_at_location'",
     "output_type": "error",
     "traceback": [
      "\u001b[0;31m---------------------------------------------------------------------------\u001b[0m",
      "\u001b[0;31mTypeError\u001b[0m                                 Traceback (most recent call last)",
      "\u001b[0;32m<ipython-input-15-f0efd22e2821>\u001b[0m in \u001b[0;36m<module>\u001b[0;34m\u001b[0m\n\u001b[1;32m      6\u001b[0m \u001b[0mplan\u001b[0m\u001b[0;34m.\u001b[0m\u001b[0msend\u001b[0m\u001b[0;34m(\u001b[0m\u001b[0malice\u001b[0m\u001b[0;34m)\u001b[0m\u001b[0;34m\u001b[0m\u001b[0m\n\u001b[1;32m      7\u001b[0m \u001b[0mid_at_location\u001b[0m \u001b[0;34m=\u001b[0m \u001b[0mplan\u001b[0m\u001b[0;34m.\u001b[0m\u001b[0mid\u001b[0m\u001b[0;34m\u001b[0m\u001b[0m\n\u001b[0;32m----> 8\u001b[0;31m \u001b[0mplan_ptr\u001b[0m \u001b[0;34m=\u001b[0m \u001b[0mme\u001b[0m\u001b[0;34m.\u001b[0m\u001b[0mrequest_search\u001b[0m\u001b[0;34m(\u001b[0m\u001b[0;34m[\u001b[0m\u001b[0mid_at_location\u001b[0m\u001b[0;34m]\u001b[0m\u001b[0;34m,\u001b[0m \u001b[0mlocation\u001b[0m\u001b[0;34m=\u001b[0m\u001b[0malice\u001b[0m\u001b[0;34m)\u001b[0m\u001b[0;34m\u001b[0m\u001b[0m\n\u001b[0m\u001b[1;32m      9\u001b[0m \u001b[0;34m\u001b[0m\u001b[0m\n\u001b[1;32m     10\u001b[0m \u001b[0mplan\u001b[0m \u001b[0;34m=\u001b[0m \u001b[0mplan_ptr\u001b[0m\u001b[0;34m.\u001b[0m\u001b[0mget\u001b[0m\u001b[0;34m(\u001b[0m\u001b[0;34m)\u001b[0m\u001b[0;34m\u001b[0m\u001b[0m\n",
      "\u001b[0;32m~/code/PySyft/syft/workers/base.py\u001b[0m in \u001b[0;36mrequest_search\u001b[0;34m(self, query, location)\u001b[0m\n\u001b[1;32m    944\u001b[0m     \u001b[0;32mdef\u001b[0m \u001b[0mrequest_search\u001b[0m\u001b[0;34m(\u001b[0m\u001b[0mself\u001b[0m\u001b[0;34m,\u001b[0m \u001b[0mquery\u001b[0m\u001b[0;34m:\u001b[0m \u001b[0mList\u001b[0m\u001b[0;34m[\u001b[0m\u001b[0mstr\u001b[0m\u001b[0;34m]\u001b[0m\u001b[0;34m,\u001b[0m \u001b[0mlocation\u001b[0m\u001b[0;34m:\u001b[0m \u001b[0;34m\"BaseWorker\"\u001b[0m\u001b[0;34m)\u001b[0m\u001b[0;34m:\u001b[0m\u001b[0;34m\u001b[0m\u001b[0m\n\u001b[1;32m    945\u001b[0m \u001b[0;34m\u001b[0m\u001b[0m\n\u001b[0;32m--> 946\u001b[0;31m         \u001b[0mresult\u001b[0m \u001b[0;34m=\u001b[0m \u001b[0mself\u001b[0m\u001b[0;34m.\u001b[0m\u001b[0msend_msg\u001b[0m\u001b[0;34m(\u001b[0m\u001b[0mSearchMessage\u001b[0m\u001b[0;34m(\u001b[0m\u001b[0mquery\u001b[0m\u001b[0;34m)\u001b[0m\u001b[0;34m,\u001b[0m \u001b[0mlocation\u001b[0m\u001b[0;34m=\u001b[0m\u001b[0mlocation\u001b[0m\u001b[0;34m)\u001b[0m\u001b[0;34m\u001b[0m\u001b[0m\n\u001b[0m\u001b[1;32m    947\u001b[0m \u001b[0;34m\u001b[0m\u001b[0m\n\u001b[1;32m    948\u001b[0m         \u001b[0;32mreturn\u001b[0m \u001b[0mresult\u001b[0m\u001b[0;34m\u001b[0m\u001b[0m\n",
      "\u001b[0;32m~/code/PySyft/syft/workers/base.py\u001b[0m in \u001b[0;36msend_msg\u001b[0;34m(self, message, location)\u001b[0m\n\u001b[1;32m    256\u001b[0m \u001b[0;34m\u001b[0m\u001b[0m\n\u001b[1;32m    257\u001b[0m         \u001b[0;31m# Step 2: send the message and wait for a response\u001b[0m\u001b[0;34m\u001b[0m\u001b[0;34m\u001b[0m\u001b[0m\n\u001b[0;32m--> 258\u001b[0;31m         \u001b[0mbin_response\u001b[0m \u001b[0;34m=\u001b[0m \u001b[0mself\u001b[0m\u001b[0;34m.\u001b[0m\u001b[0m_send_msg\u001b[0m\u001b[0;34m(\u001b[0m\u001b[0mbin_message\u001b[0m\u001b[0;34m,\u001b[0m \u001b[0mlocation\u001b[0m\u001b[0;34m)\u001b[0m\u001b[0;34m\u001b[0m\u001b[0m\n\u001b[0m\u001b[1;32m    259\u001b[0m \u001b[0;34m\u001b[0m\u001b[0m\n\u001b[1;32m    260\u001b[0m         \u001b[0;31m# Step 3: deserialize the response\u001b[0m\u001b[0;34m\u001b[0m\u001b[0;34m\u001b[0m\u001b[0m\n",
      "\u001b[0;32m~/code/PySyft/syft/workers/virtual.py\u001b[0m in \u001b[0;36m_send_msg\u001b[0;34m(self, message, location)\u001b[0m\n\u001b[1;32m      5\u001b[0m \u001b[0;32mclass\u001b[0m \u001b[0mVirtualWorker\u001b[0m\u001b[0;34m(\u001b[0m\u001b[0mBaseWorker\u001b[0m\u001b[0;34m,\u001b[0m \u001b[0mFederatedClient\u001b[0m\u001b[0;34m)\u001b[0m\u001b[0;34m:\u001b[0m\u001b[0;34m\u001b[0m\u001b[0m\n\u001b[1;32m      6\u001b[0m     \u001b[0;32mdef\u001b[0m \u001b[0m_send_msg\u001b[0m\u001b[0;34m(\u001b[0m\u001b[0mself\u001b[0m\u001b[0;34m,\u001b[0m \u001b[0mmessage\u001b[0m\u001b[0;34m:\u001b[0m \u001b[0mbin\u001b[0m\u001b[0;34m,\u001b[0m \u001b[0mlocation\u001b[0m\u001b[0;34m:\u001b[0m \u001b[0mBaseWorker\u001b[0m\u001b[0;34m)\u001b[0m \u001b[0;34m->\u001b[0m \u001b[0mbin\u001b[0m\u001b[0;34m:\u001b[0m\u001b[0;34m\u001b[0m\u001b[0m\n\u001b[0;32m----> 7\u001b[0;31m         \u001b[0;32mreturn\u001b[0m \u001b[0mlocation\u001b[0m\u001b[0;34m.\u001b[0m\u001b[0m_recv_msg\u001b[0m\u001b[0;34m(\u001b[0m\u001b[0mmessage\u001b[0m\u001b[0;34m)\u001b[0m\u001b[0;34m\u001b[0m\u001b[0m\n\u001b[0m\u001b[1;32m      8\u001b[0m \u001b[0;34m\u001b[0m\u001b[0m\n\u001b[1;32m      9\u001b[0m     \u001b[0;32mdef\u001b[0m \u001b[0m_recv_msg\u001b[0m\u001b[0;34m(\u001b[0m\u001b[0mself\u001b[0m\u001b[0;34m,\u001b[0m \u001b[0mmessage\u001b[0m\u001b[0;34m:\u001b[0m \u001b[0mbin\u001b[0m\u001b[0;34m)\u001b[0m \u001b[0;34m->\u001b[0m \u001b[0mbin\u001b[0m\u001b[0;34m:\u001b[0m\u001b[0;34m\u001b[0m\u001b[0m\n",
      "\u001b[0;32m~/code/PySyft/syft/workers/virtual.py\u001b[0m in \u001b[0;36m_recv_msg\u001b[0;34m(self, message)\u001b[0m\n\u001b[1;32m      8\u001b[0m \u001b[0;34m\u001b[0m\u001b[0m\n\u001b[1;32m      9\u001b[0m     \u001b[0;32mdef\u001b[0m \u001b[0m_recv_msg\u001b[0m\u001b[0;34m(\u001b[0m\u001b[0mself\u001b[0m\u001b[0;34m,\u001b[0m \u001b[0mmessage\u001b[0m\u001b[0;34m:\u001b[0m \u001b[0mbin\u001b[0m\u001b[0;34m)\u001b[0m \u001b[0;34m->\u001b[0m \u001b[0mbin\u001b[0m\u001b[0;34m:\u001b[0m\u001b[0;34m\u001b[0m\u001b[0m\n\u001b[0;32m---> 10\u001b[0;31m         \u001b[0;32mreturn\u001b[0m \u001b[0mself\u001b[0m\u001b[0;34m.\u001b[0m\u001b[0mrecv_msg\u001b[0m\u001b[0;34m(\u001b[0m\u001b[0mmessage\u001b[0m\u001b[0;34m)\u001b[0m\u001b[0;34m\u001b[0m\u001b[0m\n\u001b[0m",
      "\u001b[0;32m~/code/PySyft/syft/workers/base.py\u001b[0m in \u001b[0;36mrecv_msg\u001b[0;34m(self, bin_message)\u001b[0m\n\u001b[1;32m    290\u001b[0m             \u001b[0mprint\u001b[0m\u001b[0;34m(\u001b[0m\u001b[0;34mf\"worker {self} received {sy.codes.code2MSGTYPE[msg_type]} {contents}\"\u001b[0m\u001b[0;34m)\u001b[0m\u001b[0;34m\u001b[0m\u001b[0m\n\u001b[1;32m    291\u001b[0m         \u001b[0;31m# Step 1: route message to appropriate function\u001b[0m\u001b[0;34m\u001b[0m\u001b[0;34m\u001b[0m\u001b[0m\n\u001b[0;32m--> 292\u001b[0;31m         \u001b[0mresponse\u001b[0m \u001b[0;34m=\u001b[0m \u001b[0mself\u001b[0m\u001b[0;34m.\u001b[0m\u001b[0m_message_router\u001b[0m\u001b[0;34m[\u001b[0m\u001b[0mmsg_type\u001b[0m\u001b[0;34m]\u001b[0m\u001b[0;34m(\u001b[0m\u001b[0mcontents\u001b[0m\u001b[0;34m)\u001b[0m\u001b[0;34m\u001b[0m\u001b[0m\n\u001b[0m\u001b[1;32m    293\u001b[0m \u001b[0;34m\u001b[0m\u001b[0m\n\u001b[1;32m    294\u001b[0m         \u001b[0;31m# Step 2: Serialize the message to simple python objects\u001b[0m\u001b[0;34m\u001b[0m\u001b[0;34m\u001b[0m\u001b[0m\n",
      "\u001b[0;32m~/code/PySyft/syft/workers/base.py\u001b[0m in \u001b[0;36msearch\u001b[0;34m(self, query)\u001b[0m\n\u001b[1;32m    937\u001b[0m                 \u001b[0;31m# for a tensor we don't own, then it's probably someone else's\u001b[0m\u001b[0;34m\u001b[0m\u001b[0;34m\u001b[0m\u001b[0m\n\u001b[1;32m    938\u001b[0m                 \u001b[0;31m# decision to decide when to delete the tensor.\u001b[0m\u001b[0;34m\u001b[0m\u001b[0;34m\u001b[0m\u001b[0m\n\u001b[0;32m--> 939\u001b[0;31m                 \u001b[0mptr\u001b[0m \u001b[0;34m=\u001b[0m \u001b[0mobj\u001b[0m\u001b[0;34m.\u001b[0m\u001b[0mcreate_pointer\u001b[0m\u001b[0;34m(\u001b[0m\u001b[0mgarbage_collect_data\u001b[0m\u001b[0;34m=\u001b[0m\u001b[0;32mFalse\u001b[0m\u001b[0;34m,\u001b[0m \u001b[0mowner\u001b[0m\u001b[0;34m=\u001b[0m\u001b[0msy\u001b[0m\u001b[0;34m.\u001b[0m\u001b[0mlocal_worker\u001b[0m\u001b[0;34m)\u001b[0m\u001b[0;34m.\u001b[0m\u001b[0mwrap\u001b[0m\u001b[0;34m(\u001b[0m\u001b[0;34m)\u001b[0m\u001b[0;34m\u001b[0m\u001b[0m\n\u001b[0m\u001b[1;32m    940\u001b[0m                 \u001b[0mresults\u001b[0m\u001b[0;34m.\u001b[0m\u001b[0mappend\u001b[0m\u001b[0;34m(\u001b[0m\u001b[0mptr\u001b[0m\u001b[0;34m)\u001b[0m\u001b[0;34m\u001b[0m\u001b[0m\n\u001b[1;32m    941\u001b[0m \u001b[0;34m\u001b[0m\u001b[0m\n",
      "\u001b[0;31mTypeError\u001b[0m: create_pointer() missing 2 required positional arguments: 'location' and 'id_at_location'"
     ]
    }
   ],
   "source": [
    "@sy.func2plan(args_shape=[(1,)], state={\"bias\": th.tensor([1.0])})\n",
    "def plan(x, state):\n",
    "    bias = state.read(\"bias\")\n",
    "    return x + bias\n",
    "\n",
    "plan.send(alice)\n",
    "id_at_location = plan.id\n",
    "plan_ptr = me.request_search([id_at_location], location=alice)\n",
    "\n",
    "plan = plan_ptr.get()\n",
    "\n",
    "assert isinstance(plan, sy.Plan)\n",
    "\n",
    "x = th.tensor([1.])\n",
    "ptr = plan(x)\n",
    "\n",
    "assert (ptr == th.tensor([2.])).all()"
   ]
  },
  {
   "cell_type": "code",
   "execution_count": 5,
   "metadata": {},
   "outputs": [
    {
     "name": "stdout",
     "output_type": "stream",
     "text": [
      "launching search on alice\n",
      "_execute_readable_plan\n",
      "[(29, (1, ((6, ((5, (b'__add__',)), (21, (67997223344, 77129528307, b'me', None, (10, (1,)), True)), (6, ((21, (84086339677, 96055867121, b'me', None, (10, (1,)), True)),)), (0, ()))), (15772215888,))))]\n"
     ]
    }
   ],
   "source": [
    "@sy.func2plan(args_shape=[(1,)], state={\"bias\": th.tensor([1.0])})\n",
    "def plan(x, state):\n",
    "    bias = state.read(\"bias\")\n",
    "    return x + bias\n",
    "\n",
    "plan.send(alice)\n",
    "id_at_location = plan.id\n",
    "plan_ptr = me.request_search([id_at_location], location=alice)\n",
    "\n",
    "plan = plan_ptr.get()\n",
    "\n",
    "assert isinstance(plan, sy.Plan)\n",
    "\n",
    "x = th.tensor([1.])\n",
    "ptr = plan(x)\n",
    "\n",
    "assert (ptr == th.tensor([2.])).all()"
   ]
  },
  {
   "cell_type": "code",
   "execution_count": 3,
   "metadata": {},
   "outputs": [],
   "source": [
    "inc1.send(alice)\n",
    "id_at_location = inc1.id"
   ]
  },
  {
   "cell_type": "code",
   "execution_count": 4,
   "metadata": {},
   "outputs": [
    {
     "data": {
      "text/plain": [
       "{20803918614: tensor([1.]),\n",
       " 96844798724: <Plan inc1 id:96844798724 owner:alice built>}"
      ]
     },
     "execution_count": 4,
     "metadata": {},
     "output_type": "execute_result"
    }
   ],
   "source": [
    "alice._objects"
   ]
  },
  {
   "cell_type": "code",
   "execution_count": 5,
   "metadata": {},
   "outputs": [],
   "source": [
    "plan_ptr = sy.PointerPlan(location=alice, id_at_location=id_at_location)"
   ]
  },
  {
   "cell_type": "code",
   "execution_count": 6,
   "metadata": {},
   "outputs": [
    {
     "data": {
      "text/plain": [
       "[PointerPlan | me:2841533489 -> alice:96844798724]"
      ]
     },
     "execution_count": 6,
     "metadata": {},
     "output_type": "execute_result"
    }
   ],
   "source": [
    "plan_ptr"
   ]
  },
  {
   "cell_type": "code",
   "execution_count": 7,
   "metadata": {},
   "outputs": [],
   "source": [
    "#plan_back = plan_ptr.get()\n",
    "#x = th.tensor([1.])\n",
    "#plan_back(x)"
   ]
  },
  {
   "cell_type": "code",
   "execution_count": 8,
   "metadata": {},
   "outputs": [
    {
     "name": "stdout",
     "output_type": "stream",
     "text": [
      "request_execute_plan alice 96844798724\n",
      "[(27, (1, ((6, ((5, (b'__add__',)), (21, (71428670646, 39134698967, b'alice', None, (10, (1,)), True)), (6, ((21, (5364783957, 20803918614, b'alice', None, (10, (1,)), True)),)), (0, ()))), (83786627432,))))]\n"
     ]
    },
    {
     "data": {
      "text/plain": [
       "tensor([2.])"
      ]
     },
     "execution_count": 8,
     "metadata": {},
     "output_type": "execute_result"
    }
   ],
   "source": [
    "x = th.tensor([1.]).send(alice)\n",
    "plan_ptr(x).get()"
   ]
  },
  {
   "cell_type": "code",
   "execution_count": null,
   "metadata": {},
   "outputs": [],
   "source": [
    "@sy.func2plan(args_shape=[(1,)], state={\"bias\": th.tensor([1.0])})\n",
    "def plan(x, state):\n",
    "    bias = state.read(\"bias\")\n",
    "    return x + bias\n",
    "\n",
    "plan.send(alice)\n",
    "id_at_location = plan.id\n",
    "\n",
    "plan_ptr = PointerPlan(location=alice, id_at_location=id_at_location)\n",
    "\n",
    "x = th.tensor([1.]).send(alice)\n",
    "\n",
    "ptr = plan_ptr(x)\n",
    "\n",
    "assert (ptr.get() == th.tensor([2.])).all()"
   ]
  }
 ],
 "metadata": {
  "kernelspec": {
   "display_name": "Python (Pysyft)",
   "language": "python",
   "name": "pysyft"
  },
  "language_info": {
   "codemirror_mode": {
    "name": "ipython",
    "version": 3
   },
   "file_extension": ".py",
   "mimetype": "text/x-python",
   "name": "python",
   "nbconvert_exporter": "python",
   "pygments_lexer": "ipython3",
   "version": "3.7.0"
  }
 },
 "nbformat": 4,
 "nbformat_minor": 2
}
