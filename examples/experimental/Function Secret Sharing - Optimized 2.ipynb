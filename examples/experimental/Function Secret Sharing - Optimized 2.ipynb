{
 "cells": [
  {
   "cell_type": "code",
   "execution_count": 7,
   "metadata": {},
   "outputs": [],
   "source": [
    "import numpy as np\n",
    "import time"
   ]
  },
  {
   "cell_type": "markdown",
   "metadata": {},
   "source": [
    "# DPF v2\n",
    "https://docs.google.com/presentation/d/108V1QMm7ACiD_mr8ITniYfQUwURSafZep6UJaQASZ0k/edit?folder=0AIi9WbrMGj2CUk9PVA#slide=id.g7643f50265_0_0"
   ]
  },
  {
   "cell_type": "code",
   "execution_count": 8,
   "metadata": {},
   "outputs": [],
   "source": [
    "λ = 63 # security paramater\n",
    "n = 32 # nb of bits of the algebric field"
   ]
  },
  {
   "cell_type": "code",
   "execution_count": 9,
   "metadata": {},
   "outputs": [],
   "source": [
    "# PRG\n",
    "def G(seed):\n",
    "    assert len(seed) == λ\n",
    "    r = np.random.RandomState(seed)\n",
    "    return r.randint(2, size=2*(λ + 1))\n",
    "\n",
    "def Convert(bits):\n",
    "    #TODO see figure 3 of paper\n",
    "    return bits.dot(1 << np.arange(bits.size)[::-1])"
   ]
  },
  {
   "cell_type": "code",
   "execution_count": 10,
   "metadata": {},
   "outputs": [],
   "source": [
    "def List(n):\n",
    "    return [None]*n\n",
    "\n",
    "def Array(*shape):\n",
    "    return np.empty(shape, dtype=np.int32)\n",
    "\n",
    "def bit_decomposition(x, nbits = n):\n",
    "    return list(map(int, np.binary_repr(x, width=nbits)))\n",
    "\n",
    "def randbit(size):\n",
    "    return np.random.randint(2, size=size)\n",
    "\n",
    "def xor(*args):\n",
    "    \"\"\"Multi-input xor\"\"\"\n",
    "    if len(args) == 2:\n",
    "        return np.bitwise_xor(*args)\n",
    "    else:\n",
    "        return np.bitwise_xor(args[0], xor(*args[1:]))\n",
    "    \n",
    "def concat(*args, **kwargs):\n",
    "    return np.concatenate(args, **kwargs)\n",
    "\n",
    "def split(l, idx):\n",
    "    # Convert idx which are split part sizes to cumulative indices\n",
    "    if isinstance(idx, (list, tuple)):\n",
    "        cumsum = 0\n",
    "        cum_idx = []\n",
    "        for i in idx:\n",
    "            cumsum += i\n",
    "            cum_idx.append(cumsum)\n",
    "        # Remove last element which equals the total length\n",
    "        # And create an empty split part if kept\n",
    "        return np.split(l, cum_idx[:-1])\n",
    "    else:\n",
    "        return np.split(l, idx)\n",
    "    \n",
    "def TruthTableDPF(s, α_i):\n",
    "    Table = np.zeros((2, λ+1), dtype=np.int32)\n",
    "    Table[α_i] = concat(s, [1])\n",
    "    return Table.flatten()"
   ]
  },
  {
   "cell_type": "code",
   "execution_count": 14,
   "metadata": {},
   "outputs": [],
   "source": [
    "def GenDPF(alpha, beta):\n",
    "    α = bit_decomposition(alpha)\n",
    "    s, t, CW = Array(n+1, 2, λ), Array(n+1, 2), Array(n, 2*(λ+1))\n",
    "    s[0] = randbit(size=(2, λ))\n",
    "    t[0] = [0, 1]\n",
    "    for i in range(0, n):\n",
    "        # Re-use useless randomness\n",
    "        sL_0, _, sR_0, _ = split(G(s[i][0]), [λ, 1, λ, 1])\n",
    "        sL_1, _, sR_1, _ = split(G(s[i][1]), [λ, 1, λ, 1])\n",
    "        s_rand = xor(sL_0, sL_1) if α[i] else xor(sR_0, sR_1) \n",
    "        \n",
    "        cw_i = TruthTableDPF(s_rand, α[i])\n",
    "        CW[i] = xor(cw_i, G(s[i][0]), G(s[i][1]))\n",
    "        \n",
    "        for b in (0, 1):\n",
    "            τ = xor(G(s[i][b]), t[i][b] * CW[i])\n",
    "            τ = τ.reshape(2, λ+1)\n",
    "            *s[i+1][b], t[i+1][b] = τ[𝛼[i]]\n",
    "        \n",
    "    CW_n = [(-1)**t[n][1]*(beta - Convert(s[n][0]) + Convert(s[n][1]))]\n",
    "    \n",
    "    k = [(s[0][b], *CW, CW_n) for b in (0, 1)]\n",
    "    return k\n",
    "        "
   ]
  },
  {
   "cell_type": "code",
   "execution_count": 15,
   "metadata": {},
   "outputs": [],
   "source": [
    "def EvalDPF(b, k_b, x):\n",
    "    x = bit_decomposition(x)\n",
    "    s, t = Array(n+1, λ), Array(n+1, 1)\n",
    "    s[0], *CW = k_b\n",
    "    t[0] = b\n",
    "    for i in range(0, n):\n",
    "        τ = xor(G(s[i]), t[i]*CW[i])\n",
    "        τ = τ.reshape(2, λ+1)\n",
    "        *s[i+1], t[i+1] = τ[x[i]]\n",
    "    return (-1)**b * (Convert(s[n]) + t[n]*CW[n])\n",
    "        "
   ]
  },
  {
   "cell_type": "code",
   "execution_count": 16,
   "metadata": {},
   "outputs": [
    {
     "name": "stdout",
     "output_type": "stream",
     "text": [
      "1.5 ms / Eval\n",
      "1.2 ms / Eval\n",
      "1.1 ms / Eval\n",
      "1.1 ms / Eval\n",
      "1.1 ms / Eval\n",
      "1.1 ms / Eval\n",
      "1.2 ms / Eval\n",
      "1.1 ms / Eval\n",
      "1.2 ms / Eval\n",
      "1.1 ms / Eval\n",
      "3.3 ms\n"
     ]
    }
   ],
   "source": [
    "def test_DPF():\n",
    "    t = time.time()\n",
    "    n_alpha, n_x = 10, 10\n",
    "    beta = 2\n",
    "    for alpha in np.random.randint(0,2**n, n_alpha):\n",
    "        k = GenDPF(alpha, beta)\n",
    "        t2 = time.time()\n",
    "        for x in concat(np.random.randint(0,2**n, n_x), [alpha]):\n",
    "            y0 = EvalDPF(0, k[0], x)\n",
    "            y1 = EvalDPF(1, k[1], x)\n",
    "            \n",
    "            if x == alpha:\n",
    "                assert y0+y1 == beta\n",
    "            else:\n",
    "                assert y0+y1 == 0\n",
    "        print(round(1000*(time.time() - t2)/((n_x+1) * 2), 1), 'ms / Eval')\n",
    "    print(round(1000*(time.time() - t)/(n_alpha*n_x), 1), 'ms')\n",
    "                \n",
    "test_DPF()"
   ]
  },
  {
   "cell_type": "markdown",
   "metadata": {},
   "source": [
    "# DIF v3 simplified\n",
    "We address here the problem $x \\le \\alpha$\n",
    "\n",
    "https://docs.google.com/presentation/d/108V1QMm7ACiD_mr8ITniYfQUwURSafZep6UJaQASZ0k/edit?folder=0AIi9WbrMGj2CUk9PVA#slide=id.g6d24e8b0e8_0_1223"
   ]
  },
  {
   "cell_type": "code",
   "execution_count": 8,
   "metadata": {},
   "outputs": [],
   "source": [
    "def G(seed):\n",
    "    assert len(seed) == λ\n",
    "    r = np.random.RandomState(seed)\n",
    "    return r.randint(2, size=2 + 2*(λ + 1))\n",
    "    \n",
    "    \n",
    "def TruthTableDIF(s, α_i):\n",
    "    leafTable = np.zeros((2, 1), dtype=np.int32)\n",
    "    # if α_i is 0, then ending on the leaf branch means your bit is 1 to you're > α so you should get 0\n",
    "    # if α_i is 1, then ending on the leaf branch means your bit is 0 to you're < α so you should get 1\n",
    "    leaf_value = α_i\n",
    "    leafTable[1-α_i] = leaf_value\n",
    "    \n",
    "    nextTable = np.zeros((2, λ+1), dtype=np.int32)\n",
    "    nextTable[α_i] = concat(s, [1])\n",
    "    \n",
    "    #return concat(leafTable.flatten(), nextTable.flatten())\n",
    "    return concat(leafTable, nextTable, axis=1).flatten()"
   ]
  },
  {
   "cell_type": "code",
   "execution_count": 9,
   "metadata": {},
   "outputs": [],
   "source": [
    "def GenDIF(alpha):\n",
    "    α = bit_decomposition(alpha, nbits=n)\n",
    "    s, t, CW = Array(n+1, 2, λ), Array(n+1, 2), Array(n, 2 + 2*(λ+1))\n",
    "    s[0] = randbit(size=(2, λ))\n",
    "    t[0] = [0, 1]\n",
    "    for i in range(0, n):\n",
    "        # Re-use useless randomness\n",
    "        _, _, sL_0, _, sR_0, _ = split(G(s[i][0]), [1, 1, λ, 1, λ, 1])\n",
    "        _, _, sL_1, _, sR_1, _ = split(G(s[i][1]), [1, 1, λ, 1, λ, 1])\n",
    "        s_rand = xor(sL_0, sL_1) if α[i] else xor(sR_0, sR_1)\n",
    "        cw_i = TruthTableDIF(s_rand, α[i])\n",
    "        CW[i] = xor(cw_i, G(s[i][0]), G(s[i][1]))\n",
    "        \n",
    "        for b in (0, 1):\n",
    "            τ = xor(G(s[i][b]), t[i][b] * CW[i])\n",
    "            τ = τ.reshape(2, λ+2)\n",
    "            σ_leaf, *s[i+1][b], t[i+1][b] = τ[𝛼[i]]\n",
    "        \n",
    "    k = [(s[0][b], CW) for b in (0, 1)]\n",
    "    return k"
   ]
  },
  {
   "cell_type": "code",
   "execution_count": 10,
   "metadata": {},
   "outputs": [],
   "source": [
    "def EvalDIF(b, k_b, x, n):\n",
    "    FnOutput = Array(n+1, 1)\n",
    "    x = bit_decomposition(x, nbits=n)\n",
    "    s, t = Array(n+1, λ), Array(n+1, 1)\n",
    "    s[0], CW = k_b\n",
    "    t[0] = b\n",
    "    for i in range(0, n):\n",
    "        τ = xor(G(s[i]), t[i]*CW[i])\n",
    "        τ = τ.reshape(2, λ+2)\n",
    "        σ_leaf, *s[i+1], t[i+1] = τ[x[i]]\n",
    "        FnOutput[i] = σ_leaf\n",
    "\n",
    "    # Last tour, the other σ is also a leaf:\n",
    "    FnOutput[n] = t[n]\n",
    "    return FnOutput.sum() % 2"
   ]
  },
  {
   "cell_type": "code",
   "execution_count": 11,
   "metadata": {
    "scrolled": true
   },
   "outputs": [
    {
     "name": "stdout",
     "output_type": "stream",
     "text": [
      "Test x <= α 3696131652\n",
      "1.2 ms / Eval\n",
      "Test x <= α 1914295028\n",
      "1.3 ms / Eval\n",
      "Test x <= α 405651634\n",
      "1.2 ms / Eval\n",
      "Test x <= α 3477612570\n",
      "1.3 ms / Eval\n",
      "Test x <= α 2784886718\n",
      "1.3 ms / Eval\n",
      "Test x <= α 3881626632\n",
      "1.2 ms / Eval\n",
      "Test x <= α 131850509\n",
      "1.2 ms / Eval\n",
      "Test x <= α 3345301304\n",
      "1.2 ms / Eval\n",
      "Test x <= α 1516860411\n",
      "1.3 ms / Eval\n",
      "Test x <= α 3518191607\n",
      "1.3 ms / Eval\n",
      "3.3 ms\n"
     ]
    }
   ],
   "source": [
    "def test_DIF_simplified():\n",
    "    t = time.time()\n",
    "    n_alpha, n_x = 10, 10\n",
    "    for alpha in np.random.randint(0,2**n, n_alpha):\n",
    "        k = GenDIF(alpha)\n",
    "        print('Test x <= α', alpha)\n",
    "        t2 = time.time()\n",
    "        for x in np.random.randint(0,2**n, n_x):\n",
    "            sigma = xor(EvalDIF(0, k[0], x, n=n), EvalDIF(1, k[1], x, n=n))\n",
    "            #print(f'x={x}', sigma)\n",
    "            assert int(x<=alpha) == sigma\n",
    "        print(round(1000*(time.time() - t2)/(n_x * 2), 1), 'ms / Eval')\n",
    "    print(round(1000*(time.time() - t)/(n_alpha*n_x), 1), 'ms')\n",
    "\n",
    "test_DIF_simplified()"
   ]
  },
  {
   "cell_type": "markdown",
   "metadata": {},
   "source": [
    "# PyTorch"
   ]
  },
  {
   "cell_type": "code",
   "execution_count": 37,
   "metadata": {},
   "outputs": [
    {
     "name": "stderr",
     "output_type": "stream",
     "text": [
      "WARNING:root:Torch was already hooked... skipping hooking process\n"
     ]
    }
   ],
   "source": [
    "import syft as sy\n",
    "import torch as th\n",
    "import torch.nn as nn\n",
    "import torch.optim as optim\n",
    "import torch.nn.functional as F\n",
    "import time\n",
    "import torch.autograd as autograd\n",
    "import numpy as np\n",
    "\n",
    "syft = sy \n",
    "\n",
    "hook = sy.TorchHook(th)\n",
    "bob = sy.VirtualWorker(hook, id=\"bob\")\n",
    "alice = sy.VirtualWorker(hook, id=\"alice\")\n",
    "charlie = sy.VirtualWorker(hook, id=\"charlie\")\n",
    "james = sy.VirtualWorker(hook, id=\"james\")\n",
    "crypto_provider = james\n",
    "torch = th"
   ]
  },
  {
   "cell_type": "markdown",
   "metadata": {},
   "source": [
    "## Equal zero"
   ]
  },
  {
   "cell_type": "code",
   "execution_count": 65,
   "metadata": {},
   "outputs": [],
   "source": [
    "def G(seed):\n",
    "    assert len(seed) == λ\n",
    "    r = np.random.RandomState(seed)\n",
    "    return r.randint(2, size=2*(λ + 1))"
   ]
  },
  {
   "cell_type": "code",
   "execution_count": 66,
   "metadata": {},
   "outputs": [
    {
     "name": "stdout",
     "output_type": "stream",
     "text": [
      "range (-128, 127)\n"
     ]
    }
   ],
   "source": [
    "field = 2**8\n",
    "field_bounds = -2**7, 2**7-1\n",
    "print('range', field_bounds)\n",
    "\n",
    "def mod(x):\n",
    "    if field_bounds[0] > x: \n",
    "        x += field\n",
    "    elif x > field_bounds[1]:\n",
    "        x -= field\n",
    "    return x\n",
    "\n",
    "def share(x):\n",
    "    s = torch.randint(*field_bounds, x.shape)\n",
    "    return mod(x-s).long(), s"
   ]
  },
  {
   "cell_type": "code",
   "execution_count": 67,
   "metadata": {},
   "outputs": [
    {
     "data": {
      "text/plain": [
       "((tensor([-13]), tensor([13])), tensor([0]))"
      ]
     },
     "execution_count": 67,
     "metadata": {},
     "output_type": "execute_result"
    }
   ],
   "source": [
    "x = th.tensor([0.])\n",
    "s = torch.randint(*field_bounds, (1,))\n",
    "x_priv = share(x.fix_prec(base=2, precision_fractional=3, field=field).child.child)\n",
    "x_priv, sum(x_priv)"
   ]
  },
  {
   "cell_type": "code",
   "execution_count": 68,
   "metadata": {},
   "outputs": [],
   "source": [
    "def keygen_equal_zero():\n",
    "    r_in = torch.randint(*field_bounds, (1,)).numpy()[0]\n",
    "    print('r_in', r_in)\n",
    "    k = GenDPF(r_in, 1)\n",
    "    return share(r_in), k"
   ]
  },
  {
   "cell_type": "code",
   "execution_count": 71,
   "metadata": {},
   "outputs": [],
   "source": [
    "def equal_zero(x_priv):\n",
    "    r, k = keygen_equal_zero()\n",
    "    share_0 = x_priv[0] + r[0]\n",
    "    share_1 = x_priv[1] + r[1]\n",
    "    x_pub = mod(share_0 + share_1).numpy()[0]\n",
    "    res_0 = EvalDPF(0, k[0], x_pub)\n",
    "    res_1 = EvalDPF(1, k[1], x_pub)\n",
    "    return res_0, res_1"
   ]
  },
  {
   "cell_type": "code",
   "execution_count": 72,
   "metadata": {},
   "outputs": [
    {
     "name": "stdout",
     "output_type": "stream",
     "text": [
      "r_in -115\n",
      "[1]\n"
     ]
    }
   ],
   "source": [
    "# Disclose value\n",
    "res_0, res_1 = equal_zero(x_priv)\n",
    "print(res_0 + res_1)"
   ]
  },
  {
   "cell_type": "markdown",
   "metadata": {},
   "source": [
    "## Comparison"
   ]
  },
  {
   "cell_type": "code",
   "execution_count": 36,
   "metadata": {},
   "outputs": [],
   "source": [
    "def G(seed):\n",
    "    assert len(seed) == λ\n",
    "    r = np.random.RandomState(seed)\n",
    "    return r.randint(2, size=2 + 2*(λ + 1))"
   ]
  },
  {
   "cell_type": "code",
   "execution_count": null,
   "metadata": {},
   "outputs": [],
   "source": []
  }
 ],
 "metadata": {
  "kernelspec": {
   "display_name": "Python (Pysyft)",
   "language": "python",
   "name": "pysyft"
  },
  "language_info": {
   "codemirror_mode": {
    "name": "ipython",
    "version": 3
   },
   "file_extension": ".py",
   "mimetype": "text/x-python",
   "name": "python",
   "nbconvert_exporter": "python",
   "pygments_lexer": "ipython3",
   "version": "3.7.0"
  }
 },
 "nbformat": 4,
 "nbformat_minor": 2
}
