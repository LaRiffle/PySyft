{
 "cells": [
  {
   "cell_type": "code",
   "execution_count": 1,
   "metadata": {},
   "outputs": [],
   "source": [
    "import numpy as np\n",
    "import time\n",
    "\n",
    "import syft as sy\n",
    "import torch as th\n",
    "import torch.nn as nn\n",
    "import torch.optim as optim\n",
    "import torch.nn.functional as F\n",
    "import time\n",
    "import torch.autograd as autograd\n",
    "import numpy as np\n",
    "\n",
    "syft = sy \n",
    "\n",
    "hook = sy.TorchHook(th)\n",
    "bob = sy.VirtualWorker(hook, id=\"bob\")\n",
    "alice = sy.VirtualWorker(hook, id=\"alice\")\n",
    "charlie = sy.VirtualWorker(hook, id=\"charlie\")\n",
    "james = sy.VirtualWorker(hook, id=\"james\")\n",
    "crypto_provider = james\n",
    "torch = th\n",
    "\n",
    "from syft.serde.msgpack import serde"
   ]
  },
  {
   "cell_type": "code",
   "execution_count": 2,
   "metadata": {},
   "outputs": [],
   "source": [
    "λ = 6 #6 #63 # security paramater\n",
    "n = 8 #8 #32 # nb of bits of the algebric field"
   ]
  },
  {
   "cell_type": "code",
   "execution_count": 3,
   "metadata": {},
   "outputs": [],
   "source": [
    "# PRG\n",
    "def G(seed):\n",
    "    #OK\n",
    "    assert len(seed) == λ\n",
    "    th.manual_seed(Convert(seed))\n",
    "    return th.randint(2, size=(2*(λ + 1),), dtype=th.uint8)\n",
    "\n",
    "#bit_pow_lambda = th.flip(2 ** th.arange(λ), (0,)).to(th.uint8)\n",
    "def Convert(bits):\n",
    "    bit_pow_lambda = th.flip(2 ** th.arange(λ), (0,)).to(th.uint8)\n",
    "    return bits.dot(bit_pow_lambda)\n",
    "\n",
    "def Array(*shape):\n",
    "    #FIXED SHAPE\n",
    "    return th.empty(shape, dtype=th.uint8)\n",
    "\n",
    "#bit_pow_n = th.flip(2 ** th.arange(n), (0,))\n",
    "def bit_decomposition(x):\n",
    "    bit_pow_n = th.flip(2 ** th.arange(n), (0,))\n",
    "    return ((x & bit_pow_n) > 0).to(th.int8)\n",
    "\n",
    "def randbit(size):\n",
    "    #FIXED SHAPE\n",
    "    return th.randint(2, size=size)\n",
    "    \n",
    "def concat(*args, **kwargs):\n",
    "    return th.cat(args, **kwargs)\n",
    "\n",
    "def split(x, idx):\n",
    "    return th.split(x, idx)\n",
    "    \n",
    "#one = th.tensor([1], dtype=th.uint8)\n",
    "def TruthTableDPF(s, α_i):\n",
    "    one = th.tensor([1], dtype=th.uint8)\n",
    "    Table = th.zeros((2, λ+1), dtype=th.uint8)\n",
    "    Table[α_i] = concat(s, one)\n",
    "    return Table.flatten()"
   ]
  },
  {
   "cell_type": "code",
   "execution_count": 4,
   "metadata": {},
   "outputs": [],
   "source": [
    "@sy.func2plan()\n",
    "def GenDPF(alpha, beta):\n",
    "    α = bit_decomposition(alpha)\n",
    "    s, t, CW = Array(n+1, 2, λ), Array(n+1, 2), Array(n, 2*(λ+1))\n",
    "    s[0] = randbit(size=(2, λ))\n",
    "    t[0] = th.tensor([0, 1], dtype=torch.uint8)\n",
    "    for i in range(0, n):\n",
    "        # Re-use useless randomness\n",
    "        sL_0, _, sR_0, _ = split(G(s[i, 0]), [λ, 1, λ, 1])\n",
    "        sL_1, _, sR_1, _ = split(G(s[i, 1]), [λ, 1, λ, 1])\n",
    "        s_rand = (sL_0 ^ sL_1) * α[i] + (sR_0 ^ sR_1) * (1 - α[i])\n",
    "        \n",
    "        cw_i = TruthTableDPF(s_rand, α[i])\n",
    "        CW[i] = cw_i ^ G(s[i, 0]) ^ G(s[i, 1])\n",
    "        \n",
    "        for b in (0, 1):\n",
    "            τ = G(s[i, b]) ^ (t[i, b] * CW[i])\n",
    "            τ = τ.reshape(2, λ+1)\n",
    "            s[i+1, b], t[i+1, b] = split(τ[𝛼[i]], [λ, 1])\n",
    "        \n",
    "    CW_n = (-1)**t[n, 1]*(beta.to(th.uint8) - Convert(s[n, 0]) + Convert(s[n, 1]))\n",
    "    \n",
    "    return s[0, 0], s[0, 1], CW, CW_n\n",
    "        "
   ]
  },
  {
   "cell_type": "code",
   "execution_count": 5,
   "metadata": {},
   "outputs": [],
   "source": [
    "@sy.func2plan()\n",
    "def EvalDPF(b, x, *k_b):\n",
    "    x = bit_decomposition(x)\n",
    "    s, t = Array(n+1, λ), Array(n+1, 1)\n",
    "    z = k_b[0] * 1\n",
    "    s[0] = k_b[0]\n",
    "    CW =  k_b[1:]\n",
    "    t[0] = b\n",
    "    for i in range(0, n):\n",
    "        τ = G(s[i]) ^ (t[i]*CW[i])\n",
    "        τ = τ.reshape(2, λ+1)\n",
    "        s[i+1], t[i+1] = split(τ[x[i]], [λ, 1])\n",
    "    return (-1)**b * (Convert(s[n]) + t[n]*CW[n])\n",
    "        "
   ]
  },
  {
   "cell_type": "code",
   "execution_count": 6,
   "metadata": {},
   "outputs": [],
   "source": [
    "beta = th.IntTensor([2])\n",
    "alpha, = th.randint(0, 2**n, (1,))\n",
    "\n",
    "GenDPF.build(alpha, beta)\n",
    "res = GenDPF(alpha, beta)\n",
    "s_00, s_01, CW, CW_n = res\n",
    "k = [\n",
    "    (s_00, *CW, CW_n),\n",
    "    (s_01, *CW, CW_n)\n",
    "]"
   ]
  },
  {
   "cell_type": "code",
   "execution_count": 7,
   "metadata": {},
   "outputs": [],
   "source": [
    "EvalDPF.build(th.IntTensor([0]), alpha, *k[0])"
   ]
  },
  {
   "cell_type": "code",
   "execution_count": 8,
   "metadata": {},
   "outputs": [],
   "source": [
    "serde_plan_simplified = serde._simplify(bob, GenDPF)\n",
    "GenDPF_back = serde._detail(bob, serde_plan_simplified)\n",
    "\n",
    "serde_plan_simplified = serde._simplify(bob, EvalDPF)\n",
    "EvalDPF_back = serde._detail(bob, serde_plan_simplified)"
   ]
  },
  {
   "cell_type": "code",
   "execution_count": 9,
   "metadata": {},
   "outputs": [],
   "source": [
    "from syft.messaging.message import Operation"
   ]
  },
  {
   "cell_type": "code",
   "execution_count": 10,
   "metadata": {},
   "outputs": [],
   "source": [
    "beta = th.IntTensor([2])\n",
    "alpha, = th.randint(0, 2**n, (1,))"
   ]
  },
  {
   "cell_type": "code",
   "execution_count": 11,
   "metadata": {
    "scrolled": true
   },
   "outputs": [],
   "source": [
    "res = GenDPF_back(alpha, beta)\n",
    "s_00, s_01, CW, CW_n = res\n",
    "k = [\n",
    "    (s_00, *CW, CW_n),\n",
    "    (s_01, *CW, CW_n)\n",
    "]"
   ]
  },
  {
   "cell_type": "code",
   "execution_count": 12,
   "metadata": {},
   "outputs": [
    {
     "data": {
      "text/plain": [
       "tensor([2], dtype=torch.int32)"
      ]
     },
     "execution_count": 12,
     "metadata": {},
     "output_type": "execute_result"
    }
   ],
   "source": [
    "(EvalDPF(th.IntTensor([0]), alpha, *k[0]) + EvalDPF(th.IntTensor([1]), alpha, *k[1]))"
   ]
  },
  {
   "cell_type": "code",
   "execution_count": 13,
   "metadata": {},
   "outputs": [
    {
     "data": {
      "text/plain": [
       "tensor([0], dtype=torch.int32)"
      ]
     },
     "execution_count": 13,
     "metadata": {},
     "output_type": "execute_result"
    }
   ],
   "source": [
    "(EvalDPF_back(th.IntTensor([0]), alpha+1, *k[0]) + EvalDPF_back(th.IntTensor([1]), alpha+1, *k[1]))"
   ]
  },
  {
   "cell_type": "code",
   "execution_count": 14,
   "metadata": {},
   "outputs": [
    {
     "name": "stdout",
     "output_type": "stream",
     "text": [
      "4.3 ms / Eval\n",
      "4.1 ms / Eval\n",
      "4.3 ms / Eval\n",
      "4.0 ms / Eval\n",
      "4.2 ms / Eval\n",
      "4.0 ms / Eval\n",
      "4.2 ms / Eval\n",
      "4.8 ms / Eval\n",
      "5.2 ms / Eval\n",
      "4.0 ms / Eval\n",
      "12.1 ms\n"
     ]
    }
   ],
   "source": [
    "def test_DPF():\n",
    "    t = time.time()\n",
    "    n_alpha, n_x = 10, 10\n",
    "    beta = th.IntTensor([2])\n",
    "    for alpha in th.randint(0, 2**n, (n_alpha, )):\n",
    "        s_00, s_01, CW, CW_n = GenDPF(alpha, beta)\n",
    "        k = [\n",
    "            (s_00, *CW, CW_n),\n",
    "            (s_01, *CW, CW_n)\n",
    "        ]\n",
    "        t2 = time.time()\n",
    "        for x in th.randint(0, 2**n, (n_x,)):\n",
    "            y0 = EvalDPF(th.IntTensor([0]), x, *k[0])\n",
    "            y1 = EvalDPF(th.IntTensor([1]), x, *k[1])\n",
    "            \n",
    "            #print(y0+y1)\n",
    "            if x == alpha:\n",
    "                assert y0+y1 == beta\n",
    "            else:\n",
    "                assert y0+y1 == 0\n",
    "              \n",
    "        #print((EvalDPF(0, k[0], alpha) + EvalDPF(1, k[1], alpha)))\n",
    "        assert (EvalDPF(0, alpha, *k[0]) + EvalDPF(1, alpha, *k[1])) == beta\n",
    "        \n",
    "        print(round(1000*(time.time() - t2)/((n_x+1) * 2), 1), 'ms / Eval')\n",
    "    print(round(1000*(time.time() - t)/(n_alpha*n_x), 1), 'ms')\n",
    "                \n",
    "test_DPF()"
   ]
  },
  {
   "cell_type": "code",
   "execution_count": null,
   "metadata": {},
   "outputs": [],
   "source": []
  },
  {
   "cell_type": "code",
   "execution_count": 31,
   "metadata": {},
   "outputs": [
    {
     "name": "stdout",
     "output_type": "stream",
     "text": [
      "('__add__', tensor([0.]), (tensor([-1.]),), {})\n"
     ]
    },
    {
     "ename": "ValueError",
     "evalue": "19707611155 is not in list",
     "output_type": "error",
     "traceback": [
      "\u001b[0;31m---------------------------------------------------------------------------\u001b[0m",
      "\u001b[0;31mValueError\u001b[0m                                Traceback (most recent call last)",
      "\u001b[0;32m<ipython-input-31-01b034418011>\u001b[0m in \u001b[0;36m<module>\u001b[0;34m\u001b[0m\n\u001b[0;32m----> 1\u001b[0;31m \u001b[0;34m@\u001b[0m\u001b[0msy\u001b[0m\u001b[0;34m.\u001b[0m\u001b[0mfunc2plan\u001b[0m\u001b[0;34m(\u001b[0m\u001b[0margs_shape\u001b[0m\u001b[0;34m=\u001b[0m\u001b[0;34m[\u001b[0m\u001b[0;34m(\u001b[0m\u001b[0;36m1\u001b[0m\u001b[0;34m,\u001b[0m\u001b[0;34m)\u001b[0m\u001b[0;34m]\u001b[0m\u001b[0;34m)\u001b[0m\u001b[0;34m\u001b[0m\u001b[0m\n\u001b[0m\u001b[1;32m      2\u001b[0m \u001b[0;32mdef\u001b[0m \u001b[0mserde_plan\u001b[0m\u001b[0;34m(\u001b[0m\u001b[0mx\u001b[0m\u001b[0;34m)\u001b[0m\u001b[0;34m:\u001b[0m\u001b[0;34m\u001b[0m\u001b[0m\n\u001b[1;32m      3\u001b[0m     \u001b[0my\u001b[0m \u001b[0;34m=\u001b[0m \u001b[0mth\u001b[0m\u001b[0;34m.\u001b[0m\u001b[0mTensor\u001b[0m\u001b[0;34m(\u001b[0m\u001b[0;34m[\u001b[0m\u001b[0;34m-\u001b[0m\u001b[0;36m1\u001b[0m\u001b[0;34m]\u001b[0m\u001b[0;34m)\u001b[0m\u001b[0;34m\u001b[0m\u001b[0m\n\u001b[1;32m      4\u001b[0m     \u001b[0mz\u001b[0m \u001b[0;34m=\u001b[0m \u001b[0mx\u001b[0m \u001b[0;34m+\u001b[0m \u001b[0my\u001b[0m\u001b[0;34m\u001b[0m\u001b[0m\n\u001b[1;32m      5\u001b[0m     \u001b[0;32mreturn\u001b[0m \u001b[0mx\u001b[0m\u001b[0;34m\u001b[0m\u001b[0m\n",
      "\u001b[0;32m~/code/PySyft/syft/messaging/plan/plan.py\u001b[0m in \u001b[0;36m__call__\u001b[0;34m(self, plan_function)\u001b[0m\n\u001b[1;32m     51\u001b[0m             \u001b[0margs\u001b[0m \u001b[0;34m=\u001b[0m \u001b[0mPlan\u001b[0m\u001b[0;34m.\u001b[0m\u001b[0m_create_placeholders\u001b[0m\u001b[0;34m(\u001b[0m\u001b[0mself\u001b[0m\u001b[0;34m.\u001b[0m\u001b[0margs_shape\u001b[0m\u001b[0;34m)\u001b[0m\u001b[0;34m\u001b[0m\u001b[0m\n\u001b[1;32m     52\u001b[0m             \u001b[0;32mtry\u001b[0m\u001b[0;34m:\u001b[0m\u001b[0;34m\u001b[0m\u001b[0m\n\u001b[0;32m---> 53\u001b[0;31m                 \u001b[0mplan\u001b[0m\u001b[0;34m.\u001b[0m\u001b[0mbuild\u001b[0m\u001b[0;34m(\u001b[0m\u001b[0;34m*\u001b[0m\u001b[0margs\u001b[0m\u001b[0;34m)\u001b[0m\u001b[0;34m\u001b[0m\u001b[0m\n\u001b[0m\u001b[1;32m     54\u001b[0m             \u001b[0;32mexcept\u001b[0m \u001b[0mTypeError\u001b[0m \u001b[0;32mas\u001b[0m \u001b[0me\u001b[0m\u001b[0;34m:\u001b[0m\u001b[0;34m\u001b[0m\u001b[0m\n\u001b[1;32m     55\u001b[0m                 print('Automatic build using @func2plan failed!\\nCheck that:\\n'\n",
      "\u001b[0;32m~/code/PySyft/syft/messaging/plan/plan.py\u001b[0m in \u001b[0;36mbuild\u001b[0;34m(self, *args)\u001b[0m\n\u001b[1;32m    307\u001b[0m             \u001b[0mprint\u001b[0m\u001b[0;34m(\u001b[0m\u001b[0mcommand\u001b[0m\u001b[0;34m)\u001b[0m\u001b[0;34m\u001b[0m\u001b[0m\n\u001b[1;32m    308\u001b[0m             command_placeholders, return_placeholders = (\n\u001b[0;32m--> 309\u001b[0;31m                 \u001b[0mself\u001b[0m\u001b[0;34m.\u001b[0m\u001b[0mreplace_with_placeholders\u001b[0m\u001b[0;34m(\u001b[0m\u001b[0mcommand\u001b[0m\u001b[0;34m,\u001b[0m \u001b[0mnode_type\u001b[0m\u001b[0;34m=\u001b[0m\u001b[0;34m\"input\"\u001b[0m\u001b[0;34m)\u001b[0m\u001b[0;34m,\u001b[0m\u001b[0;34m\u001b[0m\u001b[0m\n\u001b[0m\u001b[1;32m    310\u001b[0m                 \u001b[0mself\u001b[0m\u001b[0;34m.\u001b[0m\u001b[0mreplace_with_placeholders\u001b[0m\u001b[0;34m(\u001b[0m\u001b[0mresponse\u001b[0m\u001b[0;34m,\u001b[0m \u001b[0mnode_type\u001b[0m\u001b[0;34m=\u001b[0m\u001b[0;34m\"output\"\u001b[0m\u001b[0;34m)\u001b[0m\u001b[0;34m,\u001b[0m\u001b[0;34m\u001b[0m\u001b[0m\n\u001b[1;32m    311\u001b[0m             )\n",
      "\u001b[0;32m~/code/PySyft/syft/messaging/plan/plan.py\u001b[0m in \u001b[0;36mreplace_with_placeholders\u001b[0;34m(self, obj, **kw)\u001b[0m\n\u001b[1;32m    232\u001b[0m         \"\"\"\n\u001b[1;32m    233\u001b[0m         \u001b[0;32mif\u001b[0m \u001b[0misinstance\u001b[0m\u001b[0;34m(\u001b[0m\u001b[0mobj\u001b[0m\u001b[0;34m,\u001b[0m \u001b[0;34m(\u001b[0m\u001b[0mtuple\u001b[0m\u001b[0;34m,\u001b[0m \u001b[0mlist\u001b[0m\u001b[0;34m)\u001b[0m\u001b[0;34m)\u001b[0m\u001b[0;34m:\u001b[0m\u001b[0;34m\u001b[0m\u001b[0m\n\u001b[0;32m--> 234\u001b[0;31m             \u001b[0mr\u001b[0m \u001b[0;34m=\u001b[0m \u001b[0;34m[\u001b[0m\u001b[0mself\u001b[0m\u001b[0;34m.\u001b[0m\u001b[0mreplace_with_placeholders\u001b[0m\u001b[0;34m(\u001b[0m\u001b[0mo\u001b[0m\u001b[0;34m,\u001b[0m \u001b[0;34m**\u001b[0m\u001b[0mkw\u001b[0m\u001b[0;34m)\u001b[0m \u001b[0;32mfor\u001b[0m \u001b[0mo\u001b[0m \u001b[0;32min\u001b[0m \u001b[0mobj\u001b[0m\u001b[0;34m]\u001b[0m\u001b[0;34m\u001b[0m\u001b[0m\n\u001b[0m\u001b[1;32m    235\u001b[0m             \u001b[0;32mreturn\u001b[0m \u001b[0mtype\u001b[0m\u001b[0;34m(\u001b[0m\u001b[0mobj\u001b[0m\u001b[0;34m)\u001b[0m\u001b[0;34m(\u001b[0m\u001b[0mr\u001b[0m\u001b[0;34m)\u001b[0m\u001b[0;34m\u001b[0m\u001b[0m\n\u001b[1;32m    236\u001b[0m         \u001b[0;32melif\u001b[0m \u001b[0misinstance\u001b[0m\u001b[0;34m(\u001b[0m\u001b[0mobj\u001b[0m\u001b[0;34m,\u001b[0m \u001b[0mdict\u001b[0m\u001b[0;34m)\u001b[0m\u001b[0;34m:\u001b[0m\u001b[0;34m\u001b[0m\u001b[0m\n",
      "\u001b[0;32m~/code/PySyft/syft/messaging/plan/plan.py\u001b[0m in \u001b[0;36m<listcomp>\u001b[0;34m(.0)\u001b[0m\n\u001b[1;32m    232\u001b[0m         \"\"\"\n\u001b[1;32m    233\u001b[0m         \u001b[0;32mif\u001b[0m \u001b[0misinstance\u001b[0m\u001b[0;34m(\u001b[0m\u001b[0mobj\u001b[0m\u001b[0;34m,\u001b[0m \u001b[0;34m(\u001b[0m\u001b[0mtuple\u001b[0m\u001b[0;34m,\u001b[0m \u001b[0mlist\u001b[0m\u001b[0;34m)\u001b[0m\u001b[0;34m)\u001b[0m\u001b[0;34m:\u001b[0m\u001b[0;34m\u001b[0m\u001b[0m\n\u001b[0;32m--> 234\u001b[0;31m             \u001b[0mr\u001b[0m \u001b[0;34m=\u001b[0m \u001b[0;34m[\u001b[0m\u001b[0mself\u001b[0m\u001b[0;34m.\u001b[0m\u001b[0mreplace_with_placeholders\u001b[0m\u001b[0;34m(\u001b[0m\u001b[0mo\u001b[0m\u001b[0;34m,\u001b[0m \u001b[0;34m**\u001b[0m\u001b[0mkw\u001b[0m\u001b[0;34m)\u001b[0m \u001b[0;32mfor\u001b[0m \u001b[0mo\u001b[0m \u001b[0;32min\u001b[0m \u001b[0mobj\u001b[0m\u001b[0;34m]\u001b[0m\u001b[0;34m\u001b[0m\u001b[0m\n\u001b[0m\u001b[1;32m    235\u001b[0m             \u001b[0;32mreturn\u001b[0m \u001b[0mtype\u001b[0m\u001b[0;34m(\u001b[0m\u001b[0mobj\u001b[0m\u001b[0;34m)\u001b[0m\u001b[0;34m(\u001b[0m\u001b[0mr\u001b[0m\u001b[0;34m)\u001b[0m\u001b[0;34m\u001b[0m\u001b[0m\n\u001b[1;32m    236\u001b[0m         \u001b[0;32melif\u001b[0m \u001b[0misinstance\u001b[0m\u001b[0;34m(\u001b[0m\u001b[0mobj\u001b[0m\u001b[0;34m,\u001b[0m \u001b[0mdict\u001b[0m\u001b[0;34m)\u001b[0m\u001b[0;34m:\u001b[0m\u001b[0;34m\u001b[0m\u001b[0m\n",
      "\u001b[0;32m~/code/PySyft/syft/messaging/plan/plan.py\u001b[0m in \u001b[0;36mreplace_with_placeholders\u001b[0;34m(self, obj, **kw)\u001b[0m\n\u001b[1;32m    232\u001b[0m         \"\"\"\n\u001b[1;32m    233\u001b[0m         \u001b[0;32mif\u001b[0m \u001b[0misinstance\u001b[0m\u001b[0;34m(\u001b[0m\u001b[0mobj\u001b[0m\u001b[0;34m,\u001b[0m \u001b[0;34m(\u001b[0m\u001b[0mtuple\u001b[0m\u001b[0;34m,\u001b[0m \u001b[0mlist\u001b[0m\u001b[0;34m)\u001b[0m\u001b[0;34m)\u001b[0m\u001b[0;34m:\u001b[0m\u001b[0;34m\u001b[0m\u001b[0m\n\u001b[0;32m--> 234\u001b[0;31m             \u001b[0mr\u001b[0m \u001b[0;34m=\u001b[0m \u001b[0;34m[\u001b[0m\u001b[0mself\u001b[0m\u001b[0;34m.\u001b[0m\u001b[0mreplace_with_placeholders\u001b[0m\u001b[0;34m(\u001b[0m\u001b[0mo\u001b[0m\u001b[0;34m,\u001b[0m \u001b[0;34m**\u001b[0m\u001b[0mkw\u001b[0m\u001b[0;34m)\u001b[0m \u001b[0;32mfor\u001b[0m \u001b[0mo\u001b[0m \u001b[0;32min\u001b[0m \u001b[0mobj\u001b[0m\u001b[0;34m]\u001b[0m\u001b[0;34m\u001b[0m\u001b[0m\n\u001b[0m\u001b[1;32m    235\u001b[0m             \u001b[0;32mreturn\u001b[0m \u001b[0mtype\u001b[0m\u001b[0;34m(\u001b[0m\u001b[0mobj\u001b[0m\u001b[0;34m)\u001b[0m\u001b[0;34m(\u001b[0m\u001b[0mr\u001b[0m\u001b[0;34m)\u001b[0m\u001b[0;34m\u001b[0m\u001b[0m\n\u001b[1;32m    236\u001b[0m         \u001b[0;32melif\u001b[0m \u001b[0misinstance\u001b[0m\u001b[0;34m(\u001b[0m\u001b[0mobj\u001b[0m\u001b[0;34m,\u001b[0m \u001b[0mdict\u001b[0m\u001b[0;34m)\u001b[0m\u001b[0;34m:\u001b[0m\u001b[0;34m\u001b[0m\u001b[0m\n",
      "\u001b[0;32m~/code/PySyft/syft/messaging/plan/plan.py\u001b[0m in \u001b[0;36m<listcomp>\u001b[0;34m(.0)\u001b[0m\n\u001b[1;32m    232\u001b[0m         \"\"\"\n\u001b[1;32m    233\u001b[0m         \u001b[0;32mif\u001b[0m \u001b[0misinstance\u001b[0m\u001b[0;34m(\u001b[0m\u001b[0mobj\u001b[0m\u001b[0;34m,\u001b[0m \u001b[0;34m(\u001b[0m\u001b[0mtuple\u001b[0m\u001b[0;34m,\u001b[0m \u001b[0mlist\u001b[0m\u001b[0;34m)\u001b[0m\u001b[0;34m)\u001b[0m\u001b[0;34m:\u001b[0m\u001b[0;34m\u001b[0m\u001b[0m\n\u001b[0;32m--> 234\u001b[0;31m             \u001b[0mr\u001b[0m \u001b[0;34m=\u001b[0m \u001b[0;34m[\u001b[0m\u001b[0mself\u001b[0m\u001b[0;34m.\u001b[0m\u001b[0mreplace_with_placeholders\u001b[0m\u001b[0;34m(\u001b[0m\u001b[0mo\u001b[0m\u001b[0;34m,\u001b[0m \u001b[0;34m**\u001b[0m\u001b[0mkw\u001b[0m\u001b[0;34m)\u001b[0m \u001b[0;32mfor\u001b[0m \u001b[0mo\u001b[0m \u001b[0;32min\u001b[0m \u001b[0mobj\u001b[0m\u001b[0;34m]\u001b[0m\u001b[0;34m\u001b[0m\u001b[0m\n\u001b[0m\u001b[1;32m    235\u001b[0m             \u001b[0;32mreturn\u001b[0m \u001b[0mtype\u001b[0m\u001b[0;34m(\u001b[0m\u001b[0mobj\u001b[0m\u001b[0;34m)\u001b[0m\u001b[0;34m(\u001b[0m\u001b[0mr\u001b[0m\u001b[0;34m)\u001b[0m\u001b[0;34m\u001b[0m\u001b[0m\n\u001b[1;32m    236\u001b[0m         \u001b[0;32melif\u001b[0m \u001b[0misinstance\u001b[0m\u001b[0;34m(\u001b[0m\u001b[0mobj\u001b[0m\u001b[0;34m,\u001b[0m \u001b[0mdict\u001b[0m\u001b[0;34m)\u001b[0m\u001b[0;34m:\u001b[0m\u001b[0;34m\u001b[0m\u001b[0m\n",
      "\u001b[0;32m~/code/PySyft/syft/messaging/plan/plan.py\u001b[0m in \u001b[0;36mreplace_with_placeholders\u001b[0;34m(self, obj, **kw)\u001b[0m\n\u001b[1;32m    237\u001b[0m             \u001b[0;32mreturn\u001b[0m \u001b[0;34m{\u001b[0m\u001b[0mkey\u001b[0m\u001b[0;34m:\u001b[0m \u001b[0mself\u001b[0m\u001b[0;34m.\u001b[0m\u001b[0mreplace_with_placeholders\u001b[0m\u001b[0;34m(\u001b[0m\u001b[0mvalue\u001b[0m\u001b[0;34m,\u001b[0m \u001b[0;34m**\u001b[0m\u001b[0mkw\u001b[0m\u001b[0;34m)\u001b[0m \u001b[0;32mfor\u001b[0m \u001b[0mkey\u001b[0m\u001b[0;34m,\u001b[0m \u001b[0mvalue\u001b[0m \u001b[0;32min\u001b[0m \u001b[0mobj\u001b[0m\u001b[0;34m.\u001b[0m\u001b[0mitems\u001b[0m\u001b[0;34m(\u001b[0m\u001b[0;34m)\u001b[0m\u001b[0;34m}\u001b[0m\u001b[0;34m\u001b[0m\u001b[0m\n\u001b[1;32m    238\u001b[0m         \u001b[0;32melif\u001b[0m \u001b[0misinstance\u001b[0m\u001b[0;34m(\u001b[0m\u001b[0mobj\u001b[0m\u001b[0;34m,\u001b[0m \u001b[0mFrameworkTensor\u001b[0m\u001b[0;34m)\u001b[0m\u001b[0;34m:\u001b[0m\u001b[0;34m\u001b[0m\u001b[0m\n\u001b[0;32m--> 239\u001b[0;31m             \u001b[0;32mreturn\u001b[0m \u001b[0mself\u001b[0m\u001b[0;34m.\u001b[0m\u001b[0madd_placeholder\u001b[0m\u001b[0;34m(\u001b[0m\u001b[0mobj\u001b[0m\u001b[0;34m,\u001b[0m \u001b[0;34m**\u001b[0m\u001b[0mkw\u001b[0m\u001b[0;34m)\u001b[0m\u001b[0;34m\u001b[0m\u001b[0m\n\u001b[0m\u001b[1;32m    240\u001b[0m         \u001b[0;32melif\u001b[0m \u001b[0misinstance\u001b[0m\u001b[0;34m(\u001b[0m\u001b[0mobj\u001b[0m\u001b[0;34m,\u001b[0m \u001b[0;34m(\u001b[0m\u001b[0mint\u001b[0m\u001b[0;34m,\u001b[0m \u001b[0mfloat\u001b[0m\u001b[0;34m,\u001b[0m \u001b[0mstr\u001b[0m\u001b[0;34m,\u001b[0m \u001b[0mbool\u001b[0m\u001b[0;34m)\u001b[0m\u001b[0;34m)\u001b[0m\u001b[0;34m:\u001b[0m\u001b[0;34m\u001b[0m\u001b[0m\n\u001b[1;32m    241\u001b[0m             \u001b[0;32mreturn\u001b[0m \u001b[0mobj\u001b[0m\u001b[0;34m\u001b[0m\u001b[0m\n",
      "\u001b[0;32m~/code/PySyft/syft/messaging/plan/plan.py\u001b[0m in \u001b[0;36madd_placeholder\u001b[0;34m(self, tensor, node_type)\u001b[0m\n\u001b[1;32m    216\u001b[0m \u001b[0;34m\u001b[0m\u001b[0m\n\u001b[1;32m    217\u001b[0m             \u001b[0;32mif\u001b[0m \u001b[0mnode_type\u001b[0m \u001b[0;34m==\u001b[0m \u001b[0;34m\"input\"\u001b[0m\u001b[0;34m:\u001b[0m\u001b[0;34m\u001b[0m\u001b[0m\n\u001b[0;32m--> 218\u001b[0;31m                 \u001b[0mplaceholder\u001b[0m\u001b[0;34m.\u001b[0m\u001b[0mtags\u001b[0m\u001b[0;34m.\u001b[0m\u001b[0madd\u001b[0m\u001b[0;34m(\u001b[0m\u001b[0;34mf\"#input-{self._tmp_args_ids.index(tensor.id)}\"\u001b[0m\u001b[0;34m)\u001b[0m\u001b[0;34m\u001b[0m\u001b[0m\n\u001b[0m\u001b[1;32m    219\u001b[0m             \u001b[0;32melif\u001b[0m \u001b[0mnode_type\u001b[0m \u001b[0;34m==\u001b[0m \u001b[0;34m\"output\"\u001b[0m\u001b[0;34m:\u001b[0m\u001b[0;34m\u001b[0m\u001b[0m\n\u001b[1;32m    220\u001b[0m                 \u001b[0;32mif\u001b[0m \u001b[0mtensor\u001b[0m\u001b[0;34m.\u001b[0m\u001b[0mid\u001b[0m \u001b[0;32min\u001b[0m \u001b[0mself\u001b[0m\u001b[0;34m.\u001b[0m\u001b[0m_tmp_result_ids\u001b[0m\u001b[0;34m:\u001b[0m\u001b[0;34m\u001b[0m\u001b[0m\n",
      "\u001b[0;31mValueError\u001b[0m: 19707611155 is not in list"
     ]
    }
   ],
   "source": [
    "@sy.func2plan(args_shape=[(1,)])\n",
    "def serde_plan(x):\n",
    "    y = th.Tensor([-1])\n",
    "    z = x + y\n",
    "    return x\n",
    "\n",
    "serde_plan_simplified = serde._simplify(bob, serde_plan)\n",
    "serde_plan_detailed = serde._detail(bob, serde_plan_simplified)\n",
    "\n",
    "for op in serde_plan_detailed.operations:\n",
    "    print(op)\n",
    "\n",
    "t = th.tensor([1.0])\n",
    "expected = serde_plan_detailed(t)\n",
    "actual = serde_plan_detailed(t)\n",
    "assert actual == expected\n",
    "\n",
    "print(actual)"
   ]
  },
  {
   "cell_type": "code",
   "execution_count": 4,
   "metadata": {},
   "outputs": [
    {
     "name": "stdout",
     "output_type": "stream",
     "text": [
      "('torch.manual_seed', None, (14,), {})\n",
      "('torch.randint', None, (2,), {'size': (1,), 'dtype': torch.uint8})\n",
      "('__add__', tensor([1], dtype=torch.uint8), (1,), {})\n",
      "('__add__', tensor([2], dtype=torch.uint8), (1,), {})\n",
      "('__add__', tensor([3], dtype=torch.uint8), (1,), {})\n",
      "('__add__', tensor([4], dtype=torch.uint8), (1,), {})\n",
      "('__add__', tensor([5], dtype=torch.uint8), (1,), {})\n",
      "('__add__', tensor([6], dtype=torch.uint8), (1,), {})\n",
      "('__add__', tensor([7], dtype=torch.uint8), (1,), {})\n",
      "('__add__', tensor([8], dtype=torch.uint8), (1,), {})\n",
      "('__add__', tensor([9], dtype=torch.uint8), (1,), {})\n",
      "('__add__', tensor([10], dtype=torch.uint8), (1,), {})\n",
      "tensor([11], dtype=torch.uint8)\n",
      "tensor([11], dtype=torch.uint8)\n"
     ]
    }
   ],
   "source": [
    "@sy.func2plan(args_shape=[(1,)])\n",
    "def foo(x):\n",
    "    th.manual_seed(14)\n",
    "    y = th.randint(2, size=(1,), dtype=th.uint8)\n",
    "    for i in range(0, 10):\n",
    "        y = y + 1\n",
    "    return y\n",
    "\n",
    "serde_plan_simplified = serde._simplify(bob, foo)\n",
    "serde_plan_detailed = serde._detail(bob, serde_plan_simplified)\n",
    "\n",
    "t = th.tensor([1.0])\n",
    "expected = foo(t)\n",
    "actual = foo(t)\n",
    "print(actual)\n",
    "print(expected)\n",
    "assert actual == expected"
   ]
  },
  {
   "cell_type": "code",
   "execution_count": 6,
   "metadata": {},
   "outputs": [
    {
     "data": {
      "text/plain": [
       "tensor([32, 16,  8,  4,  2,  1], dtype=torch.uint8)"
      ]
     },
     "execution_count": 6,
     "metadata": {},
     "output_type": "execute_result"
    }
   ],
   "source": [
    "th.flip(2 ** th.arange(6), (0,)).to(th.uint8)"
   ]
  },
  {
   "cell_type": "code",
   "execution_count": 9,
   "metadata": {},
   "outputs": [
    {
     "data": {
      "text/plain": [
       "True"
      ]
     },
     "execution_count": 9,
     "metadata": {},
     "output_type": "execute_result"
    }
   ],
   "source": [
    "kw = {'note_type': 'input'}\n",
    "kw.get('note_type') == 'input'"
   ]
  },
  {
   "cell_type": "code",
   "execution_count": 4,
   "metadata": {},
   "outputs": [
    {
     "data": {
      "text/plain": [
       "[PlaceHolder[Tags:#1 #input-0],\n",
       " PlaceHolder[Tags:#input-2 #3],\n",
       " PlaceHolder[Tags:#input-1 #5]]"
      ]
     },
     "execution_count": 4,
     "metadata": {},
     "output_type": "execute_result"
    }
   ],
   "source": [
    "serde_plan.find_placeholders('#input')"
   ]
  },
  {
   "cell_type": "code",
   "execution_count": 2,
   "metadata": {
    "scrolled": true
   },
   "outputs": [
    {
     "data": {
      "text/plain": [
       "<bound method _TensorBase.add of tensor([3.])>"
      ]
     },
     "execution_count": 2,
     "metadata": {},
     "output_type": "execute_result"
    }
   ],
   "source": [
    "t = th.tensor([3.0])\n",
    "t.add"
   ]
  },
  {
   "cell_type": "code",
   "execution_count": 2,
   "metadata": {},
   "outputs": [],
   "source": [
    "@sy.func2plan(args_shape=[(1,)], state=(th.tensor([3.0]),))\n",
    "def plan(data, state):\n",
    "    (bias,) = state.read()\n",
    "    r = data * bias\n",
    "    return r"
   ]
  },
  {
   "cell_type": "code",
   "execution_count": 3,
   "metadata": {},
   "outputs": [
    {
     "data": {
      "text/plain": [
       "[(Operation (('__mul__', PlaceHolder[Tags:#2 #input-0], (PlaceHolder[Tags:#state #1]>tensor([3.]),), {}), PlaceHolder[Tags:#output-0 #3]))]"
      ]
     },
     "execution_count": 3,
     "metadata": {},
     "output_type": "execute_result"
    }
   ],
   "source": [
    "plan.operations"
   ]
  },
  {
   "cell_type": "code",
   "execution_count": 1,
   "metadata": {},
   "outputs": [
    {
     "ename": "NameError",
     "evalue": "name 'sy' is not defined",
     "output_type": "error",
     "traceback": [
      "\u001b[0;31m---------------------------------------------------------------------------\u001b[0m",
      "\u001b[0;31mNameError\u001b[0m                                 Traceback (most recent call last)",
      "\u001b[0;32m<ipython-input-1-dcff20d0a74e>\u001b[0m in \u001b[0;36m<module>\u001b[0;34m\u001b[0m\n\u001b[0;32m----> 1\u001b[0;31m \u001b[0;34m@\u001b[0m\u001b[0msy\u001b[0m\u001b[0;34m.\u001b[0m\u001b[0mfunc2plan\u001b[0m\u001b[0;34m(\u001b[0m\u001b[0margs_shape\u001b[0m\u001b[0;34m=\u001b[0m\u001b[0;34m[\u001b[0m\u001b[0;34m(\u001b[0m\u001b[0;36m1\u001b[0m\u001b[0;34m,\u001b[0m\u001b[0;34m)\u001b[0m\u001b[0;34m]\u001b[0m\u001b[0;34m,\u001b[0m \u001b[0mstate\u001b[0m\u001b[0;34m=\u001b[0m\u001b[0;34m(\u001b[0m\u001b[0mth\u001b[0m\u001b[0;34m.\u001b[0m\u001b[0mtensor\u001b[0m\u001b[0;34m(\u001b[0m\u001b[0;34m[\u001b[0m\u001b[0;36m3.0\u001b[0m\u001b[0;34m]\u001b[0m\u001b[0;34m)\u001b[0m\u001b[0;34m,\u001b[0m\u001b[0;34m)\u001b[0m\u001b[0;34m)\u001b[0m\u001b[0;34m\u001b[0m\u001b[0m\n\u001b[0m\u001b[1;32m      2\u001b[0m \u001b[0;32mdef\u001b[0m \u001b[0mplan\u001b[0m\u001b[0;34m(\u001b[0m\u001b[0mdata\u001b[0m\u001b[0;34m,\u001b[0m \u001b[0mstate\u001b[0m\u001b[0;34m)\u001b[0m\u001b[0;34m:\u001b[0m\u001b[0;34m\u001b[0m\u001b[0m\n\u001b[1;32m      3\u001b[0m     \u001b[0;34m(\u001b[0m\u001b[0mbias\u001b[0m\u001b[0;34m,\u001b[0m\u001b[0;34m)\u001b[0m \u001b[0;34m=\u001b[0m \u001b[0mstate\u001b[0m\u001b[0;34m.\u001b[0m\u001b[0mread\u001b[0m\u001b[0;34m(\u001b[0m\u001b[0;34m)\u001b[0m\u001b[0;34m\u001b[0m\u001b[0m\n\u001b[1;32m      4\u001b[0m     \u001b[0mr\u001b[0m \u001b[0;34m=\u001b[0m \u001b[0mdata\u001b[0m \u001b[0;34m*\u001b[0m \u001b[0mbias\u001b[0m\u001b[0;34m\u001b[0m\u001b[0m\n\u001b[1;32m      5\u001b[0m     \u001b[0;32mreturn\u001b[0m \u001b[0mr\u001b[0m\u001b[0;34m\u001b[0m\u001b[0m\n",
      "\u001b[0;31mNameError\u001b[0m: name 'sy' is not defined"
     ]
    }
   ],
   "source": [
    "@sy.func2plan(args_shape=[(1,)], state=(th.tensor([3.0]),))\n",
    "def plan(data, state):\n",
    "    (bias,) = state.read()\n",
    "    r = data * bias\n",
    "    return r\n",
    "\n",
    "plan_pointer = plan.send(james)\n",
    "\n",
    "print('---')\n",
    "# Fetch plan\n",
    "fetched_plan = plan_pointer.owner.fetch_plan(plan_pointer.id_at_location, james, copy=True)\n",
    "\n",
    "print(fetched_plan.operations)\n",
    "\n",
    "\n",
    "# Execute the fetch plan\n",
    "x = th.tensor([-1.0])\n",
    "print(fetched_plan)\n",
    "result1 = fetched_plan(x)\n",
    "\n"
   ]
  },
  {
   "cell_type": "code",
   "execution_count": 2,
   "metadata": {},
   "outputs": [
    {
     "name": "stdout",
     "output_type": "stream",
     "text": [
      "==\n",
      "(tensor([0.]), tensor([0.]), tensor([0.]))\n",
      "[12263725968, 83111581535, 79722608224]\n",
      "('__add__', tensor([0.]), (tensor([0.]),), {})\n",
      "('__add__', tensor([0.]), (tensor([0.]),), {})\n",
      "('__add__', tensor([0.]), (tensor([0.]),), {})\n"
     ]
    }
   ],
   "source": [
    "@sy.func2plan(args_shape=[(1,), (1,), (1,)])\n",
    "def serde_plan(x, y, z):\n",
    "    a = x + x  # 2\n",
    "    b = x + z  # 4\n",
    "    c = y + z  # 5\n",
    "    return c, b, a  # 5, 4, 2"
   ]
  },
  {
   "cell_type": "code",
   "execution_count": 4,
   "metadata": {},
   "outputs": [
    {
     "name": "stdout",
     "output_type": "stream",
     "text": [
      "==\n",
      "(tensor([0.]),)\n",
      "[88027767395]\n",
      "('__add__', tensor([0.]), (tensor([0.]),), {})\n",
      "('torch.abs', None, (tensor([0.]),), {})\n"
     ]
    }
   ],
   "source": [
    "@sy.func2plan(args_shape=[(1,)])\n",
    "def serde_plan(x):\n",
    "    x = x + x\n",
    "    x = th.abs(x)\n",
    "    return x"
   ]
  },
  {
   "cell_type": "code",
   "execution_count": 5,
   "metadata": {},
   "outputs": [
    {
     "name": "stdout",
     "output_type": "stream",
     "text": [
      "==\n",
      "(tensor([[0., 0., 0.]]),)\n",
      "[48698700407]\n",
      "('__add__', (Wrapper)>[PointerTensor | me:15449418015 -> bob:48698700407], ((Wrapper)>[PointerTensor | me:15449418015 -> bob:48698700407],), {})\n"
     ]
    },
    {
     "ename": "ValueError",
     "evalue": "15449418015 is not in list",
     "output_type": "error",
     "traceback": [
      "\u001b[0;31m---------------------------------------------------------------------------\u001b[0m",
      "\u001b[0;31mValueError\u001b[0m                                Traceback (most recent call last)",
      "\u001b[0;32m<ipython-input-5-2ba716d4a8c5>\u001b[0m in \u001b[0;36m<module>\u001b[0;34m\u001b[0m\n\u001b[0;32m----> 1\u001b[0;31m \u001b[0;34m@\u001b[0m\u001b[0msy\u001b[0m\u001b[0;34m.\u001b[0m\u001b[0mfunc2plan\u001b[0m\u001b[0;34m(\u001b[0m\u001b[0;34m[\u001b[0m\u001b[0mth\u001b[0m\u001b[0;34m.\u001b[0m\u001b[0mSize\u001b[0m\u001b[0;34m(\u001b[0m\u001b[0;34m(\u001b[0m\u001b[0;36m1\u001b[0m\u001b[0;34m,\u001b[0m \u001b[0;36m3\u001b[0m\u001b[0;34m)\u001b[0m\u001b[0;34m)\u001b[0m\u001b[0;34m]\u001b[0m\u001b[0;34m)\u001b[0m\u001b[0;34m\u001b[0m\u001b[0m\n\u001b[0m\u001b[1;32m      2\u001b[0m \u001b[0;32mdef\u001b[0m \u001b[0mplan_double_abs\u001b[0m\u001b[0;34m(\u001b[0m\u001b[0mx\u001b[0m\u001b[0;34m)\u001b[0m\u001b[0;34m:\u001b[0m\u001b[0;34m\u001b[0m\u001b[0m\n\u001b[1;32m      3\u001b[0m     \u001b[0mx\u001b[0m \u001b[0;34m=\u001b[0m \u001b[0mx\u001b[0m\u001b[0;34m.\u001b[0m\u001b[0msend\u001b[0m\u001b[0;34m(\u001b[0m\u001b[0mbob\u001b[0m\u001b[0;34m)\u001b[0m\u001b[0;34m\u001b[0m\u001b[0m\n\u001b[1;32m      4\u001b[0m     \u001b[0mx\u001b[0m \u001b[0;34m=\u001b[0m \u001b[0mx\u001b[0m \u001b[0;34m+\u001b[0m \u001b[0mx\u001b[0m\u001b[0;34m\u001b[0m\u001b[0m\n\u001b[1;32m      5\u001b[0m     \u001b[0mx\u001b[0m \u001b[0;34m=\u001b[0m \u001b[0mth\u001b[0m\u001b[0;34m.\u001b[0m\u001b[0mabs\u001b[0m\u001b[0;34m(\u001b[0m\u001b[0mx\u001b[0m\u001b[0;34m)\u001b[0m\u001b[0;34m\u001b[0m\u001b[0m\n",
      "\u001b[0;32m~/code/PySyft/syft/messaging/plan/plan.py\u001b[0m in \u001b[0;36m__call__\u001b[0;34m(self, plan_function)\u001b[0m\n\u001b[1;32m     47\u001b[0m         \u001b[0;32mif\u001b[0m \u001b[0mself\u001b[0m\u001b[0;34m.\u001b[0m\u001b[0margs_shape\u001b[0m\u001b[0;34m:\u001b[0m\u001b[0;34m\u001b[0m\u001b[0m\n\u001b[1;32m     48\u001b[0m             \u001b[0margs\u001b[0m \u001b[0;34m=\u001b[0m \u001b[0mPlan\u001b[0m\u001b[0;34m.\u001b[0m\u001b[0m_create_placeholders\u001b[0m\u001b[0;34m(\u001b[0m\u001b[0mself\u001b[0m\u001b[0;34m.\u001b[0m\u001b[0margs_shape\u001b[0m\u001b[0;34m)\u001b[0m\u001b[0;34m\u001b[0m\u001b[0m\n\u001b[0;32m---> 49\u001b[0;31m             \u001b[0mplan\u001b[0m\u001b[0;34m.\u001b[0m\u001b[0mbuild\u001b[0m\u001b[0;34m(\u001b[0m\u001b[0;34m*\u001b[0m\u001b[0margs\u001b[0m\u001b[0;34m)\u001b[0m\u001b[0;34m\u001b[0m\u001b[0m\n\u001b[0m\u001b[1;32m     50\u001b[0m         \u001b[0;32mreturn\u001b[0m \u001b[0mplan\u001b[0m\u001b[0;34m\u001b[0m\u001b[0m\n\u001b[1;32m     51\u001b[0m \u001b[0;34m\u001b[0m\u001b[0m\n",
      "\u001b[0;32m~/code/PySyft/syft/messaging/plan/plan.py\u001b[0m in \u001b[0;36mbuild\u001b[0;34m(self, *args)\u001b[0m\n\u001b[1;32m    295\u001b[0m             \u001b[0mprint\u001b[0m\u001b[0;34m(\u001b[0m\u001b[0mcommand\u001b[0m\u001b[0;34m)\u001b[0m\u001b[0;34m\u001b[0m\u001b[0m\n\u001b[1;32m    296\u001b[0m             command_placeholders, return_placeholders = (\n\u001b[0;32m--> 297\u001b[0;31m                 \u001b[0mself\u001b[0m\u001b[0;34m.\u001b[0m\u001b[0mreplace_with_placeholders\u001b[0m\u001b[0;34m(\u001b[0m\u001b[0mcommand\u001b[0m\u001b[0;34m,\u001b[0m \u001b[0mfind_inputs\u001b[0m\u001b[0;34m=\u001b[0m\u001b[0;32mTrue\u001b[0m\u001b[0;34m)\u001b[0m\u001b[0;34m,\u001b[0m\u001b[0;34m\u001b[0m\u001b[0m\n\u001b[0m\u001b[1;32m    298\u001b[0m                 \u001b[0mself\u001b[0m\u001b[0;34m.\u001b[0m\u001b[0mreplace_with_placeholders\u001b[0m\u001b[0;34m(\u001b[0m\u001b[0mresponse\u001b[0m\u001b[0;34m,\u001b[0m \u001b[0mfind_outputs\u001b[0m\u001b[0;34m=\u001b[0m\u001b[0;32mTrue\u001b[0m\u001b[0;34m)\u001b[0m\u001b[0;34m,\u001b[0m\u001b[0;34m\u001b[0m\u001b[0m\n\u001b[1;32m    299\u001b[0m             )\n",
      "\u001b[0;32m~/code/PySyft/syft/messaging/plan/plan.py\u001b[0m in \u001b[0;36mreplace_with_placeholders\u001b[0;34m(self, obj, **kw)\u001b[0m\n\u001b[1;32m    222\u001b[0m         \"\"\"\n\u001b[1;32m    223\u001b[0m         \u001b[0;32mif\u001b[0m \u001b[0misinstance\u001b[0m\u001b[0;34m(\u001b[0m\u001b[0mobj\u001b[0m\u001b[0;34m,\u001b[0m \u001b[0;34m(\u001b[0m\u001b[0mtuple\u001b[0m\u001b[0;34m,\u001b[0m \u001b[0mlist\u001b[0m\u001b[0;34m)\u001b[0m\u001b[0;34m)\u001b[0m\u001b[0;34m:\u001b[0m\u001b[0;34m\u001b[0m\u001b[0m\n\u001b[0;32m--> 224\u001b[0;31m             \u001b[0mr\u001b[0m \u001b[0;34m=\u001b[0m \u001b[0;34m[\u001b[0m\u001b[0mself\u001b[0m\u001b[0;34m.\u001b[0m\u001b[0mreplace_with_placeholders\u001b[0m\u001b[0;34m(\u001b[0m\u001b[0mo\u001b[0m\u001b[0;34m,\u001b[0m \u001b[0;34m**\u001b[0m\u001b[0mkw\u001b[0m\u001b[0;34m)\u001b[0m \u001b[0;32mfor\u001b[0m \u001b[0mo\u001b[0m \u001b[0;32min\u001b[0m \u001b[0mobj\u001b[0m\u001b[0;34m]\u001b[0m\u001b[0;34m\u001b[0m\u001b[0m\n\u001b[0m\u001b[1;32m    225\u001b[0m             \u001b[0;32mreturn\u001b[0m \u001b[0mtype\u001b[0m\u001b[0;34m(\u001b[0m\u001b[0mobj\u001b[0m\u001b[0;34m)\u001b[0m\u001b[0;34m(\u001b[0m\u001b[0mr\u001b[0m\u001b[0;34m)\u001b[0m\u001b[0;34m\u001b[0m\u001b[0m\n\u001b[1;32m    226\u001b[0m         \u001b[0;32melif\u001b[0m \u001b[0misinstance\u001b[0m\u001b[0;34m(\u001b[0m\u001b[0mobj\u001b[0m\u001b[0;34m,\u001b[0m \u001b[0mdict\u001b[0m\u001b[0;34m)\u001b[0m\u001b[0;34m:\u001b[0m\u001b[0;34m\u001b[0m\u001b[0m\n",
      "\u001b[0;32m~/code/PySyft/syft/messaging/plan/plan.py\u001b[0m in \u001b[0;36m<listcomp>\u001b[0;34m(.0)\u001b[0m\n\u001b[1;32m    222\u001b[0m         \"\"\"\n\u001b[1;32m    223\u001b[0m         \u001b[0;32mif\u001b[0m \u001b[0misinstance\u001b[0m\u001b[0;34m(\u001b[0m\u001b[0mobj\u001b[0m\u001b[0;34m,\u001b[0m \u001b[0;34m(\u001b[0m\u001b[0mtuple\u001b[0m\u001b[0;34m,\u001b[0m \u001b[0mlist\u001b[0m\u001b[0;34m)\u001b[0m\u001b[0;34m)\u001b[0m\u001b[0;34m:\u001b[0m\u001b[0;34m\u001b[0m\u001b[0m\n\u001b[0;32m--> 224\u001b[0;31m             \u001b[0mr\u001b[0m \u001b[0;34m=\u001b[0m \u001b[0;34m[\u001b[0m\u001b[0mself\u001b[0m\u001b[0;34m.\u001b[0m\u001b[0mreplace_with_placeholders\u001b[0m\u001b[0;34m(\u001b[0m\u001b[0mo\u001b[0m\u001b[0;34m,\u001b[0m \u001b[0;34m**\u001b[0m\u001b[0mkw\u001b[0m\u001b[0;34m)\u001b[0m \u001b[0;32mfor\u001b[0m \u001b[0mo\u001b[0m \u001b[0;32min\u001b[0m \u001b[0mobj\u001b[0m\u001b[0;34m]\u001b[0m\u001b[0;34m\u001b[0m\u001b[0m\n\u001b[0m\u001b[1;32m    225\u001b[0m             \u001b[0;32mreturn\u001b[0m \u001b[0mtype\u001b[0m\u001b[0;34m(\u001b[0m\u001b[0mobj\u001b[0m\u001b[0;34m)\u001b[0m\u001b[0;34m(\u001b[0m\u001b[0mr\u001b[0m\u001b[0;34m)\u001b[0m\u001b[0;34m\u001b[0m\u001b[0m\n\u001b[1;32m    226\u001b[0m         \u001b[0;32melif\u001b[0m \u001b[0misinstance\u001b[0m\u001b[0;34m(\u001b[0m\u001b[0mobj\u001b[0m\u001b[0;34m,\u001b[0m \u001b[0mdict\u001b[0m\u001b[0;34m)\u001b[0m\u001b[0;34m:\u001b[0m\u001b[0;34m\u001b[0m\u001b[0m\n",
      "\u001b[0;32m~/code/PySyft/syft/messaging/plan/plan.py\u001b[0m in \u001b[0;36mreplace_with_placeholders\u001b[0;34m(self, obj, **kw)\u001b[0m\n\u001b[1;32m    227\u001b[0m             \u001b[0;32mreturn\u001b[0m \u001b[0;34m{\u001b[0m\u001b[0mkey\u001b[0m\u001b[0;34m:\u001b[0m \u001b[0mself\u001b[0m\u001b[0;34m.\u001b[0m\u001b[0mreplace_with_placeholders\u001b[0m\u001b[0;34m(\u001b[0m\u001b[0mvalue\u001b[0m\u001b[0;34m,\u001b[0m \u001b[0;34m**\u001b[0m\u001b[0mkw\u001b[0m\u001b[0;34m)\u001b[0m \u001b[0;32mfor\u001b[0m \u001b[0mkey\u001b[0m\u001b[0;34m,\u001b[0m \u001b[0mvalue\u001b[0m \u001b[0;32min\u001b[0m \u001b[0mobj\u001b[0m\u001b[0;34m.\u001b[0m\u001b[0mitems\u001b[0m\u001b[0;34m(\u001b[0m\u001b[0;34m)\u001b[0m\u001b[0;34m}\u001b[0m\u001b[0;34m\u001b[0m\u001b[0m\n\u001b[1;32m    228\u001b[0m         \u001b[0;32melif\u001b[0m \u001b[0misinstance\u001b[0m\u001b[0;34m(\u001b[0m\u001b[0mobj\u001b[0m\u001b[0;34m,\u001b[0m \u001b[0mFrameworkTensor\u001b[0m\u001b[0;34m)\u001b[0m\u001b[0;34m:\u001b[0m\u001b[0;34m\u001b[0m\u001b[0m\n\u001b[0;32m--> 229\u001b[0;31m             \u001b[0;32mreturn\u001b[0m \u001b[0mself\u001b[0m\u001b[0;34m.\u001b[0m\u001b[0madd_placeholder\u001b[0m\u001b[0;34m(\u001b[0m\u001b[0mobj\u001b[0m\u001b[0;34m,\u001b[0m \u001b[0;34m**\u001b[0m\u001b[0mkw\u001b[0m\u001b[0;34m)\u001b[0m\u001b[0;34m\u001b[0m\u001b[0m\n\u001b[0m\u001b[1;32m    230\u001b[0m         \u001b[0;32melif\u001b[0m \u001b[0misinstance\u001b[0m\u001b[0;34m(\u001b[0m\u001b[0mobj\u001b[0m\u001b[0;34m,\u001b[0m \u001b[0;34m(\u001b[0m\u001b[0mint\u001b[0m\u001b[0;34m,\u001b[0m \u001b[0mfloat\u001b[0m\u001b[0;34m,\u001b[0m \u001b[0mstr\u001b[0m\u001b[0;34m,\u001b[0m \u001b[0mbool\u001b[0m\u001b[0;34m)\u001b[0m\u001b[0;34m)\u001b[0m\u001b[0;34m:\u001b[0m\u001b[0;34m\u001b[0m\u001b[0m\n\u001b[1;32m    231\u001b[0m             \u001b[0;32mreturn\u001b[0m \u001b[0mobj\u001b[0m\u001b[0;34m\u001b[0m\u001b[0m\n",
      "\u001b[0;32m~/code/PySyft/syft/messaging/plan/plan.py\u001b[0m in \u001b[0;36madd_placeholder\u001b[0;34m(self, tensor, find_inputs, find_outputs)\u001b[0m\n\u001b[1;32m    208\u001b[0m             \u001b[0;32mif\u001b[0m \u001b[0mfind_inputs\u001b[0m\u001b[0;34m:\u001b[0m\u001b[0;34m\u001b[0m\u001b[0m\n\u001b[1;32m    209\u001b[0m                 \u001b[0mself\u001b[0m\u001b[0;34m.\u001b[0m\u001b[0minput_placeholders\u001b[0m\u001b[0;34m.\u001b[0m\u001b[0mappend\u001b[0m\u001b[0;34m(\u001b[0m\u001b[0mplaceholder\u001b[0m\u001b[0;34m)\u001b[0m\u001b[0;34m\u001b[0m\u001b[0m\n\u001b[0;32m--> 210\u001b[0;31m                 \u001b[0mplaceholder\u001b[0m\u001b[0;34m.\u001b[0m\u001b[0mtags\u001b[0m\u001b[0;34m.\u001b[0m\u001b[0madd\u001b[0m\u001b[0;34m(\u001b[0m\u001b[0;34mf\"#input-{self._tmp_args_ids.index(tensor.id)}\"\u001b[0m\u001b[0;34m)\u001b[0m\u001b[0;34m\u001b[0m\u001b[0m\n\u001b[0m\u001b[1;32m    211\u001b[0m \u001b[0;34m\u001b[0m\u001b[0m\n\u001b[1;32m    212\u001b[0m             \u001b[0;32mif\u001b[0m \u001b[0mfind_outputs\u001b[0m \u001b[0;32mand\u001b[0m \u001b[0mtensor\u001b[0m\u001b[0;34m.\u001b[0m\u001b[0mid\u001b[0m \u001b[0;32min\u001b[0m \u001b[0mself\u001b[0m\u001b[0;34m.\u001b[0m\u001b[0m_tmp_result_ids\u001b[0m\u001b[0;34m:\u001b[0m\u001b[0;34m\u001b[0m\u001b[0m\n",
      "\u001b[0;31mValueError\u001b[0m: 15449418015 is not in list"
     ]
    }
   ],
   "source": [
    "@sy.func2plan([th.Size((1, 3))])\n",
    "def plan_double_abs(x):\n",
    "    x = x.send(bob)\n",
    "    x = x + x\n",
    "    x = th.abs(x)\n",
    "    return x"
   ]
  },
  {
   "cell_type": "code",
   "execution_count": 6,
   "metadata": {},
   "outputs": [
    {
     "data": {
      "text/plain": [
       "tensor([1.])\n",
       "\tTags: #tags #lkjd \n",
       "\tShape: torch.Size([1])"
      ]
     },
     "execution_count": 6,
     "metadata": {},
     "output_type": "execute_result"
    }
   ],
   "source": [
    "t = th.tensor([1.])\n",
    "t.tag('#tags', '#lkjd')\n",
    "t"
   ]
  },
  {
   "cell_type": "code",
   "execution_count": 35,
   "metadata": {},
   "outputs": [
    {
     "ename": "RuntimeError",
     "evalue": "a leaf Variable that requires grad has been used in an in-place operation.",
     "output_type": "error",
     "traceback": [
      "\u001b[0;31m---------------------------------------------------------------------------\u001b[0m",
      "\u001b[0;31mRuntimeError\u001b[0m                              Traceback (most recent call last)",
      "\u001b[0;32m<ipython-input-35-19fdfc8c9503>\u001b[0m in \u001b[0;36m<module>\u001b[0;34m\u001b[0m\n\u001b[0;32m----> 1\u001b[0;31m \u001b[0mplan\u001b[0m\u001b[0;34m.\u001b[0m\u001b[0mfc1\u001b[0m\u001b[0;34m.\u001b[0m\u001b[0mweight\u001b[0m \u001b[0;34m+=\u001b[0m \u001b[0;36m1\u001b[0m\u001b[0;34m\u001b[0m\u001b[0m\n\u001b[0m",
      "\u001b[0;32m~/code/PySyft/syft/generic/frameworks/hook/hook.py\u001b[0m in \u001b[0;36moverloaded_native_method\u001b[0;34m(self, *args, **kwargs)\u001b[0m\n\u001b[1;32m    440\u001b[0m                 \u001b[0;32mexcept\u001b[0m \u001b[0mBaseException\u001b[0m \u001b[0;32mas\u001b[0m \u001b[0me\u001b[0m\u001b[0;34m:\u001b[0m\u001b[0;34m\u001b[0m\u001b[0m\n\u001b[1;32m    441\u001b[0m                     \u001b[0;31m# we can make some errors more descriptive with this method\u001b[0m\u001b[0;34m\u001b[0m\u001b[0;34m\u001b[0m\u001b[0m\n\u001b[0;32m--> 442\u001b[0;31m                     \u001b[0;32mraise\u001b[0m \u001b[0mroute_method_exception\u001b[0m\u001b[0;34m(\u001b[0m\u001b[0me\u001b[0m\u001b[0;34m,\u001b[0m \u001b[0mself\u001b[0m\u001b[0;34m,\u001b[0m \u001b[0margs\u001b[0m\u001b[0;34m,\u001b[0m \u001b[0mkwargs\u001b[0m\u001b[0;34m)\u001b[0m\u001b[0;34m\u001b[0m\u001b[0m\n\u001b[0m\u001b[1;32m    443\u001b[0m \u001b[0;34m\u001b[0m\u001b[0m\n\u001b[1;32m    444\u001b[0m             \u001b[0;32melse\u001b[0m\u001b[0;34m:\u001b[0m  \u001b[0;31m# means that there is a wrapper to remove\u001b[0m\u001b[0;34m\u001b[0m\u001b[0m\n",
      "\u001b[0;32m~/code/PySyft/syft/generic/frameworks/hook/hook.py\u001b[0m in \u001b[0;36moverloaded_native_method\u001b[0;34m(self, *args, **kwargs)\u001b[0m\n\u001b[1;32m    436\u001b[0m \u001b[0;34m\u001b[0m\u001b[0m\n\u001b[1;32m    437\u001b[0m                 \u001b[0;32mtry\u001b[0m\u001b[0;34m:\u001b[0m\u001b[0;34m\u001b[0m\u001b[0m\n\u001b[0;32m--> 438\u001b[0;31m                     \u001b[0mresponse\u001b[0m \u001b[0;34m=\u001b[0m \u001b[0mmethod\u001b[0m\u001b[0;34m(\u001b[0m\u001b[0;34m*\u001b[0m\u001b[0margs\u001b[0m\u001b[0;34m,\u001b[0m \u001b[0;34m**\u001b[0m\u001b[0mkwargs\u001b[0m\u001b[0;34m)\u001b[0m\u001b[0;34m\u001b[0m\u001b[0m\n\u001b[0m\u001b[1;32m    439\u001b[0m \u001b[0;34m\u001b[0m\u001b[0m\n\u001b[1;32m    440\u001b[0m                 \u001b[0;32mexcept\u001b[0m \u001b[0mBaseException\u001b[0m \u001b[0;32mas\u001b[0m \u001b[0me\u001b[0m\u001b[0;34m:\u001b[0m\u001b[0;34m\u001b[0m\u001b[0m\n",
      "\u001b[0;31mRuntimeError\u001b[0m: a leaf Variable that requires grad has been used in an in-place operation."
     ]
    }
   ],
   "source": [
    "plan.fc1.weight += 1"
   ]
  },
  {
   "cell_type": "code",
   "execution_count": 3,
   "metadata": {},
   "outputs": [
    {
     "ename": "RuntimeError",
     "evalue": "a leaf Variable that requires grad has been used in an in-place operation.",
     "output_type": "error",
     "traceback": [
      "\u001b[0;31m---------------------------------------------------------------------------\u001b[0m",
      "\u001b[0;31mRuntimeError\u001b[0m                              Traceback (most recent call last)",
      "\u001b[0;32m<ipython-input-3-190a4492ac0e>\u001b[0m in \u001b[0;36m<module>\u001b[0;34m\u001b[0m\n\u001b[0;32m----> 1\u001b[0;31m \u001b[0mplan\u001b[0m\u001b[0;34m.\u001b[0m\u001b[0mstate\u001b[0m\u001b[0;34m.\u001b[0m\u001b[0mstate_placeholders\u001b[0m\u001b[0;34m[\u001b[0m\u001b[0;36m0\u001b[0m\u001b[0;34m]\u001b[0m\u001b[0;34m.\u001b[0m\u001b[0mchild\u001b[0m \u001b[0;34m+=\u001b[0m \u001b[0;36m1\u001b[0m\u001b[0;34m\u001b[0m\u001b[0m\n\u001b[0m",
      "\u001b[0;32m~/code/PySyft/syft/generic/frameworks/hook/hook.py\u001b[0m in \u001b[0;36moverloaded_native_method\u001b[0;34m(self, *args, **kwargs)\u001b[0m\n\u001b[1;32m    440\u001b[0m                 \u001b[0;32mexcept\u001b[0m \u001b[0mBaseException\u001b[0m \u001b[0;32mas\u001b[0m \u001b[0me\u001b[0m\u001b[0;34m:\u001b[0m\u001b[0;34m\u001b[0m\u001b[0m\n\u001b[1;32m    441\u001b[0m                     \u001b[0;31m# we can make some errors more descriptive with this method\u001b[0m\u001b[0;34m\u001b[0m\u001b[0;34m\u001b[0m\u001b[0m\n\u001b[0;32m--> 442\u001b[0;31m                     \u001b[0;32mraise\u001b[0m \u001b[0mroute_method_exception\u001b[0m\u001b[0;34m(\u001b[0m\u001b[0me\u001b[0m\u001b[0;34m,\u001b[0m \u001b[0mself\u001b[0m\u001b[0;34m,\u001b[0m \u001b[0margs\u001b[0m\u001b[0;34m,\u001b[0m \u001b[0mkwargs\u001b[0m\u001b[0;34m)\u001b[0m\u001b[0;34m\u001b[0m\u001b[0m\n\u001b[0m\u001b[1;32m    443\u001b[0m \u001b[0;34m\u001b[0m\u001b[0m\n\u001b[1;32m    444\u001b[0m             \u001b[0;32melse\u001b[0m\u001b[0;34m:\u001b[0m  \u001b[0;31m# means that there is a wrapper to remove\u001b[0m\u001b[0;34m\u001b[0m\u001b[0m\n",
      "\u001b[0;32m~/code/PySyft/syft/generic/frameworks/hook/hook.py\u001b[0m in \u001b[0;36moverloaded_native_method\u001b[0;34m(self, *args, **kwargs)\u001b[0m\n\u001b[1;32m    436\u001b[0m \u001b[0;34m\u001b[0m\u001b[0m\n\u001b[1;32m    437\u001b[0m                 \u001b[0;32mtry\u001b[0m\u001b[0;34m:\u001b[0m\u001b[0;34m\u001b[0m\u001b[0m\n\u001b[0;32m--> 438\u001b[0;31m                     \u001b[0mresponse\u001b[0m \u001b[0;34m=\u001b[0m \u001b[0mmethod\u001b[0m\u001b[0;34m(\u001b[0m\u001b[0;34m*\u001b[0m\u001b[0margs\u001b[0m\u001b[0;34m,\u001b[0m \u001b[0;34m**\u001b[0m\u001b[0mkwargs\u001b[0m\u001b[0;34m)\u001b[0m\u001b[0;34m\u001b[0m\u001b[0m\n\u001b[0m\u001b[1;32m    439\u001b[0m \u001b[0;34m\u001b[0m\u001b[0m\n\u001b[1;32m    440\u001b[0m                 \u001b[0;32mexcept\u001b[0m \u001b[0mBaseException\u001b[0m \u001b[0;32mas\u001b[0m \u001b[0me\u001b[0m\u001b[0;34m:\u001b[0m\u001b[0;34m\u001b[0m\u001b[0m\n",
      "\u001b[0;31mRuntimeError\u001b[0m: a leaf Variable that requires grad has been used in an in-place operation."
     ]
    }
   ],
   "source": [
    "plan.state.state_placeholders[0].child += 1"
   ]
  },
  {
   "cell_type": "code",
   "execution_count": 18,
   "metadata": {},
   "outputs": [
    {
     "name": "stdout",
     "output_type": "stream",
     "text": [
      "tensor([[1.9511]], grad_fn=<AddBackward0>)\n",
      "Parameter containing:\n",
      "tensor([[0.9511]], requires_grad=True)\n"
     ]
    }
   ],
   "source": [
    "print(plan.state.state_placeholders[0].child)\n",
    "print(plan.fc1.weight)"
   ]
  },
  {
   "cell_type": "code",
   "execution_count": 2,
   "metadata": {},
   "outputs": [
    {
     "name": "stdout",
     "output_type": "stream",
     "text": [
      "===\n",
      "READ ONLY ONCE inside plan_1\n",
      "Add inner PlaceHolder(#1, #state)>tensor([3])\n",
      "^^ 12787972444\n",
      "47857151136\n",
      "12787972444\n",
      "76686916671\n",
      "build ('__sub__', PlaceHolder(#input, #2), (PlaceHolder(#inner, #1, #state)>tensor([3]),), {}) PlaceHolder(#3)\n",
      "76686916671\n",
      "98867659172\n",
      "build ('__rmul__', PlaceHolder(#3), (2,), {}) PlaceHolder(#4, #output-0)\n"
     ]
    }
   ],
   "source": [
    "@sy.func2plan(state=(th.tensor([3]),))\n",
    "def plan_2(data, state):\n",
    "    (bias,) = state.read()\n",
    "    return data - bias\n",
    "\n",
    "@sy.func2plan()\n",
    "def plan_1(data):\n",
    "    return 2 * plan_2(data)\n",
    "\n",
    "x = th.tensor(100)\n",
    "print('===')\n",
    "plan_1.build(x)\n"
   ]
  },
  {
   "cell_type": "code",
   "execution_count": 3,
   "metadata": {},
   "outputs": [
    {
     "data": {
      "text/plain": [
       "[PlaceHolder(#inner, #1, #state)>tensor([3])]"
      ]
     },
     "execution_count": 3,
     "metadata": {},
     "output_type": "execute_result"
    }
   ],
   "source": [
    "plan_1.state.state_placeholders"
   ]
  },
  {
   "cell_type": "code",
   "execution_count": null,
   "metadata": {},
   "outputs": [],
   "source": []
  },
  {
   "cell_type": "code",
   "execution_count": 5,
   "metadata": {},
   "outputs": [
    {
     "name": "stdout",
     "output_type": "stream",
     "text": [
      "READ ONLY ONCE inside plan_3\n",
      "49907160060\n",
      "12904120921\n",
      "90430603794\n",
      "build ('__sub__', PlaceHolder(#input, #2), (PlaceHolder(#1, #state)>tensor([3]),), {}) PlaceHolder(#3, #output-0)\n",
      "READ ONLY ONCE inside plan_2\n",
      "READ ONLY ONCE inside plan_2\n",
      "Add inner PlaceHolder(#1, #state)>tensor([3])\n",
      "^^ 12904120921\n",
      "55210876371\n",
      "12904120921\n",
      "26202437841\n",
      "build ('__sub__', PlaceHolder(#3, #input), (PlaceHolder(#2, #inner, #state)>tensor([3]),), {}) PlaceHolder(#4)\n",
      "26202437841\n",
      "13802084914\n",
      "60721122638\n",
      "build ('__add__', PlaceHolder(#4), (PlaceHolder(#1, #state)>tensor([2]),), {}) PlaceHolder(#5, #output-0)\n",
      "===\n",
      "READ ONLY ONCE inside plan_1\n",
      "Add inner PlaceHolder(#1, #state)>tensor([2])\n",
      "^^ 13802084914\n",
      "Add inner PlaceHolder(#2, #inner, #state)>tensor([3])\n",
      "^^ 12904120921\n",
      "READ ONLY ONCE inside plan_1\n",
      "Add inner PlaceHolder(#1, #state)>tensor([3])\n",
      "^^ 12904120921\n",
      "21050643071\n",
      "12904120921\n",
      "95609084897\n",
      "build ('__sub__', PlaceHolder(#input, #4), (PlaceHolder(#3, #inner, #state)>tensor([3]),), {}) PlaceHolder(#5)\n",
      "95609084897\n",
      "13802084914\n",
      "66581290393\n",
      "build ('__add__', PlaceHolder(#5), (PlaceHolder(#inner, #1, #state)>tensor([2]),), {}) PlaceHolder(#6)\n",
      "66581290393\n",
      "8988305588\n",
      "build ('__rmul__', PlaceHolder(#6), (2,), {}) PlaceHolder(#output-0, #7)\n",
      "tensor([198])\n",
      "tensor(198)\n",
      "***\n",
      "simplidy [PlaceHolder(#inner, #1, #state)>tensor([2]), PlaceHolder(#2, #inner, #state)>tensor([3]), PlaceHolder(#3, #inner, #state)>tensor([3])] [tensor([2]), tensor([3]), tensor([3])]\n",
      "\n",
      "Instanciating inputs..\n",
      "\n",
      "Running operations...\n",
      "\n",
      "run cmd 0\n",
      "('__sub__', PlaceHolder(#input, #4)>tensor(100), (PlaceHolder(#3, #inner, #state)>tensor([3]),), {})\n",
      "PlaceHolder(-)>tensor([97])\n",
      "run cmd 1\n",
      "('__add__', PlaceHolder(#5)>tensor([97]), (PlaceHolder(#inner, #1, #state)>tensor([2]),), {})\n",
      "PlaceHolder(-)>tensor([99])\n",
      "run cmd 2\n",
      "('__rmul__', PlaceHolder(#6)>tensor([99]), (2,), {})\n",
      "PlaceHolder(-)>tensor([198])\n"
     ]
    }
   ],
   "source": [
    "expected_res = th.tensor(198)\n",
    "\n",
    "@sy.func2plan(args_shape=[(1,)], state=(th.tensor([3]),))\n",
    "def plan_3(data, state):\n",
    "    (bias,) = state.read()\n",
    "    return data - bias\n",
    "\n",
    "@sy.func2plan(args_shape=[(1,)], state=(th.tensor([2]),))\n",
    "def plan_2(data, state):\n",
    "    (bias,) = state.read()\n",
    "    return plan_3(data) + bias\n",
    "\n",
    "@sy.func2plan()\n",
    "def plan_1(data):\n",
    "    return 2 * plan_2(data)\n",
    "\n",
    "x = th.tensor(100)\n",
    "print('===')\n",
    "plan_1.build(x)\n",
    "\n",
    "print(plan_1(x))\n",
    "print(expected_res)\n",
    "\n",
    "# Test locally\n",
    "assert plan_1(x) == expected_res\n",
    "\n",
    "\n",
    "print('***')\n",
    "# Test remote\n",
    "x_ptr = x.send(alice)\n",
    "plan_1_ptr = plan_1.send(alice)\n",
    "\n",
    "res = plan_1_ptr(x_ptr)\n",
    "assert res.get() == expected_res"
   ]
  },
  {
   "cell_type": "code",
   "execution_count": 3,
   "metadata": {},
   "outputs": [
    {
     "data": {
      "text/plain": [
       "[PlaceHolder(#inner, #1, #state)>tensor([2]),\n",
       " PlaceHolder(#2, #inner, #state)>tensor([3])]"
      ]
     },
     "execution_count": 3,
     "metadata": {},
     "output_type": "execute_result"
    }
   ],
   "source": [
    "plan_1.state.state_placeholders"
   ]
  },
  {
   "cell_type": "code",
   "execution_count": 4,
   "metadata": {},
   "outputs": [
    {
     "data": {
      "text/plain": [
       "[PlaceHolder(#inner, #1, #state)>tensor([2]),\n",
       " PlaceHolder(#2, #inner, #state)>tensor([3])]"
      ]
     },
     "execution_count": 4,
     "metadata": {},
     "output_type": "execute_result"
    }
   ],
   "source": [
    "[p.copy() for p in plan_1.state.state_placeholders]"
   ]
  },
  {
   "cell_type": "code",
   "execution_count": 4,
   "metadata": {
    "scrolled": false
   },
   "outputs": [
    {
     "name": "stdout",
     "output_type": "stream",
     "text": [
      "---\n",
      "\n",
      "Instanciating inputs..\n",
      "\n",
      "Running operations...\n",
      "\n",
      "run cmd 0\n",
      "('__rmul__', PlaceHolder(#2, #input)>tensor(100), (-2,), {})\n",
      "PlaceHolder(-)>tensor(-200)\n",
      "run cmd 1\n",
      "('__add__', PlaceHolder(#3)>tensor(-200), (PlaceHolder(#state, #inner, #1)>tensor([1]),), {})\n",
      "PlaceHolder(-)>tensor([-199])\n",
      "run cmd 2\n",
      "('abs', PlaceHolder(#4)>tensor([-199]), (), {})\n",
      "PlaceHolder(-)>tensor([199])\n",
      "\n",
      "Instanciating inputs..\n",
      "\n",
      "Running operations...\n",
      "\n",
      "run cmd 0\n",
      "('__rmul__', PlaceHolder(#2, #input)>tensor(100), (-2,), {})\n",
      "PlaceHolder(-)>tensor(-200)\n",
      "run cmd 1\n",
      "('__add__', PlaceHolder(#3)>tensor(-200), (PlaceHolder(#state, #inner, #1)>tensor([1]),), {})\n",
      "PlaceHolder(-)>tensor([-199])\n",
      "run cmd 2\n",
      "('abs', PlaceHolder(#4)>tensor([-199]), (), {})\n",
      "PlaceHolder(-)>tensor([199])\n"
     ]
    }
   ],
   "source": [
    "\n",
    "\n",
    "# Test locally\n",
    "#assert plan_abs(x) == expected_res\n",
    "\n",
    "# Test remote\n",
    "x_ptr = x.send(alice)\n",
    "plan_abs_ptr = plan_abs.send(alice)\n",
    "print('---')\n",
    "plan_abs_ptr(x_ptr)\n",
    "\n",
    "res = plan_abs_ptr(x_ptr)\n",
    "assert res.get() == expected_res"
   ]
  },
  {
   "cell_type": "code",
   "execution_count": 3,
   "metadata": {},
   "outputs": [
    {
     "name": "stdout",
     "output_type": "stream",
     "text": [
      "? <Plan plan id:4030259375 owner:james built>\n",
      "\n",
      "Instanciating inputs..\n",
      "\n",
      "Running operations...\n",
      "\n",
      "run cmd 0\n",
      "('__mul__', PlaceHolder(#2, #input)>tensor([-1.]), (PlaceHolder(#state, #1)>tensor([3.]),), {})\n",
      "PlaceHolder(-)>tensor([-3.])\n",
      "tensor([-3.])\n"
     ]
    }
   ],
   "source": [
    "is_func2plan = True\n",
    "\n",
    "if is_func2plan:\n",
    "\n",
    "    @sy.func2plan(args_shape=[(1,)], state=(th.tensor([3.0]),))\n",
    "    def plan(data, state):\n",
    "        (bias,) = state.read()\n",
    "        return data * bias\n",
    "\n",
    "else:\n",
    "\n",
    "    class Net(sy.Plan):\n",
    "        def __init__(self):\n",
    "            super(Net, self).__init__()\n",
    "            self.fc1 = nn.Linear(1, 1)\n",
    "\n",
    "        def forward(self, x):\n",
    "            return self.fc1(x)\n",
    "\n",
    "    plan = Net()\n",
    "    plan.build(th.tensor([1.2]))\n",
    "\n",
    "plan_pointer = plan.send(james)\n",
    "\n",
    "# Fetch plan\n",
    "fetched_plan = plan_pointer.owner.fetch_plan(plan_pointer.id_at_location, james)#, copy=True)\n",
    "\n",
    "# Execute the fetch plan\n",
    "x = th.tensor([-1.0])\n",
    "result1 = fetched_plan(x)\n",
    "\n",
    "print(result1)"
   ]
  },
  {
   "cell_type": "code",
   "execution_count": null,
   "metadata": {},
   "outputs": [],
   "source": []
  },
  {
   "cell_type": "code",
   "execution_count": 9,
   "metadata": {},
   "outputs": [
    {
     "data": {
      "text/plain": [
       "'7'"
      ]
     },
     "execution_count": 9,
     "metadata": {},
     "output_type": "execute_result"
    }
   ],
   "source": [
    "import re\n",
    "m = re.search('#output-(.*)', '#output-7')\n",
    "m.group(1)\n"
   ]
  },
  {
   "cell_type": "code",
   "execution_count": 14,
   "metadata": {},
   "outputs": [
    {
     "name": "stdout",
     "output_type": "stream",
     "text": [
      "{'#1', '#input'}\n",
      "{'#2', '#output-0'}\n",
      "{'#3'}\n"
     ]
    }
   ],
   "source": [
    "for placeholder in serde_plan.placeholders.values():\n",
    "    print(placeholder.tags)"
   ]
  },
  {
   "cell_type": "code",
   "execution_count": 1,
   "metadata": {},
   "outputs": [
    {
     "ename": "NameError",
     "evalue": "name 'sy' is not defined",
     "output_type": "error",
     "traceback": [
      "\u001b[0;31m---------------------------------------------------------------------------\u001b[0m",
      "\u001b[0;31mNameError\u001b[0m                                 Traceback (most recent call last)",
      "\u001b[0;32m<ipython-input-1-16e40e4d9799>\u001b[0m in \u001b[0;36m<module>\u001b[0;34m\u001b[0m\n\u001b[0;32m----> 1\u001b[0;31m \u001b[0;34m@\u001b[0m\u001b[0msy\u001b[0m\u001b[0;34m.\u001b[0m\u001b[0mfunc2plan\u001b[0m\u001b[0;34m(\u001b[0m\u001b[0margs_shape\u001b[0m\u001b[0;34m=\u001b[0m\u001b[0;34m[\u001b[0m\u001b[0;34m(\u001b[0m\u001b[0;36m1\u001b[0m\u001b[0;34m,\u001b[0m\u001b[0;34m)\u001b[0m\u001b[0;34m]\u001b[0m\u001b[0;34m)\u001b[0m\u001b[0;34m\u001b[0m\u001b[0m\n\u001b[0m\u001b[1;32m      2\u001b[0m \u001b[0;32mdef\u001b[0m \u001b[0mplan_abs\u001b[0m\u001b[0;34m(\u001b[0m\u001b[0mdata\u001b[0m\u001b[0;34m)\u001b[0m\u001b[0;34m:\u001b[0m\u001b[0;34m\u001b[0m\u001b[0m\n\u001b[1;32m      3\u001b[0m     \u001b[0;32mreturn\u001b[0m \u001b[0mdata\u001b[0m\u001b[0;34m.\u001b[0m\u001b[0mabs\u001b[0m\u001b[0;34m(\u001b[0m\u001b[0;34m)\u001b[0m\u001b[0;34m\u001b[0m\u001b[0m\n\u001b[1;32m      4\u001b[0m \u001b[0;34m\u001b[0m\u001b[0m\n\u001b[1;32m      5\u001b[0m \u001b[0;32massert\u001b[0m \u001b[0misinstance\u001b[0m\u001b[0;34m(\u001b[0m\u001b[0mplan_abs\u001b[0m\u001b[0;34m.\u001b[0m\u001b[0m__str__\u001b[0m\u001b[0;34m(\u001b[0m\u001b[0;34m)\u001b[0m\u001b[0;34m,\u001b[0m \u001b[0mstr\u001b[0m\u001b[0;34m)\u001b[0m\u001b[0;34m\u001b[0m\u001b[0m\n",
      "\u001b[0;31mNameError\u001b[0m: name 'sy' is not defined"
     ]
    }
   ],
   "source": [
    "@sy.func2plan(args_shape=[(1,)])\n",
    "def plan_abs(data):\n",
    "    return data.abs()\n",
    "\n",
    "assert isinstance(plan_abs.__str__(), str)\n",
    "assert len(plan_abs.readable_plan) > 0\n",
    "assert plan_abs.is_built"
   ]
  },
  {
   "cell_type": "code",
   "execution_count": 3,
   "metadata": {},
   "outputs": [
    {
     "name": "stdout",
     "output_type": "stream",
     "text": [
      "\n",
      "Instanciating inputs..\n",
      "\n",
      "Running operations...\n",
      "\n",
      "run cmd 0\n",
      "('__mul__', PlaceHolder(#2, #input)>tensor([1., 2.]), (2,), {})\n",
      "PlaceHolder(#3)>tensor([2., 4.])\n",
      "run cmd 1\n",
      "('__add__', PlaceHolder(#3)>tensor([2., 4.]), (PlaceHolder(#1, #state)>tensor([1.]),), {})\n",
      "PlaceHolder(#4)>tensor([3., 5.])\n"
     ]
    }
   ],
   "source": [
    "@sy.func2plan(args_shape=[(1,)], state=(th.tensor([1.0]),))\n",
    "def foo(x, state):\n",
    "    (bias,) = state.read()\n",
    "    x = x * 2\n",
    "    return x + bias\n",
    "\n",
    "assert isinstance(foo.__str__(), str)\n",
    "assert len(foo.readable_plan) > 0\n",
    "assert foo.is_built\n",
    "\n",
    "t = th.tensor([1.0, 2])\n",
    "x = foo(t)\n",
    "\n",
    "assert (x == th.tensor([3.0, 5])).all()"
   ]
  },
  {
   "cell_type": "code",
   "execution_count": null,
   "metadata": {},
   "outputs": [
    {
     "name": "stdout",
     "output_type": "stream",
     "text": [
      "expected:  tensor([4.])\n",
      "\n",
      "Instanciating inputs..\n",
      "\n",
      "Running operations...\n",
      "\n",
      "run cmd 0\n",
      "('__add__', PlaceHolder(#1, #input)>tensor([2.]), (PlaceHolder(#1, #input)>tensor([2.]),), {})\n",
      "PlaceHolder(-)>tensor([4.])\n",
      "run cmd 1\n",
      "('__mul__', PlaceHolder(#2)>tensor([4.]), (2,), {})\n",
      "PlaceHolder(-)>tensor([8.])\n",
      "actual:  tensor([8.])\n"
     ]
    },
    {
     "ename": "AssertionError",
     "evalue": "",
     "output_type": "error",
     "traceback": [
      "\u001b[1;31m---------------------------------------------------------------------------\u001b[0m",
      "\u001b[1;31mAssertionError\u001b[0m                            Traceback (most recent call last)",
      "\u001b[1;32m<ipython-input-7-eed5eaa9546b>\u001b[0m in \u001b[0;36m<module>\u001b[1;34m\u001b[0m\n\u001b[0;32m     15\u001b[0m \u001b[0mactual\u001b[0m \u001b[1;33m=\u001b[0m \u001b[0mserde_plan_detailed\u001b[0m\u001b[1;33m(\u001b[0m\u001b[0mt\u001b[0m\u001b[1;33m)\u001b[0m\u001b[1;33m\u001b[0m\u001b[1;33m\u001b[0m\u001b[0m\n\u001b[0;32m     16\u001b[0m \u001b[0mprint\u001b[0m\u001b[1;33m(\u001b[0m\u001b[1;34m'actual: '\u001b[0m\u001b[1;33m,\u001b[0m \u001b[0mactual\u001b[0m\u001b[1;33m)\u001b[0m\u001b[1;33m\u001b[0m\u001b[1;33m\u001b[0m\u001b[0m\n\u001b[1;32m---> 17\u001b[1;33m \u001b[1;32massert\u001b[0m \u001b[0mactual\u001b[0m \u001b[1;33m==\u001b[0m \u001b[0mexpected\u001b[0m\u001b[1;33m\u001b[0m\u001b[1;33m\u001b[0m\u001b[0m\n\u001b[0m\u001b[0;32m     18\u001b[0m \u001b[1;33m\u001b[0m\u001b[0m\n\u001b[0;32m     19\u001b[0m \u001b[1;33m\u001b[0m\u001b[0m\n",
      "\u001b[1;31mAssertionError\u001b[0m: "
     ]
    }
   ],
   "source": [
    "from syft.serde.msgpack import serde\n",
    "\n",
    "@sy.func2plan(args_shape=[(1,)])\n",
    "def serde_plan(x):\n",
    "    x = x + x\n",
    "    y = x * 2\n",
    "    return x\n",
    "\n",
    "serde_plan_simplified = serde._simplify(bob, serde_plan)\n",
    "serde_plan_detailed = serde._detail(bob, serde_plan_simplified)\n",
    "t = th.tensor([2.])\n",
    "expected = serde_plan(t)\n",
    "print('expected: ', expected)\n",
    "actual = serde_plan_detailed(t)\n",
    "print('actual: ', actual)\n",
    "assert actual == expected \n"
   ]
  },
  {
   "cell_type": "code",
   "execution_count": null,
   "metadata": {},
   "outputs": [],
   "source": []
  },
  {
   "cell_type": "code",
   "execution_count": null,
   "metadata": {},
   "outputs": [],
   "source": []
  },
  {
   "cell_type": "code",
   "execution_count": null,
   "metadata": {},
   "outputs": [],
   "source": []
  },
  {
   "cell_type": "code",
   "execution_count": null,
   "metadata": {},
   "outputs": [],
   "source": []
  },
  {
   "cell_type": "code",
   "execution_count": null,
   "metadata": {},
   "outputs": [],
   "source": []
  },
  {
   "cell_type": "code",
   "execution_count": 2,
   "metadata": {},
   "outputs": [],
   "source": [
    "def plan(func):\n",
    "    def hooked_func(*args, **kwargs):\n",
    "    \n",
    "        syft.hook.trace, syft.hook.trace_inactive = True, True\n",
    "\n",
    "        result = func(*args, **kwargs)\n",
    "\n",
    "        syft.hook.trace, syft.hook.trace_inactive = False, False\n",
    "\n",
    "        \n",
    "        placeholders = {}\n",
    "        var_count = [0]\n",
    "        input_placeholders = []\n",
    "        def add_placeholder(t, find_inputs=False):\n",
    "            if t.id not in placeholders.keys():\n",
    "                placeholder = sy.PlaceHolder(tags={f'#{var_count[0]+1}'})\n",
    "                placeholders[t.id] = placeholder\n",
    "                if find_inputs:\n",
    "                    input_placeholders.append(placeholder)\n",
    "                    placeholder.tags.add('#input')\n",
    "                var_count[0] += 1\n",
    "                    \n",
    "            return placeholders[t.id]\n",
    "\n",
    "        def replace_with_placeholders(obj, **kw):\n",
    "            if isinstance(obj, (tuple, list)):\n",
    "                r = [replace_with_placeholders(o, **kw) for o in obj]\n",
    "                return type(obj)(r)\n",
    "            elif isinstance(obj, dict):\n",
    "                return {\n",
    "                    key: replace_with_placeholders(value, **kw)\n",
    "                    for key, value in obj.items()\n",
    "                }\n",
    "            elif isinstance(obj, th.Tensor):\n",
    "                return add_placeholder(obj, **kw)\n",
    "            elif isinstance(obj, (int, float, str, bool)):\n",
    "                return obj\n",
    "            elif obj is None:\n",
    "                return None\n",
    "            else:\n",
    "                raise TypeError(f\"Type {type(obj)} not supported in plans args/kwargs\")\n",
    "\n",
    "\n",
    "        new_logs = []\n",
    "        for log in syft.trace_logs:\n",
    "            req, resp = log\n",
    "            req, resp = replace_with_placeholders(req, find_inputs=True), replace_with_placeholders(resp)\n",
    "            new_logs.append((req, resp))\n",
    "            \n",
    "        print('==INPUTS==')\n",
    "        print(input_placeholders)\n",
    "        for log in new_logs:\n",
    "            req, resp = log\n",
    "            print('==========')\n",
    "            print(req)\n",
    "            print('-->', resp)\n",
    "            \n",
    "            \n",
    "        print('\\nInstanciating inputs to -0.7...\\n')\n",
    "        # Simulate instanciation\n",
    "        for placeholder in input_placeholders:\n",
    "            placeholder.instanciate(th.Tensor([-.7]))\n",
    "            \n",
    "        print('Running operations...\\n')\n",
    "        for i, log in enumerate(new_logs):\n",
    "            print('run cmd', i)\n",
    "            (cmd, self, args, kwargs), resp = log\n",
    "            if self is None:\n",
    "                r = eval(cmd)(*args, **kwargs)\n",
    "            else:\n",
    "                r = getattr(self, cmd)(*args, **kwargs)\n",
    "            resp.instanciate(r.child)\n",
    "            print(resp)\n",
    "            \n",
    "\n",
    "        syft.trace_logs = []\n",
    "    \n",
    "        return result\n",
    "    \n",
    "    return hooked_func"
   ]
  },
  {
   "cell_type": "code",
   "execution_count": 3,
   "metadata": {},
   "outputs": [],
   "source": [
    "@plan\n",
    "def foo(x, y):\n",
    "    z = torch.add(x, y)\n",
    "    r = z.abs()\n",
    "    return r"
   ]
  },
  {
   "cell_type": "code",
   "execution_count": 4,
   "metadata": {},
   "outputs": [
    {
     "name": "stdout",
     "output_type": "stream",
     "text": [
      "==INPUTS==\n",
      "[PlaceHolder(#1, #input), PlaceHolder(#2, #input)]\n",
      "==========\n",
      "('torch.add', None, (PlaceHolder(#1, #input), PlaceHolder(#2, #input)), {})\n",
      "--> PlaceHolder(#3)\n",
      "==========\n",
      "('abs', PlaceHolder(#3), (), {})\n",
      "--> PlaceHolder(#4)\n",
      "\n",
      "Instanciating inputs to -0.7...\n",
      "\n",
      "Running operations...\n",
      "\n",
      "run cmd 0\n",
      "PlaceHolder(#3)>tensor([-1.4000])\n",
      "run cmd 1\n",
      "PlaceHolder(#4)>tensor([1.4000])\n"
     ]
    }
   ],
   "source": [
    "x = th.Tensor([1.])\n",
    "y = th.Tensor([2.])\n",
    "m = foo(x, y)"
   ]
  },
  {
   "cell_type": "code",
   "execution_count": null,
   "metadata": {},
   "outputs": [],
   "source": []
  }
 ],
 "metadata": {
  "kernelspec": {
   "display_name": "Python (Pysyft)",
   "language": "python",
   "name": "pysyft"
  },
  "language_info": {
   "codemirror_mode": {
    "name": "ipython",
    "version": 3
   },
   "file_extension": ".py",
   "mimetype": "text/x-python",
   "name": "python",
   "nbconvert_exporter": "python",
   "pygments_lexer": "ipython3",
   "version": "3.7.0"
  }
 },
 "nbformat": 4,
 "nbformat_minor": 2
}
