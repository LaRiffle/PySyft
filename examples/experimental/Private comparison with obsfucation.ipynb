{
 "cells": [
  {
   "cell_type": "code",
   "execution_count": 1,
   "metadata": {},
   "outputs": [
    {
     "name": "stdout",
     "output_type": "stream",
     "text": [
      "Setting up Sandbox...\n",
      "Done!\n"
     ]
    }
   ],
   "source": [
    "import torch as th\n",
    "import torch.nn as nn\n",
    "import torch.nn.functional as F\n",
    "import syft as sy\n",
    "from syft.frameworks.torch.crypto.securenn import relu_deriv, private_compare, relu, decompose\n",
    "sy.create_sandbox(globals(), verbose=False, download_data=False)\n",
    "import torch\n",
    "import syft\n",
    "james = jason"
   ]
  },
  {
   "cell_type": "code",
   "execution_count": 5,
   "metadata": {},
   "outputs": [],
   "source": [
    "from random import randint\n",
    "import numpy as np\n",
    "import matplotlib.pyplot as plt"
   ]
  },
  {
   "cell_type": "code",
   "execution_count": 242,
   "metadata": {},
   "outputs": [],
   "source": [
    "secret_field = 100\n",
    "noise_field = 10000\n",
    "field = noise_field * secret_field + 2 * noise_field"
   ]
  },
  {
   "cell_type": "code",
   "execution_count": 243,
   "metadata": {},
   "outputs": [],
   "source": [
    "secret = randint(1, secret_field)\n",
    "n1 = randint(1, noise_field)\n",
    "n2 = randint(1, noise_field)\n",
    "n3 = randint(-noise_field, noise_field)\n",
    "pk = secret * n1 * n2 + n3"
   ]
  },
  {
   "cell_type": "code",
   "execution_count": 244,
   "metadata": {},
   "outputs": [
    {
     "data": {
      "text/plain": [
       "23004149"
      ]
     },
     "execution_count": 244,
     "metadata": {},
     "output_type": "execute_result"
    }
   ],
   "source": [
    "pk"
   ]
  },
  {
   "cell_type": "code",
   "execution_count": 245,
   "metadata": {},
   "outputs": [],
   "source": [
    "store = {}\n",
    "def get_divisors(n):\n",
    "    if n in store.keys():\n",
    "        return store[n]\n",
    "    \n",
    "    r = list(get_divisors_(n))\n",
    "    store[n] = r\n",
    "    return r\n",
    "\n",
    "def get_divisors_(n):\n",
    "    # get factors and their counts\n",
    "    factors = {}\n",
    "    nn = n\n",
    "    i = 2\n",
    "    while i*i <= nn:\n",
    "        while nn % i == 0:\n",
    "            factors[i] = factors.get(i, 0) + 1\n",
    "            nn //= i\n",
    "        i += 1\n",
    "    if nn > 1:\n",
    "        factors[nn] = factors.get(nn, 0) + 1\n",
    "\n",
    "    primes = list(factors.keys())\n",
    "\n",
    "    # generates factors from primes[k:] subset\n",
    "    def generate(k):\n",
    "        if k == len(primes):\n",
    "            yield 1\n",
    "        else:\n",
    "            rest = generate(k+1)\n",
    "            prime = primes[k]\n",
    "            for factor in rest:\n",
    "                prime_to_i = 1\n",
    "                # prime_to_i iterates prime**i values, i being all possible exponents\n",
    "                for _ in range(factors[prime] + 1):\n",
    "                    yield factor * prime_to_i\n",
    "                    prime_to_i *= prime\n",
    "\n",
    "    # in python3, `yield from generate(0)` would also work\n",
    "    for factor in generate(0):\n",
    "        yield factor\n",
    "    "
   ]
  },
  {
   "cell_type": "code",
   "execution_count": 246,
   "metadata": {},
   "outputs": [],
   "source": [
    "def get_pk():\n",
    "    secret = randint(1, secret_field)\n",
    "    n1 = randint(1, noise_field)\n",
    "    n2 = randint(1, noise_field)\n",
    "    n3 = randint(-noise_field, noise_field)\n",
    "    pk = secret * n1 * n2 + n3\n",
    "    return secret, pk"
   ]
  },
  {
   "cell_type": "code",
   "execution_count": 247,
   "metadata": {},
   "outputs": [],
   "source": [
    "def get_least_non_div():\n",
    "    _sk, pk = get_pk()\n",
    "    print(_sk)\n",
    "    pk = abs(pk)\n",
    "    print(pk)\n",
    "    divisors = []\n",
    "    lb, hb = (pk - int(noise_field), pk + int(noise_field))\n",
    "    for sk in range(1, secret_field):\n",
    "        for n1 in range(1, noise_field):\n",
    "            sk_n1 = sk * n1\n",
    "            for n2 in range(n1, noise_field):\n",
    "                p = sk_n1 * n2\n",
    "                if p >= lb:\n",
    "                    if p <= hb:\n",
    "                        divisors += [sk, n1, n2]\n",
    "                    else:\n",
    "                        break\n",
    "\n",
    "    divisors = sorted(list(set(divisors)))\n",
    "    missing = []\n",
    "    for i in range(secret_field):\n",
    "        if i not in divisors:\n",
    "            missing.append(i)\n",
    "        \n",
    "    return missing"
   ]
  },
  {
   "cell_type": "code",
   "execution_count": 248,
   "metadata": {},
   "outputs": [
    {
     "name": "stdout",
     "output_type": "stream",
     "text": [
      "46\n",
      "1380920863\n",
      "CPU times: user 3min 5s, sys: 248 ms, total: 3min 6s\n",
      "Wall time: 3min 6s\n"
     ]
    },
    {
     "data": {
      "text/plain": [
       "[0, 1, 2, 3, 4, 5, 6, 7, 8, 9, 10, 11, 12, 13, 14]"
      ]
     },
     "execution_count": 248,
     "metadata": {},
     "output_type": "execute_result"
    }
   ],
   "source": [
    "%%time\n",
    "get_least_non_div()"
   ]
  },
  {
   "cell_type": "code",
   "execution_count": 226,
   "metadata": {},
   "outputs": [
    {
     "data": {
      "text/plain": [
       "(226, 92334379)"
      ]
     },
     "execution_count": 226,
     "metadata": {},
     "output_type": "execute_result"
    }
   ],
   "source": [
    "get_pk()"
   ]
  },
  {
   "cell_type": "code",
   "execution_count": 45,
   "metadata": {},
   "outputs": [
    {
     "name": "stdout",
     "output_type": "stream",
     "text": [
      "CPU times: user 21.1 s, sys: 128 ms, total: 21.2 s\n",
      "Wall time: 21.2 s\n"
     ]
    }
   ],
   "source": [
    "%%time\n",
    "l = [get_least_non_div() for i in range(300)]"
   ]
  },
  {
   "cell_type": "code",
   "execution_count": 33,
   "metadata": {},
   "outputs": [
    {
     "data": {
      "image/png": "[encoded data removed]",
      "text/plain": [
       "<Figure size 432x288 with 1 Axes>"
      ]
     },
     "metadata": {
      "needs_background": "light"
     },
     "output_type": "display_data"
    }
   ],
   "source": [
    "# the histogram of the data\n",
    "n, bins, patches = plt.hist(l, 50, density=True, facecolor='g', alpha=0.75)\n",
    "\n",
    "\n",
    "plt.xlabel('Smarts')\n",
    "plt.ylabel('Probability')\n",
    "plt.title('Histogram of IQ')\n",
    "plt.text(60, .025, r'$\\mu=100,\\ \\sigma=15$')\n",
    "plt.axis([0, 4000, 0, 0.03])\n",
    "plt.grid(True)\n",
    "plt.show()"
   ]
  },
  {
   "cell_type": "code",
   "execution_count": 249,
   "metadata": {},
   "outputs": [
    {
     "name": "stdout",
     "output_type": "stream",
     "text": [
      "6\n"
     ]
    }
   ],
   "source": [
    "neg = 0\n",
    "sks = []\n",
    "for i in range(1000000):\n",
    "    sk, pk = get_pk()\n",
    "    if pk < 0:\n",
    "        neg += 1\n",
    "        sks.append(sk)\n",
    "        \n",
    "print(neg)"
   ]
  },
  {
   "cell_type": "code",
   "execution_count": 250,
   "metadata": {},
   "outputs": [
    {
     "data": {
      "image/png": "[encoded data removed]",
      "text/plain": [
       "<Figure size 432x288 with 1 Axes>"
      ]
     },
     "metadata": {
      "needs_background": "light"
     },
     "output_type": "display_data"
    }
   ],
   "source": [
    "# the histogram of the data\n",
    "n, bins, patches = plt.hist(sks, 50, density=True, facecolor='g', alpha=0.75)\n",
    "\n",
    "\n",
    "plt.xlabel('Smarts')\n",
    "plt.ylabel('Probability')\n",
    "plt.title('Histogram of IQ')\n",
    "plt.grid(True)\n",
    "plt.show()"
   ]
  },
  {
   "cell_type": "code",
   "execution_count": 3,
   "metadata": {},
   "outputs": [],
   "source": [
    "import numpy as np"
   ]
  },
  {
   "cell_type": "code",
   "execution_count": 19,
   "metadata": {},
   "outputs": [],
   "source": [
    "def evaluate(v, f, F):\n",
    "    return 1./2 * v * (\n",
    "        2\n",
    "        - np.log(F) *(\n",
    "            -2 \n",
    "            - 2 * np.log(f) \n",
    "            + np.log(F) \n",
    "            + 2 * np.log(v/F**2)\n",
    "        ) \n",
    "        + (\n",
    "            -2 + \n",
    "            np.log(v/(f * F))\n",
    "        ) * np.log(v/(f * F))\n",
    "    ) / (f * F * F)"
   ]
  },
  {
   "cell_type": "code",
   "execution_count": 56,
   "metadata": {},
   "outputs": [
    {
     "name": "stdout",
     "output_type": "stream",
     "text": [
      "Proba of product under F * F limit (good case) 0.11 %\n",
      "Proba of product under F * F * 0.1 * f limit (good case) 59.54 %\n"
     ]
    },
    {
     "data": {
      "text/plain": [
       "200"
      ]
     },
     "execution_count": 56,
     "metadata": {},
     "output_type": "execute_result"
    }
   ],
   "source": [
    "f = 2**16\n",
    "F = 2**32\n",
    "print(\"Proba of product under F * F limit (good case)\", round(100*evaluate(F*F, f, F), 2), \"%\")\n",
    "print(\"Proba of product under F * F * 0.1 * f limit (good case)\", round(100*evaluate(F*F* 0.1 * f, f, F), 2), \"%\")\n",
    "vr = np.arange(1, f * F * F, (f * F * F)/200)\n",
    "y = [evaluate(x, f, F) for x in vr]\n",
    "len(y)"
   ]
  },
  {
   "cell_type": "code",
   "execution_count": 41,
   "metadata": {},
   "outputs": [
    {
     "data": {
      "image/png": "[encoded data removed]",
      "text/plain": [
       "<Figure size 720x288 with 1 Axes>"
      ]
     },
     "metadata": {
      "needs_background": "light"
     },
     "output_type": "display_data"
    }
   ],
   "source": [
    "import matplotlib.pyplot as plt\n",
    "plt.figure(figsize=(10, 4))\n",
    "\n",
    "plt.plot(vr, y, label=\"curve\")\n",
    "plt.legend()\n",
    "plt.show()"
   ]
  },
  {
   "cell_type": "code",
   "execution_count": 22,
   "metadata": {},
   "outputs": [
    {
     "data": {
      "text/plain": [
       "0.08562372613227343"
      ]
     },
     "execution_count": 22,
     "metadata": {},
     "output_type": "execute_result"
    }
   ],
   "source": [
    "evaluate(F*F, f, F)"
   ]
  },
  {
   "cell_type": "code",
   "execution_count": 57,
   "metadata": {},
   "outputs": [
    {
     "data": {
      "text/plain": [
       "30744"
      ]
     },
     "execution_count": 57,
     "metadata": {},
     "output_type": "execute_result"
    }
   ],
   "source": [
    "7 * 61 * 72"
   ]
  },
  {
   "cell_type": "code",
   "execution_count": null,
   "metadata": {},
   "outputs": [],
   "source": []
  }
 ],
 "metadata": {
  "kernelspec": {
   "display_name": "Python (Pysyft)",
   "language": "python",
   "name": "pysyft"
  }
 },
 "nbformat": 4,
 "nbformat_minor": 2
}
