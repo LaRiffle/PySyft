{
 "cells": [
  {
   "cell_type": "code",
   "execution_count": 1,
   "metadata": {},
   "outputs": [],
   "source": [
    "import syft as sy\n",
    "import torch as th\n",
    "import torch.nn as nn\n",
    "import torch.optim as optim\n",
    "import torch.nn.functional as F\n",
    "import time\n",
    "import torch.autograd as autograd\n",
    "import numpy as np\n",
    "\n",
    "syft = sy \n",
    "\n",
    "hook = sy.TorchHook(th)\n",
    "bob = sy.VirtualWorker(hook, id=\"bob\")\n",
    "alice = sy.VirtualWorker(hook, id=\"alice\")\n",
    "charlie = sy.VirtualWorker(hook, id=\"charlie\")\n",
    "james = sy.VirtualWorker(hook, id=\"james\")\n",
    "crypto_provider = james\n",
    "torch = th"
   ]
  },
  {
   "cell_type": "code",
   "execution_count": 2,
   "metadata": {},
   "outputs": [],
   "source": [
    "import re"
   ]
  },
  {
   "cell_type": "code",
   "execution_count": 4,
   "metadata": {},
   "outputs": [
    {
     "data": {
      "text/plain": [
       "'AAA|BBB|CCC'"
      ]
     },
     "execution_count": 4,
     "metadata": {},
     "output_type": "execute_result"
    }
   ],
   "source": [
    "s = \"hgkg(AAA|BBB|CCC)\"\n",
    "re.search(r'\\((.*?)\\)',s).group(1)"
   ]
  },
  {
   "cell_type": "code",
   "execution_count": 26,
   "metadata": {},
   "outputs": [],
   "source": [
    "s = 'BBB.CCC'"
   ]
  },
  {
   "cell_type": "code",
   "execution_count": 27,
   "metadata": {},
   "outputs": [
    {
     "data": {
      "text/plain": [
       "'BBB'"
      ]
     },
     "execution_count": 27,
     "metadata": {},
     "output_type": "execute_result"
    }
   ],
   "source": [
    "column_pattern = re.compile(r'(?:\\w+\\.)?(\\w+)\\.\\w+')\n",
    "re.search(column_pattern, s).group(1)"
   ]
  },
  {
   "cell_type": "code",
   "execution_count": null,
   "metadata": {},
   "outputs": [],
   "source": [
    "def get_table_name(name):\n",
    "    \"\"\"\n",
    "    Extract the table_name from a column specification\n",
    "    Example:\n",
    "        Case 1\n",
    "            OWNER.TABLE.COLUMN -> OWNER.TABLE\n",
    "        Case 2\n",
    "            TABLE.COLUMN -> TABLE\n",
    "    \"\"\"\n",
    "    elems = name.split(\".\")\n",
    "    if len(elems) == 3:\n",
    "        return \".\".join(name.split(\".\")[:2])\n",
    "    elif len(elems) == 2:\n",
    "        return name.split(\".\")[0]\n",
    "    else:\n",
    "        return None"
   ]
  },
  {
   "cell_type": "markdown",
   "metadata": {},
   "source": [
    "# DPF"
   ]
  },
  {
   "cell_type": "code",
   "execution_count": 6,
   "metadata": {},
   "outputs": [],
   "source": [
    "λ = 8 # security paramater\n",
    "n = 32 # nb of bits of the algebric field"
   ]
  },
  {
   "cell_type": "code",
   "execution_count": 7,
   "metadata": {},
   "outputs": [],
   "source": [
    "# PRG\n",
    "def G(seed):\n",
    "    assert len(seed) == λ\n",
    "    np.random.seed(seed)\n",
    "    return np.random.randint(2, size=2*(λ + 1))\n",
    "\n",
    "def Convert(bits):\n",
    "    #TODO see figure 3\n",
    "    return bits.dot(1 << np.arange(bits.size)[::-1])"
   ]
  },
  {
   "cell_type": "code",
   "execution_count": 8,
   "metadata": {},
   "outputs": [],
   "source": [
    "def List(n):\n",
    "    return [None]*n\n",
    "\n",
    "def bit_decomposition(x, nbits = n):\n",
    "    return list(map(int, np.binary_repr(x, width=nbits)))\n",
    "\n",
    "def randbit(size):\n",
    "    return np.random.randint(2, size=size)\n",
    "\n",
    "def xor(*args):\n",
    "    \"\"\"Multi-input xor\"\"\"\n",
    "    if len(args) == 2:\n",
    "        return np.bitwise_xor(*args)\n",
    "    else:\n",
    "        return np.bitwise_xor(args[0], xor(*args[1:]))\n",
    "    \n",
    "def concat(*args):\n",
    "    return np.concatenate(args)\n",
    "\n",
    "def split(l, idx):\n",
    "    # Convert idx which are split part sizes to cumulative indices\n",
    "    if isinstance(idx, (list, tuple)):\n",
    "        cumsum = 0\n",
    "        cum_idx = []\n",
    "        for i in idx:\n",
    "            cumsum += i\n",
    "            cum_idx.append(cumsum)\n",
    "        # Remove last element which equals the total length\n",
    "        # And create an empty split part if kept\n",
    "        return np.split(l, cum_idx[:-1])\n",
    "    else:\n",
    "        return np.split(l, idx)"
   ]
  },
  {
   "cell_type": "code",
   "execution_count": 9,
   "metadata": {},
   "outputs": [],
   "source": [
    "def Gen(alpha, beta):\n",
    "    alpha = bit_decomposition(alpha)\n",
    "    s, t, CW = List(n+1), List(n+1), List(n+1)\n",
    "    s[0] = split(randbit(size=2 * λ), [λ, λ])\n",
    "    t[0] = [0, 1]\n",
    "    for i in range(1, n + 1):\n",
    "        sL_0, tL_0, sR_0, tR_0 = split(G(s[i-1][0]), [λ, 1, λ, 1])\n",
    "        sL_1, tL_1, sR_1, tR_1 = split(G(s[i-1][1]), [λ, 1, λ, 1])\n",
    "        sL, tL, sR, tR = [sL_0, sL_1], [tL_0, tL_1], [sR_0, sR_1], [tR_0, tR_1]\n",
    "        \n",
    "        if alpha[i-1] == 0: # Keep, Lose = L, R\n",
    "            sKeep, tKeep, sLose, tLose = sL, tL, sR, tR\n",
    "        else: # Keep, Lose = R, L\n",
    "            sLose, tLose, sKeep, tKeep = sL, tL, sR, tR\n",
    "            \n",
    "        s_CW = xor(sLose[0], sLose[1])\n",
    "        tL_CW = xor(tL[0], tL[1], alpha[i-1], 1)\n",
    "        tR_CW = xor(tR[0], tR[1], alpha[i-1])\n",
    "        tKeep_CW = tR_CW if alpha[i-1] else tL_CW\n",
    "        \n",
    "        CW[i-1] = concat(s_CW, tL_CW, tR_CW)\n",
    "        s[i] = [xor(sKeep[b], t[i-1][b] * s_CW) for b in (0,1)]\n",
    "        t[i] = [xor(tKeep[b], t[i-1][b] * tKeep_CW) for b in (0,1)]\n",
    "        \n",
    "    CW[n] = (-1)**t[n][1]*(beta - Convert(s[n][0]) + Convert(s[n][1]))\n",
    "    \n",
    "    k = [concat(s[0][b], *CW) for b in (0, 1)]\n",
    "    return k\n",
    "        "
   ]
  },
  {
   "cell_type": "code",
   "execution_count": 10,
   "metadata": {},
   "outputs": [],
   "source": [
    "def Eval(b, k_b, x):\n",
    "    x = bit_decomposition(x)\n",
    "    s, t, τ = List(n+1), List(n+1), List(n+1)\n",
    "    s[0], *CW = split(k_b, [λ, *[λ+2]*n, 1])\n",
    "    t[0] = b\n",
    "    for i in range(1, n+1):\n",
    "        s_CW, tL_CW, tR_CW = split(CW[i-1], [λ, 1, 1])\n",
    "        τ[i] = xor(G(s[i-1]), t[i-1]*concat(s_CW, tL_CW, s_CW, tR_CW))\n",
    "        sL, tL, sR, tR = split(τ[i], [λ, 1, λ, 1])\n",
    "        if x[i-1] == 0:\n",
    "            s[i], t[i] = sL, tL\n",
    "        else:\n",
    "            s[i], t[i] = sR, tR\n",
    "    return (-1)**b * (Convert(s[n]) + t[n]*CW[n])\n",
    "        "
   ]
  },
  {
   "cell_type": "code",
   "execution_count": 11,
   "metadata": {},
   "outputs": [],
   "source": [
    "def test_DPF():\n",
    "    alpha = [2, 7, -1]\n",
    "    beta = [1, -3, 2]\n",
    "    for a, b in zip(alpha, beta):\n",
    "        k = Gen(a, b)\n",
    "        for x in [a, 2*a + 1, -a + 1]:\n",
    "            y0 = Eval(0, k[0], x)\n",
    "            y1 = Eval(1, k[1], x)\n",
    "            \n",
    "            if x == a:\n",
    "                assert y0+y1 == b\n",
    "            else:\n",
    "                assert y0+y1 == 0\n",
    "                \n",
    "test_DPF()"
   ]
  },
  {
   "cell_type": "markdown",
   "metadata": {},
   "source": [
    "# DIF simplified\n",
    "We address here the problem $x \\le \\alpha$"
   ]
  },
  {
   "cell_type": "code",
   "execution_count": 97,
   "metadata": {},
   "outputs": [],
   "source": [
    "n = 3"
   ]
  },
  {
   "cell_type": "code",
   "execution_count": 163,
   "metadata": {},
   "outputs": [],
   "source": [
    "def G(seed):\n",
    "    assert len(seed) == λ\n",
    "    np.random.seed(seed)\n",
    "    return np.random.randint(2, size=2*2*(λ + 1))\n",
    "\n",
    "def TruthTable(s, node):\n",
    "    (ConditionValueForLeaf, LeafValue), ConditionValueForNextNode = node\n",
    "    index1, value1 = ConditionValueForLeaf, LeafValue\n",
    "    leafTable = np.zeros((2, λ+1), dtype=\"int64\")\n",
    "    leafTable[index1, :] = concat(s, [value1])\n",
    "    if isinstance(ConditionValueForNextNode, tuple): # Terminal Node\n",
    "        ConditionValueForLeaf2, LeafValue2 = ConditionValueForNextNode\n",
    "        index2, value2 = ConditionValueForLeaf2, LeafValue2 \n",
    "    else:\n",
    "        index2, value2 = ConditionValueForNextNode, 1\n",
    "    nextTable = np.zeros((2, λ+1), dtype=\"int64\")\n",
    "    nextTable[index2, :] = concat(s, [value2])\n",
    "    \n",
    "    return np.array([leafTable, nextTable]).flatten()\n",
    "\n",
    "\n",
    "def find_input(T, m):\n",
    "    val = 0\n",
    "    for i in range(m):\n",
    "        \n",
    "        val += 2**(m-i-1)*T[i][1]\n",
    "    return val\n",
    "        \n",
    "def Gen(T):\n",
    "    s, t, cw, CW = List(n+1), List(n+1), List(n+1), List(n+1)\n",
    "    s[0] = split(randbit(size=2 * λ), [λ, λ])\n",
    "    next_s = randbit(size=λ)\n",
    "    cw[0] = TruthTable(next_s, T[0])\n",
    "    #CW[0] = (-1)*(cw[0] - G(s[0][0]) + G(s[0][1]))\n",
    "    CW[0] = xor(cw[0], G(s[0][0]), G(s[0][1]))\n",
    "    k = [concat(s[0][b], CW[0]) for b in (0, 1)]\n",
    "    for i in range(1, n):\n",
    "        x_i = find_input(T, i)\n",
    "        s[i], t[i] = List(2), List(2)\n",
    "        for b in (0, 1):\n",
    "            σ, _ = Eval(b, k[b], x_i, n=i)\n",
    "            s[i][b], t[i][b] = split(σ, [λ, 1])\n",
    "        next_s = randbit(size=λ)\n",
    "        cw[i] = TruthTable(next_s, T[i])\n",
    "        #CW[i] = (-1)**t[i][1]*(cw[i] - G(s[i][0]) + G(s[i][1]))\n",
    "        CW[i] = xor(cw[i], G(s[i][0]), G(s[i][1]))\n",
    "        k = [concat(s[0][b], *CW[:i+1]) for b in (0, 1)]\n",
    "    return k\n",
    "    \n",
    "    "
   ]
  },
  {
   "cell_type": "code",
   "execution_count": 170,
   "metadata": {},
   "outputs": [],
   "source": [
    "def Eval(b, k_b, x, n=3):\n",
    "    #print(\"Eval\", f\"n={n}\")\n",
    "    FnOutput = List(n+1)\n",
    "    σ = None\n",
    "    x = bit_decomposition(x, nbits=n)\n",
    "    s, t, τ = List(n+1), List(n+1), List(n+1)\n",
    "    s[0], *CW = split(k_b, [λ, *[(λ+1)*2*2]*n])\n",
    "    t[0] = b\n",
    "    for i in range(1, n+1):\n",
    "        #print('i in Eval', i, \"x bit\", x[i-1])\n",
    "        τ[i] = xor(G(s[i-1]), t[i-1]*CW[i-1])\n",
    "        τ[i] = τ[i].reshape(2, 2, λ+1)\n",
    "        σ_leaf, σ_i = τ[i]\n",
    "        FnOutput[i-1] = σ_leaf[x[i-1]][-1]\n",
    "        σ = σ_i[x[i-1]]\n",
    "        \n",
    "        s[i], t[i] = split(σ, [λ, 1])\n",
    "\n",
    "    # Last tour, the other σ is also a leaf:\n",
    "    FnOutput[n] = σ[-1]\n",
    "    return σ, FnOutput"
   ]
  },
  {
   "cell_type": "code",
   "execution_count": 188,
   "metadata": {},
   "outputs": [],
   "source": [
    "# [Node_1, Node_n]\n",
    "# Node_i = ((ConditionValueForLeaf, LeafValue), ConditionValueForNextNode)\n",
    "# Node_i = ((ConditionValueForLeaf, LeafValue), (ConditionValueForLeaf, LeafValue))\n",
    "\n",
    "def test_DIF_simplified():\n",
    "    trees = {\n",
    "        2: [((1, 0), 0), ((0, 1), 1), ((1, 0), (0, 1))],\n",
    "        5: [((0, 1), 1), ((1, 0), 0), ((1, 1), (0, 1))],\n",
    "        6: [((0, 1), 1), ((0, 1), 1), ((1, 0), (0, 1))],\n",
    "    }\n",
    "    for alpha, T in trees.items():\n",
    "        k = Gen(T)\n",
    "        print('Test x <= α', alpha)\n",
    "        for x in range(0, 2**3):\n",
    "            sigma = sum(xor(Eval(0, k[0], x, n=3)[1], Eval(1, k[1], x, n=3)[1]))\n",
    "            print(f'x={x}', sigma)\n",
    "            assert int(x<=alpha) == sigma\n",
    "\n",
    "test_DIF_simplified()"
   ]
  },
  {
   "cell_type": "code",
   "execution_count": 189,
   "metadata": {},
   "outputs": [
    {
     "name": "stdout",
     "output_type": "stream",
     "text": [
      "Test x <= α 2\n",
      "x=0 1\n",
      "x=1 1\n",
      "x=2 1\n",
      "x=3 0\n",
      "x=4 0\n",
      "x=5 0\n",
      "x=6 0\n",
      "x=7 0\n",
      "Test x <= α 5\n",
      "x=0 1\n",
      "x=1 1\n",
      "x=2 1\n",
      "x=3 1\n",
      "x=4 1\n",
      "x=5 1\n",
      "x=6 0\n",
      "x=7 0\n",
      "Test x <= α 6\n",
      "x=0 1\n",
      "x=1 1\n",
      "x=2 1\n",
      "x=3 1\n",
      "x=4 1\n",
      "x=5 1\n",
      "x=6 1\n",
      "x=7 0\n"
     ]
    }
   ],
   "source": []
  },
  {
   "cell_type": "markdown",
   "metadata": {},
   "source": [
    "# DIF simplified v2\n",
    "We address here the problem $x \\le \\alpha$"
   ]
  },
  {
   "cell_type": "code",
   "execution_count": 190,
   "metadata": {},
   "outputs": [],
   "source": [
    "n = 3"
   ]
  },
  {
   "cell_type": "code",
   "execution_count": 224,
   "metadata": {},
   "outputs": [],
   "source": [
    "def G(seed):\n",
    "    assert len(seed) == λ\n",
    "    np.random.seed(seed)\n",
    "    return np.random.randint(2, size=2*2*(λ + 1))\n",
    "\n",
    "def TruthTable(s, node):\n",
    "    (ConditionValueForLeaf, LeafValue), ConditionValueForNextNode = node\n",
    "    index1, value1 = ConditionValueForLeaf, LeafValue\n",
    "    leafTable = np.zeros((2, λ+1), dtype=\"int64\")\n",
    "    leafTable[index1, :] = concat(s, [value1])\n",
    "    if isinstance(ConditionValueForNextNode, tuple): # Terminal Node\n",
    "        ConditionValueForLeaf2, LeafValue2 = ConditionValueForNextNode\n",
    "        index2, value2 = ConditionValueForLeaf2, LeafValue2 \n",
    "    else:\n",
    "        index2, value2 = ConditionValueForNextNode, 1\n",
    "    nextTable = np.zeros((2, λ+1), dtype=\"int64\")\n",
    "    nextTable[index2, :] = concat(s, [value2])\n",
    "    \n",
    "    return np.array([leafTable, nextTable]).flatten()\n",
    "        \n",
    "def Gen(T):\n",
    "    s, t, cw, CW = List(n+1), List(n+1), List(n+1), List(n)\n",
    "    s[0] = split(randbit(size=2 * λ), [λ, λ])\n",
    "    t[0] = (0, 1)\n",
    "    \n",
    "    for i in range(0, n):\n",
    "        𝛼_i = T[i][1] if i != (n-1) else T[i][1][0]\n",
    "        next_s = randbit(size=λ)\n",
    "        cw[i] = TruthTable(next_s, T[i])\n",
    "        CW[i] = xor(cw[i], G(s[i][0]), G(s[i][1]))\n",
    "        s[i+1], t[i+1] = List(2), List(2)\n",
    "        for b in (0, 1):\n",
    "            τ = xor(G(s[i][b]), t[i][b] * CW[i])\n",
    "            τ = τ.reshape(2, 2, λ+1)\n",
    "            σ_leaf, σ_node = τ\n",
    "            s[i+1][b], t[i+1][b] = split(σ_node[𝛼_i], [λ, 1])\n",
    "    \n",
    "    k = [concat(s[0][b], *CW) for b in (0, 1)]\n",
    "    return k\n",
    "    \n",
    "    "
   ]
  },
  {
   "cell_type": "code",
   "execution_count": 225,
   "metadata": {},
   "outputs": [],
   "source": [
    "def Eval(b, k_b, x, n=3):\n",
    "    #print(\"Eval\", f\"n={n}\")\n",
    "    FnOutput = List(n+1)\n",
    "    σ = None\n",
    "    x = bit_decomposition(x, nbits=n)\n",
    "    s, t, τ = List(n+1), List(n+1), List(n+1)\n",
    "    s[0], *CW = split(k_b, [λ, *[(λ+1)*2*2]*n])\n",
    "    t[0] = b\n",
    "    for i in range(1, n+1):\n",
    "        #print('i in Eval', i, \"x bit\", x[i-1])\n",
    "        τ[i] = xor(G(s[i-1]), t[i-1]*CW[i-1])\n",
    "        τ[i] = τ[i].reshape(2, 2, λ+1)\n",
    "        σ_leaf, σ_i = τ[i]\n",
    "        FnOutput[i-1] = σ_leaf[x[i-1]][-1]\n",
    "        σ = σ_i[x[i-1]]\n",
    "        s[i], t[i] = split(σ, [λ, 1])\n",
    "\n",
    "    # Last tour, the other σ is also a leaf:\n",
    "    FnOutput[n] = σ[-1]\n",
    "    return σ, FnOutput"
   ]
  },
  {
   "cell_type": "code",
   "execution_count": 223,
   "metadata": {},
   "outputs": [
    {
     "name": "stdout",
     "output_type": "stream",
     "text": [
      "bit 0\n",
      "bit 1\n",
      "bit 0\n",
      "Test x <= α 2\n",
      "x=0 1\n",
      "x=1 1\n",
      "x=2 1\n",
      "x=3 0\n",
      "x=4 0\n",
      "x=5 0\n",
      "x=6 0\n",
      "x=7 0\n",
      "bit 1\n",
      "bit 0\n",
      "bit 0\n",
      "Test x <= α 5\n",
      "x=0 1\n",
      "x=1 1\n",
      "x=2 1\n",
      "x=3 1\n",
      "x=4 1\n",
      "x=5 1\n",
      "x=6 0\n",
      "x=7 0\n",
      "bit 1\n",
      "bit 1\n",
      "bit 0\n",
      "Test x <= α 6\n",
      "x=0 1\n",
      "x=1 1\n",
      "x=2 1\n",
      "x=3 1\n",
      "x=4 1\n",
      "x=5 1\n",
      "x=6 1\n",
      "x=7 0\n"
     ]
    }
   ],
   "source": [
    "# [Node_1, Node_n]\n",
    "# Node_i = ((ConditionValueForLeaf, LeafValue), ConditionValueForNextNode)\n",
    "# Node_i = ((ConditionValueForLeaf, LeafValue), (ConditionValueForLeaf, LeafValue))\n",
    "\n",
    "def test_DIF_simplified():\n",
    "    trees = {\n",
    "        2: [((1, 0), 0), ((0, 1), 1), ((1, 0), (0, 1))],\n",
    "        5: [((0, 1), 1), ((1, 0), 0), ((1, 1), (0, 1))],\n",
    "        6: [((0, 1), 1), ((0, 1), 1), ((1, 0), (0, 1))],\n",
    "    }\n",
    "    for alpha, T in trees.items():\n",
    "        k = Gen(T)\n",
    "        print('Test x <= α', alpha)\n",
    "        for x in range(0, 2**3):\n",
    "            sigma = sum(xor(Eval(0, k[0], x, n=3)[1], Eval(1, k[1], x, n=3)[1]))\n",
    "            print(f'x={x}', sigma)\n",
    "            assert int(x<=alpha) == sigma\n",
    "\n",
    "test_DIF_simplified()"
   ]
  },
  {
   "cell_type": "markdown",
   "metadata": {},
   "source": [
    "# DIF\n",
    "Hypothesis: $l_{max} = 2; \\forall u, \\deg(u) = 2, l_u = 2 $"
   ]
  },
  {
   "cell_type": "code",
   "execution_count": 8,
   "metadata": {},
   "outputs": [],
   "source": [
    "l_max = 2"
   ]
  },
  {
   "cell_type": "code",
   "execution_count": 11,
   "metadata": {},
   "outputs": [],
   "source": [
    "# PRG\n",
    "def G(seed):\n",
    "    assert len(seed) == λ\n",
    "    np.random.seed(seed)\n",
    "    return np.random.randint(2, size=(λ + 1)*l_max**2)\n",
    "\n",
    "def Convert(bits):\n",
    "    #print(len(bits), bits)\n",
    "    return bits.dot(1 << np.arange(bits.size)[::-1])"
   ]
  },
  {
   "cell_type": "code",
   "execution_count": null,
   "metadata": {},
   "outputs": [],
   "source": [
    "def Gen(tree):\n",
    "    CW\n",
    "    for v in tree.find_nodes_with_all_siblings_leaf():"
   ]
  },
  {
   "cell_type": "code",
   "execution_count": 41,
   "metadata": {},
   "outputs": [],
   "source": [
    "Decision = {}\n",
    "\n",
    "class Tree:\n",
    "    def __init__(self, root=None):\n",
    "        self.root = root\n",
    "        self.vertices = [] # List(Node)\n",
    "        self.edges = [] #List(Edge)\n",
    "        self.var = {} #dict(Node -> int)\n",
    "        \n",
    "    def add_node(self, node):\n",
    "        self.vertices.append(node)\n",
    "        if isinstance(node, Internal):\n",
    "            self.var[node] = node.index\n",
    "            \n",
    "    def find_nodes_with_all_siblings_leaf(self):\n",
    "        nodes = []\n",
    "        for vertice in self.vertices:\n",
    "            if self.root != vertice:\n",
    "                all_leaf = True\n",
    "                for sibling in vertice.siblings():\n",
    "                    all_leaf = all_leaf and sibling.is_leaf\n",
    "                if all_leaf:\n",
    "                    nodes.append(vertice)\n",
    "        return nodes\n",
    "    \n",
    "    def __str__(self):\n",
    "        return 'TREE\\n' + self.root.__str__()\n",
    "\n",
    "class Node:\n",
    "    def deg(self):\n",
    "        raise NotImplementedError\n",
    "        \n",
    "    def siblings(self):\n",
    "        return list(self.parent.child.values())\n",
    "    \n",
    "    def get_input(self):\n",
    "        if self.parent is None:\n",
    "            return []\n",
    "        return self.parent.get_input() + [Decision[self.parent][self]]\n",
    "        \n",
    "        \n",
    "class Internal(Node):\n",
    "    is_leaf = False\n",
    "    def __init__(self, index):\n",
    "        super().__init__()\n",
    "        self.id = np.random.randint(100, 999)\n",
    "        self.index = index\n",
    "        self.child = {}\n",
    "        self.parent = None\n",
    "    \n",
    "    def deg(self):\n",
    "        return len(self.child.values())\n",
    "    \n",
    "    def __str__(self):\n",
    "        r = f\"Internal {self.index}\"\n",
    "        if self.deg() != 2:\n",
    "            raise ValueError\n",
    "        else:\n",
    "            for val, node in self.child.items():\n",
    "                if isinstance(node, Leaf):\n",
    "                    r += f\" [{val}] --> \" \n",
    "                    r += str(node)\n",
    "                    r += \"\\n\\t\"\n",
    "                \n",
    "            for val, node in self.child.items():\n",
    "                if isinstance(node, Internal):\n",
    "                    r += f\"[{val}]\\n\\t |\\n\" \n",
    "                    r += str(node)\n",
    "        return r\n",
    "                \n",
    "class Leaf(Node):\n",
    "    is_leaf = True\n",
    "    \n",
    "    def __init__(self, label):\n",
    "        self.id = np.random.randint(100, 999)\n",
    "        self.label = label\n",
    "        self.parent = None\n",
    "    \n",
    "    def deg(self):\n",
    "        return 0\n",
    "    \n",
    "    def __str__(self):\n",
    "        return f\"Leaf{self.id} ({self.label})\"\n",
    "    \n",
    "    __repr__ = __str__\n",
    "    \n",
    "def connect(node1, node2, decision):\n",
    "    node1.child[decision] = node2\n",
    "    node2.parent = node1\n",
    "    if node1 not in Decision:\n",
    "        Decision[node1] = {}\n",
    "    Decision[node1][node2] = decision\n",
    "    "
   ]
  },
  {
   "cell_type": "markdown",
   "metadata": {},
   "source": [
    "Build a tree (here: OR)"
   ]
  },
  {
   "cell_type": "code",
   "execution_count": 42,
   "metadata": {},
   "outputs": [],
   "source": [
    "tree = Tree()\n",
    "last_node = None\n",
    "for i in range(n):\n",
    "    node = Internal(i)\n",
    "    leaf = Leaf(1)\n",
    "    tree.add_node(node)\n",
    "    tree.add_node(leaf)\n",
    "    connect(node, leaf, 1)\n",
    "    if i == 0:\n",
    "        tree.root = node\n",
    "    else:\n",
    "        connect(last_node, node, 0)\n",
    "            \n",
    "    last_node = node\n",
    "    \n",
    "leaf = Leaf(0)\n",
    "tree.add_node(leaf)\n",
    "connect(last_node, leaf, 0)"
   ]
  },
  {
   "cell_type": "code",
   "execution_count": 43,
   "metadata": {},
   "outputs": [
    {
     "name": "stdout",
     "output_type": "stream",
     "text": [
      "TREE\n",
      "Internal 0 [1] --> Leaf337 (1)\n",
      "\t[0]\n",
      "\t |\n",
      "Internal 1 [1] --> Leaf391 (1)\n",
      "\t[0]\n",
      "\t |\n",
      "Internal 2 [1] --> Leaf154 (1)\n",
      "\t[0]\n",
      "\t |\n",
      "Internal 3 [1] --> Leaf745 (1)\n",
      "\t[0]\n",
      "\t |\n",
      "Internal 4 [1] --> Leaf984 (1)\n",
      "\t[0]\n",
      "\t |\n",
      "Internal 5 [1] --> Leaf226 (1)\n",
      "\t[0]\n",
      "\t |\n",
      "Internal 6 [1] --> Leaf636 (1)\n",
      "\t[0]\n",
      "\t |\n",
      "Internal 7 [1] --> Leaf751 (1)\n",
      "\t[0]\n",
      "\t |\n",
      "Internal 8 [1] --> Leaf275 (1)\n",
      "\t[0]\n",
      "\t |\n",
      "Internal 9 [1] --> Leaf799 (1)\n",
      "\t[0]\n",
      "\t |\n",
      "Internal 10 [1] --> Leaf294 (1)\n",
      "\t[0]\n",
      "\t |\n",
      "Internal 11 [1] --> Leaf784 (1)\n",
      "\t[0]\n",
      "\t |\n",
      "Internal 12 [1] --> Leaf917 (1)\n",
      "\t[0]\n",
      "\t |\n",
      "Internal 13 [1] --> Leaf345 (1)\n",
      "\t[0]\n",
      "\t |\n",
      "Internal 14 [1] --> Leaf778 (1)\n",
      "\t[0]\n",
      "\t |\n",
      "Internal 15 [1] --> Leaf529 (1)\n",
      "\t[0]\n",
      "\t |\n",
      "Internal 16 [1] --> Leaf978 (1)\n",
      "\t[0]\n",
      "\t |\n",
      "Internal 17 [1] --> Leaf327 (1)\n",
      "\t[0]\n",
      "\t |\n",
      "Internal 18 [1] --> Leaf593 (1)\n",
      "\t[0]\n",
      "\t |\n",
      "Internal 19 [1] --> Leaf291 (1)\n",
      "\t[0]\n",
      "\t |\n",
      "Internal 20 [1] --> Leaf555 (1)\n",
      "\t[0]\n",
      "\t |\n",
      "Internal 21 [1] --> Leaf400 (1)\n",
      "\t[0]\n",
      "\t |\n",
      "Internal 22 [1] --> Leaf576 (1)\n",
      "\t[0]\n",
      "\t |\n",
      "Internal 23 [1] --> Leaf806 (1)\n",
      "\t[0]\n",
      "\t |\n",
      "Internal 24 [1] --> Leaf903 (1)\n",
      "\t[0]\n",
      "\t |\n",
      "Internal 25 [1] --> Leaf396 (1)\n",
      "\t[0]\n",
      "\t |\n",
      "Internal 26 [1] --> Leaf503 (1)\n",
      "\t[0]\n",
      "\t |\n",
      "Internal 27 [1] --> Leaf699 (1)\n",
      "\t[0]\n",
      "\t |\n",
      "Internal 28 [1] --> Leaf623 (1)\n",
      "\t[0]\n",
      "\t |\n",
      "Internal 29 [1] --> Leaf558 (1)\n",
      "\t[0]\n",
      "\t |\n",
      "Internal 30 [1] --> Leaf716 (1)\n",
      "\t[0]\n",
      "\t |\n",
      "Internal 31 [1] --> Leaf637 (1)\n",
      "\t [0] --> Leaf155 (0)\n",
      "\t\n"
     ]
    }
   ],
   "source": [
    "print(tree)"
   ]
  },
  {
   "cell_type": "code",
   "execution_count": 45,
   "metadata": {},
   "outputs": [
    {
     "data": {
      "text/plain": [
       "[Leaf637 (1), Leaf155 (0)]"
      ]
     },
     "execution_count": 45,
     "metadata": {},
     "output_type": "execute_result"
    }
   ],
   "source": [
    "tree.find_nodes_with_all_siblings_leaf()"
   ]
  },
  {
   "cell_type": "markdown",
   "metadata": {},
   "source": [
    "Example evaluation in clear"
   ]
  },
  {
   "cell_type": "code",
   "execution_count": 266,
   "metadata": {},
   "outputs": [
    {
     "name": "stdout",
     "output_type": "stream",
     "text": [
      "1\n"
     ]
    }
   ],
   "source": [
    "x = randbit(n)\n",
    "\n",
    "u = tree.root\n",
    "while u.is_leaf == False:\n",
    "    i = tree.var[u]\n",
    "    u = u.child[x[i]]\n",
    "print(u.label)"
   ]
  },
  {
   "cell_type": "code",
   "execution_count": null,
   "metadata": {},
   "outputs": [],
   "source": []
  },
  {
   "cell_type": "code",
   "execution_count": 145,
   "metadata": {},
   "outputs": [
    {
     "name": "stdout",
     "output_type": "stream",
     "text": [
      "[155] [-154] [1]\n"
     ]
    }
   ],
   "source": [
    "x = 5\n",
    "y0 = Eval(0, k[0], x)\n",
    "y1 = Eval(1, k[1], x)\n",
    "print(y0, y1, y0+y1)"
   ]
  },
  {
   "cell_type": "code",
   "execution_count": null,
   "metadata": {},
   "outputs": [],
   "source": []
  },
  {
   "cell_type": "code",
   "execution_count": 91,
   "metadata": {},
   "outputs": [
    {
     "data": {
      "text/plain": [
       "328"
      ]
     },
     "execution_count": 91,
     "metadata": {},
     "output_type": "execute_result"
    }
   ],
   "source": [
    "n*(λ+2) + λ"
   ]
  },
  {
   "cell_type": "code",
   "execution_count": 22,
   "metadata": {},
   "outputs": [
    {
     "data": {
      "text/plain": [
       "[1, 2, 3, 4, 5, 6, 7, 8, 9, 10]"
      ]
     },
     "execution_count": 22,
     "metadata": {},
     "output_type": "execute_result"
    }
   ],
   "source": [
    "list(range(1, 10 + 1))"
   ]
  },
  {
   "cell_type": "code",
   "execution_count": 26,
   "metadata": {},
   "outputs": [
    {
     "data": {
      "text/plain": [
       "13"
      ]
     },
     "execution_count": 26,
     "metadata": {},
     "output_type": "execute_result"
    }
   ],
   "source": [
    "b = np.array([0, 0, 0, 0, 0, 1, 1, 0, 1])\n",
    "b.dot(1 << np.arange(b.size)[::-1])"
   ]
  },
  {
   "cell_type": "code",
   "execution_count": 39,
   "metadata": {},
   "outputs": [
    {
     "data": {
      "text/plain": [
       "[array([1, 1, 1]), array([], dtype=int64), array([1]), array([0, 0, 1, 1])]"
      ]
     },
     "execution_count": 39,
     "metadata": {},
     "output_type": "execute_result"
    }
   ],
   "source": [
    "split([1, 1, 1, 0, 0, 1, 1], [3, 2, 3])"
   ]
  },
  {
   "cell_type": "code",
   "execution_count": 17,
   "metadata": {},
   "outputs": [
    {
     "data": {
      "text/plain": [
       "array([1, 1, 1, 0, 0, 1, 1, 0, 1, 1, 1, 0, 0, 1, 1, 0])"
      ]
     },
     "execution_count": 17,
     "metadata": {},
     "output_type": "execute_result"
    }
   ],
   "source": [
    "np.concatenate(([1, 1, 1, 0, 0, 1, 1, 0], [1, 1, 1, 0, 0, 1, 1, 0]))"
   ]
  },
  {
   "cell_type": "code",
   "execution_count": null,
   "metadata": {},
   "outputs": [],
   "source": []
  }
 ],
 "metadata": {
  "kernelspec": {
   "display_name": "Python (Pysyft)",
   "language": "python",
   "name": "pysyft"
  },
  "language_info": {
   "codemirror_mode": {
    "name": "ipython",
    "version": 3
   },
   "file_extension": ".py",
   "mimetype": "text/x-python",
   "name": "python",
   "nbconvert_exporter": "python",
   "pygments_lexer": "ipython3",
   "version": "3.7.0"
  }
 },
 "nbformat": 4,
 "nbformat_minor": 2
}
