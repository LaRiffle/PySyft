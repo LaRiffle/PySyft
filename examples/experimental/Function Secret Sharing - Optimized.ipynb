{
 "cells": [
  {
   "cell_type": "code",
   "execution_count": 191,
   "metadata": {},
   "outputs": [
    {
     "name": "stderr",
     "output_type": "stream",
     "text": [
      "WARNING:root:Torch was already hooked... skipping hooking process\n"
     ]
    }
   ],
   "source": [
    "import syft as sy\n",
    "import torch as th\n",
    "import torch.nn as nn\n",
    "import torch.optim as optim\n",
    "import torch.nn.functional as F\n",
    "import time\n",
    "import torch.autograd as autograd\n",
    "import numpy as np\n",
    "\n",
    "syft = sy \n",
    "\n",
    "hook = sy.TorchHook(th)\n",
    "bob = sy.VirtualWorker(hook, id=\"bob\")\n",
    "alice = sy.VirtualWorker(hook, id=\"alice\")\n",
    "charlie = sy.VirtualWorker(hook, id=\"charlie\")\n",
    "james = sy.VirtualWorker(hook, id=\"james\")\n",
    "crypto_provider = james\n",
    "torch = th"
   ]
  },
  {
   "cell_type": "markdown",
   "metadata": {},
   "source": [
    "# DPF v2\n",
    "https://docs.google.com/presentation/d/108V1QMm7ACiD_mr8ITniYfQUwURSafZep6UJaQASZ0k/edit?folder=0AIi9WbrMGj2CUk9PVA#slide=id.g7643f50265_0_0"
   ]
  },
  {
   "cell_type": "code",
   "execution_count": 192,
   "metadata": {},
   "outputs": [],
   "source": [
    "λ = 16 # security paramater\n",
    "n = 32 # nb of bits of the algebric field"
   ]
  },
  {
   "cell_type": "code",
   "execution_count": 193,
   "metadata": {},
   "outputs": [],
   "source": [
    "# PRG\n",
    "def G(seed):\n",
    "    assert len(seed) == λ\n",
    "    r = np.random.RandomState(seed)\n",
    "    return r.randint(2, size=2*(λ + 1))\n",
    "\n",
    "def Convert(bits):\n",
    "    #TODO see figure 3 of paper\n",
    "    return bits.dot(1 << np.arange(bits.size)[::-1])"
   ]
  },
  {
   "cell_type": "code",
   "execution_count": 202,
   "metadata": {},
   "outputs": [],
   "source": [
    "def List(n):\n",
    "    return [None]*n #np.empty(n, dtype=np.int32)\n",
    "\n",
    "def bit_decomposition(x, nbits = n):\n",
    "    return list(map(int, np.binary_repr(x, width=nbits)))\n",
    "\n",
    "def randbit(size):\n",
    "    return np.random.randint(2, size=size)\n",
    "\n",
    "def xor(*args):\n",
    "    \"\"\"Multi-input xor\"\"\"\n",
    "    if len(args) == 2:\n",
    "        return np.bitwise_xor(*args)\n",
    "    else:\n",
    "        return np.bitwise_xor(args[0], xor(*args[1:]))\n",
    "    \n",
    "def concat(*args):\n",
    "    return np.concatenate(args)\n",
    "\n",
    "def split(l, idx):\n",
    "    # Convert idx which are split part sizes to cumulative indices\n",
    "    if isinstance(idx, (list, tuple)):\n",
    "        cumsum = 0\n",
    "        cum_idx = []\n",
    "        for i in idx:\n",
    "            cumsum += i\n",
    "            cum_idx.append(cumsum)\n",
    "        # Remove last element which equals the total length\n",
    "        # And create an empty split part if kept\n",
    "        return np.split(l, cum_idx[:-1])\n",
    "    else:\n",
    "        return np.split(l, idx)\n",
    "    \n",
    "def TruthTableDPF(s, α_i):\n",
    "    Table = np.zeros((2, λ+1), dtype=\"int64\")\n",
    "    Table[α_i] = concat(s, [1])\n",
    "    return Table.flatten()"
   ]
  },
  {
   "cell_type": "code",
   "execution_count": 203,
   "metadata": {},
   "outputs": [],
   "source": [
    "def Gen(alpha, beta):\n",
    "    α = bit_decomposition(alpha)\n",
    "    s, t, CW = List(n+1), List(n+1), List(n+1)\n",
    "    s[0] = split(randbit(size=2 * λ), [λ, λ])\n",
    "    t[0] = [0, 1]\n",
    "    for i in range(0, n):\n",
    "        # Re-use useless randomness\n",
    "        sL_0, _, sR_0, _ = split(G(s[i][0]), [λ, 1, λ, 1])\n",
    "        sL_1, _, sR_1, _ = split(G(s[i][1]), [λ, 1, λ, 1])\n",
    "        s_rand = xor(sL_0, sL_1) if α[i] else xor(sR_0, sR_1) \n",
    "        #ERROR sL, _, sR, _ = split(G(s[i][(1 - α[i])]), [λ, 1, λ, 1])\n",
    "        #ERROR s_rand = xor(sL, sR)\n",
    "        cw_i = TruthTableDPF(s_rand, α[i])\n",
    "        CW[i] = xor(cw_i, G(s[i][0]), G(s[i][1]))\n",
    "        \n",
    "        s[i+1], t[i+1] = List(2), List(2)\n",
    "        for b in (0, 1):\n",
    "            τ = xor(G(s[i][b]), t[i][b] * CW[i])\n",
    "            τ = τ.reshape(2, λ+1)\n",
    "            s[i+1][b], t[i+1][b] = split(τ[𝛼[i]], [λ, 1])\n",
    "        \n",
    "    CW[n] = (-1)**t[n][1]*(beta - Convert(s[n][0]) + Convert(s[n][1]))\n",
    "    \n",
    "    k = [concat(s[0][b], *CW) for b in (0, 1)]\n",
    "    return k\n",
    "        "
   ]
  },
  {
   "cell_type": "code",
   "execution_count": 204,
   "metadata": {},
   "outputs": [],
   "source": [
    "def Eval(b, k_b, x):\n",
    "    x = bit_decomposition(x)\n",
    "    s, t = List(n+1), List(n+1)\n",
    "    s[0], *CW = split(k_b, [λ, *[2*(λ+1)]*n, 1])\n",
    "    t[0] = b\n",
    "    for i in range(0, n):\n",
    "        τ = xor(G(s[i]), t[i]*CW[i])\n",
    "        τ = τ.reshape(2, λ+1)\n",
    "        s[i+1], t[i+1] = split(τ[x[i]], [λ, 1])\n",
    "    return (-1)**b * (Convert(s[n]) + t[n]*CW[n])\n",
    "        "
   ]
  },
  {
   "cell_type": "code",
   "execution_count": 205,
   "metadata": {},
   "outputs": [
    {
     "ename": "ValueError",
     "evalue": "setting an array element with a sequence.",
     "output_type": "error",
     "traceback": [
      "\u001b[0;31m---------------------------------------------------------------------------\u001b[0m",
      "\u001b[0;31mValueError\u001b[0m                                Traceback (most recent call last)",
      "\u001b[0;32m<ipython-input-205-a3a9f3192575>\u001b[0m in \u001b[0;36m<module>\u001b[0;34m\u001b[0m\n\u001b[1;32m     13\u001b[0m                 \u001b[0;32massert\u001b[0m \u001b[0my0\u001b[0m\u001b[0;34m+\u001b[0m\u001b[0my1\u001b[0m \u001b[0;34m==\u001b[0m \u001b[0;36m0\u001b[0m\u001b[0;34m\u001b[0m\u001b[0m\n\u001b[1;32m     14\u001b[0m \u001b[0;34m\u001b[0m\u001b[0m\n\u001b[0;32m---> 15\u001b[0;31m \u001b[0mtest_DPF\u001b[0m\u001b[0;34m(\u001b[0m\u001b[0;34m)\u001b[0m\u001b[0;34m\u001b[0m\u001b[0m\n\u001b[0m",
      "\u001b[0;32m<ipython-input-205-a3a9f3192575>\u001b[0m in \u001b[0;36mtest_DPF\u001b[0;34m()\u001b[0m\n\u001b[1;32m      3\u001b[0m     \u001b[0mbeta\u001b[0m \u001b[0;34m=\u001b[0m \u001b[0;34m[\u001b[0m\u001b[0;36m1\u001b[0m\u001b[0;34m,\u001b[0m \u001b[0;34m-\u001b[0m\u001b[0;36m3\u001b[0m\u001b[0;34m,\u001b[0m \u001b[0;36m2\u001b[0m\u001b[0;34m]\u001b[0m\u001b[0;34m\u001b[0m\u001b[0m\n\u001b[1;32m      4\u001b[0m     \u001b[0;32mfor\u001b[0m \u001b[0ma\u001b[0m\u001b[0;34m,\u001b[0m \u001b[0mb\u001b[0m \u001b[0;32min\u001b[0m \u001b[0mzip\u001b[0m\u001b[0;34m(\u001b[0m\u001b[0malpha\u001b[0m\u001b[0;34m,\u001b[0m \u001b[0mbeta\u001b[0m\u001b[0;34m)\u001b[0m\u001b[0;34m:\u001b[0m\u001b[0;34m\u001b[0m\u001b[0m\n\u001b[0;32m----> 5\u001b[0;31m         \u001b[0mk\u001b[0m \u001b[0;34m=\u001b[0m \u001b[0mGen\u001b[0m\u001b[0;34m(\u001b[0m\u001b[0ma\u001b[0m\u001b[0;34m,\u001b[0m \u001b[0mb\u001b[0m\u001b[0;34m)\u001b[0m\u001b[0;34m\u001b[0m\u001b[0m\n\u001b[0m\u001b[1;32m      6\u001b[0m         \u001b[0;32mfor\u001b[0m \u001b[0mx\u001b[0m \u001b[0;32min\u001b[0m \u001b[0;34m[\u001b[0m\u001b[0ma\u001b[0m\u001b[0;34m,\u001b[0m \u001b[0;36m2\u001b[0m\u001b[0;34m*\u001b[0m\u001b[0ma\u001b[0m \u001b[0;34m+\u001b[0m \u001b[0;36m1\u001b[0m\u001b[0;34m,\u001b[0m \u001b[0;34m-\u001b[0m\u001b[0ma\u001b[0m \u001b[0;34m+\u001b[0m \u001b[0;36m1\u001b[0m\u001b[0;34m]\u001b[0m\u001b[0;34m:\u001b[0m\u001b[0;34m\u001b[0m\u001b[0m\n\u001b[1;32m      7\u001b[0m             \u001b[0my0\u001b[0m \u001b[0;34m=\u001b[0m \u001b[0mEval\u001b[0m\u001b[0;34m(\u001b[0m\u001b[0;36m0\u001b[0m\u001b[0;34m,\u001b[0m \u001b[0mk\u001b[0m\u001b[0;34m[\u001b[0m\u001b[0;36m0\u001b[0m\u001b[0;34m]\u001b[0m\u001b[0;34m,\u001b[0m \u001b[0mx\u001b[0m\u001b[0;34m)\u001b[0m\u001b[0;34m\u001b[0m\u001b[0m\n",
      "\u001b[0;32m<ipython-input-203-7ac6574b99ab>\u001b[0m in \u001b[0;36mGen\u001b[0;34m(alpha, beta)\u001b[0m\n\u001b[1;32m      2\u001b[0m     \u001b[0mα\u001b[0m \u001b[0;34m=\u001b[0m \u001b[0mbit_decomposition\u001b[0m\u001b[0;34m(\u001b[0m\u001b[0malpha\u001b[0m\u001b[0;34m)\u001b[0m\u001b[0;34m\u001b[0m\u001b[0m\n\u001b[1;32m      3\u001b[0m     \u001b[0ms\u001b[0m\u001b[0;34m,\u001b[0m \u001b[0mt\u001b[0m\u001b[0;34m,\u001b[0m \u001b[0mCW\u001b[0m \u001b[0;34m=\u001b[0m \u001b[0mList\u001b[0m\u001b[0;34m(\u001b[0m\u001b[0mn\u001b[0m\u001b[0;34m+\u001b[0m\u001b[0;36m1\u001b[0m\u001b[0;34m)\u001b[0m\u001b[0;34m,\u001b[0m \u001b[0mList\u001b[0m\u001b[0;34m(\u001b[0m\u001b[0mn\u001b[0m\u001b[0;34m+\u001b[0m\u001b[0;36m1\u001b[0m\u001b[0;34m)\u001b[0m\u001b[0;34m,\u001b[0m \u001b[0mList\u001b[0m\u001b[0;34m(\u001b[0m\u001b[0mn\u001b[0m\u001b[0;34m+\u001b[0m\u001b[0;36m1\u001b[0m\u001b[0;34m)\u001b[0m\u001b[0;34m\u001b[0m\u001b[0m\n\u001b[0;32m----> 4\u001b[0;31m     \u001b[0ms\u001b[0m\u001b[0;34m[\u001b[0m\u001b[0;36m0\u001b[0m\u001b[0;34m]\u001b[0m \u001b[0;34m=\u001b[0m \u001b[0msplit\u001b[0m\u001b[0;34m(\u001b[0m\u001b[0mrandbit\u001b[0m\u001b[0;34m(\u001b[0m\u001b[0msize\u001b[0m\u001b[0;34m=\u001b[0m\u001b[0;36m2\u001b[0m \u001b[0;34m*\u001b[0m \u001b[0mλ\u001b[0m\u001b[0;34m)\u001b[0m\u001b[0;34m,\u001b[0m \u001b[0;34m[\u001b[0m\u001b[0mλ\u001b[0m\u001b[0;34m,\u001b[0m \u001b[0mλ\u001b[0m\u001b[0;34m]\u001b[0m\u001b[0;34m)\u001b[0m\u001b[0;34m\u001b[0m\u001b[0m\n\u001b[0m\u001b[1;32m      5\u001b[0m     \u001b[0mt\u001b[0m\u001b[0;34m[\u001b[0m\u001b[0;36m0\u001b[0m\u001b[0;34m]\u001b[0m \u001b[0;34m=\u001b[0m \u001b[0;34m[\u001b[0m\u001b[0;36m0\u001b[0m\u001b[0;34m,\u001b[0m \u001b[0;36m1\u001b[0m\u001b[0;34m]\u001b[0m\u001b[0;34m\u001b[0m\u001b[0m\n\u001b[1;32m      6\u001b[0m     \u001b[0;32mfor\u001b[0m \u001b[0mi\u001b[0m \u001b[0;32min\u001b[0m \u001b[0mrange\u001b[0m\u001b[0;34m(\u001b[0m\u001b[0;36m0\u001b[0m\u001b[0;34m,\u001b[0m \u001b[0mn\u001b[0m\u001b[0;34m)\u001b[0m\u001b[0;34m:\u001b[0m\u001b[0;34m\u001b[0m\u001b[0m\n",
      "\u001b[0;31mValueError\u001b[0m: setting an array element with a sequence."
     ]
    }
   ],
   "source": [
    "def test_DPF():\n",
    "    alpha = [2, 7, -1]\n",
    "    beta = [1, -3, 2]\n",
    "    for a, b in zip(alpha, beta):\n",
    "        k = Gen(a, b)\n",
    "        for x in [a, 2*a + 1, -a + 1]:\n",
    "            y0 = Eval(0, k[0], x)\n",
    "            y1 = Eval(1, k[1], x)\n",
    "            \n",
    "            if x == a:\n",
    "                assert y0+y1 == b\n",
    "            else:\n",
    "                assert y0+y1 == 0\n",
    "                \n",
    "test_DPF()"
   ]
  },
  {
   "cell_type": "markdown",
   "metadata": {},
   "source": [
    "# DIF v3 simplified\n",
    "We address here the problem $x \\le \\alpha$\n",
    "\n",
    "https://docs.google.com/presentation/d/108V1QMm7ACiD_mr8ITniYfQUwURSafZep6UJaQASZ0k/edit?folder=0AIi9WbrMGj2CUk9PVA#slide=id.g6d24e8b0e8_0_1223"
   ]
  },
  {
   "cell_type": "code",
   "execution_count": 114,
   "metadata": {},
   "outputs": [],
   "source": [
    "n = 32"
   ]
  },
  {
   "cell_type": "code",
   "execution_count": 115,
   "metadata": {},
   "outputs": [],
   "source": [
    "def G(seed):\n",
    "    assert len(seed) == λ\n",
    "    np.random.seed(seed)\n",
    "    return np.random.randint(2, size=2 + 2*(λ + 1))\n",
    "    \n",
    "    \n",
    "def TruthTableDIF(s, α_i):\n",
    "    leafTable = np.zeros((2, 1), dtype=\"int64\")\n",
    "    # if α_i is 0, then ending on the leaf branch means your bit is 1 to you're > α so you should get 0\n",
    "    # if α_i is 1, then ending on the leaf branch means your bit is 0 to you're < α so you should get 1\n",
    "    leaf_value = α_i\n",
    "    leafTable[1-α_i] = leaf_value\n",
    "    \n",
    "    nextTable = np.zeros((2, λ+1), dtype=\"int64\")\n",
    "    nextTable[α_i] = concat(s, [1])\n",
    "    \n",
    "    return concat(leafTable.flatten(), nextTable.flatten())"
   ]
  },
  {
   "cell_type": "code",
   "execution_count": 116,
   "metadata": {},
   "outputs": [],
   "source": [
    "def Gen(alpha):\n",
    "    α = bit_decomposition(alpha, nbits=n)\n",
    "    s, t, CW = List(n+1), List(n+1), List(n)\n",
    "    s[0] = split(randbit(size=2 * λ), [λ, λ])\n",
    "    t[0] = [0, 1]\n",
    "    for i in range(0, n):\n",
    "        # Re-use useless randomness\n",
    "        _, _, sL_0, _, sR_0, _ = split(G(s[i][0]), [1, 1, λ, 1, λ, 1])\n",
    "        _, _, sL_1, _, sR_1, _ = split(G(s[i][1]), [1, 1, λ, 1, λ, 1])\n",
    "        s_rand = xor(sL_0, sL_1) if α[i]==1 else xor(sR_0, sR_1)\n",
    "        cw_i = TruthTableDIF(s_rand, α[i])\n",
    "        CW[i] = xor(cw_i, G(s[i][0]), G(s[i][1]))\n",
    "        \n",
    "        s[i+1], t[i+1] = List(2), List(2)\n",
    "        for b in (0, 1):\n",
    "            τ = xor(G(s[i][b]), t[i][b] * CW[i])\n",
    "            σ_leaf, σ_node = split(τ, [2, 2*(λ+1)])\n",
    "            σ_node = σ_node.reshape(2, λ+1)\n",
    "            s[i+1][b], t[i+1][b] = split(σ_node[𝛼[i]], [λ, 1])\n",
    "        \n",
    "    k = [concat(s[0][b], *CW) for b in (0, 1)]\n",
    "    return k\n",
    "        "
   ]
  },
  {
   "cell_type": "code",
   "execution_count": 119,
   "metadata": {},
   "outputs": [],
   "source": [
    "def Eval(b, k_b, x, n):\n",
    "    #print(\"Eval\", f\"n={n}\")\n",
    "    FnOutput = List(n+1)\n",
    "    x = bit_decomposition(x, nbits=n)\n",
    "    s, t = List(n+1), List(n+1)\n",
    "    s[0], *CW = split(k_b, [λ, *[2 + 2*(λ + 1)]*n])\n",
    "    t[0] = b\n",
    "    for i in range(0, n):\n",
    "        #print('i in Eval', i, \"x bit\", x[i-1])\n",
    "        τ = xor(G(s[i]), t[i]*CW[i])\n",
    "        #print(len(τ), 2*(λ+1) + 2)\n",
    "        σ_leaf, σ_i = split(τ, [2, 2*(λ+1)])\n",
    "        #print(σ_leaf.shape, σ_i.shape)\n",
    "        σ_leaf, σ_i = σ_leaf.reshape(2, 1), σ_i.reshape(2, λ+1)\n",
    "        FnOutput[i] = σ_leaf[x[i]][-1]\n",
    "        σ = σ_i[x[i]]\n",
    "        s[i+1], t[i+1] = split(σ, [λ, 1])\n",
    "\n",
    "    # Last tour, the other σ is also a leaf:\n",
    "    FnOutput[n] = σ[-1]\n",
    "    return σ, FnOutput"
   ]
  },
  {
   "cell_type": "code",
   "execution_count": 135,
   "metadata": {},
   "outputs": [
    {
     "name": "stdout",
     "output_type": "stream",
     "text": [
      "Test x <= α 868901555\n",
      "1.4 ms / Eval\n",
      "Test x <= α 2094728343\n",
      "1.2 ms / Eval\n",
      "Test x <= α 1331758589\n",
      "1.2 ms / Eval\n",
      "Test x <= α 2209524418\n",
      "1.2 ms / Eval\n",
      "Test x <= α 1067235160\n",
      "1.1 ms / Eval\n",
      "Test x <= α 937450\n",
      "1.3 ms / Eval\n",
      "Test x <= α 2481108934\n",
      "1.2 ms / Eval\n",
      "Test x <= α 2722300044\n",
      "1.3 ms / Eval\n",
      "Test x <= α 380752735\n",
      "1.2 ms / Eval\n",
      "Test x <= α 1329112794\n",
      "1.2 ms / Eval\n",
      "3.1 ms\n"
     ]
    }
   ],
   "source": [
    "def test_DIF_simplified():\n",
    "    t = time.time()\n",
    "    n_alpha, n_x = 10, 10\n",
    "    for alpha in np.random.randint(0,2**n, n_alpha):\n",
    "        k = Gen(alpha)\n",
    "        print('Test x <= α', alpha)\n",
    "        t2 = time.time()\n",
    "        for x in np.random.randint(0,2**n, n_x):\n",
    "            sigma = sum(xor(Eval(0, k[0], x, n=n)[1], Eval(1, k[1], x, n=n)[1]))\n",
    "            #print(f'x={x}', sigma)\n",
    "            assert int(x<=alpha) == sigma\n",
    "        print(round(1000*(time.time() - t2)/(n_x * 2), 1), 'ms / Eval')\n",
    "    print(round(1000*(time.time() - t)/(n_alpha*n_x), 1), 'ms')\n",
    "\n",
    "test_DIF_simplified()"
   ]
  },
  {
   "cell_type": "code",
   "execution_count": 130,
   "metadata": {},
   "outputs": [
    {
     "data": {
      "text/plain": [
       "array([0, 0, 0, 1, 0, 1, 0, 1, 1, 1, 1, 0, 0, 1, 1, 0, 0, 1, 1, 1])"
      ]
     },
     "execution_count": 130,
     "metadata": {},
     "output_type": "execute_result"
    }
   ],
   "source": [
    "np.random.randint(0,2, 20)"
   ]
  },
  {
   "cell_type": "code",
   "execution_count": null,
   "metadata": {},
   "outputs": [],
   "source": []
  }
 ],
 "metadata": {
  "kernelspec": {
   "display_name": "Python (Pysyft)",
   "language": "python",
   "name": "pysyft"
  },
  "language_info": {
   "codemirror_mode": {
    "name": "ipython",
    "version": 3
   },
   "file_extension": ".py",
   "mimetype": "text/x-python",
   "name": "python",
   "nbconvert_exporter": "python",
   "pygments_lexer": "ipython3",
   "version": "3.7.0"
  }
 },
 "nbformat": 4,
 "nbformat_minor": 2
}
