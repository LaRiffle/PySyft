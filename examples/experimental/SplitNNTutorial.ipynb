{
 "cells": [
  {
   "cell_type": "markdown",
   "metadata": {},
   "source": [
    "# Split Neural Network (SplitNN)\n",
    "\n",
    "Traditionally, PySyft has been used to facilitate federated learning. However, we can also leverage the tools included in this framework to implement distributed neural networks. \n",
    "\n",
    "### What is a SplitNN?\n",
    "\n",
    "<img src=\"images/anatomy.png\" width=\"50%\">\n",
    "\n",
    "The training of a neural network (NN) is 'split' accross a chain of multiple hosts. Each segment in the chain is a self contained NN that feeds into the segment in front. The host with the training data has the beginning segment of the network and the end segment. Intermediate segments of the chain are held by participating hosts.\n",
    "\n",
    "### Training Process\n",
    "\n",
    "The SplitNN network is assembled as a chain of NNs, each feeding into the next. The data subject has both the beginning and the end of this chain.\n",
    "\n",
    "<img src=\"images/training.png\" width=\"80%\">\n",
    "\n",
    "When forward propogation commences, the data subject propogates the x values forward through the network at the start of the chain and sends their activation signals to the next intermediate host. This host feeds the recieved activation signal forward through their network and to the next link in the chain. This continues until the end of the chain is reached. The data subject then recieves an activation signal and forward propogates. They then compute the loss using their y-values.\n",
    "\n",
    "They backward propogate the gradients of the activation signals they recieved to the host previous to them in the chain. This host then computes their gradients, sending the gradient of the activeation signal backward. Eventually, the data subject recieves the gradients of their activation signal at the start of the chain and computes gradients. \n",
    "\n",
    "The NNs in the chain update their weights and biases, commenceing the next epoch. When a host is finished training, they pass the front and end segments to the next person with data to train.\n",
    "\n",
    "<img src=\"images/BatchFlow.png\" width=\"40%\">\n",
    "\n",
    "\n",
    "### Why use a SplitNN?\n",
    "\n",
    "The SplitNN has been shown to provide a dramatic reduction to the computational burden of training while maintaining higher accuracies when training over large number of clients [[1](https://arxiv.org/abs/1812.00564)]. In the figure below, the Blue line denotes distributed deep learning using splitNN, red line indicate federated learning (FL) and green line indicates Large Batch Stochastic Gradient Descent (LBSGD).\n",
    "\n",
    "<img src=\"images/AccuracyvsFlops.png\" width=\"60%\">\n",
    "\n",
    "<img src=\"images/computation.png\" width=\"40%\">\n",
    " \n",
    "Table 1 shows computational resources consumed when training CIFAR 10 over VGG. Theses are a fraction of the resources of FL and LBSGD. Table 2 shows the bandwith usage when training CIFAR 100 over ResNet. Federated learning is less bandwidth intensive with fewer than 100 clients. However, the SplitNN outperforms other approaches as the number of clients grow[[1](https://arxiv.org/abs/1812.00564)].\n",
    "\n",
    "<img src=\"images/bandwidth.png\" width=\"40%\">\n",
    "\n",
    "Using this technique, nobody knows the input data and labels apart from the data subject. All that is sent or recieved between nodes is activation signals during forward propogation and their corresponding gradients during backpropogation. Entropy can be added to the activation signals through adding layers to the model segments. Entropy of training data could potentially be measured to arrive at the appropriate number of layers to use in order to adequately hide the orignal values in start and end segments.\n",
    "\n",
    "During this process, no hosts involved in the learning process have a full picture of the network. As a result there is very little risk of the model being stolen by participating hosts. Models could only be fully recovered by malicious participants if they were to collude with every other host. \n",
    "\n",
    "### Advantages\n",
    "\n",
    "- The accuracy should be almost identical to a non-split version of the same model, trained locally. \n",
    "- Models and data can be homomorphically encrypted for added security at the cost of added computation.\n",
    "- Model is distributed, meaning all segment holders must consent in order to aggregate the model at the end of training.\n",
    "- The scalability of this approach, in terms of both network and computational resources, could make this an a valid alternative to FL and LBSGD, particularly on low power devices.\n",
    "- Could be an effective mechanism for both horizontal and vertical data distributions.\n",
    "- As computational cost is already quite low, proportianate homomorphic encryption cost is also minimised.\n",
    "- Only activation signal gradients are sent/ recieved, meaning that malicious actors cannot use gradients of model parameters to reverse engineer the original values\n",
    "\n",
    "### Constraints\n",
    "\n",
    "- A new technique with little surroundung literature, a large amount of compartison and evaluation is still to be done.\n",
    "- This approach requires all hosts to remain online during the entire learning process.\n",
    "    - makes approach less fesible for hand-held devices\n",
    "- Less established in toolkits than FL and LBSGD\n",
    "- While most aspects of the learning process are anonymised, the intermediary hosts are need to know the location of those ahead and behind to send and recieve data during learning. Ideally this would provide anonymity to participants.\n",
    "- This approach is less secure with small groups training but becomes more secure as the number of model segments increases\n",
    "\n",
    "### Tutorial \n",
    "\n",
    "The SpliNN has the capacity to be a significant contribution to the growing ecosystem of privacy preserving learning methodologies. This tutorial has three purposes;\n",
    "\n",
    "- To explain in as clear terms as possible what is going on during the training of a SplitNN.\n",
    "- To provide a working example of a SplitNN learning on arbitrary sets of; training data, model segments and data providers.\n",
    "- To provide an implementation of this technique on the PySyft framework so that this can be further validated against other techniques. \n",
    "\n",
    "Authors:\n",
    "- Adam Hall - Twitter: [@AJH4LL](https://twitter.com/AJH4LL)\n"
   ]
  },
  {
   "cell_type": "markdown",
   "metadata": {},
   "source": [
    "# Section 1.1 - A Toy NN Example\n",
    "\n",
    "<img src=\"images/wholeNetwork.png\" width=\"60%\">\n",
    "\n",
    "\n",
    "We will begin by training a normal model to benchmark our SplitNN against. This will be the exact same specification as the SPlitNN onlt not distributed. In order to get as close as possible, we will use the same random seed for intitialisation. The dataset will take in arbitrary dataset of four binary features. The only x instance with a y value that is 1 will be 1111.\n",
    "\n",
    "<img src=\"images/benchmarkExample.png\" width=\"60%\">\n",
    "\n",
    "We will create three identical datasets to simulate the batches for each data owner.\n",
    "\n",
    "<img src=\"images/identicalDatasets.png\" width=\"40%\">\n",
    "\n",
    "\n"
   ]
  },
  {
   "cell_type": "code",
   "execution_count": 1,
   "metadata": {},
   "outputs": [
    {
     "ename": "ModuleNotFoundError",
     "evalue": "No module named 'torchviz'",
     "output_type": "error",
     "traceback": [
      "\u001b[0;31m---------------------------------------------------------------------------\u001b[0m",
      "\u001b[0;31mModuleNotFoundError\u001b[0m                       Traceback (most recent call last)",
      "\u001b[0;32m<ipython-input-1-c8b739db7688>\u001b[0m in \u001b[0;36m<module>\u001b[0;34m\u001b[0m\n\u001b[1;32m      2\u001b[0m \u001b[0;32mfrom\u001b[0m \u001b[0mtorch\u001b[0m \u001b[0;32mimport\u001b[0m \u001b[0mnn\u001b[0m\u001b[0;34m\u001b[0m\u001b[0m\n\u001b[1;32m      3\u001b[0m \u001b[0;32mfrom\u001b[0m \u001b[0mtorch\u001b[0m \u001b[0;32mimport\u001b[0m \u001b[0moptim\u001b[0m\u001b[0;34m\u001b[0m\u001b[0m\n\u001b[0;32m----> 4\u001b[0;31m \u001b[0;32mfrom\u001b[0m \u001b[0mtorchviz\u001b[0m \u001b[0;32mimport\u001b[0m \u001b[0mmake_dot\u001b[0m\u001b[0;34m,\u001b[0m \u001b[0mmake_dot_from_trace\u001b[0m\u001b[0;34m\u001b[0m\u001b[0m\n\u001b[0m\u001b[1;32m      5\u001b[0m \u001b[0;32mfrom\u001b[0m \u001b[0mtorch\u001b[0m\u001b[0;34m.\u001b[0m\u001b[0mautograd\u001b[0m \u001b[0;32mimport\u001b[0m \u001b[0mVariable\u001b[0m\u001b[0;34m\u001b[0m\u001b[0m\n\u001b[1;32m      6\u001b[0m \u001b[0;32mimport\u001b[0m \u001b[0mtime\u001b[0m\u001b[0;34m\u001b[0m\u001b[0m\n",
      "\u001b[0;31mModuleNotFoundError\u001b[0m: No module named 'torchviz'"
     ]
    }
   ],
   "source": [
    "import torch\n",
    "from torch import nn\n",
    "from torch import optim\n",
    "from torchviz import make_dot, make_dot_from_trace\n",
    "from torch.autograd import Variable\n",
    "import time"
   ]
  },
  {
   "cell_type": "code",
   "execution_count": null,
   "metadata": {},
   "outputs": [],
   "source": [
    "# A Toy Dataset\n",
    "x = torch.tensor([[0,0,0,0],[1,0,0,0],[0,1,0,0],[0,0,1,0],[1,1,0,0],[1,0,1,0],[0,1,1,0],[1,1,1,0],[0,0,0,1],[1,0,0,1],[0,1,0,1],[0,0,1,1],[1,1,0,1],[1,0,1,1],[0,1,1,1],[1,1,1,1.]])\n",
    "y = torch.tensor([[0],[0],[0],[0],[0],[0],[0],[0],[1],[1],[1],[1],[1],[1],[1],[1.]])\n",
    "\n",
    "\n",
    "\n",
    "x1 = x\n",
    "x2 = x\n",
    "x3 = x\n",
    "\n",
    "y1 = y\n",
    "y2 = y\n",
    "y3 = y\n",
    "\n",
    "\n",
    "torch.manual_seed(2)\n",
    "# One Model\n",
    "model = nn.Sequential(\n",
    "            nn.Linear(4, 3),\n",
    "            nn.Tanh(),\n",
    "            nn.Linear(3, 3),\n",
    "            nn.Sigmoid(),\n",
    "            nn.Linear(3, 3),\n",
    "            nn.Sigmoid(),\n",
    "            nn.Linear(3, 2),\n",
    "            nn.Tanh(),\n",
    "            nn.Linear(2, 1),\n",
    "            nn.Sigmoid()\n",
    "        )"
   ]
  },
  {
   "cell_type": "markdown",
   "metadata": {},
   "source": [
    "## Model Summary"
   ]
  },
  {
   "cell_type": "markdown",
   "metadata": {},
   "source": [
    "Here we see the parameter values for our model and the computation graph.\n",
    "\n",
    "<img src=\"images/wholeNetwork.png\" width=\"60%\">\n",
    "\n",
    "### Model Parameters and Computation Graph"
   ]
  },
  {
   "cell_type": "code",
   "execution_count": 2,
   "metadata": {
    "scrolled": true
   },
   "outputs": [],
   "source": [
    "# for name, param in model.named_parameters():\n",
    "#     if param.requires_grad:\n",
    "#         print(name, param.data)\n",
    "# make_dot(model(x), params=dict(model.named_parameters()))"
   ]
  },
  {
   "cell_type": "markdown",
   "metadata": {},
   "source": [
    "## Training Logic\n",
    "\n",
    "<img src=\"images/benchmarkExample.png\" width=\"60%\">"
   ]
  },
  {
   "cell_type": "code",
   "execution_count": 3,
   "metadata": {},
   "outputs": [],
   "source": [
    "def train(x, y):\n",
    "    # Training Logic\n",
    "    \n",
    "    epochs = 300\n",
    "    learnRate = 0.2\n",
    "    \n",
    "    opt = optim.SGD(params=model.parameters(),lr=learnRate)\n",
    "    counter = 0\n",
    "    startTime = time.time()\n",
    "    \n",
    "    for iter in range(epochs):\n",
    "\n",
    "        # 1) erase previous gradients (if they exist)\n",
    "        opt.zero_grad()\n",
    "\n",
    "        # 2) make a prediction\n",
    "        pred = model(x)\n",
    "\n",
    "        # 3) calculate how much we missed\n",
    "        loss = ((pred - y)**2).sum()\n",
    "\n",
    "        # 4) figure out which weights caused us to miss\n",
    "        loss.backward()\n",
    "\n",
    "        # 5) change those weights\n",
    "        opt.step()\n",
    "\n",
    "        # 6) print our progress every 20 epochs\n",
    "        counter = counter+1\n",
    "        if counter%(epochs/10) == 0:\n",
    "            print(\"Epoch: \",counter)\n",
    "            print(\"Predictions: \",torch.t(pred.data))\n",
    "            print(\"Loss: \",loss.data)\n",
    "            print(\"Runtime: \",time.time() - startTime)"
   ]
  },
  {
   "cell_type": "code",
   "execution_count": 4,
   "metadata": {
    "scrolled": true
   },
   "outputs": [
    {
     "ename": "NameError",
     "evalue": "name 'x1' is not defined",
     "output_type": "error",
     "traceback": [
      "\u001b[0;31m---------------------------------------------------------------------------\u001b[0m",
      "\u001b[0;31mNameError\u001b[0m                                 Traceback (most recent call last)",
      "\u001b[0;32m<ipython-input-4-24805da8df23>\u001b[0m in \u001b[0;36m<module>\u001b[0;34m\u001b[0m\n\u001b[0;32m----> 1\u001b[0;31m \u001b[0mtrain\u001b[0m\u001b[0;34m(\u001b[0m\u001b[0mx1\u001b[0m\u001b[0;34m,\u001b[0m \u001b[0my1\u001b[0m\u001b[0;34m)\u001b[0m\u001b[0;34m\u001b[0m\u001b[0m\n\u001b[0m\u001b[1;32m      2\u001b[0m \u001b[0mprint\u001b[0m\u001b[0;34m(\u001b[0m\u001b[0;34m\"\\n\\nNEXT BATCH\\n\\n\"\u001b[0m\u001b[0;34m)\u001b[0m\u001b[0;34m\u001b[0m\u001b[0m\n\u001b[1;32m      3\u001b[0m \u001b[0mtrain\u001b[0m\u001b[0;34m(\u001b[0m\u001b[0mx2\u001b[0m\u001b[0;34m,\u001b[0m \u001b[0my2\u001b[0m\u001b[0;34m)\u001b[0m\u001b[0;34m\u001b[0m\u001b[0m\n\u001b[1;32m      4\u001b[0m \u001b[0mprint\u001b[0m\u001b[0;34m(\u001b[0m\u001b[0;34m\"\\n\\nNEXT BATCH\\n\\n\"\u001b[0m\u001b[0;34m)\u001b[0m\u001b[0;34m\u001b[0m\u001b[0m\n\u001b[1;32m      5\u001b[0m \u001b[0mtrain\u001b[0m\u001b[0;34m(\u001b[0m\u001b[0mx3\u001b[0m\u001b[0;34m,\u001b[0m \u001b[0my3\u001b[0m\u001b[0;34m)\u001b[0m\u001b[0;34m\u001b[0m\u001b[0m\n",
      "\u001b[0;31mNameError\u001b[0m: name 'x1' is not defined"
     ]
    }
   ],
   "source": [
    "train(x1, y1)\n",
    "print(\"\\n\\nNEXT BATCH\\n\\n\")\n",
    "train(x2, y2)\n",
    "print(\"\\n\\nNEXT BATCH\\n\\n\")\n",
    "train(x3, y3)\n",
    "print(\"\\n\\nFinal Predictions:\", torch.t(model(x)))\n"
   ]
  },
  {
   "cell_type": "markdown",
   "metadata": {},
   "source": [
    "# Section 2.1 - A Distributed Training Example\n",
    "\n",
    "We will train a splitNN model that has been distributed to three different hosts. One host, Alice, is the data subject. Alice has the labelled data and will also be the custodian of the network start and end segments. Claire and Bob are worker hosts. They will feed the activation signals from the start of the chain forward until it reaches alices end layer. They will do the reverse with gradients in the backpropogation process. "
   ]
  },
  {
   "cell_type": "markdown",
   "metadata": {},
   "source": [
    "## Section 2.1.1 - Set up environmental variables\n",
    "\n",
    "Here we will import our required libraries and initialise our model segments and data. We will need;\n",
    "\n",
    "<img src=\"images/distributed.png\" width=\"50%\">\n",
    "\n",
    "- A dummy distributed dataset\n",
    "- 5 model segments\n",
    "- 3 Virtual Workers"
   ]
  },
  {
   "cell_type": "code",
   "execution_count": 5,
   "metadata": {},
   "outputs": [
    {
     "ename": "ModuleNotFoundError",
     "evalue": "No module named 'torchviz'",
     "output_type": "error",
     "traceback": [
      "\u001b[0;31m---------------------------------------------------------------------------\u001b[0m",
      "\u001b[0;31mModuleNotFoundError\u001b[0m                       Traceback (most recent call last)",
      "\u001b[0;32m<ipython-input-5-cc7658254bcc>\u001b[0m in \u001b[0;36m<module>\u001b[0;34m\u001b[0m\n\u001b[1;32m      5\u001b[0m \u001b[0mhook\u001b[0m \u001b[0;34m=\u001b[0m \u001b[0msy\u001b[0m\u001b[0;34m.\u001b[0m\u001b[0mTorchHook\u001b[0m\u001b[0;34m(\u001b[0m\u001b[0mtorch\u001b[0m\u001b[0;34m)\u001b[0m\u001b[0;34m\u001b[0m\u001b[0m\n\u001b[1;32m      6\u001b[0m \u001b[0;34m\u001b[0m\u001b[0m\n\u001b[0;32m----> 7\u001b[0;31m \u001b[0;32mfrom\u001b[0m \u001b[0mtorchviz\u001b[0m \u001b[0;32mimport\u001b[0m \u001b[0mmake_dot\u001b[0m\u001b[0;34m,\u001b[0m \u001b[0mmake_dot_from_trace\u001b[0m\u001b[0;34m\u001b[0m\u001b[0m\n\u001b[0m\u001b[1;32m      8\u001b[0m \u001b[0;32mfrom\u001b[0m \u001b[0mtorch\u001b[0m\u001b[0;34m.\u001b[0m\u001b[0mautograd\u001b[0m \u001b[0;32mimport\u001b[0m \u001b[0mVariable\u001b[0m\u001b[0;34m\u001b[0m\u001b[0m\n",
      "\u001b[0;31mModuleNotFoundError\u001b[0m: No module named 'torchviz'"
     ]
    }
   ],
   "source": [
    "import torch\n",
    "from torch import nn\n",
    "from torch import optim\n",
    "import syft as sy\n",
    "hook = sy.TorchHook(torch)\n",
    "\n",
    "from torchviz import make_dot, make_dot_from_trace\n",
    "from torch.autograd import Variable"
   ]
  },
  {
   "cell_type": "code",
   "execution_count": null,
   "metadata": {},
   "outputs": [],
   "source": [
    "# A Toy Dataset\n",
    "x = torch.tensor([[0,0,0,0],[1,0,0,0],[0,1,0,0],[0,0,1,0],[1,1,0,0],[1,0,1,0],[0,1,1,0],[1,1,1,0],[0,0,0,1],[1,0,0,1],[0,1,0,1],[0,0,1,1],[1,1,0,1],[1,0,1,1],[0,1,1,1],[1,1,1,1.]])\n",
    "y = torch.tensor([[0],[0],[0],[0],[0],[0],[0],[0],[1],[1],[1],[1],[1],[1],[1],[1.]])\n",
    "\n",
    "\n",
    "torch.manual_seed(2)\n",
    "# Five Linked Models\n",
    "model1 = nn.Sequential(\n",
    "            nn.Linear(4, 3),\n",
    "            nn.Tanh()\n",
    "        )\n",
    "\n",
    "model2 = nn.Sequential(\n",
    "            nn.Linear(3, 3),\n",
    "            nn.Sigmoid()\n",
    "        )\n",
    "\n",
    "model3 = nn.Sequential(\n",
    "            nn.Linear(3, 3),\n",
    "            nn.Sigmoid()\n",
    "        )\n",
    "\n",
    "model4 = nn.Sequential(\n",
    "            nn.Linear(3, 2),\n",
    "            nn.Tanh()\n",
    "        )\n",
    "model5 = nn.Sequential(\n",
    "            nn.Linear(2, 1),\n",
    "            nn.Sigmoid()\n",
    "        )\n",
    "\n",
    "# create some workers\n",
    "alice = sy.VirtualWorker(hook, id=\"alice\")\n",
    "bob = sy.VirtualWorker(hook, id=\"bob\")\n",
    "claire = sy.VirtualWorker(hook, id=\"claire\")"
   ]
  },
  {
   "cell_type": "markdown",
   "metadata": {},
   "source": [
    "## Model Segment 1 Summary\n",
    "\n",
    "### Model Parameters and Computation Graph"
   ]
  },
  {
   "cell_type": "code",
   "execution_count": null,
   "metadata": {},
   "outputs": [],
   "source": [
    "# for name, param in model1.named_parameters():\n",
    "#     if param.requires_grad:\n",
    "#         print(name, param.data)\n",
    "# make_dot(model1(x), params=dict(model1.named_parameters()))"
   ]
  },
  {
   "cell_type": "markdown",
   "metadata": {},
   "source": [
    "## Model Segment 2 Summary\n",
    "\n",
    "### Model Parameters and Computation Graph"
   ]
  },
  {
   "cell_type": "code",
   "execution_count": null,
   "metadata": {},
   "outputs": [],
   "source": [
    "# for name, param in model2.named_parameters():\n",
    "#     if param.requires_grad:\n",
    "#         print(name, param.data)\n",
    "# make_dot(model2(model1(x).data), params=dict(model2.named_parameters()))        "
   ]
  },
  {
   "cell_type": "markdown",
   "metadata": {},
   "source": [
    "## Model Segment 3 Summary\n",
    "\n",
    "### Model Parameters and Computation Graph"
   ]
  },
  {
   "cell_type": "code",
   "execution_count": null,
   "metadata": {},
   "outputs": [],
   "source": [
    "# for name, param in model3.named_parameters():\n",
    "#     if param.requires_grad:\n",
    "#         print(name, param.data)\n",
    "\n",
    "# make_dot(model3(model2(model1(x).data).data), params=dict(model3.named_parameters()))"
   ]
  },
  {
   "cell_type": "markdown",
   "metadata": {},
   "source": [
    "## Model Segment 4 Summary\n",
    "\n",
    "### Model Parameters and Computation Graph"
   ]
  },
  {
   "cell_type": "code",
   "execution_count": 6,
   "metadata": {},
   "outputs": [],
   "source": [
    "# for name, param in model4.named_parameters():\n",
    "#     if param.requires_grad:\n",
    "#         print(name, param.data)\n",
    "\n",
    "# make_dot(model4(model3(model2(model1(x).data).data).data), params=dict(model4.named_parameters()))"
   ]
  },
  {
   "cell_type": "markdown",
   "metadata": {},
   "source": [
    "## Model Segment 5 Summary\n",
    "\n",
    "### Model Parameters and Computation Graph"
   ]
  },
  {
   "cell_type": "code",
   "execution_count": 7,
   "metadata": {},
   "outputs": [],
   "source": [
    "# for name, param in model4.named_parameters():\n",
    "#     if param.requires_grad:\n",
    "#         print(name, param.data)\n",
    "\n",
    "# make_dot(model5(model4(model3(model2(model1(x).data).data).data).data), params=dict(model5.named_parameters()))"
   ]
  },
  {
   "cell_type": "markdown",
   "metadata": {},
   "source": [
    "The final predictions are shown above, we can compare this with the output of the same 'split' neural network"
   ]
  },
  {
   "cell_type": "markdown",
   "metadata": {},
   "source": [
    "## Section 2.1.2 - Send Variables to Starting Locations\n",
    "\n",
    "In this example, Alice is the worker with the data and labels. Bob and Claire are intermediary hosts in the chain. Alice has the start and end model segments. Bob and Claire have intermediary segments.\n",
    "\n",
    "We send the models and data to their respective hosts and store the pointers in associative arrays; the Model Chain (MC) and the xy Chain (xyC). These contain the locations of the data, but no actual values. These are the only necessary parameters for coordinating this learning process. A summary of this is seen below\n",
    "\n",
    "<img src=\"images/Parameters.png\" width=\"50%\">\n",
    "\n",
    "In this experiment, the models and data are initialised locally and then distributed out."
   ]
  },
  {
   "cell_type": "code",
   "execution_count": 8,
   "metadata": {
    "scrolled": true
   },
   "outputs": [
    {
     "ename": "NameError",
     "evalue": "name 'model1' is not defined",
     "output_type": "error",
     "traceback": [
      "\u001b[0;31m---------------------------------------------------------------------------\u001b[0m",
      "\u001b[0;31mNameError\u001b[0m                                 Traceback (most recent call last)",
      "\u001b[0;32m<ipython-input-8-8ce95668d13f>\u001b[0m in \u001b[0;36m<module>\u001b[0;34m\u001b[0m\n\u001b[1;32m      1\u001b[0m \u001b[0;31m# Send Model Segmemnts to starting locations\u001b[0m\u001b[0;34m\u001b[0m\u001b[0;34m\u001b[0m\u001b[0m\n\u001b[0;32m----> 2\u001b[0;31m \u001b[0mmodel1\u001b[0m \u001b[0;34m=\u001b[0m \u001b[0mmodel1\u001b[0m\u001b[0;34m.\u001b[0m\u001b[0msend\u001b[0m\u001b[0;34m(\u001b[0m\u001b[0malice\u001b[0m\u001b[0;34m)\u001b[0m\u001b[0;34m\u001b[0m\u001b[0m\n\u001b[0m\u001b[1;32m      3\u001b[0m \u001b[0mmodel2\u001b[0m \u001b[0;34m=\u001b[0m \u001b[0mmodel2\u001b[0m\u001b[0;34m.\u001b[0m\u001b[0msend\u001b[0m\u001b[0;34m(\u001b[0m\u001b[0malice\u001b[0m\u001b[0;34m)\u001b[0m\u001b[0;34m\u001b[0m\u001b[0m\n\u001b[1;32m      4\u001b[0m \u001b[0mmodel3\u001b[0m \u001b[0;34m=\u001b[0m \u001b[0mmodel3\u001b[0m\u001b[0;34m.\u001b[0m\u001b[0msend\u001b[0m\u001b[0;34m(\u001b[0m\u001b[0mbob\u001b[0m\u001b[0;34m)\u001b[0m\u001b[0;34m\u001b[0m\u001b[0m\n\u001b[1;32m      5\u001b[0m \u001b[0mmodel4\u001b[0m \u001b[0;34m=\u001b[0m \u001b[0mmodel4\u001b[0m\u001b[0;34m.\u001b[0m\u001b[0msend\u001b[0m\u001b[0;34m(\u001b[0m\u001b[0mclaire\u001b[0m\u001b[0;34m)\u001b[0m\u001b[0;34m\u001b[0m\u001b[0m\n",
      "\u001b[0;31mNameError\u001b[0m: name 'model1' is not defined"
     ]
    }
   ],
   "source": [
    "# Send Model Segmemnts to starting locations\n",
    "model1 = model1.send(alice)\n",
    "model2 = model2.send(alice)\n",
    "model3 = model3.send(bob)\n",
    "model4 = model4.send(claire)\n",
    "model5 = model5.send(alice)\n",
    "\n",
    "# Distribute the input data\n",
    "x1 = x.send(alice)\n",
    "x2 = x.send(bob)\n",
    "x3 = x.send(claire)\n",
    "\n",
    "# Distribute the data labels\n",
    "y1 = y.send(alice)\n",
    "y2 = y.send(bob)\n",
    "y3 = y.send(claire)\n",
    "\n",
    "# Add these values to lists for use in training\n",
    "xChain = [x1,x2,x3]\n",
    "yChain = [y1,y2,y3]\n",
    "\n",
    "xyChain = [xChain,yChain]\n",
    "\n",
    "dataChain = [xChain, yChain]\n",
    "# Add these models to a list to be used during training\n",
    "modelChain = [model1, model2, model3, model4, model5]"
   ]
  },
  {
   "cell_type": "markdown",
   "metadata": {},
   "source": [
    "## Section 2.1.3 - Forward Propogation\n",
    "\n",
    "We will need to define the logic of forward and backward propogation. \n",
    "\n",
    "Forward propogation feeds the input data into Alice's segment at the beginning of the chain. Alice then sends her activation signal to the location of the next model in the chain. This model propogates this activation and sends it onward to the location of the next segment. The signal will eventually reach alice's end segment to perform a prediction. We store pointers to the activations of each layer using the Activation Chain (AC). This allows us to retrieve the values when processing gradients. When the activations have fully propogated the MC, the method returns the resultant AC for use in the backpropogation function. \n",
    "\n",
    "<img src=\"images/activationchain.png\" width=\"50%\">"
   ]
  },
  {
   "cell_type": "code",
   "execution_count": 9,
   "metadata": {},
   "outputs": [],
   "source": [
    "def forwardPropogate(modelChain, x):\n",
    "\n",
    "    activationChain = []\n",
    "    \n",
    "    activationChain.append(modelChain[0](x))\n",
    "    activationChain[0] = activationChain[0].get().send(modelChain[1].__getitem__(0).weight[0].location)\n",
    "    \n",
    "    i = 1\n",
    "    for iter in range(len(modelChain)-2):\n",
    "        activationChain.append(modelChain[i](activationChain[i-1]))\n",
    "        activationChain[i] = activationChain[i].get().send(modelChain[i+1].__getitem__(0).weight[0].location)\n",
    "        i += 1\n",
    "\n",
    "    activationChain.append(modelChain[len(modelChain)-1](activationChain[i-1]))\n",
    "    \n",
    "    return activationChain"
   ]
  },
  {
   "cell_type": "markdown",
   "metadata": {},
   "source": [
    "## Section 2.1.4 - Backward Propogation\n",
    "\n",
    "The backpropogation function takes the MC, xyC and AC as input parameters.\n",
    "\n",
    "<img src=\"images/backpropParams.png\" width=\"80%\">\n",
    "\n",
    "\n",
    "First the backpropogation algorithm computes the loss on Alice's prediction. We use <b>**** what seems to be**** </b> the sum of squared error as our loss function.\n",
    "\n",
    "<img src=\"images/loss.png\" width=\"100%\">\n",
    "\n",
    "We then calculate the gradients for the parameters of the end segment using the chain rule.\n",
    "\n",
    "<img src=\"images/chainRule.png\" width=\"40%\">\n",
    "\n",
    "This is done automatically for the layers in each segment but we have to recalculate loss for each model segment during the backpropogation phase.\n",
    "\n",
    "<img src=\"images/intermediateLoss.png\" width=\"80%\">\n",
    "\n",
    "\n",
    "\n",
    "\n",
    "Each segment feeds the gradients of their activation function back to the segment behind them and updates their weights w.r.t these gradients. This layer computes it's loss by dot joining the orignal activation signal and it's new gradient. The sum of the result is used to feed back error down the line. After each segment is complete, the optimiser for that model updates. The process is repeated until the segment at the beginning of the chain is reached and alice updates the gradients on her beginning segment."
   ]
  },
  {
   "cell_type": "code",
   "execution_count": 10,
   "metadata": {},
   "outputs": [],
   "source": [
    "def backwardPropogate(modelChain, optChain, activationChain, x, y):\n",
    "        \n",
    "#   Destroy pre-existing gradient of final layer\n",
    "    optChain[len(optChain)-1].zero_grad()\n",
    "    \n",
    "#     TODO: I DONT KNOW IF ITS NECESSARY TO RECONSTRUCT GRAPH AT EACH LAYER.\n",
    "#         CAN COMPUTATION GRAPHS EXTEND OVER MODELS ON MULTIPLE HOSTS? AT THE MOMENT\n",
    "#         I'M JUST FLUSHING THE OLD COMPUTATION GRAPH AND GENERATING A NEW ONE FOR\n",
    "#         THE PURPOSE OF FEEDING BACK ERROR. THIS IS HIGHLY INEFFICIENT.\n",
    "#   Constructs computation graph for final layer\n",
    "    activationChain[len(activationChain)-2].requires_grad = True\n",
    "    activationChain[len(activationChain)-1] = modelChain[len(modelChain)-1](activationChain[len(activationChain)-2])\n",
    "    \n",
    "#     TODO: LOOKS LIKE JUST SQUARED ERROR, NOT MEAN SQUARED. \n",
    "#         NOT SURE IF I HAVE THE RIGHT LOSS EQUATION. COULD BE\n",
    "#         THAT THIS IS DONE AS PART OF THE .SUM() FUNCTION THOUGH?\n",
    "#         WHEN I ADD THE /n PART IT DOESN'T LEARN SO WELL..\n",
    "#   Calculates Loss\n",
    "#     loss = (((activationChain[len(activationChain)-1] - y)**2).sum())/(len(activationChain))\n",
    "    loss = (((activationChain[len(activationChain)-1] - y)**2).sum())\n",
    "\n",
    "    \n",
    "#   Calculates Gradients\n",
    "    loss.backward()\n",
    "        \n",
    "#     for iter in range(len(activationChain)):\n",
    "#         print(activationChain[iter].location)\n",
    "    \n",
    "    \n",
    "#   End layer sends the gradient of the activation signal back to the layer behind\n",
    "    DofA = activationChain[len(activationChain)-2].grad.clone().get().send(modelChain[len(modelChain)-2].__getitem__(0).weight[0].location)\n",
    "    \n",
    "#   End layer updates weights\n",
    "    optChain[len(optChain)-1].step()\n",
    "\n",
    "#   Compute Intermediary Layers\n",
    "    for iter in range(len(modelChain)-1, 1, -1): \n",
    "        optChain[iter-1].zero_grad()\n",
    "        activationChain[len(activationChain)-iter-1].requires_grad = True\n",
    "        activationChain[iter-1] = modelChain[iter-1](activationChain[iter-2]) \n",
    "        feedbackError = torch.matmul(torch.t(activationChain[iter-1]), DofA).sum()\n",
    "        feedbackError.backward()\n",
    "        DofA = activationChain[iter-2].grad.clone().get().send(modelChain[iter-2].__getitem__(0).weight[0].location)\n",
    "        optChain[iter-1].step()\n",
    "\n",
    "#   Compute Final Layer \n",
    "    optChain[0].zero_grad()\n",
    "    activationChain[0] = modelChain[0](x) \n",
    "    feedbackError = torch.matmul(torch.t(activationChain[0]), DofA).sum()\n",
    "    feedbackError.backward()\n",
    "    optChain[0].step()\n",
    "        \n",
    "    return activationChain[len(activationChain)-1], loss"
   ]
  },
  {
   "cell_type": "markdown",
   "metadata": {},
   "source": [
    "## Section 2.1.5 - Run Training Logic\n",
    "\n",
    "Now we will run the training process over 200 epochs for each data owner. Every 20 epochs we will print our progress. The front and end sections of the model will be swapped between data owners training each individual batch.\n",
    "\n",
    "<img src=\"images/BatchFlow.png\" width=\"40%\">\n"
   ]
  },
  {
   "cell_type": "code",
   "execution_count": 11,
   "metadata": {},
   "outputs": [],
   "source": [
    "def AnonymousSplitNNtrain(modelChain, xyChain):\n",
    "    \n",
    "    #   Variables for performance metrics\n",
    "    startTime = time.time()\n",
    "    epochs = 300\n",
    "    learnRate = 0.2\n",
    "    counter = 0\n",
    "    \n",
    "    #   Create optimisers for each segment and link to their segment    \n",
    "    optChain = [0]*len(modelChain)\n",
    "    for iter in range(len(modelChain)):\n",
    "        optChain[iter] = optim.SGD(params=modelChain[iter].parameters(),lr=learnRate)\n",
    "    \n",
    "    \n",
    "    for i in range(len(xyChain[0])):\n",
    "        \n",
    "#       Begin work on current data subjecta\n",
    "        x = xyChain[0][i]\n",
    "        y = xyChain[1][i]\n",
    "        \n",
    "        for iter in range(epochs):\n",
    "        #   Forward propogate through network until final layer is reached\n",
    "            activationChain = forwardPropogate(modelChain, x)\n",
    "            \n",
    "#             DEBUGGING\n",
    "#             for iter in range(len(activationChain)):\n",
    "#                 print(activationChain[iter].location)\n",
    "            \n",
    "        #   Backward propogate\n",
    "            predictions, loss = backwardPropogate(modelChain, optChain, activationChain, x, y)\n",
    "\n",
    "            counter = counter+1\n",
    "            if counter%(epochs/10) == 0:\n",
    "                print(\"Epoch: \",counter)\n",
    "                print(\"Predictions: \",torch.t(predictions).get().data)\n",
    "                print(\"Loss: \",loss.get().data)\n",
    "                print(\"Runtime: \",time.time() - startTime)\n",
    "    \n",
    "        counter = 0\n",
    "        \n",
    "#       If we are not at the end of the data owner chain send perimeter segments to next data owner\n",
    "        if i < len(xyChain[0])-1:\n",
    "            modelChain[0].get().send(xyChain[0][i+1].location)\n",
    "            modelChain[len(modelChain)-1].get().send(xyChain[0][i+1].location)      \n",
    "            \n",
    "\n",
    "            print(\"\\nNEXT DATA OWNER\\n\")\n",
    "            print(\"MODEL CHAIN LOCATIONS\\n\")\n",
    "            for iter in range(len(modelChain)):\n",
    "                print(modelChain[iter].__getitem__(0).weight[0].location)\n",
    "                \n",
    "            print(\"\\n\\n\")\n",
    "    \n",
    "#     Aggregate models back to researcher\n",
    "    for i in range(len(modelChain)):\n",
    "        modelChain[i] = modelChain[i].get()\n",
    "    \n",
    "#     Perform predictions with update weights\n",
    "    x = torch.tensor([[0,0,0,0],[1,0,0,0],[0,1,0,0],[0,0,1,0],[1,1,0,0],[1,0,1,0],[0,1,1,0],[1,1,1,0],[0,0,0,1],[1,0,0,1],[0,1,0,1],[0,0,1,1],[1,1,0,1],[1,0,1,1],[0,1,1,1],[1,1,1,1.]])\n",
    "    for i in range(len(modelChain)):\n",
    "        x = modelChain[i](x)\n",
    "        \n",
    "    print(\"\\n\\nFinal Predictions:\", torch.t(x))\n",
    "    "
   ]
  },
  {
   "cell_type": "code",
   "execution_count": 12,
   "metadata": {
    "scrolled": false
   },
   "outputs": [
    {
     "ename": "NameError",
     "evalue": "name 'modelChain' is not defined",
     "output_type": "error",
     "traceback": [
      "\u001b[0;31m---------------------------------------------------------------------------\u001b[0m",
      "\u001b[0;31mNameError\u001b[0m                                 Traceback (most recent call last)",
      "\u001b[0;32m<ipython-input-12-19203033d860>\u001b[0m in \u001b[0;36m<module>\u001b[0;34m\u001b[0m\n\u001b[0;32m----> 1\u001b[0;31m \u001b[0mAnonymousSplitNNtrain\u001b[0m\u001b[0;34m(\u001b[0m\u001b[0mmodelChain\u001b[0m\u001b[0;34m,\u001b[0m \u001b[0mxyChain\u001b[0m\u001b[0;34m)\u001b[0m\u001b[0;34m\u001b[0m\u001b[0m\n\u001b[0m",
      "\u001b[0;31mNameError\u001b[0m: name 'modelChain' is not defined"
     ]
    }
   ],
   "source": [
    "AnonymousSplitNNtrain(modelChain, xyChain)"
   ]
  },
  {
   "cell_type": "markdown",
   "metadata": {},
   "source": [
    "# Results\n",
    "\n",
    "- The SplitNN trains more slowly than the centralised network.\n",
    "    - This is expected due to the current processing redundancies and network latencies ().\n",
    "- The SplitNN takes more epochs to train correctly\n",
    "    - This could be to do with the way that loss is transferred down the line (the activation signals and corresponding gradients are dot-joined and summed. This acts as a loss equation for computing the gradients of intermediate layers)\n",
    "    - The same random seed is used when generating both models in order to make these as similar as possible"
   ]
  },
  {
   "cell_type": "markdown",
   "metadata": {},
   "source": [
    "# Future work\n",
    "\n",
    "- The present approach stops anyone from having knowledge of the NN segment behind them. This is true except in one instance. When Alice passes segment 1 and 5 to Bob, Alice has prior knowledge of Segment 1. Then when Bob then passes his x values through and sends the resultant a values to segment 2 (Alice), Alice knows the model and resultant activation signal. Alice also knows the error being fed back so she can maintain knowledge of the model as it's. With the knowledge of the model and activation signals, Alice could reverse engineer Bob's x values.\n",
    "    - This could potentially be solved by homomorphically encrypting x values being fed into the model. Alice would then not know the activation signal, however a robust approach for this is yet to be established.\n",
    "- A tokenisation infrastructure or masked dns service could be implemented to provide anonymity to hosts during traing. Ideally the difference 'chains' involved here could be written to a smart contract and be publicly available information. \n"
   ]
  },
  {
   "cell_type": "markdown",
   "metadata": {},
   "source": [
    "### TODO:\n",
    "- Figure out whether we need to reconstruct computation graph at each layer\n",
    "    - I am unclear as to whether i can work with a computation graph that is distributed. For this reason I recreate the computation graph by pushing through the activation signals of An-1 again and recompute error with that. This means that we are doing around twice the computation, which is a bad thing. Hopefully there is a workaround!\n",
    "- Implement .move() instead of .get().send()\n",
    "    - Should move data directly between owners"
   ]
  }
 ],
 "metadata": {
  "kernelspec": {
   "display_name": "Python 3",
   "language": "python",
   "name": "python3"
  },
  "language_info": {
   "codemirror_mode": {
    "name": "ipython",
    "version": 3
   },
   "file_extension": ".py",
   "mimetype": "text/x-python",
   "name": "python",
   "nbconvert_exporter": "python",
   "pygments_lexer": "ipython3",
   "version": "3.7.0"
  }
 },
 "nbformat": 4,
 "nbformat_minor": 2
}
