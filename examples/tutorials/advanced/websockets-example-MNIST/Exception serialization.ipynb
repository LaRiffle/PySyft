{
 "cells": [
  {
   "cell_type": "code",
   "execution_count": 11,
   "metadata": {},
   "outputs": [],
   "source": [
    "import sys, json\n",
    "from six import reraise\n",
    "from syft.exceptions import ResponseSignatureError\n",
    "from tblib import Traceback\n",
    "import traceback\n",
    "import syft as sy"
   ]
  },
  {
   "cell_type": "code",
   "execution_count": 12,
   "metadata": {},
   "outputs": [],
   "source": [
    "e = getattr(sy.exceptions, 'ResponseSignatureError')()"
   ]
  },
  {
   "cell_type": "code",
   "execution_count": 15,
   "metadata": {},
   "outputs": [
    {
     "data": {
      "text/plain": [
       "syft.exceptions.ResponseSignatureError()"
      ]
     },
     "execution_count": 15,
     "metadata": {},
     "output_type": "execute_result"
    }
   ],
   "source": [
    "e"
   ]
  },
  {
   "cell_type": "code",
   "execution_count": 14,
   "metadata": {},
   "outputs": [],
   "source": [
    "setattr(e, 'j', 3)"
   ]
  },
  {
   "cell_type": "code",
   "execution_count": 4,
   "metadata": {},
   "outputs": [],
   "source": [
    "def my_function():\n",
    "    if True:\n",
    "        for i in range(10):\n",
    "            raise ResponseSignatureError"
   ]
  },
  {
   "cell_type": "code",
   "execution_count": 8,
   "metadata": {},
   "outputs": [],
   "source": [
    "e = ResponseSignatureError()"
   ]
  },
  {
   "cell_type": "markdown",
   "metadata": {},
   "source": [
    "### String version"
   ]
  },
  {
   "cell_type": "code",
   "execution_count": 20,
   "metadata": {},
   "outputs": [
    {
     "name": "stdout",
     "output_type": "stream",
     "text": [
      "ResponseSignatureError\n",
      "====\n",
      "Traceback (most recent call last):\n",
      "  File \"<ipython-input-20-b0b84c9cf614>\", line 2, in <module>\n",
      "    my_function()\n",
      "  File \"<ipython-input-4-5ba99dc18d35>\", line 4, in my_function\n",
      "    raise ResponseSignatureError\n",
      "\n"
     ]
    }
   ],
   "source": [
    "try:\n",
    "    my_function()\n",
    "except ResponseSignatureError as error:\n",
    "    print(type(error).__name__)\n",
    "    print('====')\n",
    "    #e = sys.exc_info()\n",
    "    #tp, value, tb = e\n",
    "    tb = error.__traceback__\n",
    "    traceback_str = \"Traceback (most recent call last):\\n\" + ''.join(traceback.format_tb(tb))\n",
    "    print(traceback_str)"
   ]
  },
  {
   "cell_type": "code",
   "execution_count": 1,
   "metadata": {},
   "outputs": [
    {
     "name": "stdout",
     "output_type": "stream",
     "text": [
      "Traceback (most recent call last):\n",
      "  File \"/Users/tryffel/code/PySyft/syft/workers/websocket_server.py\", line 114, in _recv_msg\n",
      "    return self.recv_msg(message)\n",
      "  File \"/Users/tryffel/code/PySyft/syft/workers/base.py\", line 252, in recv_msg\n",
      "    response = self._message_router[msg_type](contents)\n",
      "  File \"/Users/tryffel/code/PySyft/syft/workers/base.py\", line 400, in execute_command\n",
      "    raise ResponseSignatureError(new_ids)\n",
      "\n"
     ]
    }
   ],
   "source": [
    "print('Traceback (most recent call last):\\n  File \"/Users/tryffel/code/PySyft/syft/workers/websocket_server.py\", line 114, in _recv_msg\\n    return self.recv_msg(message)\\n  File \"/Users/tryffel/code/PySyft/syft/workers/base.py\", line 252, in recv_msg\\n    response = self._message_router[msg_type](contents)\\n  File \"/Users/tryffel/code/PySyft/syft/workers/base.py\", line 400, in execute_command\\n    raise ResponseSignatureError(new_ids)\\n')"
   ]
  },
  {
   "cell_type": "code",
   "execution_count": 7,
   "metadata": {},
   "outputs": [
    {
     "ename": "ResponseSignatureError",
     "evalue": "",
     "output_type": "error",
     "traceback": [
      "\u001b[0;31m---------------------------------------------------------------------------\u001b[0m",
      "\u001b[0;31mResponseSignatureError\u001b[0m                    Traceback (most recent call last)",
      "\u001b[0;32m<ipython-input-7-0ad77e2d7114>\u001b[0m in \u001b[0;36m<module>\u001b[0;34m\u001b[0m\n\u001b[1;32m      7\u001b[0m     \u001b[0;32mraise\u001b[0m \u001b[0mResponseSignatureError\u001b[0m\u001b[0;34m(\u001b[0m\u001b[0mnew_ids\u001b[0m\u001b[0;34m)\u001b[0m\u001b[0;34m\u001b[0m\u001b[0m\n\u001b[1;32m      8\u001b[0m \"\"\")\n\u001b[0;32m----> 9\u001b[0;31m \u001b[0mreraise\u001b[0m\u001b[0;34m(\u001b[0m\u001b[0mResponseSignatureError\u001b[0m\u001b[0;34m,\u001b[0m \u001b[0mResponseSignatureError\u001b[0m\u001b[0;34m(\u001b[0m\u001b[0;34m)\u001b[0m\u001b[0;34m,\u001b[0m \u001b[0mtb\u001b[0m\u001b[0;34m.\u001b[0m\u001b[0mas_traceback\u001b[0m\u001b[0;34m(\u001b[0m\u001b[0;34m)\u001b[0m\u001b[0;34m)\u001b[0m\u001b[0;34m\u001b[0m\u001b[0m\n\u001b[0m",
      "\u001b[0;32m~/code/env/pysyft/lib/python3.7/site-packages/six.py\u001b[0m in \u001b[0;36mreraise\u001b[0;34m(tp, value, tb)\u001b[0m\n\u001b[1;32m    690\u001b[0m                 \u001b[0mvalue\u001b[0m \u001b[0;34m=\u001b[0m \u001b[0mtp\u001b[0m\u001b[0;34m(\u001b[0m\u001b[0;34m)\u001b[0m\u001b[0;34m\u001b[0m\u001b[0m\n\u001b[1;32m    691\u001b[0m             \u001b[0;32mif\u001b[0m \u001b[0mvalue\u001b[0m\u001b[0;34m.\u001b[0m\u001b[0m__traceback__\u001b[0m \u001b[0;32mis\u001b[0m \u001b[0;32mnot\u001b[0m \u001b[0mtb\u001b[0m\u001b[0;34m:\u001b[0m\u001b[0;34m\u001b[0m\u001b[0m\n\u001b[0;32m--> 692\u001b[0;31m                 \u001b[0;32mraise\u001b[0m \u001b[0mvalue\u001b[0m\u001b[0;34m.\u001b[0m\u001b[0mwith_traceback\u001b[0m\u001b[0;34m(\u001b[0m\u001b[0mtb\u001b[0m\u001b[0;34m)\u001b[0m\u001b[0;34m\u001b[0m\u001b[0m\n\u001b[0m\u001b[1;32m    693\u001b[0m             \u001b[0;32mraise\u001b[0m \u001b[0mvalue\u001b[0m\u001b[0;34m\u001b[0m\u001b[0m\n\u001b[1;32m    694\u001b[0m         \u001b[0;32mfinally\u001b[0m\u001b[0;34m:\u001b[0m\u001b[0;34m\u001b[0m\u001b[0m\n",
      "\u001b[0;32m/Userdds/tryffel/code/PySyft/syft/workers/websocket_server.py\u001b[0m in \u001b[0;36m_recv_msg\u001b[0;34m()\u001b[0m\n",
      "\u001b[0;32m/Useddrs/tryffel/code/PySyft/syft/workers/base.py\u001b[0m in \u001b[0;36mrecv_msg\u001b[0;34m()\u001b[0m\n",
      "\u001b[0;32m/dd/tryffel/code/PySyft/syft/workers/base.py\u001b[0m in \u001b[0;36mexecute_command\u001b[0;34m()\u001b[0m\n",
      "\u001b[0;31mResponseSignatureError\u001b[0m: "
     ]
    }
   ],
   "source": [
    "tb = Traceback.from_string(\"\"\"Traceback (most recent call last):\n",
    "  File \"/Userdds/tryffel/code/PySyft/syft/workers/websocket_server.py\", line 114, in _recv_msg\n",
    "    return self.recv_msg(message)\n",
    "  File \"/Useddrs/tryffel/code/PySyft/syft/workers/base.py\", line 252, in recv_msg\n",
    "    response = self._message_router[msg_type](contents)\n",
    "  File \"/dd/tryffel/code/PySyft/syft/workers/base.py\", line 400, in execute_command\n",
    "    raise ResponseSignatureError(new_ids)\n",
    "\"\"\")\n",
    "reraise(ResponseSignatureError, ResponseSignatureError(), tb.as_traceback())"
   ]
  },
  {
   "cell_type": "markdown",
   "metadata": {},
   "source": [
    "### Dict version"
   ]
  },
  {
   "cell_type": "code",
   "execution_count": 24,
   "metadata": {},
   "outputs": [
    {
     "name": "stdout",
     "output_type": "stream",
     "text": [
      "{'tb_frame': {'f_globals': {'__name__': '__main__'}, 'f_code': {'co_filename': '<ipython-input-24-6dd78f8d8c06>', 'co_name': '<module>'}}, 'tb_lineno': 2, 'tb_next': {'tb_frame': {'f_globals': {'__name__': '__main__'}, 'f_code': {'co_filename': '<ipython-input-10-5ba99dc18d35>', 'co_name': 'my_function'}}, 'tb_lineno': 4, 'tb_next': None}}\n"
     ]
    }
   ],
   "source": [
    "try:\n",
    "    my_function()\n",
    "except ResponseSignatureError as error:\n",
    "    error = sys.exc_info()\n",
    "    et, ev, tb = error\n",
    "    tb = Traceback(tb)\n",
    "    tb_dict = tb.to_dict()\n",
    "    print(tb_dict)"
   ]
  },
  {
   "cell_type": "code",
   "execution_count": 3,
   "metadata": {},
   "outputs": [
    {
     "ename": "ResponseSignatureError",
     "evalue": "",
     "output_type": "error",
     "traceback": [
      "\u001b[0;31m---------------------------------------------------------------------------\u001b[0m",
      "\u001b[0;31mResponseSignatureError\u001b[0m                    Traceback (most recent call last)",
      "\u001b[0;32m<ipython-input-3-55c717f35d1a>\u001b[0m in \u001b[0;36m<module>\u001b[0;34m\u001b[0m\n\u001b[1;32m      1\u001b[0m \u001b[0mtb_dict\u001b[0m \u001b[0;34m=\u001b[0m \u001b[0;34m{\u001b[0m\u001b[0;34m'tb_frame'\u001b[0m\u001b[0;34m:\u001b[0m \u001b[0;34m{\u001b[0m\u001b[0;34m'f_globals'\u001b[0m\u001b[0;34m:\u001b[0m \u001b[0;34m{\u001b[0m\u001b[0;34m'__name__'\u001b[0m\u001b[0;34m:\u001b[0m \u001b[0;34m'__main__'\u001b[0m\u001b[0;34m}\u001b[0m\u001b[0;34m,\u001b[0m \u001b[0;34m'f_code'\u001b[0m\u001b[0;34m:\u001b[0m \u001b[0;34m{\u001b[0m\u001b[0;34m'co_filename'\u001b[0m\u001b[0;34m:\u001b[0m \u001b[0;34m'<ipython-input-24-6dd78f8d8c06>'\u001b[0m\u001b[0;34m,\u001b[0m \u001b[0;34m'co_name'\u001b[0m\u001b[0;34m:\u001b[0m \u001b[0;34m'<module>'\u001b[0m\u001b[0;34m}\u001b[0m\u001b[0;34m}\u001b[0m\u001b[0;34m,\u001b[0m \u001b[0;34m'tb_lineno'\u001b[0m\u001b[0;34m:\u001b[0m \u001b[0;36m2\u001b[0m\u001b[0;34m,\u001b[0m \u001b[0;34m'tb_next'\u001b[0m\u001b[0;34m:\u001b[0m \u001b[0;34m{\u001b[0m\u001b[0;34m'tb_frame'\u001b[0m\u001b[0;34m:\u001b[0m \u001b[0;34m{\u001b[0m\u001b[0;34m'f_globals'\u001b[0m\u001b[0;34m:\u001b[0m \u001b[0;34m{\u001b[0m\u001b[0;34m'__name__'\u001b[0m\u001b[0;34m:\u001b[0m \u001b[0;34m'__main__'\u001b[0m\u001b[0;34m}\u001b[0m\u001b[0;34m,\u001b[0m \u001b[0;34m'f_code'\u001b[0m\u001b[0;34m:\u001b[0m \u001b[0;34m{\u001b[0m\u001b[0;34m'co_filename'\u001b[0m\u001b[0;34m:\u001b[0m \u001b[0;34m'<ipython-input-10-5ba99dc18d35>'\u001b[0m\u001b[0;34m,\u001b[0m \u001b[0;34m'co_name'\u001b[0m\u001b[0;34m:\u001b[0m \u001b[0;34m'my_function'\u001b[0m\u001b[0;34m}\u001b[0m\u001b[0;34m}\u001b[0m\u001b[0;34m,\u001b[0m \u001b[0;34m'tb_lineno'\u001b[0m\u001b[0;34m:\u001b[0m \u001b[0;36m4\u001b[0m\u001b[0;34m,\u001b[0m \u001b[0;34m'tb_next'\u001b[0m\u001b[0;34m:\u001b[0m \u001b[0;32mNone\u001b[0m\u001b[0;34m}\u001b[0m\u001b[0;34m}\u001b[0m\u001b[0;34m\u001b[0m\u001b[0m\n\u001b[1;32m      2\u001b[0m \u001b[0mtb\u001b[0m \u001b[0;34m=\u001b[0m \u001b[0mTraceback\u001b[0m\u001b[0;34m.\u001b[0m\u001b[0mfrom_dict\u001b[0m\u001b[0;34m(\u001b[0m\u001b[0mtb_dict\u001b[0m\u001b[0;34m)\u001b[0m\u001b[0;34m\u001b[0m\u001b[0m\n\u001b[0;32m----> 3\u001b[0;31m \u001b[0mreraise\u001b[0m\u001b[0;34m(\u001b[0m\u001b[0mResponseSignatureError\u001b[0m\u001b[0;34m,\u001b[0m \u001b[0mResponseSignatureError\u001b[0m\u001b[0;34m(\u001b[0m\u001b[0;34m)\u001b[0m\u001b[0;34m,\u001b[0m \u001b[0mtb\u001b[0m\u001b[0;34m.\u001b[0m\u001b[0mas_traceback\u001b[0m\u001b[0;34m(\u001b[0m\u001b[0;34m)\u001b[0m\u001b[0;34m)\u001b[0m\u001b[0;34m\u001b[0m\u001b[0m\n\u001b[0m",
      "\u001b[0;32m~/code/env/pysyft/lib/python3.7/site-packages/six.py\u001b[0m in \u001b[0;36mreraise\u001b[0;34m(tp, value, tb)\u001b[0m\n\u001b[1;32m    690\u001b[0m                 \u001b[0mvalue\u001b[0m \u001b[0;34m=\u001b[0m \u001b[0mtp\u001b[0m\u001b[0;34m(\u001b[0m\u001b[0;34m)\u001b[0m\u001b[0;34m\u001b[0m\u001b[0m\n\u001b[1;32m    691\u001b[0m             \u001b[0;32mif\u001b[0m \u001b[0mvalue\u001b[0m\u001b[0;34m.\u001b[0m\u001b[0m__traceback__\u001b[0m \u001b[0;32mis\u001b[0m \u001b[0;32mnot\u001b[0m \u001b[0mtb\u001b[0m\u001b[0;34m:\u001b[0m\u001b[0;34m\u001b[0m\u001b[0m\n\u001b[0;32m--> 692\u001b[0;31m                 \u001b[0;32mraise\u001b[0m \u001b[0mvalue\u001b[0m\u001b[0;34m.\u001b[0m\u001b[0mwith_traceback\u001b[0m\u001b[0;34m(\u001b[0m\u001b[0mtb\u001b[0m\u001b[0;34m)\u001b[0m\u001b[0;34m\u001b[0m\u001b[0m\n\u001b[0m\u001b[1;32m    693\u001b[0m             \u001b[0;32mraise\u001b[0m \u001b[0mvalue\u001b[0m\u001b[0;34m\u001b[0m\u001b[0m\n\u001b[1;32m    694\u001b[0m         \u001b[0;32mfinally\u001b[0m\u001b[0;34m:\u001b[0m\u001b[0;34m\u001b[0m\u001b[0m\n",
      "\u001b[0;32m<ipython-input-24-6dd78f8d8c06>\u001b[0m in \u001b[0;36m<module>\u001b[0;34m\u001b[0m\n",
      "\u001b[0;32m<ipython-input-10-5ba99dc18d35>\u001b[0m in \u001b[0;36mmy_function\u001b[0;34m()\u001b[0m\n",
      "\u001b[0;31mResponseSignatureError\u001b[0m: "
     ]
    }
   ],
   "source": [
    "tb_dict = {'tb_frame': {'f_globals': {'__name__': '__main__'}, 'f_code': {'co_filename': '<ipython-input-24-6dd78f8d8c06>', 'co_name': '<module>'}}, 'tb_lineno': 2, 'tb_next': {'tb_frame': {'f_globals': {'__name__': '__main__'}, 'f_code': {'co_filename': '<ipython-input-10-5ba99dc18d35>', 'co_name': 'my_function'}}, 'tb_lineno': 4, 'tb_next': None}}\n",
    "tb = Traceback.from_dict(tb_dict)\n",
    "reraise(ResponseSignatureError, ResponseSignatureError(), tb.as_traceback())"
   ]
  },
  {
   "cell_type": "code",
   "execution_count": 4,
   "metadata": {},
   "outputs": [
    {
     "ename": "ResponseSignatureError",
     "evalue": "",
     "output_type": "error",
     "traceback": [
      "\u001b[0;31m---------------------------------------------------------------------------\u001b[0m",
      "\u001b[0;31mResponseSignatureError\u001b[0m                    Traceback (most recent call last)",
      "\u001b[0;32m<ipython-input-4-1ffed6c8e90d>\u001b[0m in \u001b[0;36m<module>\u001b[0;34m\u001b[0m\n\u001b[1;32m      1\u001b[0m \u001b[0mtb_json\u001b[0m \u001b[0;34m=\u001b[0m \u001b[0;34m{\u001b[0m\u001b[0;34m\"tb_frame\"\u001b[0m\u001b[0;34m:\u001b[0m \u001b[0;34m{\u001b[0m\u001b[0;34m\"f_globals\"\u001b[0m\u001b[0;34m:\u001b[0m \u001b[0;34m{\u001b[0m\u001b[0;34m\"__name__\"\u001b[0m\u001b[0;34m:\u001b[0m \u001b[0;34m\"__main__\"\u001b[0m\u001b[0;34m}\u001b[0m\u001b[0;34m,\u001b[0m \u001b[0;34m\"f_code\"\u001b[0m\u001b[0;34m:\u001b[0m \u001b[0;34m{\u001b[0m\u001b[0;34m\"co_filename\"\u001b[0m\u001b[0;34m:\u001b[0m \u001b[0;34m\"<ipython-input-5-ede44b2cf011>\"\u001b[0m\u001b[0;34m,\u001b[0m \u001b[0;34m\"co_name\"\u001b[0m\u001b[0;34m:\u001b[0m \u001b[0;34m\"<module>\"\u001b[0m\u001b[0;34m}\u001b[0m\u001b[0;34m}\u001b[0m\u001b[0;34m,\u001b[0m \u001b[0;34m\"tb_lineno\"\u001b[0m\u001b[0;34m:\u001b[0m \u001b[0;36m2\u001b[0m\u001b[0;34m,\u001b[0m \u001b[0;34m\"tb_next\"\u001b[0m\u001b[0;34m:\u001b[0m \u001b[0;34m{\u001b[0m\u001b[0;34m\"tb_frame\"\u001b[0m\u001b[0;34m:\u001b[0m \u001b[0;34m{\u001b[0m\u001b[0;34m\"f_globals\"\u001b[0m\u001b[0;34m:\u001b[0m \u001b[0;34m{\u001b[0m\u001b[0;34m\"__name__\"\u001b[0m\u001b[0;34m:\u001b[0m \u001b[0;34m\"__main__\"\u001b[0m\u001b[0;34m}\u001b[0m\u001b[0;34m,\u001b[0m \u001b[0;34m\"f_code\"\u001b[0m\u001b[0;34m:\u001b[0m \u001b[0;34m{\u001b[0m\u001b[0;34m\"co_filename\"\u001b[0m\u001b[0;34m:\u001b[0m \u001b[0;34m\"<ipython-input-2-5ba99dc18d35>\"\u001b[0m\u001b[0;34m,\u001b[0m \u001b[0;34m\"co_name\"\u001b[0m\u001b[0;34m:\u001b[0m \u001b[0;34m\"my_function\"\u001b[0m\u001b[0;34m}\u001b[0m\u001b[0;34m}\u001b[0m\u001b[0;34m,\u001b[0m \u001b[0;34m\"tb_lineno\"\u001b[0m\u001b[0;34m:\u001b[0m \u001b[0;36m4\u001b[0m\u001b[0;34m,\u001b[0m \u001b[0;34m\"tb_next\"\u001b[0m\u001b[0;34m:\u001b[0m \u001b[0;32mNone\u001b[0m\u001b[0;34m}\u001b[0m\u001b[0;34m}\u001b[0m\u001b[0;34m\u001b[0m\u001b[0m\n\u001b[1;32m      2\u001b[0m \u001b[0mtb\u001b[0m \u001b[0;34m=\u001b[0m \u001b[0mTraceback\u001b[0m\u001b[0;34m.\u001b[0m\u001b[0mfrom_dict\u001b[0m\u001b[0;34m(\u001b[0m\u001b[0mtb_json\u001b[0m\u001b[0;34m)\u001b[0m\u001b[0;34m\u001b[0m\u001b[0m\n\u001b[0;32m----> 3\u001b[0;31m \u001b[0mreraise\u001b[0m\u001b[0;34m(\u001b[0m\u001b[0mtype\u001b[0m\u001b[0;34m(\u001b[0m\u001b[0mResponseSignatureError\u001b[0m\u001b[0;34m)\u001b[0m\u001b[0;34m,\u001b[0m \u001b[0mResponseSignatureError\u001b[0m\u001b[0;34m(\u001b[0m\u001b[0;34m)\u001b[0m\u001b[0;34m,\u001b[0m \u001b[0mtb\u001b[0m\u001b[0;34m.\u001b[0m\u001b[0mas_traceback\u001b[0m\u001b[0;34m(\u001b[0m\u001b[0;34m)\u001b[0m\u001b[0;34m)\u001b[0m\u001b[0;34m\u001b[0m\u001b[0m\n\u001b[0m",
      "\u001b[0;32m~/code/env/pysyft/lib/python3.7/site-packages/six.py\u001b[0m in \u001b[0;36mreraise\u001b[0;34m(tp, value, tb)\u001b[0m\n\u001b[1;32m    690\u001b[0m                 \u001b[0mvalue\u001b[0m \u001b[0;34m=\u001b[0m \u001b[0mtp\u001b[0m\u001b[0;34m(\u001b[0m\u001b[0;34m)\u001b[0m\u001b[0;34m\u001b[0m\u001b[0m\n\u001b[1;32m    691\u001b[0m             \u001b[0;32mif\u001b[0m \u001b[0mvalue\u001b[0m\u001b[0;34m.\u001b[0m\u001b[0m__traceback__\u001b[0m \u001b[0;32mis\u001b[0m \u001b[0;32mnot\u001b[0m \u001b[0mtb\u001b[0m\u001b[0;34m:\u001b[0m\u001b[0;34m\u001b[0m\u001b[0m\n\u001b[0;32m--> 692\u001b[0;31m                 \u001b[0;32mraise\u001b[0m \u001b[0mvalue\u001b[0m\u001b[0;34m.\u001b[0m\u001b[0mwith_traceback\u001b[0m\u001b[0;34m(\u001b[0m\u001b[0mtb\u001b[0m\u001b[0;34m)\u001b[0m\u001b[0;34m\u001b[0m\u001b[0m\n\u001b[0m\u001b[1;32m    693\u001b[0m             \u001b[0;32mraise\u001b[0m \u001b[0mvalue\u001b[0m\u001b[0;34m\u001b[0m\u001b[0m\n\u001b[1;32m    694\u001b[0m         \u001b[0;32mfinally\u001b[0m\u001b[0;34m:\u001b[0m\u001b[0;34m\u001b[0m\u001b[0m\n",
      "\u001b[0;32m<ipython-input-5-ede44b2cf011>\u001b[0m in \u001b[0;36m<module>\u001b[0;34m\u001b[0m\n",
      "\u001b[0;32m<ipython-input-2-5ba99dc18d35>\u001b[0m in \u001b[0;36mmy_function\u001b[0;34m()\u001b[0m\n",
      "\u001b[0;31mResponseSignatureError\u001b[0m: "
     ]
    }
   ],
   "source": [
    "tb_json = {\"tb_frame\": {\"f_globals\": {\"__name__\": \"__main__\"}, \"f_code\": {\"co_filename\": \"<ipython-input-5-ede44b2cf011>\", \"co_name\": \"<module>\"}}, \"tb_lineno\": 2, \"tb_next\": {\"tb_frame\": {\"f_globals\": {\"__name__\": \"__main__\"}, \"f_code\": {\"co_filename\": \"<ipython-input-2-5ba99dc18d35>\", \"co_name\": \"my_function\"}}, \"tb_lineno\": 4, \"tb_next\": None}}\n",
    "tb = Traceback.from_dict(tb_json)\n",
    "reraise(type(ResponseSignatureError), ResponseSignatureError(), tb.as_traceback())"
   ]
  },
  {
   "cell_type": "markdown",
   "metadata": {},
   "source": [
    "## Version with pickle"
   ]
  },
  {
   "cell_type": "code",
   "execution_count": 1,
   "metadata": {},
   "outputs": [],
   "source": [
    "import sys\n",
    "from syft.exceptions import ResponseSignatureError\n",
    "import pickle\n",
    "import msgpack\n",
    "from six import reraise"
   ]
  },
  {
   "cell_type": "code",
   "execution_count": null,
   "metadata": {},
   "outputs": [],
   "source": []
  },
  {
   "cell_type": "code",
   "execution_count": 19,
   "metadata": {},
   "outputs": [
    {
     "name": "stdout",
     "output_type": "stream",
     "text": [
      "(<class 'syft.exceptions.ResponseSignatureError'>, ResponseSignatureError(), <traceback object at 0x108244848>)\n"
     ]
    }
   ],
   "source": [
    "try:\n",
    "    raise ResponseSignatureError\n",
    "# TODO: add GetNotPermittedError, etc\n",
    "except ResponseSignatureError as e:\n",
    "    error_message = sys.exc_info()\n",
    "    print(error_message)"
   ]
  },
  {
   "cell_type": "code",
   "execution_count": null,
   "metadata": {},
   "outputs": [],
   "source": []
  },
  {
   "cell_type": "code",
   "execution_count": 20,
   "metadata": {},
   "outputs": [
    {
     "data": {
      "text/plain": [
       "(3,\n",
       " b'\\x80\\x03csyft.exceptions\\nResponseSignatureError\\nq\\x00h\\x00)Rq\\x01}q\\x02X\\r\\x00\\x00\\x00ids_generatedq\\x03Nsbctblib.pickling_support\\nunpickle_traceback\\nq\\x04ctblib\\nFrame\\nq\\x05)\\x81q\\x06}q\\x07(X\\t\\x00\\x00\\x00f_globalsq\\x08}q\\tX\\x08\\x00\\x00\\x00__name__q\\nX\\x08\\x00\\x00\\x00__main__q\\x0bsX\\x06\\x00\\x00\\x00f_codeq\\x0cctblib\\nCode\\nq\\r)\\x81q\\x0e}q\\x0f(X\\x0b\\x00\\x00\\x00co_filenameq\\x10X\\x1f\\x00\\x00\\x00<ipython-input-19-1322ecf8e6cf>q\\x11X\\x07\\x00\\x00\\x00co_nameq\\x12X\\x08\\x00\\x00\\x00<module>q\\x13ububK\\x02N\\x87q\\x14Rq\\x15\\x87q\\x16.')"
      ]
     },
     "execution_count": 20,
     "metadata": {},
     "output_type": "execute_result"
    }
   ],
   "source": [
    "msg = pickle.dumps(error_message)\n",
    "msg = (3, msg)\n",
    "msg"
   ]
  },
  {
   "cell_type": "code",
   "execution_count": 13,
   "metadata": {},
   "outputs": [],
   "source": [
    "msg = msgpack.dumps(msg)"
   ]
  },
  {
   "cell_type": "code",
   "execution_count": 14,
   "metadata": {},
   "outputs": [],
   "source": [
    "simple_objects = msgpack.loads(msg)"
   ]
  },
  {
   "cell_type": "code",
   "execution_count": 16,
   "metadata": {},
   "outputs": [
    {
     "data": {
      "text/plain": [
       "[3,\n",
       " b'\\x80\\x03csyft.exceptions\\nResponseSignatureError\\nq\\x00h\\x00)Rq\\x01}q\\x02X\\r\\x00\\x00\\x00ids_generatedq\\x03Nsbctblib.pickling_support\\nunpickle_traceback\\nq\\x04ctblib\\nFrame\\nq\\x05)\\x81q\\x06}q\\x07(X\\t\\x00\\x00\\x00f_globalsq\\x08}q\\tX\\x08\\x00\\x00\\x00__name__q\\nX\\x08\\x00\\x00\\x00__main__q\\x0bsX\\x06\\x00\\x00\\x00f_codeq\\x0cctblib\\nCode\\nq\\r)\\x81q\\x0e}q\\x0f(X\\x0b\\x00\\x00\\x00co_filenameq\\x10X\\x1f\\x00\\x00\\x00<ipython-input-11-1322ecf8e6cf>q\\x11X\\x07\\x00\\x00\\x00co_nameq\\x12X\\x08\\x00\\x00\\x00<module>q\\x13ububK\\x02N\\x87q\\x14Rq\\x15\\x87q\\x16.']"
      ]
     },
     "execution_count": 16,
     "metadata": {},
     "output_type": "execute_result"
    }
   ],
   "source": [
    "simple_objects"
   ]
  },
  {
   "cell_type": "code",
   "execution_count": 18,
   "metadata": {},
   "outputs": [
    {
     "name": "stdout",
     "output_type": "stream",
     "text": [
      "(<class 'syft.exceptions.ResponseSignatureError'>, ResponseSignatureError(), <traceback object at 0x13cc9b988>)\n"
     ]
    },
    {
     "ename": "ResponseSignatureError",
     "evalue": "",
     "output_type": "error",
     "traceback": [
      "\u001b[0;31m---------------------------------------------------------------------------\u001b[0m",
      "\u001b[0;31mResponseSignatureError\u001b[0m                    Traceback (most recent call last)",
      "\u001b[0;32m<ipython-input-18-a0653ba95c6b>\u001b[0m in \u001b[0;36m<module>\u001b[0;34m\u001b[0m\n\u001b[1;32m      1\u001b[0m \u001b[0merror\u001b[0m \u001b[0;34m=\u001b[0m \u001b[0mpickle\u001b[0m\u001b[0;34m.\u001b[0m\u001b[0mloads\u001b[0m\u001b[0;34m(\u001b[0m\u001b[0msimple_objects\u001b[0m\u001b[0;34m[\u001b[0m\u001b[0;36m1\u001b[0m\u001b[0;34m]\u001b[0m\u001b[0;34m)\u001b[0m\u001b[0;34m\u001b[0m\u001b[0m\n\u001b[1;32m      2\u001b[0m \u001b[0mprint\u001b[0m\u001b[0;34m(\u001b[0m\u001b[0merror\u001b[0m\u001b[0;34m)\u001b[0m\u001b[0;34m\u001b[0m\u001b[0m\n\u001b[0;32m----> 3\u001b[0;31m \u001b[0mreraise\u001b[0m\u001b[0;34m(\u001b[0m\u001b[0;34m*\u001b[0m\u001b[0merror\u001b[0m\u001b[0;34m)\u001b[0m\u001b[0;34m\u001b[0m\u001b[0m\n\u001b[0m",
      "\u001b[0;32m~/code/env/pysyft/lib/python3.7/site-packages/six.py\u001b[0m in \u001b[0;36mreraise\u001b[0;34m(tp, value, tb)\u001b[0m\n\u001b[1;32m    690\u001b[0m                 \u001b[0mvalue\u001b[0m \u001b[0;34m=\u001b[0m \u001b[0mtp\u001b[0m\u001b[0;34m(\u001b[0m\u001b[0;34m)\u001b[0m\u001b[0;34m\u001b[0m\u001b[0m\n\u001b[1;32m    691\u001b[0m             \u001b[0;32mif\u001b[0m \u001b[0mvalue\u001b[0m\u001b[0;34m.\u001b[0m\u001b[0m__traceback__\u001b[0m \u001b[0;32mis\u001b[0m \u001b[0;32mnot\u001b[0m \u001b[0mtb\u001b[0m\u001b[0;34m:\u001b[0m\u001b[0;34m\u001b[0m\u001b[0m\n\u001b[0;32m--> 692\u001b[0;31m                 \u001b[0;32mraise\u001b[0m \u001b[0mvalue\u001b[0m\u001b[0;34m.\u001b[0m\u001b[0mwith_traceback\u001b[0m\u001b[0;34m(\u001b[0m\u001b[0mtb\u001b[0m\u001b[0;34m)\u001b[0m\u001b[0;34m\u001b[0m\u001b[0m\n\u001b[0m\u001b[1;32m    693\u001b[0m             \u001b[0;32mraise\u001b[0m \u001b[0mvalue\u001b[0m\u001b[0;34m\u001b[0m\u001b[0m\n\u001b[1;32m    694\u001b[0m         \u001b[0;32mfinally\u001b[0m\u001b[0;34m:\u001b[0m\u001b[0;34m\u001b[0m\u001b[0m\n",
      "\u001b[0;32m<ipython-input-11-1322ecf8e6cf>\u001b[0m in \u001b[0;36m<module>\u001b[0;34m\u001b[0m\n\u001b[1;32m      1\u001b[0m \u001b[0;32mtry\u001b[0m\u001b[0;34m:\u001b[0m\u001b[0;34m\u001b[0m\u001b[0m\n\u001b[0;32m----> 2\u001b[0;31m     \u001b[0;32mraise\u001b[0m \u001b[0mResponseSignatureError\u001b[0m\u001b[0;34m\u001b[0m\u001b[0m\n\u001b[0m\u001b[1;32m      3\u001b[0m \u001b[0;31m# TODO: add GetNotPermittedError, etc\u001b[0m\u001b[0;34m\u001b[0m\u001b[0;34m\u001b[0m\u001b[0m\n\u001b[1;32m      4\u001b[0m \u001b[0;32mexcept\u001b[0m \u001b[0mResponseSignatureError\u001b[0m \u001b[0;32mas\u001b[0m \u001b[0me\u001b[0m\u001b[0;34m:\u001b[0m\u001b[0;34m\u001b[0m\u001b[0m\n\u001b[1;32m      5\u001b[0m     \u001b[0merror_message\u001b[0m \u001b[0;34m=\u001b[0m \u001b[0msys\u001b[0m\u001b[0;34m.\u001b[0m\u001b[0mexc_info\u001b[0m\u001b[0;34m(\u001b[0m\u001b[0;34m)\u001b[0m\u001b[0;34m\u001b[0m\u001b[0m\n",
      "\u001b[0;31mResponseSignatureError\u001b[0m: "
     ]
    }
   ],
   "source": [
    "error = pickle.loads(simple_objects[1])\n",
    "print(error)\n",
    "reraise(*error)"
   ]
  },
  {
   "cell_type": "code",
   "execution_count": null,
   "metadata": {},
   "outputs": [],
   "source": []
  },
  {
   "cell_type": "code",
   "execution_count": null,
   "metadata": {},
   "outputs": [],
   "source": []
  }
 ],
 "metadata": {
  "kernelspec": {
   "display_name": "Python (Pysyft)",
   "language": "python",
   "name": "pysyft"
  },
  "language_info": {
   "codemirror_mode": {
    "name": "ipython",
    "version": 3
   },
   "file_extension": ".py",
   "mimetype": "text/x-python",
   "name": "python",
   "nbconvert_exporter": "python",
   "pygments_lexer": "ipython3",
   "version": "3.7.0"
  }
 },
 "nbformat": 4,
 "nbformat_minor": 2
}
