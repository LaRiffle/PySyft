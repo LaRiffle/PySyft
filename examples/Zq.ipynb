{
 "cells": [
  {
   "cell_type": "code",
   "execution_count": 1,
   "metadata": {},
   "outputs": [],
   "source": [
    "import torch\n",
    "import torch as th\n",
    "import torch.nn as nn\n",
    "import torch.nn.functional as F\n",
    "import syft as sy\n",
    "import numpy as np\n",
    "hook = sy.TorchHook(torch)\n",
    "bob = sy.VirtualWorker(hook, id=\"bob\")\n",
    "alice = sy.VirtualWorker(hook, id=\"alice\")\n",
    "james = sy.VirtualWorker(hook, id=\"james\")\n",
    "import sys"
   ]
  },
  {
   "cell_type": "code",
   "execution_count": 2,
   "metadata": {},
   "outputs": [
    {
     "data": {
      "text/plain": [
       "1.6"
      ]
     },
     "execution_count": 2,
     "metadata": {},
     "output_type": "execute_result"
    }
   ],
   "source": [
    "8/5"
   ]
  },
  {
   "cell_type": "code",
   "execution_count": 25,
   "metadata": {},
   "outputs": [],
   "source": [
    "lx = 8\n",
    "dec_ld = 1\n",
    "ld = 3*dec_ld"
   ]
  },
  {
   "cell_type": "code",
   "execution_count": 28,
   "metadata": {},
   "outputs": [
    {
     "name": "stdout",
     "output_type": "stream",
     "text": [
      "999\n"
     ]
    }
   ],
   "source": [
    "i = 0\n",
    "m = 1000\n",
    "for j in range(m):\n",
    "    #print('--')\n",
    "    x = torch.tensor([1. * 2**lx]).fix_prec(precision_fractional=dec_ld).share(alice, bob, crypto_provider =james)\n",
    "    y = torch.tensor([1. * 2**lx]).fix_prec(precision_fractional=dec_ld).share(alice, bob, crypto_provider =james)\n",
    "    z = (x * y)\n",
    "    #print(x.child.child.child.virtual_get())\n",
    "    #print(y.child.child.child.virtual_get())\n",
    "    #print(z.child.child.child.virtual_get())\n",
    "    _z = z.child.child.child.virtual_get()\n",
    "    r = z.get().float_prec()\n",
    "    if (-1 < (r - torch.tensor([1. * 2**(2*lx)])) < 1).all():\n",
    "        i += 1\n",
    "    #else:\n",
    "    #    print(r)\n",
    "\n",
    "print(i)\n",
    "    "
   ]
  },
  {
   "cell_type": "code",
   "execution_count": 27,
   "metadata": {},
   "outputs": [
    {
     "data": {
      "text/plain": [
       "0.9990234375"
      ]
     },
     "execution_count": 27,
     "metadata": {},
     "output_type": "execute_result"
    }
   ],
   "source": [
    "1-2**(2*(lx+ld) - 32)"
   ]
  },
  {
   "cell_type": "code",
   "execution_count": 35,
   "metadata": {},
   "outputs": [
    {
     "data": {
      "text/plain": [
       "0.999755859375"
      ]
     },
     "execution_count": 35,
     "metadata": {},
     "output_type": "execute_result"
    }
   ],
   "source": [
    "1-2**(2*(16+10) - 64)"
   ]
  },
  {
   "cell_type": "code",
   "execution_count": 29,
   "metadata": {},
   "outputs": [
    {
     "data": {
      "text/plain": [
       "65536"
      ]
     },
     "execution_count": 29,
     "metadata": {},
     "output_type": "execute_result"
    }
   ],
   "source": [
    "2**16"
   ]
  },
  {
   "cell_type": "code",
   "execution_count": null,
   "metadata": {},
   "outputs": [],
   "source": [
    "for i in range(0):\n",
    "    print('--')\n",
    "    x = torch.tensor([1., 2, -3, 4, 5233, 6]).fix_prec().share(alice, bob, crypto_provider =james)\n",
    "    z = x  > 0\n",
    "    #print(x.child.child.child.virtual_get())\n",
    "    #print(y.child.child.child.virtual_get())\n",
    "    print(z.child.child.child.virtual_get())\n",
    "    r = z.get().float_prec()\n",
    "    print(r)"
   ]
  },
  {
   "cell_type": "code",
   "execution_count": 3,
   "metadata": {},
   "outputs": [],
   "source": [
    "x = torch.tensor([1444506136, 1520521833, 1808833055,   75941325,  878293374, 1074573176])\n",
    "y = torch.tensor([ 703977511,  630961814,  347650592, 2087542322, 1294190273, 1108910471])\n",
    "z = x + y\n",
    "truncate = 1000\n",
    "x_trunc = x / truncate\n",
    "y_trunc = y / truncate\n",
    "z_trunc = x_trunc + y_trunc\n",
    "field = (2 ** 31) - 1"
   ]
  },
  {
   "cell_type": "code",
   "execution_count": 17,
   "metadata": {},
   "outputs": [
    {
     "data": {
      "text/plain": [
       "16000.0"
      ]
     },
     "execution_count": 17,
     "metadata": {},
     "output_type": "execute_result"
    }
   ],
   "source": [
    "(\n",
    "    int(75941325/truncate) \n",
    "    + int((2087542322 - field)/truncate)  \n",
    ") % (field/truncate)"
   ]
  },
  {
   "cell_type": "code",
   "execution_count": 30,
   "metadata": {},
   "outputs": [
    {
     "data": {
      "text/plain": [
       "(36000000, 2147483)"
      ]
     },
     "execution_count": 30,
     "metadata": {},
     "output_type": "execute_result"
    }
   ],
   "source": [
    "(1074573176 + 1108910471) % field, int(field/truncate)"
   ]
  },
  {
   "cell_type": "code",
   "execution_count": 31,
   "metadata": {},
   "outputs": [
    {
     "data": {
      "text/plain": [
       "36000"
      ]
     },
     "execution_count": 31,
     "metadata": {},
     "output_type": "execute_result"
    }
   ],
   "source": [
    "(\n",
    "    int((1074573176 - field)/truncate) % int(field/truncate)\n",
    "    + int((1108910471 - field)/truncate)  % int(field/truncate)\n",
    ") % int(field/truncate)"
   ]
  },
  {
   "cell_type": "code",
   "execution_count": 26,
   "metadata": {},
   "outputs": [
    {
     "data": {
      "text/plain": [
       "-2111483"
      ]
     },
     "execution_count": 26,
     "metadata": {},
     "output_type": "execute_result"
    }
   ],
   "source": [
    "(\n",
    "    int((1074573176 - field)/truncate) \n",
    "    + int((1108910471 - field)/truncate)  \n",
    ") #% int(field)"
   ]
  },
  {
   "cell_type": "code",
   "execution_count": 20,
   "metadata": {},
   "outputs": [
    {
     "data": {
      "text/plain": [
       "2146445074"
      ]
     },
     "execution_count": 20,
     "metadata": {},
     "output_type": "execute_result"
    }
   ],
   "source": [
    "int((1108910471 - field)/truncate) % field"
   ]
  },
  {
   "cell_type": "code",
   "execution_count": 16,
   "metadata": {},
   "outputs": [
    {
     "data": {
      "text/plain": [
       "tensor([ 1000000,  4000000,  9000000, 16000000, 25000000, 36000000])"
      ]
     },
     "execution_count": 16,
     "metadata": {},
     "output_type": "execute_result"
    }
   ],
   "source": [
    "z % field"
   ]
  },
  {
   "cell_type": "code",
   "execution_count": 15,
   "metadata": {},
   "outputs": [
    {
     "data": {
      "text/plain": [
       "tensor([2148483, 2151482, 2156483, 2163483, 2172483, 2183483])"
      ]
     },
     "execution_count": 15,
     "metadata": {},
     "output_type": "execute_result"
    }
   ],
   "source": [
    "z_trunc % field"
   ]
  },
  {
   "cell_type": "code",
   "execution_count": null,
   "metadata": {},
   "outputs": [],
   "source": []
  },
  {
   "cell_type": "code",
   "execution_count": 4,
   "metadata": {},
   "outputs": [
    {
     "data": {
      "text/plain": [
       "{26779938685: tensor([ 914486443,  846495944,   88850875,   29141876, 1888707648,  340937636]),\n",
       " 39357936351: tensor([ 758063575,  371863848,  171881930, 2046968862, 1067871371, 1457163631])}"
      ]
     },
     "execution_count": 4,
     "metadata": {},
     "output_type": "execute_result"
    }
   ],
   "source": [
    "alice._objects"
   ]
  },
  {
   "cell_type": "code",
   "execution_count": 14,
   "metadata": {},
   "outputs": [
    {
     "data": {
      "text/plain": [
       "{16952206870: tensor([1713286492, 1617072994])}"
      ]
     },
     "execution_count": 14,
     "metadata": {},
     "output_type": "execute_result"
    }
   ],
   "source": [
    "bob._objects"
   ]
  },
  {
   "cell_type": "code",
   "execution_count": 11,
   "metadata": {},
   "outputs": [
    {
     "data": {
      "text/plain": [
       "1000"
      ]
     },
     "execution_count": 11,
     "metadata": {},
     "output_type": "execute_result"
    }
   ],
   "source": [
    "(1971299777 + 176184870) % 2147483647"
   ]
  },
  {
   "cell_type": "code",
   "execution_count": 18,
   "metadata": {},
   "outputs": [],
   "source": [
    "L=21\n",
    "crypto_provider=james"
   ]
  },
  {
   "cell_type": "code",
   "execution_count": 20,
   "metadata": {},
   "outputs": [
    {
     "data": {
      "text/plain": [
       "[AdditiveSharingTensor]\n",
       "\t-> (Wrapper)>[PointerTensor | me:31188863175 -> alice:33721718912]\n",
       "\t-> (Wrapper)>[PointerTensor | me:57736495574 -> bob:98808237073]\n",
       "\t*crypto provider: james*"
      ]
     },
     "execution_count": 20,
     "metadata": {},
     "output_type": "execute_result"
    }
   ],
   "source": [
    "u = torch.zeros(1).long().share(alice, bob, field=L, crypto_provider=crypto_provider).child\n",
    "u"
   ]
  },
  {
   "cell_type": "code",
   "execution_count": 24,
   "metadata": {},
   "outputs": [
    {
     "data": {
      "text/plain": [
       "tensor([0])"
      ]
     },
     "execution_count": 24,
     "metadata": {},
     "output_type": "execute_result"
    }
   ],
   "source": [
    "u = (\n",
    "        torch.zeros(1)\n",
    "        .long()\n",
    "        .send(alice)\n",
    "        .share(alice, bob, field=L, crypto_provider=crypto_provider)\n",
    "        .get()\n",
    "        .child\n",
    "    )\n",
    "u.get()"
   ]
  },
  {
   "cell_type": "code",
   "execution_count": 44,
   "metadata": {},
   "outputs": [],
   "source": [
    "Q_BITS = 8\n",
    "def decompose(tensor):\n",
    "    \"\"\"decompose a tensor into its binary representation.\"\"\"\n",
    "    n_bits = Q_BITS\n",
    "    powers = torch.arange(n_bits)\n",
    "    if hasattr(tensor, \"child\") and isinstance(tensor.child, dict):\n",
    "        powers = powers.send(*list(tensor.child.keys())).child\n",
    "    for i in range(len(tensor.shape)):\n",
    "        powers = powers.unsqueeze(0)\n",
    "    tensor = tensor.unsqueeze(-1)\n",
    "    moduli = 2 ** powers\n",
    "    tensor = torch.fmod((tensor / moduli.type_as(tensor)), 2)\n",
    "    #tensor = torch.fmod(((tensor + 2 ** n_bits) / moduli.type_as(tensor)), 2)\n",
    "    return tensor"
   ]
  },
  {
   "cell_type": "code",
   "execution_count": 48,
   "metadata": {},
   "outputs": [
    {
     "data": {
      "text/plain": [
       "tensor([0, 0, 1, 0, 1, 0, 0, 1])"
      ]
     },
     "execution_count": 48,
     "metadata": {},
     "output_type": "execute_result"
    }
   ],
   "source": [
    "decompose(torch.tensor(148))"
   ]
  },
  {
   "cell_type": "code",
   "execution_count": null,
   "metadata": {},
   "outputs": [],
   "source": []
  }
 ],
 "metadata": {
  "kernelspec": {
   "display_name": "Python (Pysyft)",
   "language": "python",
   "name": "pysyft"
  },
  "language_info": {
   "codemirror_mode": {
    "name": "ipython",
    "version": 3
   },
   "file_extension": ".py",
   "mimetype": "text/x-python",
   "name": "python",
   "nbconvert_exporter": "python",
   "pygments_lexer": "ipython3",
   "version": "3.7.0"
  }
 },
 "nbformat": 4,
 "nbformat_minor": 2
}
