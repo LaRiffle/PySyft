{
 "cells": [
  {
   "cell_type": "code",
   "execution_count": 10,
   "metadata": {},
   "outputs": [],
   "source": [
    "alice = sy.VirtualWorker(hook, id=\"alice\")\n",
    "bob = sy.VirtualWorker(hook, id=\"bob\")\n",
    "charlie = sy.VirtualWorker(hook, id=\"charlie\")\n",
    "crypto = sy.VirtualWorker(hook, id=\"crypto_provider\")"
   ]
  },
  {
   "cell_type": "code",
   "execution_count": 11,
   "metadata": {},
   "outputs": [
    {
     "data": {
      "text/plain": [
       "(Wrapper)>[AdditiveSharingTensor]\n",
       "\t-> [PointerTensor | me:50873705501 -> alice:38213365789]\n",
       "\t-> [PointerTensor | me:94727619112 -> bob:986809960]\n",
       "\t-> [PointerTensor | me:65430047594 -> charlie:26254007768]\n",
       "\t*crypto provider: crypto_provider*"
      ]
     },
     "execution_count": 11,
     "metadata": {},
     "output_type": "execute_result"
    }
   ],
   "source": [
    "x = th.tensor([1, 2, 3, 4]).share(alice, bob, charlie,\n",
    "                                 crypto_provider=crypto)\n",
    "x"
   ]
  },
  {
   "cell_type": "code",
   "execution_count": 7,
   "metadata": {
    "scrolled": true
   },
   "outputs": [
    {
     "name": "stderr",
     "output_type": "stream",
     "text": [
      "WARNING:root:Torch was already hooked... skipping hooking process\n"
     ]
    }
   ],
   "source": [
    "import torch as th\n",
    "import syft as sy\n",
    "hook = sy.TorchHook(th)"
   ]
  },
  {
   "cell_type": "code",
   "execution_count": 2,
   "metadata": {},
   "outputs": [],
   "source": [
    "hospital_datacenter = sy.VirtualWorker(hook, id=\"Curie Institute\")"
   ]
  },
  {
   "cell_type": "code",
   "execution_count": 3,
   "metadata": {},
   "outputs": [
    {
     "data": {
      "text/plain": [
       "(Wrapper)>[PointerTensor | me:15061150250 -> Curie Institute:10756455657]"
      ]
     },
     "execution_count": 3,
     "metadata": {},
     "output_type": "execute_result"
    }
   ],
   "source": [
    "x = th.tensor([1, 2, 3, 4, 5])\n",
    "x = x.send(hospital_datacenter)\n",
    "x"
   ]
  },
  {
   "cell_type": "code",
   "execution_count": 4,
   "metadata": {},
   "outputs": [
    {
     "data": {
      "text/plain": [
       "(Wrapper)>[PointerTensor | me:71246720083 -> Curie Institute:9193514890]"
      ]
     },
     "execution_count": 4,
     "metadata": {},
     "output_type": "execute_result"
    }
   ],
   "source": [
    "y = x + x\n",
    "y"
   ]
  },
  {
   "cell_type": "code",
   "execution_count": 5,
   "metadata": {},
   "outputs": [
    {
     "data": {
      "text/plain": [
       "tensor([ 2,  4,  6,  8, 10])"
      ]
     },
     "execution_count": 5,
     "metadata": {},
     "output_type": "execute_result"
    }
   ],
   "source": [
    "y.get()"
   ]
  },
  {
   "cell_type": "code",
   "execution_count": 6,
   "metadata": {},
   "outputs": [
    {
     "name": "stderr",
     "output_type": "stream",
     "text": [
      "WARNING:root:Torch was already hooked... skipping hooking process\n"
     ]
    }
   ],
   "source": [
    "import torch as th\n",
    "import torch.nn as nn\n",
    "import torch.nn.functional as F\n",
    "import syft as sy\n",
    "\n",
    "hook = sy.TorchHook(th)\n",
    "\n",
    "alice = sy.VirtualWorker(hook, id=\"alice\")\n",
    "bob = sy.VirtualWorker(hook, id=\"bob\")\n",
    "charlie = sy.VirtualWorker(hook, id=\"charlie\")\n",
    "dan = sy.VirtualWorker(hook, id=\"dan\")\n",
    "james = dan\n",
    "\n",
    "hook.local_worker.is_client_worker = False\n",
    "me = hook.local_worker\n",
    "from syft.generic.pointers.pointer_plan import PointerPlan\n",
    "\n",
    "import sys\n",
    "torch = th\n",
    "syft = sy\n",
    "#print(sy.hook.local_worker.get_worker('alice')._objects)"
   ]
  },
  {
   "cell_type": "code",
   "execution_count": 20,
   "metadata": {},
   "outputs": [],
   "source": [
    "def inverse(self, method=\"NR\", nr_iters=10, log_iters=1, all_pos=False):\n",
    "    #print('self', self.virtual_get())\n",
    "    if not all_pos:\n",
    "        sgn = 2 * (self >= 0) - 1\n",
    "        #print('sgn', sgn.virtual_get())\n",
    "        abs = sgn * self\n",
    "        return sgn * abs.inverse(\n",
    "            method=method, nr_iters=nr_iters, log_iters=log_iters, all_pos=True\n",
    "        )\n",
    "\n",
    "    if method == \"NR\":\n",
    "        # Initialization to a decent estimate (found by qualitative inspection):\n",
    "        #                1/x = 3exp(.5 - x) + 0.003\n",
    "        print('self', self.virtual_get())\n",
    "        r = (0.5 - self).refresh().exp()\n",
    "        self_e = torch.tensor([8.3])\n",
    "        r_exp = (0.5 - self_e).exp()\n",
    "        result = 3 * r + 0.003\n",
    "        print(r.virtual_get(), r_exp)\n",
    "        for _ in range(nr_iters):\n",
    "            result = result - (result ** 2) * self\n",
    "        return result\n",
    "    elif method == \"log\":\n",
    "        return (-self.log(iterations=log_iters)).exp()\n",
    "    elif method == \"snn\":\n",
    "        one = self * 0 + 1\n",
    "        return securenn.division(one, self)\n",
    "    else:\n",
    "        raise ValueError(\"Invalid method %s given for reciprocal function\" % method)"
   ]
  },
  {
   "cell_type": "code",
   "execution_count": 21,
   "metadata": {},
   "outputs": [],
   "source": [
    "sy.AdditiveSharingTensor.inverse=inverse"
   ]
  },
  {
   "cell_type": "code",
   "execution_count": 22,
   "metadata": {},
   "outputs": [
    {
     "name": "stdout",
     "output_type": "stream",
     "text": [
      "self tensor([8300])\n",
      "tensor([1650484750965399553]) tensor([0.0004])\n",
      "tensor([-3.2911e+14]) tensor([3.6087])\n",
      "self tensor([8300])\n",
      "tensor([1650484750965399553]) tensor([0.0004])\n",
      "tensor([-3.2911e+14]) tensor([3.6087])\n",
      "self tensor([8300])\n",
      "tensor([0]) tensor([0.0004])\n",
      "tensor([0.]) tensor([3.6087])\n",
      "self tensor([8300])\n",
      "tensor([1650484750965399553]) tensor([0.0004])\n",
      "tensor([-3.2911e+14]) tensor([3.6087])\n",
      "self tensor([8300])\n",
      "tensor([0]) tensor([0.0004])\n",
      "tensor([0.]) tensor([3.6087])\n",
      "self tensor([8300])\n",
      "tensor([0]) tensor([0.0004])\n",
      "tensor([0.]) tensor([3.6087])\n",
      "self tensor([8300])\n",
      "tensor([0]) tensor([0.0004])\n",
      "tensor([0.]) tensor([3.6087])\n",
      "self tensor([8300])\n",
      "tensor([1650484750965399553]) tensor([0.0004])\n",
      "tensor([-3.2911e+14]) tensor([3.6087])\n",
      "self tensor([8300])\n",
      "tensor([0]) tensor([0.0004])\n",
      "tensor([0.]) tensor([3.6087])\n",
      "self tensor([8300])\n",
      "tensor([0]) tensor([0.0004])\n",
      "tensor([0.]) tensor([3.6087])\n",
      "tensor([2.])\n"
     ]
    }
   ],
   "source": [
    "fix_prec_tolerance = {\n",
    "    3: 20 / 100,\n",
    "}\n",
    "\n",
    "for prec_frac, tolerance in fix_prec_tolerance.items():\n",
    "    cumsum = torch.zeros(1)\n",
    "    for i in range(10):\n",
    "        t = torch.tensor([8.3])\n",
    "        t_sh = t.fix_precision(precision_fractional=prec_frac).share(alice, bob, crypto_provider=james)\n",
    "        s = torch.tensor([2.3])\n",
    "        s_sh = t.fix_precision(precision_fractional=prec_frac).share(alice, bob, crypto_provider=james)\n",
    "        r_sh = t_sh / s_sh\n",
    "        r = r_sh.get().float_prec()\n",
    "        t = t / s\n",
    "        diff = (r - t).abs()\n",
    "        norm = (r + t) / 2\n",
    "        print(r, t)\n",
    "        cumsum += diff / (tolerance * norm)\n",
    "\n",
    "    cumsum /= 10\n",
    "    print(cumsum)\n",
    "    #assert (cumsum.abs() < 1).all()"
   ]
  },
  {
   "cell_type": "code",
   "execution_count": null,
   "metadata": {},
   "outputs": [],
   "source": []
  },
  {
   "cell_type": "code",
   "execution_count": null,
   "metadata": {},
   "outputs": [],
   "source": []
  },
  {
   "cell_type": "code",
   "execution_count": null,
   "metadata": {},
   "outputs": [],
   "source": []
  },
  {
   "cell_type": "code",
   "execution_count": null,
   "metadata": {},
   "outputs": [],
   "source": []
  },
  {
   "cell_type": "code",
   "execution_count": null,
   "metadata": {},
   "outputs": [],
   "source": []
  },
  {
   "cell_type": "code",
   "execution_count": 149,
   "metadata": {},
   "outputs": [],
   "source": [
    "def test(prec, n_iterations):\n",
    "    deps = torch.zeros(6)\n",
    "    tolerance = 5 / 100\n",
    "    for i in range(10):\n",
    "        th.n_iterations = n_iterations\n",
    "        #print('---')\n",
    "        t = torch.tensor([0., 1., 2., 3., 4., 5.])\n",
    "        t_sh = t.fix_precision(precision_fractional=prec).share(alice, bob, crypto_provider=james)\n",
    "        r_sh = t_sh.exp()\n",
    "        r = r_sh.get().float_prec()\n",
    "        t = t.exp()\n",
    "        diff = (r - t).abs()\n",
    "        norm = (r + t) / 2\n",
    "        depass = diff / (tolerance * norm)\n",
    "        #print(depass, r, t)\n",
    "        deps += depass\n",
    "    print(deps / 10)"
   ]
  },
  {
   "cell_type": "code",
   "execution_count": 150,
   "metadata": {},
   "outputs": [
    {
     "data": {
      "text/plain": [
       "tensor([148.4132])"
      ]
     },
     "execution_count": 150,
     "metadata": {},
     "output_type": "execute_result"
    }
   ],
   "source": [
    "t = torch.tensor([5.])\n",
    "t.exp()"
   ]
  },
  {
   "cell_type": "code",
   "execution_count": 151,
   "metadata": {},
   "outputs": [
    {
     "name": "stdout",
     "output_type": "stream",
     "text": [
      "6 6\n",
      "tensor([0.0000, 0.0378, 0.1560, 0.3503, 0.6186, 0.9615])\n",
      "6 7\n",
      "tensor([0.0000, 0.0397, 0.1552, 0.3486, 0.6185, 0.9648])\n",
      "6 8\n",
      "tensor([0.0000, 0.0400, 0.1555, 0.3493, 0.6185, 0.9635])\n",
      "6 9\n",
      "tensor([0.0000, 0.0379, 0.1565, 0.3493, 0.6185, 0.9620])\n",
      "6 10\n",
      "tensor([0.0000, 0.0390, 0.1555, 0.3486, 0.6185, 0.9650])\n"
     ]
    }
   ],
   "source": [
    "for prec in [6]:\n",
    "    for n_it in [6, 7, 8, 9, 10]:\n",
    "        print(prec, n_it)\n",
    "        test(prec, n_it)"
   ]
  },
  {
   "cell_type": "code",
   "execution_count": 55,
   "metadata": {},
   "outputs": [
    {
     "name": "stdout",
     "output_type": "stream",
     "text": [
      "tensor([0.8545])\n"
     ]
    }
   ],
   "source": [
    "test(3, 8)"
   ]
  },
  {
   "cell_type": "code",
   "execution_count": null,
   "metadata": {},
   "outputs": [],
   "source": [
    "t = torch.tensor([1.0, -2.0, 3.0])\n",
    "self = t.fix_prec().share(alice, bob, crypto_provider=james)\n",
    "one = torch.tensor([1.0]).fix_precision()\n",
    "result = 1 + self.div(2 ** 8)# + 1\n",
    "result.child.child.virtual_get()"
   ]
  },
  {
   "cell_type": "code",
   "execution_count": 5,
   "metadata": {},
   "outputs": [],
   "source": [
    "t = torch.tensor([1.0, -2.0, 3.0])\n",
    "x = t.fix_prec().share(alice, bob, crypto_provider=james)\n",
    "c = 4\n",
    "\n",
    "z = (x + c).get().float_prec()\n",
    "assert (z == (t + c)).all()\n",
    "\n",
    "z = (c + x).get().float_prec()\n",
    "assert (z == (c + t)).all()\n",
    "\n",
    "# with constant float\n",
    "t = torch.tensor([1.0, -2.0, 3.0])\n",
    "x = t.fix_prec().share(alice, bob, crypto_provider=james)\n",
    "c = 4.2\n",
    "\n",
    "z = (x + c).get().float_prec()\n",
    "assert ((z - (t + c)) < 10e-3).all()\n",
    "\n",
    "z = (c + x).get().float_prec()\n",
    "assert ((z - (c + t)) < 10e-3).all()"
   ]
  },
  {
   "cell_type": "code",
   "execution_count": 2,
   "metadata": {},
   "outputs": [
    {
     "name": "stdout",
     "output_type": "stream",
     "text": [
      "tensor([3., 6., 1.])\n",
      "tensor([3., 6., 1.])\n"
     ]
    }
   ],
   "source": [
    "t = torch.tensor([1.0, -2.0, 3.0])\n",
    "x = t.fix_prec()\n",
    "c = 4\n",
    "\n",
    "z = (x - c).float_prec()\n",
    "assert (z == (t - c)).all()\n",
    "\n",
    "z = (c - x).float_prec()\n",
    "print(z)\n",
    "print(c - t)\n",
    "assert (z == (c - t)).all()"
   ]
  },
  {
   "cell_type": "code",
   "execution_count": 5,
   "metadata": {},
   "outputs": [
    {
     "name": "stdout",
     "output_type": "stream",
     "text": [
      "oself, ther tensor([               1000, 4611686018427385904,                3000]) 4.2\n",
      "scale\n",
      "tensor([0.0000e+00, 2.3842e-07, 0.0000e+00])\n",
      "tensor([5.2000, 2.2000, 7.2000])\n"
     ]
    },
    {
     "ename": "AssertionError",
     "evalue": "",
     "output_type": "error",
     "traceback": [
      "\u001b[0;31m---------------------------------------------------------------------------\u001b[0m",
      "\u001b[0;31mAssertionError\u001b[0m                            Traceback (most recent call last)",
      "\u001b[0;32m<ipython-input-5-cd0f93012b93>\u001b[0m in \u001b[0;36m<module>\u001b[0;34m\u001b[0m\n\u001b[1;32m      7\u001b[0m \u001b[0mprint\u001b[0m\u001b[0;34m(\u001b[0m\u001b[0mz\u001b[0m \u001b[0;34m-\u001b[0m \u001b[0;34m(\u001b[0m\u001b[0mt\u001b[0m \u001b[0;34m+\u001b[0m \u001b[0mc\u001b[0m\u001b[0;34m)\u001b[0m\u001b[0;34m)\u001b[0m\u001b[0;34m\u001b[0m\u001b[0m\n\u001b[1;32m      8\u001b[0m \u001b[0mprint\u001b[0m\u001b[0;34m(\u001b[0m\u001b[0mt\u001b[0m \u001b[0;34m+\u001b[0m \u001b[0mc\u001b[0m\u001b[0;34m)\u001b[0m\u001b[0;34m\u001b[0m\u001b[0m\n\u001b[0;32m----> 9\u001b[0;31m \u001b[0;32massert\u001b[0m \u001b[0;34m(\u001b[0m\u001b[0mz\u001b[0m \u001b[0;34m==\u001b[0m \u001b[0;34m(\u001b[0m\u001b[0mt\u001b[0m \u001b[0;34m+\u001b[0m \u001b[0mc\u001b[0m\u001b[0;34m)\u001b[0m\u001b[0;34m)\u001b[0m\u001b[0;34m.\u001b[0m\u001b[0mall\u001b[0m\u001b[0;34m(\u001b[0m\u001b[0;34m)\u001b[0m\u001b[0;34m\u001b[0m\u001b[0m\n\u001b[0m\u001b[1;32m     10\u001b[0m \u001b[0;34m\u001b[0m\u001b[0m\n\u001b[1;32m     11\u001b[0m \u001b[0mz\u001b[0m \u001b[0;34m=\u001b[0m \u001b[0;34m(\u001b[0m\u001b[0mc\u001b[0m \u001b[0;34m+\u001b[0m \u001b[0mx\u001b[0m\u001b[0;34m)\u001b[0m\u001b[0;34m.\u001b[0m\u001b[0mfloat_prec\u001b[0m\u001b[0;34m(\u001b[0m\u001b[0;34m)\u001b[0m\u001b[0;34m\u001b[0m\u001b[0m\n",
      "\u001b[0;31mAssertionError\u001b[0m: "
     ]
    }
   ],
   "source": [
    "# with constant float\n",
    "t = torch.tensor([1.0, -2.0, 3.0])\n",
    "x = t.fix_prec()\n",
    "c = 4.2\n",
    "\n",
    "z = (x + c).float_prec()\n",
    "print(z - (t + c))\n",
    "print(t + c)\n",
    "assert (z == (t + c)).all()\n",
    "\n",
    "z = (c + x).float_prec()\n",
    "assert (z == (c + t)).all()"
   ]
  },
  {
   "cell_type": "code",
   "execution_count": 2,
   "metadata": {},
   "outputs": [],
   "source": [
    "def log(self, iterations=2, exp_iterations=8):\n",
    "\n",
    "    # Initialization to a decent estimate (found by qualitative inspection):\n",
    "    # ln(x) = x/40 - 8exp(-2x - .3) + 1.9\n",
    "    print(self)\n",
    "    c1 = torch.tensor([0.3])\n",
    "    c2 = torch.tensor([1.9])\n",
    "    y = self / 40 - 8 * (-2 * self - c1).exp() + c2\n",
    "    print('y0', y)\n",
    "\n",
    "    # 6th order Householder iterations\n",
    "    for i in range(iterations):\n",
    "        print(f\"y{i}\", y)\n",
    "        e = (-y).exp()\n",
    "        print(\"e\", e)\n",
    "        h = 1 - self * e\n",
    "        print('h', h)\n",
    "        h2 = h ** 2\n",
    "        h3 = h2 * h\n",
    "        h4 = h2 ** 2\n",
    "        h5 = h4 * h\n",
    "        u = h * (1 + h.div(2) + h2.div(3) + h3.div(6) + h4.div(5) + h5.div(7))\n",
    "        print(f\"update\", u)\n",
    "        y -= u\n",
    "\n",
    "    return y"
   ]
  },
  {
   "cell_type": "code",
   "execution_count": 3,
   "metadata": {},
   "outputs": [
    {
     "name": "stdout",
     "output_type": "stream",
     "text": [
      "tensor([24.])\n",
      "y0 tensor([2.5000])\n",
      "y0 tensor([2.5000])\n",
      "e tensor([0.0821])\n",
      "h tensor([-0.9700])\n",
      "update tensor([-0.7090])\n",
      "y1 tensor([3.2090])\n",
      "e tensor([0.0404])\n",
      "h tensor([0.0305])\n",
      "update tensor([0.0309])\n"
     ]
    },
    {
     "data": {
      "text/plain": [
       "tensor([3.1781])"
      ]
     },
     "execution_count": 3,
     "metadata": {},
     "output_type": "execute_result"
    }
   ],
   "source": [
    "t = torch.tensor([24.])\n",
    "log(t)"
   ]
  },
  {
   "cell_type": "code",
   "execution_count": 7,
   "metadata": {},
   "outputs": [
    {
     "name": "stdout",
     "output_type": "stream",
     "text": [
      "--\n",
      "tensor([3.1880])\n",
      "tensor([3.1781])\n"
     ]
    },
    {
     "data": {
      "text/plain": [
       "tensor([0.0007])"
      ]
     },
     "execution_count": 7,
     "metadata": {},
     "output_type": "execute_result"
    }
   ],
   "source": [
    "t = torch.tensor([24.])\n",
    "t_sh = t.fix_precision(precision_fractional=3).share(alice, bob, crypto_provider=james)\n",
    "r_sh = t_sh.log()\n",
    "r = r_sh.get().float_prec()\n",
    "print('--')\n",
    "print(r)\n",
    "print(t.log())\n",
    "diff = (r - t.log()).abs()\n",
    "norm = (r + t) / 2\n",
    "\n",
    "diff/norm"
   ]
  },
  {
   "cell_type": "code",
   "execution_count": 35,
   "metadata": {},
   "outputs": [
    {
     "name": "stdout",
     "output_type": "stream",
     "text": [
      "tensor([0.2950]) tensor([0.3365])\n"
     ]
    }
   ],
   "source": [
    "tolerance = 5 / 100\n",
    "t = torch.tensor([1.4])\n",
    "t_sh = t.fix_precision().share(alice, bob, crypto_provider=james)\n",
    "r_sh = t_sh.log()\n",
    "r = r_sh.get().float_prec()\n",
    "diff = (r - t.log()).abs()\n",
    "norm = (r + t) / 2\n",
    "print(r, t.log())\n",
    "assert (diff < tolerance * norm).all()"
   ]
  },
  {
   "cell_type": "code",
   "execution_count": 3,
   "metadata": {},
   "outputs": [
    {
     "data": {
      "text/plain": [
       "tensor([1.6570])"
      ]
     },
     "execution_count": 3,
     "metadata": {},
     "output_type": "execute_result"
    }
   ],
   "source": [
    "t = torch.tensor([1.5]).fix_precision().share(alice, bob, crypto_provider=james)\n",
    "self = t\n",
    "c1 = torch.tensor([0.3]).fix_precision()\n",
    "c2 = torch.tensor([1.9]).fix_precision()\n",
    "y = self / 40 - 8 * (-2 * self - c1).exp() + c2\n",
    "y.get().float_prec()"
   ]
  },
  {
   "cell_type": "code",
   "execution_count": 37,
   "metadata": {},
   "outputs": [
    {
     "data": {
      "text/plain": [
       "tensor([1.6424])"
      ]
     },
     "execution_count": 37,
     "metadata": {},
     "output_type": "execute_result"
    }
   ],
   "source": [
    "t = torch.tensor([1.5])\n",
    "self = t\n",
    "self / 40 - 8 * (-2 * self - 0.3).exp() + 1.9"
   ]
  },
  {
   "cell_type": "code",
   "execution_count": 36,
   "metadata": {},
   "outputs": [
    {
     "data": {
      "text/plain": [
       "(Wrapper)>FixedPrecisionTensor>[AdditiveSharingTensor]\n",
       "\t-> [PointerTensor | me:34444351479 -> alice:64908857738]\n",
       "\t-> [PointerTensor | me:87436165845 -> bob:43570879381]\n",
       "\t*crypto provider: dan*"
      ]
     },
     "execution_count": 36,
     "metadata": {},
     "output_type": "execute_result"
    }
   ],
   "source": [
    "torch.tensor([1.5]).fix_precision().share(alice, bob, crypto_provider=james)"
   ]
  },
  {
   "cell_type": "code",
   "execution_count": null,
   "metadata": {},
   "outputs": [],
   "source": []
  },
  {
   "cell_type": "code",
   "execution_count": 3,
   "metadata": {},
   "outputs": [],
   "source": [
    "t_sh = t_fp.share(alice, bob, crypto_provider=james)"
   ]
  },
  {
   "cell_type": "code",
   "execution_count": 4,
   "metadata": {},
   "outputs": [
    {
     "data": {
      "text/plain": [
       "(Wrapper)>FixedPrecisionTensor>[AdditiveSharingTensor]\n",
       "\t-> [PointerTensor | me:54663139331 -> alice:40221567173]\n",
       "\t-> [PointerTensor | me:24387318875 -> bob:295315150]\n",
       "\t*crypto provider: dan*"
      ]
     },
     "execution_count": 4,
     "metadata": {},
     "output_type": "execute_result"
    }
   ],
   "source": [
    "t_sh"
   ]
  },
  {
   "cell_type": "code",
   "execution_count": 5,
   "metadata": {},
   "outputs": [
    {
     "data": {
      "text/plain": [
       "(Wrapper)>FixedPrecisionTensor>tensor([1006])"
      ]
     },
     "execution_count": 5,
     "metadata": {},
     "output_type": "execute_result"
    }
   ],
   "source": [
    "iterations = 8\n",
    "r_sh = t_sh.div(2 ** iterations) + 1\n",
    "r_sh.get()"
   ]
  },
  {
   "cell_type": "code",
   "execution_count": 6,
   "metadata": {},
   "outputs": [
    {
     "data": {
      "text/plain": [
       "5.859375"
      ]
     },
     "execution_count": 6,
     "metadata": {},
     "output_type": "execute_result"
    }
   ],
   "source": [
    "1500/2**8"
   ]
  },
  {
   "cell_type": "code",
   "execution_count": 7,
   "metadata": {},
   "outputs": [
    {
     "name": "stdout",
     "output_type": "stream",
     "text": [
      "tensor([1500])\n",
      "tensor([1006])\n",
      "tensor([1012])\n",
      "tensor([1024])\n",
      "tensor([1048])\n",
      "tensor([1098])\n",
      "tensor([1206])\n",
      "tensor([1454])\n",
      "tensor([2114])\n",
      "tensor([4469])\n"
     ]
    }
   ],
   "source": [
    "r_sh = t_sh.exp()"
   ]
  },
  {
   "cell_type": "code",
   "execution_count": 8,
   "metadata": {},
   "outputs": [
    {
     "data": {
      "text/plain": [
       "tensor([4.4690])"
      ]
     },
     "execution_count": 8,
     "metadata": {},
     "output_type": "execute_result"
    }
   ],
   "source": [
    "r_sh.get().float_prec()"
   ]
  },
  {
   "cell_type": "code",
   "execution_count": 9,
   "metadata": {},
   "outputs": [
    {
     "data": {
      "text/plain": [
       "tensor([4.4817])"
      ]
     },
     "execution_count": 9,
     "metadata": {},
     "output_type": "execute_result"
    }
   ],
   "source": [
    "t.exp()"
   ]
  },
  {
   "cell_type": "code",
   "execution_count": null,
   "metadata": {},
   "outputs": [],
   "source": []
  }
 ],
 "metadata": {
  "kernelspec": {
   "display_name": "Python (Pysyft)",
   "language": "python",
   "name": "pysyft"
  },
  "language_info": {
   "codemirror_mode": {
    "name": "ipython",
    "version": 3
   },
   "file_extension": ".py",
   "mimetype": "text/x-python",
   "name": "python",
   "nbconvert_exporter": "python",
   "pygments_lexer": "ipython3",
   "version": "3.7.0"
  }
 },
 "nbformat": 4,
 "nbformat_minor": 2
}
