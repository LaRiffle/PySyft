{
 "cells": [
  {
   "cell_type": "code",
   "execution_count": 1,
   "metadata": {},
   "outputs": [
    {
     "name": "stdout",
     "output_type": "stream",
     "text": [
      "(32, (2, (13, (32075344371, b'\\x80\\x02\\x8a\\nl\\xfc\\x9cF\\xf9 j\\xa8P\\x19.\\x80\\x02M\\xe9\\x03.\\x80\\x02}q\\x00(X\\x10\\x00\\x00\\x00protocol_versionq\\x01M\\xe9\\x03X\\r\\x00\\x00\\x00little_endianq\\x02\\x88X\\n\\x00\\x00\\x00type_sizesq\\x03}q\\x04(X\\x05\\x00\\x00\\x00shortq\\x05K\\x02X\\x03\\x00\\x00\\x00intq\\x06K\\x04X\\x04\\x00\\x00\\x00longq\\x07K\\x04uu.\\x80\\x02ctorch._utils\\n_rebuild_tensor_v2\\nq\\x00((X\\x07\\x00\\x00\\x00storageq\\x01ctorch\\nLongStorage\\nq\\x02X\\x0f\\x00\\x00\\x00140611442163424q\\x03X\\x03\\x00\\x00\\x00cpuq\\x04K\\x01Ntq\\x05QK\\x00K\\x01\\x85q\\x06K\\x01\\x85q\\x07\\x89ccollections\\nOrderedDict\\nq\\x08)Rq\\ttq\\nRq\\x0b.\\x80\\x02]q\\x00X\\x0f\\x00\\x00\\x00140611442163424q\\x01a.\\x01\\x00\\x00\\x00\\x00\\x00\\x00\\x00C\\xc5a\\xf2\\xf3\\xc1\\xad\\x13', None, None, None, None))))\n",
      "None\n",
      "(32, (2, (13, (78334693116, b'\\x80\\x02\\x8a\\nl\\xfc\\x9cF\\xf9 j\\xa8P\\x19.\\x80\\x02M\\xe9\\x03.\\x80\\x02}q\\x00(X\\x10\\x00\\x00\\x00protocol_versionq\\x01M\\xe9\\x03X\\r\\x00\\x00\\x00little_endianq\\x02\\x88X\\n\\x00\\x00\\x00type_sizesq\\x03}q\\x04(X\\x05\\x00\\x00\\x00shortq\\x05K\\x02X\\x03\\x00\\x00\\x00intq\\x06K\\x04X\\x04\\x00\\x00\\x00longq\\x07K\\x04uu.\\x80\\x02ctorch._utils\\n_rebuild_tensor_v2\\nq\\x00((X\\x07\\x00\\x00\\x00storageq\\x01ctorch\\nLongStorage\\nq\\x02X\\x0f\\x00\\x00\\x00140611491466624q\\x03X\\x03\\x00\\x00\\x00cpuq\\x04K\\x01Ntq\\x05QK\\x00K\\x01\\x85q\\x06K\\x01\\x85q\\x07\\x89ccollections\\nOrderedDict\\nq\\x08)Rq\\ttq\\nRq\\x0b.\\x80\\x02]q\\x00X\\x0f\\x00\\x00\\x00140611491466624q\\x01a.\\x01\\x00\\x00\\x00\\x00\\x00\\x00\\x00\\xa5>\\x9e\\r\\x0c>R,', None, None, None, None))))\n",
      "None\n"
     ]
    },
    {
     "data": {
      "text/plain": [
       "tensor([1.])"
      ]
     },
     "execution_count": 1,
     "metadata": {},
     "output_type": "execute_result"
    }
   ],
   "source": [
    "import torch as th\n",
    "import syft as sy\n",
    "\n",
    "hook = sy.TorchHook(th)\n",
    "\n",
    "alice = sy.VirtualWorker(hook, id=\"alice\")\n",
    "bob = sy.VirtualWorker(hook, id=\"bob\")\n",
    "charlie = sy.VirtualWorker(hook, id=\"charlie\")\n",
    "\n",
    "hook.local_worker.is_client_worker = False\n",
    "me = hook.local_worker\n",
    "\n",
    "x = th.tensor([1.0])\n",
    "x_sh = x.fix_precision().share(alice, bob, crypto_provider=charlie)\n",
    "me.get_obj(x.id)"
   ]
  },
  {
   "cell_type": "code",
   "execution_count": 1,
   "metadata": {},
   "outputs": [],
   "source": [
    "import torch as th\n",
    "import torch.nn as nn\n",
    "import torch.nn.functional as F\n",
    "import syft as sy\n",
    "\n",
    "hook = sy.TorchHook(th)\n",
    "\n",
    "alice = sy.VirtualWorker(hook, id=\"alice\")\n",
    "bob = sy.VirtualWorker(hook, id=\"bob\")\n",
    "charlie = sy.VirtualWorker(hook, id=\"charlie\")\n",
    "dan = sy.VirtualWorker(hook, id=\"dan\")\n",
    "james = dan\n",
    "\n",
    "hook.local_worker.is_client_worker = False\n",
    "me = hook.local_worker\n",
    "\n",
    "import sys\n",
    "torch = th\n",
    "syft = sy\n",
    "from syft.generic.frameworks.types import FrameworkTensor\n",
    "from syft.generic.pointers.pointer_tensor import PointerTensor"
   ]
  },
  {
   "cell_type": "code",
   "execution_count": 3,
   "metadata": {},
   "outputs": [
    {
     "name": "stdout",
     "output_type": "stream",
     "text": [
      "\n",
      " (32, (2, (13, (10163732433, b'\\x80\\x02\\x8a\\nl\\xfc\\x9cF\\xf9 j\\xa8P\\x19.\\x80\\x02M\\xe9\\x03.\\x80\\x02}q\\x00(X\\x10\\x00\\x00\\x00protocol_versionq\\x01M\\xe9\\x03X\\r\\x00\\x00\\x00little_endianq\\x02\\x88X\\n\\x00\\x00\\x00type_sizesq\\x03}q\\x04(X\\x05\\x00\\x00\\x00shortq\\x05K\\x02X\\x03\\x00\\x00\\x00intq\\x06K\\x04X\\x04\\x00\\x00\\x00longq\\x07K\\x04uu.\\x80\\x02ctorch._utils\\n_rebuild_tensor_v2\\nq\\x00((X\\x07\\x00\\x00\\x00storageq\\x01ctorch\\nFloatStorage\\nq\\x02X\\x0f\\x00\\x00\\x00140239425550192q\\x03X\\x03\\x00\\x00\\x00cpuq\\x04K\\x01Ntq\\x05QK\\x00K\\x01\\x85q\\x06K\\x01\\x85q\\x07\\x89ccollections\\nOrderedDict\\nq\\x08)Rq\\ttq\\nRq\\x0b.\\x80\\x02]q\\x00X\\x0f\\x00\\x00\\x00140239425550192q\\x01a.\\x01\\x00\\x00\\x00\\x00\\x00\\x00\\x00\\x00\\x00\\x00\\x00', None, None, None, None))))\n",
      "\n",
      " None\n",
      "\n",
      " (31, (1, ((6, ((5, (b'__add__',)), (23, (79107837068, 10163732433, 66169331189, None, (10, (1,)), True)), (6, (1,)), (0, ()))), (63042893904,))))\n",
      "\n",
      " None\n",
      "\n",
      " (32, (2, (13, (91967656071, b'\\x80\\x02\\x8a\\nl\\xfc\\x9cF\\xf9 j\\xa8P\\x19.\\x80\\x02M\\xe9\\x03.\\x80\\x02}q\\x00(X\\x10\\x00\\x00\\x00protocol_versionq\\x01M\\xe9\\x03X\\r\\x00\\x00\\x00little_endianq\\x02\\x88X\\n\\x00\\x00\\x00type_sizesq\\x03}q\\x04(X\\x05\\x00\\x00\\x00shortq\\x05K\\x02X\\x03\\x00\\x00\\x00intq\\x06K\\x04X\\x04\\x00\\x00\\x00longq\\x07K\\x04uu.\\x80\\x02ctorch._utils\\n_rebuild_tensor_v2\\nq\\x00((X\\x07\\x00\\x00\\x00storageq\\x01ctorch\\nFloatStorage\\nq\\x02X\\x0f\\x00\\x00\\x00140239413667088q\\x03X\\x03\\x00\\x00\\x00cpuq\\x04K\\x01Ntq\\x05QK\\x00K\\x01\\x85q\\x06K\\x01\\x85q\\x07\\x89ccollections\\nOrderedDict\\nq\\x08)Rq\\ttq\\nRq\\x0b.\\x80\\x02]q\\x00X\\x0f\\x00\\x00\\x00140239413667088q\\x01a.\\x01\\x00\\x00\\x00\\x00\\x00\\x00\\x00\\x00\\x00\\x00\\x00', None, None, None, None))))\n",
      "\n",
      " None\n",
      "\n",
      " (31, (1, ((6, ((5, (b'__add__',)), (23, (11742995913, 91967656071, 8432378840, None, (10, (1,)), True)), (6, (1,)), (0, ()))), (83617222080,))))\n",
      "\n",
      " None\n",
      "\n",
      " (32, (2, (13, (56962087150, b'\\x80\\x02\\x8a\\nl\\xfc\\x9cF\\xf9 j\\xa8P\\x19.\\x80\\x02M\\xe9\\x03.\\x80\\x02}q\\x00(X\\x10\\x00\\x00\\x00protocol_versionq\\x01M\\xe9\\x03X\\r\\x00\\x00\\x00little_endianq\\x02\\x88X\\n\\x00\\x00\\x00type_sizesq\\x03}q\\x04(X\\x05\\x00\\x00\\x00shortq\\x05K\\x02X\\x03\\x00\\x00\\x00intq\\x06K\\x04X\\x04\\x00\\x00\\x00longq\\x07K\\x04uu.\\x80\\x02ctorch._utils\\n_rebuild_tensor_v2\\nq\\x00((X\\x07\\x00\\x00\\x00storageq\\x01ctorch\\nFloatStorage\\nq\\x02X\\x0f\\x00\\x00\\x00140239406585376q\\x03X\\x03\\x00\\x00\\x00cpuq\\x04K\\x01Ntq\\x05QK\\x00K\\x01\\x85q\\x06K\\x01\\x85q\\x07\\x89ccollections\\nOrderedDict\\nq\\x08)Rq\\ttq\\nRq\\x0b.\\x80\\x02]q\\x00X\\x0f\\x00\\x00\\x00140239406585376q\\x01a.\\x01\\x00\\x00\\x00\\x00\\x00\\x00\\x00\\x00\\x00\\x00\\x00', None, None, None, None))))\n",
      "\n",
      " None\n",
      "\n",
      " (31, (1, ((6, ((5, (b'__add__',)), (23, (34456943655, 56962087150, 24178059513, None, (10, (1,)), True)), (6, (1,)), (0, ()))), (19561501602,))))\n",
      "\n",
      " None\n"
     ]
    }
   ],
   "source": [
    "@sy.func2plan(args_shape=[(1,)])\n",
    "def inc1(x):\n",
    "    return x + 1\n",
    "\n",
    "@sy.func2plan(args_shape=[(1,)])\n",
    "def inc2(x):\n",
    "    return x + 1\n",
    "\n",
    "@sy.func2plan(args_shape=[(1,)])\n",
    "def inc3(x):\n",
    "    return x + 1\n",
    "\n",
    "protocol = sy.Protocol([\n",
    "    ('worker1', inc1),\n",
    "    ('worker2', inc2),\n",
    "    ('worker3', inc3),\n",
    "])"
   ]
  },
  {
   "cell_type": "code",
   "execution_count": 4,
   "metadata": {},
   "outputs": [
    {
     "name": "stdout",
     "output_type": "stream",
     "text": [
      "\n",
      " (32, (2, (19, (66169331189, (21, (((31, (1, ((6, ((5, (b'__add__',)), (23, (79107837068, 10163732433, 'dan', None, (10, (1,)), True)), (6, (1,)), (0, ()))), (63042893904,)))),), (6, (10163732433,)), (6, (63042893904,)))), (20, ((1, ()), (1, ()))), False, True, (5, (b'inc1',)), None, None))))\n",
      "\n",
      " None\n",
      "\n",
      " (32, (2, (19, (8432378840, (21, (((31, (1, ((6, ((5, (b'__add__',)), (23, (11742995913, 91967656071, 'dan', None, (10, (1,)), True)), (6, (1,)), (0, ()))), (83617222080,)))),), (6, (91967656071,)), (6, (83617222080,)))), (20, ((1, ()), (1, ()))), False, True, (5, (b'inc2',)), None, None))))\n",
      "\n",
      " None\n",
      "\n",
      " (32, (2, (19, (24178059513, (21, (((31, (1, ((6, ((5, (b'__add__',)), (23, (34456943655, 56962087150, 'dan', None, (10, (1,)), True)), (6, (1,)), (0, ()))), (19561501602,)))),), (6, (56962087150,)), (6, (19561501602,)))), (20, ((1, ()), (1, ()))), False, True, (5, (b'inc3',)), None, None))))\n",
      "\n",
      " None\n",
      "\n",
      " (32, (2, (22, (61077808478, None, None, (1, ((6, ((5, (b'worker1',)), 66169331189)), (6, ((5, (b'worker2',)), 8432378840)), (6, ((5, (b'worker3',)), 24178059513)))), False))))\n",
      "\n",
      " None\n"
     ]
    }
   ],
   "source": [
    "protocol.send(james)"
   ]
  },
  {
   "cell_type": "code",
   "execution_count": 5,
   "metadata": {},
   "outputs": [
    {
     "name": "stdout",
     "output_type": "stream",
     "text": [
      "\n",
      " (37, (8, (1, (61077808478,))))\n",
      "\n",
      " (1, ((25, (5991807408, 61077808478, 'dan', False)),))\n"
     ]
    }
   ],
   "source": [
    "ptr_protocol = me.request_search([protocol.id], location=james)[0]"
   ]
  },
  {
   "cell_type": "code",
   "execution_count": 6,
   "metadata": {},
   "outputs": [
    {
     "name": "stdout",
     "output_type": "stream",
     "text": [
      "\n",
      " (38, (10, ((5, (b'fetch_protocol',)), (6, (61077808478, False)))))\n",
      "\n",
      " (22, (61077808478, None, None, (1, ((6, ((5, (b'dan',)), 66169331189)), (6, ((5, (b'dan',)), 8432378840)), (6, ((5, (b'dan',)), 24178059513)))), False))\n",
      "\n",
      " (37, (8, 66169331189))\n",
      "\n",
      " (1, ((24, (79205751526, 66169331189, 'dan', False)),))\n",
      "\n",
      " (38, (10, ((5, (b'fetch_plan',)), (6, (66169331189, False)))))\n",
      "\n",
      " (19, (66169331189, (21, (((31, (1, ((6, ((5, (b'__add__',)), (23, (79107837068, 10163732433, b'dan', None, (10, (1,)), True)), (6, (1,)), (0, ()))), (63042893904,)))),), (6, (10163732433,)), (6, (63042893904,)))), (20, ((1, ()), (1, ()))), False, True, (5, (b'inc1',)), None, None))\n",
      "\n",
      " (37, (8, 8432378840))\n",
      "\n",
      " (1, ((24, (58291130838, 8432378840, 'dan', False)),))\n",
      "\n",
      " (38, (10, ((5, (b'fetch_plan',)), (6, (8432378840, False)))))\n",
      "\n",
      " (19, (8432378840, (21, (((31, (1, ((6, ((5, (b'__add__',)), (23, (11742995913, 91967656071, b'dan', None, (10, (1,)), True)), (6, (1,)), (0, ()))), (83617222080,)))),), (6, (91967656071,)), (6, (83617222080,)))), (20, ((1, ()), (1, ()))), False, True, (5, (b'inc2',)), None, None))\n",
      "\n",
      " (37, (8, 24178059513))\n",
      "\n",
      " (1, ((24, (20707335776, 24178059513, 'dan', False)),))\n",
      "\n",
      " (38, (10, ((5, (b'fetch_plan',)), (6, (24178059513, False)))))\n",
      "\n",
      " (19, (24178059513, (21, (((31, (1, ((6, ((5, (b'__add__',)), (23, (34456943655, 56962087150, b'dan', None, (10, (1,)), True)), (6, (1,)), (0, ()))), (19561501602,)))),), (6, (56962087150,)), (6, (19561501602,)))), (20, ((1, ()), (1, ()))), False, True, (5, (b'inc3',)), None, None))\n"
     ]
    }
   ],
   "source": [
    "protocol_back = ptr_protocol.get()"
   ]
  },
  {
   "cell_type": "code",
   "execution_count": 7,
   "metadata": {},
   "outputs": [
    {
     "data": {
      "text/plain": [
       "<Protocol id:61077808478 owner:me>\n",
       " - me: <Plan inc1 id:66169331189 owner:me built>\n",
       " - me: <Plan inc2 id:8432378840 owner:me built>\n",
       " - me: <Plan inc3 id:24178059513 owner:me built>"
      ]
     },
     "execution_count": 7,
     "metadata": {},
     "output_type": "execute_result"
    }
   ],
   "source": [
    "protocol_back"
   ]
  },
  {
   "cell_type": "code",
   "execution_count": 5,
   "metadata": {},
   "outputs": [],
   "source": [
    "import pytest"
   ]
  },
  {
   "cell_type": "code",
   "execution_count": 6,
   "metadata": {},
   "outputs": [
    {
     "name": "stdout",
     "output_type": "stream",
     "text": [
      "[(<VirtualWorker id:alice #objects:3>, [PointerPlan | me:41459878515 -> alice:25699051973]), (<VirtualWorker id:bob #objects:3>, [PointerPlan | me:80348339002 -> bob:81312232562]), (<VirtualWorker id:charlie #objects:3>, [PointerPlan | me:96707209018 -> charlie:23946387074])]\n",
      "send remote run request to dan\n",
      "send alice\n",
      "move alice  ->  bob\n",
      "move bob  ->  charlie\n"
     ]
    }
   ],
   "source": [
    "protocol.deploy(alice, bob, charlie)\n",
    "print(protocol.plans)\n",
    "protocol.send(james)\n",
    "\n",
    "x = th.tensor([1.0]).send(james)\n",
    "ptr = protocol.run(x)\n",
    "\n",
    "assert ptr.location == james\n",
    "assert isinstance(ptr, FrameworkTensor) and ptr.is_wrapper\n",
    "\n",
    "ptr = ptr.get()\n",
    "\n",
    "assert ptr.location == charlie\n",
    "assert (\n",
    "    isinstance(ptr, FrameworkTensor) and ptr.is_wrapper and isinstance(ptr.child, PointerTensor)\n",
    ")\n",
    "\n",
    "res = ptr.get()\n",
    "\n",
    "assert res == th.tensor([4.0])\n",
    "\n",
    "# BONUS: Error case when data is not correctly located\n",
    "\n",
    "x = th.tensor([1.0])\n",
    "with pytest.raises(RuntimeError):\n",
    "    protocol.run(x)"
   ]
  },
  {
   "cell_type": "code",
   "execution_count": null,
   "metadata": {},
   "outputs": [],
   "source": []
  },
  {
   "cell_type": "code",
   "execution_count": 5,
   "metadata": {},
   "outputs": [],
   "source": [
    "protocol.tags = ['my_protocol']"
   ]
  },
  {
   "cell_type": "code",
   "execution_count": 6,
   "metadata": {},
   "outputs": [
    {
     "ename": "TypeError",
     "evalue": "create_pointer() missing 2 required positional arguments: 'location' and 'id_at_location'",
     "output_type": "error",
     "traceback": [
      "\u001b[0;31m---------------------------------------------------------------------------\u001b[0m",
      "\u001b[0;31mTypeError\u001b[0m                                 Traceback (most recent call last)",
      "\u001b[0;32m<ipython-input-6-2e6194e22940>\u001b[0m in \u001b[0;36m<module>\u001b[0;34m\u001b[0m\n\u001b[1;32m      1\u001b[0m \u001b[0;31m#protocol.deploy(alice, bob, charlie)\u001b[0m\u001b[0;34m\u001b[0m\u001b[0;34m\u001b[0m\u001b[0m\n\u001b[1;32m      2\u001b[0m \u001b[0;34m\u001b[0m\u001b[0m\n\u001b[0;32m----> 3\u001b[0;31m \u001b[0mprotocol\u001b[0m\u001b[0;34m.\u001b[0m\u001b[0msend\u001b[0m\u001b[0;34m(\u001b[0m\u001b[0mjames\u001b[0m\u001b[0;34m)\u001b[0m\u001b[0;34m\u001b[0m\u001b[0m\n\u001b[0m\u001b[1;32m      4\u001b[0m \u001b[0mid_at_location\u001b[0m \u001b[0;34m=\u001b[0m \u001b[0mprotocol\u001b[0m\u001b[0;34m.\u001b[0m\u001b[0mid\u001b[0m\u001b[0;34m\u001b[0m\u001b[0m\n",
      "\u001b[0;32m~/code/PySyft/syft/messaging/protocol.py\u001b[0m in \u001b[0;36msend\u001b[0;34m(self, location)\u001b[0m\n\u001b[1;32m    179\u001b[0m         \u001b[0;31m# Else, the plans are already deployed and we don't move them\u001b[0m\u001b[0;34m\u001b[0m\u001b[0;34m\u001b[0m\u001b[0m\n\u001b[1;32m    180\u001b[0m \u001b[0;34m\u001b[0m\u001b[0m\n\u001b[0;32m--> 181\u001b[0;31m         \u001b[0mself\u001b[0m\u001b[0;34m.\u001b[0m\u001b[0mowner\u001b[0m\u001b[0;34m.\u001b[0m\u001b[0msend_obj\u001b[0m\u001b[0;34m(\u001b[0m\u001b[0mobj\u001b[0m\u001b[0;34m=\u001b[0m\u001b[0mself\u001b[0m\u001b[0;34m,\u001b[0m \u001b[0mlocation\u001b[0m\u001b[0;34m=\u001b[0m\u001b[0mlocation\u001b[0m\u001b[0;34m)\u001b[0m\u001b[0;34m\u001b[0m\u001b[0m\n\u001b[0m\u001b[1;32m    182\u001b[0m \u001b[0;34m\u001b[0m\u001b[0m\n\u001b[1;32m    183\u001b[0m         \u001b[0mself\u001b[0m\u001b[0;34m.\u001b[0m\u001b[0mlocation\u001b[0m \u001b[0;34m=\u001b[0m \u001b[0mlocation\u001b[0m\u001b[0;34m\u001b[0m\u001b[0m\n",
      "\u001b[0;32m~/code/PySyft/syft/workers/base.py\u001b[0m in \u001b[0;36msend_obj\u001b[0;34m(self, obj, location)\u001b[0m\n\u001b[1;32m    575\u001b[0m                 \u001b[0mreceive\u001b[0m \u001b[0mthe\u001b[0m \u001b[0mobject\u001b[0m\u001b[0;34m.\u001b[0m\u001b[0;34m\u001b[0m\u001b[0m\n\u001b[1;32m    576\u001b[0m         \"\"\"\n\u001b[0;32m--> 577\u001b[0;31m         \u001b[0;32mreturn\u001b[0m \u001b[0mself\u001b[0m\u001b[0;34m.\u001b[0m\u001b[0msend_msg\u001b[0m\u001b[0;34m(\u001b[0m\u001b[0mObjectMessage\u001b[0m\u001b[0;34m(\u001b[0m\u001b[0mobj\u001b[0m\u001b[0;34m)\u001b[0m\u001b[0;34m,\u001b[0m \u001b[0mlocation\u001b[0m\u001b[0;34m)\u001b[0m\u001b[0;34m\u001b[0m\u001b[0m\n\u001b[0m\u001b[1;32m    578\u001b[0m \u001b[0;34m\u001b[0m\u001b[0m\n\u001b[1;32m    579\u001b[0m     \u001b[0;32mdef\u001b[0m \u001b[0mrequest_obj\u001b[0m\u001b[0;34m(\u001b[0m\u001b[0mself\u001b[0m\u001b[0;34m,\u001b[0m \u001b[0mobj_id\u001b[0m\u001b[0;34m:\u001b[0m \u001b[0mUnion\u001b[0m\u001b[0;34m[\u001b[0m\u001b[0mstr\u001b[0m\u001b[0;34m,\u001b[0m \u001b[0mint\u001b[0m\u001b[0;34m]\u001b[0m\u001b[0;34m,\u001b[0m \u001b[0mlocation\u001b[0m\u001b[0;34m:\u001b[0m \u001b[0;34m\"BaseWorker\"\u001b[0m\u001b[0;34m)\u001b[0m \u001b[0;34m->\u001b[0m \u001b[0mobject\u001b[0m\u001b[0;34m:\u001b[0m\u001b[0;34m\u001b[0m\u001b[0m\n",
      "\u001b[0;32m~/code/PySyft/syft/workers/base.py\u001b[0m in \u001b[0;36msend_msg\u001b[0;34m(self, message, location)\u001b[0m\n\u001b[1;32m    256\u001b[0m \u001b[0;34m\u001b[0m\u001b[0m\n\u001b[1;32m    257\u001b[0m         \u001b[0;31m# Step 2: send the message and wait for a response\u001b[0m\u001b[0;34m\u001b[0m\u001b[0;34m\u001b[0m\u001b[0m\n\u001b[0;32m--> 258\u001b[0;31m         \u001b[0mbin_response\u001b[0m \u001b[0;34m=\u001b[0m \u001b[0mself\u001b[0m\u001b[0;34m.\u001b[0m\u001b[0m_send_msg\u001b[0m\u001b[0;34m(\u001b[0m\u001b[0mbin_message\u001b[0m\u001b[0;34m,\u001b[0m \u001b[0mlocation\u001b[0m\u001b[0;34m)\u001b[0m\u001b[0;34m\u001b[0m\u001b[0m\n\u001b[0m\u001b[1;32m    259\u001b[0m \u001b[0;34m\u001b[0m\u001b[0m\n\u001b[1;32m    260\u001b[0m         \u001b[0;31m# Step 3: deserialize the response\u001b[0m\u001b[0;34m\u001b[0m\u001b[0;34m\u001b[0m\u001b[0m\n",
      "\u001b[0;32m~/code/PySyft/syft/workers/virtual.py\u001b[0m in \u001b[0;36m_send_msg\u001b[0;34m(self, message, location)\u001b[0m\n\u001b[1;32m      5\u001b[0m \u001b[0;32mclass\u001b[0m \u001b[0mVirtualWorker\u001b[0m\u001b[0;34m(\u001b[0m\u001b[0mBaseWorker\u001b[0m\u001b[0;34m,\u001b[0m \u001b[0mFederatedClient\u001b[0m\u001b[0;34m)\u001b[0m\u001b[0;34m:\u001b[0m\u001b[0;34m\u001b[0m\u001b[0m\n\u001b[1;32m      6\u001b[0m     \u001b[0;32mdef\u001b[0m \u001b[0m_send_msg\u001b[0m\u001b[0;34m(\u001b[0m\u001b[0mself\u001b[0m\u001b[0;34m,\u001b[0m \u001b[0mmessage\u001b[0m\u001b[0;34m:\u001b[0m \u001b[0mbin\u001b[0m\u001b[0;34m,\u001b[0m \u001b[0mlocation\u001b[0m\u001b[0;34m:\u001b[0m \u001b[0mBaseWorker\u001b[0m\u001b[0;34m)\u001b[0m \u001b[0;34m->\u001b[0m \u001b[0mbin\u001b[0m\u001b[0;34m:\u001b[0m\u001b[0;34m\u001b[0m\u001b[0m\n\u001b[0;32m----> 7\u001b[0;31m         \u001b[0;32mreturn\u001b[0m \u001b[0mlocation\u001b[0m\u001b[0;34m.\u001b[0m\u001b[0m_recv_msg\u001b[0m\u001b[0;34m(\u001b[0m\u001b[0mmessage\u001b[0m\u001b[0;34m)\u001b[0m\u001b[0;34m\u001b[0m\u001b[0m\n\u001b[0m\u001b[1;32m      8\u001b[0m \u001b[0;34m\u001b[0m\u001b[0m\n\u001b[1;32m      9\u001b[0m     \u001b[0;32mdef\u001b[0m \u001b[0m_recv_msg\u001b[0m\u001b[0;34m(\u001b[0m\u001b[0mself\u001b[0m\u001b[0;34m,\u001b[0m \u001b[0mmessage\u001b[0m\u001b[0;34m:\u001b[0m \u001b[0mbin\u001b[0m\u001b[0;34m)\u001b[0m \u001b[0;34m->\u001b[0m \u001b[0mbin\u001b[0m\u001b[0;34m:\u001b[0m\u001b[0;34m\u001b[0m\u001b[0m\n",
      "\u001b[0;32m~/code/PySyft/syft/workers/virtual.py\u001b[0m in \u001b[0;36m_recv_msg\u001b[0;34m(self, message)\u001b[0m\n\u001b[1;32m      8\u001b[0m \u001b[0;34m\u001b[0m\u001b[0m\n\u001b[1;32m      9\u001b[0m     \u001b[0;32mdef\u001b[0m \u001b[0m_recv_msg\u001b[0m\u001b[0;34m(\u001b[0m\u001b[0mself\u001b[0m\u001b[0;34m,\u001b[0m \u001b[0mmessage\u001b[0m\u001b[0;34m:\u001b[0m \u001b[0mbin\u001b[0m\u001b[0;34m)\u001b[0m \u001b[0;34m->\u001b[0m \u001b[0mbin\u001b[0m\u001b[0;34m:\u001b[0m\u001b[0;34m\u001b[0m\u001b[0m\n\u001b[0;32m---> 10\u001b[0;31m         \u001b[0;32mreturn\u001b[0m \u001b[0mself\u001b[0m\u001b[0;34m.\u001b[0m\u001b[0mrecv_msg\u001b[0m\u001b[0;34m(\u001b[0m\u001b[0mmessage\u001b[0m\u001b[0;34m)\u001b[0m\u001b[0;34m\u001b[0m\u001b[0m\n\u001b[0m",
      "\u001b[0;32m~/code/PySyft/syft/workers/base.py\u001b[0m in \u001b[0;36mrecv_msg\u001b[0;34m(self, bin_message)\u001b[0m\n\u001b[1;32m    283\u001b[0m \u001b[0;34m\u001b[0m\u001b[0m\n\u001b[1;32m    284\u001b[0m         \u001b[0;31m# Step 0: deserialize message\u001b[0m\u001b[0;34m\u001b[0m\u001b[0;34m\u001b[0m\u001b[0m\n\u001b[0;32m--> 285\u001b[0;31m         \u001b[0mmsg\u001b[0m \u001b[0;34m=\u001b[0m \u001b[0msy\u001b[0m\u001b[0;34m.\u001b[0m\u001b[0mserde\u001b[0m\u001b[0;34m.\u001b[0m\u001b[0mdeserialize\u001b[0m\u001b[0;34m(\u001b[0m\u001b[0mbin_message\u001b[0m\u001b[0;34m,\u001b[0m \u001b[0mworker\u001b[0m\u001b[0;34m=\u001b[0m\u001b[0mself\u001b[0m\u001b[0;34m)\u001b[0m\u001b[0;34m\u001b[0m\u001b[0m\n\u001b[0m\u001b[1;32m    286\u001b[0m \u001b[0;34m\u001b[0m\u001b[0m\n\u001b[1;32m    287\u001b[0m         \u001b[0;34m(\u001b[0m\u001b[0mmsg_type\u001b[0m\u001b[0;34m,\u001b[0m \u001b[0mcontents\u001b[0m\u001b[0;34m)\u001b[0m \u001b[0;34m=\u001b[0m \u001b[0;34m(\u001b[0m\u001b[0mmsg\u001b[0m\u001b[0;34m.\u001b[0m\u001b[0mmsg_type\u001b[0m\u001b[0;34m,\u001b[0m \u001b[0mmsg\u001b[0m\u001b[0;34m.\u001b[0m\u001b[0mcontents\u001b[0m\u001b[0;34m)\u001b[0m\u001b[0;34m\u001b[0m\u001b[0m\n",
      "\u001b[0;32m~/code/PySyft/syft/serde/serde.py\u001b[0m in \u001b[0;36mdeserialize\u001b[0;34m(binary, worker, details)\u001b[0m\n\u001b[1;32m    347\u001b[0m         \u001b[0;31m# as msgpack's inability to serialize torch tensors or ... or\u001b[0m\u001b[0;34m\u001b[0m\u001b[0;34m\u001b[0m\u001b[0m\n\u001b[1;32m    348\u001b[0m         \u001b[0;31m# python slice objects\u001b[0m\u001b[0;34m\u001b[0m\u001b[0;34m\u001b[0m\u001b[0m\n\u001b[0;32m--> 349\u001b[0;31m         \u001b[0;32mreturn\u001b[0m \u001b[0m_detail\u001b[0m\u001b[0;34m(\u001b[0m\u001b[0mworker\u001b[0m\u001b[0;34m,\u001b[0m \u001b[0msimple_objects\u001b[0m\u001b[0;34m)\u001b[0m\u001b[0;34m\u001b[0m\u001b[0m\n\u001b[0m\u001b[1;32m    350\u001b[0m \u001b[0;34m\u001b[0m\u001b[0m\n\u001b[1;32m    351\u001b[0m     \u001b[0;32melse\u001b[0m\u001b[0;34m:\u001b[0m\u001b[0;34m\u001b[0m\u001b[0m\n",
      "\u001b[0;32m~/code/PySyft/syft/serde/serde.py\u001b[0m in \u001b[0;36m_detail\u001b[0;34m(worker, obj)\u001b[0m\n\u001b[1;32m    538\u001b[0m     \"\"\"\n\u001b[1;32m    539\u001b[0m     \u001b[0;32mif\u001b[0m \u001b[0mtype\u001b[0m\u001b[0;34m(\u001b[0m\u001b[0mobj\u001b[0m\u001b[0;34m)\u001b[0m \u001b[0;32min\u001b[0m \u001b[0;34m(\u001b[0m\u001b[0mlist\u001b[0m\u001b[0;34m,\u001b[0m \u001b[0mtuple\u001b[0m\u001b[0;34m)\u001b[0m\u001b[0;34m:\u001b[0m\u001b[0;34m\u001b[0m\u001b[0m\n\u001b[0;32m--> 540\u001b[0;31m         \u001b[0;32mreturn\u001b[0m \u001b[0mdetailers\u001b[0m\u001b[0;34m[\u001b[0m\u001b[0mobj\u001b[0m\u001b[0;34m[\u001b[0m\u001b[0;36m0\u001b[0m\u001b[0;34m]\u001b[0m\u001b[0;34m]\u001b[0m\u001b[0;34m(\u001b[0m\u001b[0mworker\u001b[0m\u001b[0;34m,\u001b[0m \u001b[0mobj\u001b[0m\u001b[0;34m[\u001b[0m\u001b[0;36m1\u001b[0m\u001b[0;34m]\u001b[0m\u001b[0;34m)\u001b[0m\u001b[0;34m\u001b[0m\u001b[0m\n\u001b[0m\u001b[1;32m    541\u001b[0m     \u001b[0;32melse\u001b[0m\u001b[0;34m:\u001b[0m\u001b[0;34m\u001b[0m\u001b[0m\n\u001b[1;32m    542\u001b[0m         \u001b[0;32mreturn\u001b[0m \u001b[0mobj\u001b[0m\u001b[0;34m\u001b[0m\u001b[0m\n",
      "\u001b[0;32m~/code/PySyft/syft/messaging/message.py\u001b[0m in \u001b[0;36mdetail\u001b[0;34m(worker, msg_tuple)\u001b[0m\n\u001b[1;32m    205\u001b[0m             \u001b[0mmessage\u001b[0m \u001b[0;34m=\u001b[0m \u001b[0mdetail\u001b[0m\u001b[0;34m(\u001b[0m\u001b[0msy\u001b[0m\u001b[0;34m.\u001b[0m\u001b[0mlocal_worker\u001b[0m\u001b[0;34m,\u001b[0m \u001b[0mmsg_tuple\u001b[0m\u001b[0;34m)\u001b[0m\u001b[0;34m\u001b[0m\u001b[0m\n\u001b[1;32m    206\u001b[0m         \"\"\"\n\u001b[0;32m--> 207\u001b[0;31m         \u001b[0;32mreturn\u001b[0m \u001b[0mObjectMessage\u001b[0m\u001b[0;34m(\u001b[0m\u001b[0msy\u001b[0m\u001b[0;34m.\u001b[0m\u001b[0mserde\u001b[0m\u001b[0;34m.\u001b[0m\u001b[0m_detail\u001b[0m\u001b[0;34m(\u001b[0m\u001b[0mworker\u001b[0m\u001b[0;34m,\u001b[0m \u001b[0mmsg_tuple\u001b[0m\u001b[0;34m[\u001b[0m\u001b[0;36m1\u001b[0m\u001b[0;34m]\u001b[0m\u001b[0;34m)\u001b[0m\u001b[0;34m)\u001b[0m\u001b[0;34m\u001b[0m\u001b[0m\n\u001b[0m\u001b[1;32m    208\u001b[0m \u001b[0;34m\u001b[0m\u001b[0m\n\u001b[1;32m    209\u001b[0m \u001b[0;34m\u001b[0m\u001b[0m\n",
      "\u001b[0;32m~/code/PySyft/syft/serde/serde.py\u001b[0m in \u001b[0;36m_detail\u001b[0;34m(worker, obj)\u001b[0m\n\u001b[1;32m    538\u001b[0m     \"\"\"\n\u001b[1;32m    539\u001b[0m     \u001b[0;32mif\u001b[0m \u001b[0mtype\u001b[0m\u001b[0;34m(\u001b[0m\u001b[0mobj\u001b[0m\u001b[0;34m)\u001b[0m \u001b[0;32min\u001b[0m \u001b[0;34m(\u001b[0m\u001b[0mlist\u001b[0m\u001b[0;34m,\u001b[0m \u001b[0mtuple\u001b[0m\u001b[0;34m)\u001b[0m\u001b[0;34m:\u001b[0m\u001b[0;34m\u001b[0m\u001b[0m\n\u001b[0;32m--> 540\u001b[0;31m         \u001b[0;32mreturn\u001b[0m \u001b[0mdetailers\u001b[0m\u001b[0;34m[\u001b[0m\u001b[0mobj\u001b[0m\u001b[0;34m[\u001b[0m\u001b[0;36m0\u001b[0m\u001b[0;34m]\u001b[0m\u001b[0;34m]\u001b[0m\u001b[0;34m(\u001b[0m\u001b[0mworker\u001b[0m\u001b[0;34m,\u001b[0m \u001b[0mobj\u001b[0m\u001b[0;34m[\u001b[0m\u001b[0;36m1\u001b[0m\u001b[0;34m]\u001b[0m\u001b[0;34m)\u001b[0m\u001b[0;34m\u001b[0m\u001b[0m\n\u001b[0m\u001b[1;32m    541\u001b[0m     \u001b[0;32melse\u001b[0m\u001b[0;34m:\u001b[0m\u001b[0;34m\u001b[0m\u001b[0m\n\u001b[1;32m    542\u001b[0m         \u001b[0;32mreturn\u001b[0m \u001b[0mobj\u001b[0m\u001b[0;34m\u001b[0m\u001b[0m\n",
      "\u001b[0;32m~/code/PySyft/syft/messaging/protocol.py\u001b[0m in \u001b[0;36mdetail\u001b[0;34m(worker, protocol_tuple)\u001b[0m\n\u001b[1;32m    234\u001b[0m             \u001b[0;32mif\u001b[0m \u001b[0mworkers_resolved\u001b[0m\u001b[0;34m:\u001b[0m\u001b[0;34m\u001b[0m\u001b[0m\n\u001b[1;32m    235\u001b[0m                 \u001b[0mplan_owner\u001b[0m \u001b[0;34m=\u001b[0m \u001b[0mworker\u001b[0m\u001b[0;34m.\u001b[0m\u001b[0mget_worker\u001b[0m\u001b[0;34m(\u001b[0m\u001b[0mowner_id\u001b[0m\u001b[0;34m,\u001b[0m \u001b[0mfail_hard\u001b[0m\u001b[0;34m=\u001b[0m\u001b[0;32mTrue\u001b[0m\u001b[0;34m)\u001b[0m\u001b[0;34m\u001b[0m\u001b[0m\n\u001b[0;32m--> 236\u001b[0;31m                 \u001b[0mplan_pointer\u001b[0m \u001b[0;34m=\u001b[0m \u001b[0mworker\u001b[0m\u001b[0;34m.\u001b[0m\u001b[0mrequest_search\u001b[0m\u001b[0;34m(\u001b[0m\u001b[0mplan_id\u001b[0m\u001b[0;34m,\u001b[0m \u001b[0mlocation\u001b[0m\u001b[0;34m=\u001b[0m\u001b[0mplan_owner\u001b[0m\u001b[0;34m)\u001b[0m\u001b[0;34m[\u001b[0m\u001b[0;36m0\u001b[0m\u001b[0;34m]\u001b[0m\u001b[0;34m\u001b[0m\u001b[0m\n\u001b[0m\u001b[1;32m    237\u001b[0m                 \u001b[0mworker\u001b[0m\u001b[0;34m.\u001b[0m\u001b[0mregister_obj\u001b[0m\u001b[0;34m(\u001b[0m\u001b[0mplan_pointer\u001b[0m\u001b[0;34m)\u001b[0m\u001b[0;34m\u001b[0m\u001b[0m\n\u001b[1;32m    238\u001b[0m                 \u001b[0mplans\u001b[0m\u001b[0;34m.\u001b[0m\u001b[0mappend\u001b[0m\u001b[0;34m(\u001b[0m\u001b[0;34m(\u001b[0m\u001b[0mplan_owner\u001b[0m\u001b[0;34m,\u001b[0m \u001b[0mplan_pointer\u001b[0m\u001b[0;34m)\u001b[0m\u001b[0;34m)\u001b[0m\u001b[0;34m\u001b[0m\u001b[0m\n",
      "\u001b[0;32m~/code/PySyft/syft/workers/base.py\u001b[0m in \u001b[0;36mrequest_search\u001b[0;34m(self, query, location)\u001b[0m\n\u001b[1;32m    947\u001b[0m     \u001b[0;32mdef\u001b[0m \u001b[0mrequest_search\u001b[0m\u001b[0;34m(\u001b[0m\u001b[0mself\u001b[0m\u001b[0;34m,\u001b[0m \u001b[0mquery\u001b[0m\u001b[0;34m:\u001b[0m \u001b[0mList\u001b[0m\u001b[0;34m[\u001b[0m\u001b[0mstr\u001b[0m\u001b[0;34m]\u001b[0m\u001b[0;34m,\u001b[0m \u001b[0mlocation\u001b[0m\u001b[0;34m:\u001b[0m \u001b[0;34m\"BaseWorker\"\u001b[0m\u001b[0;34m)\u001b[0m\u001b[0;34m:\u001b[0m\u001b[0;34m\u001b[0m\u001b[0m\n\u001b[1;32m    948\u001b[0m \u001b[0;34m\u001b[0m\u001b[0m\n\u001b[0;32m--> 949\u001b[0;31m         \u001b[0mresult\u001b[0m \u001b[0;34m=\u001b[0m \u001b[0mself\u001b[0m\u001b[0;34m.\u001b[0m\u001b[0msend_msg\u001b[0m\u001b[0;34m(\u001b[0m\u001b[0mSearchMessage\u001b[0m\u001b[0;34m(\u001b[0m\u001b[0mquery\u001b[0m\u001b[0;34m)\u001b[0m\u001b[0;34m,\u001b[0m \u001b[0mlocation\u001b[0m\u001b[0;34m=\u001b[0m\u001b[0mlocation\u001b[0m\u001b[0;34m)\u001b[0m\u001b[0;34m\u001b[0m\u001b[0m\n\u001b[0m\u001b[1;32m    950\u001b[0m \u001b[0;34m\u001b[0m\u001b[0m\n\u001b[1;32m    951\u001b[0m         \u001b[0;32mreturn\u001b[0m \u001b[0mresult\u001b[0m\u001b[0;34m\u001b[0m\u001b[0m\n",
      "\u001b[0;32m~/code/PySyft/syft/workers/base.py\u001b[0m in \u001b[0;36msend_msg\u001b[0;34m(self, message, location)\u001b[0m\n\u001b[1;32m    256\u001b[0m \u001b[0;34m\u001b[0m\u001b[0m\n\u001b[1;32m    257\u001b[0m         \u001b[0;31m# Step 2: send the message and wait for a response\u001b[0m\u001b[0;34m\u001b[0m\u001b[0;34m\u001b[0m\u001b[0m\n\u001b[0;32m--> 258\u001b[0;31m         \u001b[0mbin_response\u001b[0m \u001b[0;34m=\u001b[0m \u001b[0mself\u001b[0m\u001b[0;34m.\u001b[0m\u001b[0m_send_msg\u001b[0m\u001b[0;34m(\u001b[0m\u001b[0mbin_message\u001b[0m\u001b[0;34m,\u001b[0m \u001b[0mlocation\u001b[0m\u001b[0;34m)\u001b[0m\u001b[0;34m\u001b[0m\u001b[0m\n\u001b[0m\u001b[1;32m    259\u001b[0m \u001b[0;34m\u001b[0m\u001b[0m\n\u001b[1;32m    260\u001b[0m         \u001b[0;31m# Step 3: deserialize the response\u001b[0m\u001b[0;34m\u001b[0m\u001b[0;34m\u001b[0m\u001b[0m\n",
      "\u001b[0;32m~/code/PySyft/syft/workers/virtual.py\u001b[0m in \u001b[0;36m_send_msg\u001b[0;34m(self, message, location)\u001b[0m\n\u001b[1;32m      5\u001b[0m \u001b[0;32mclass\u001b[0m \u001b[0mVirtualWorker\u001b[0m\u001b[0;34m(\u001b[0m\u001b[0mBaseWorker\u001b[0m\u001b[0;34m,\u001b[0m \u001b[0mFederatedClient\u001b[0m\u001b[0;34m)\u001b[0m\u001b[0;34m:\u001b[0m\u001b[0;34m\u001b[0m\u001b[0m\n\u001b[1;32m      6\u001b[0m     \u001b[0;32mdef\u001b[0m \u001b[0m_send_msg\u001b[0m\u001b[0;34m(\u001b[0m\u001b[0mself\u001b[0m\u001b[0;34m,\u001b[0m \u001b[0mmessage\u001b[0m\u001b[0;34m:\u001b[0m \u001b[0mbin\u001b[0m\u001b[0;34m,\u001b[0m \u001b[0mlocation\u001b[0m\u001b[0;34m:\u001b[0m \u001b[0mBaseWorker\u001b[0m\u001b[0;34m)\u001b[0m \u001b[0;34m->\u001b[0m \u001b[0mbin\u001b[0m\u001b[0;34m:\u001b[0m\u001b[0;34m\u001b[0m\u001b[0m\n\u001b[0;32m----> 7\u001b[0;31m         \u001b[0;32mreturn\u001b[0m \u001b[0mlocation\u001b[0m\u001b[0;34m.\u001b[0m\u001b[0m_recv_msg\u001b[0m\u001b[0;34m(\u001b[0m\u001b[0mmessage\u001b[0m\u001b[0;34m)\u001b[0m\u001b[0;34m\u001b[0m\u001b[0m\n\u001b[0m\u001b[1;32m      8\u001b[0m \u001b[0;34m\u001b[0m\u001b[0m\n\u001b[1;32m      9\u001b[0m     \u001b[0;32mdef\u001b[0m \u001b[0m_recv_msg\u001b[0m\u001b[0;34m(\u001b[0m\u001b[0mself\u001b[0m\u001b[0;34m,\u001b[0m \u001b[0mmessage\u001b[0m\u001b[0;34m:\u001b[0m \u001b[0mbin\u001b[0m\u001b[0;34m)\u001b[0m \u001b[0;34m->\u001b[0m \u001b[0mbin\u001b[0m\u001b[0;34m:\u001b[0m\u001b[0;34m\u001b[0m\u001b[0m\n",
      "\u001b[0;32m~/code/PySyft/syft/workers/virtual.py\u001b[0m in \u001b[0;36m_recv_msg\u001b[0;34m(self, message)\u001b[0m\n\u001b[1;32m      8\u001b[0m \u001b[0;34m\u001b[0m\u001b[0m\n\u001b[1;32m      9\u001b[0m     \u001b[0;32mdef\u001b[0m \u001b[0m_recv_msg\u001b[0m\u001b[0;34m(\u001b[0m\u001b[0mself\u001b[0m\u001b[0;34m,\u001b[0m \u001b[0mmessage\u001b[0m\u001b[0;34m:\u001b[0m \u001b[0mbin\u001b[0m\u001b[0;34m)\u001b[0m \u001b[0;34m->\u001b[0m \u001b[0mbin\u001b[0m\u001b[0;34m:\u001b[0m\u001b[0;34m\u001b[0m\u001b[0m\n\u001b[0;32m---> 10\u001b[0;31m         \u001b[0;32mreturn\u001b[0m \u001b[0mself\u001b[0m\u001b[0;34m.\u001b[0m\u001b[0mrecv_msg\u001b[0m\u001b[0;34m(\u001b[0m\u001b[0mmessage\u001b[0m\u001b[0;34m)\u001b[0m\u001b[0;34m\u001b[0m\u001b[0m\n\u001b[0m",
      "\u001b[0;32m~/code/PySyft/syft/workers/base.py\u001b[0m in \u001b[0;36mrecv_msg\u001b[0;34m(self, bin_message)\u001b[0m\n\u001b[1;32m    290\u001b[0m             \u001b[0mprint\u001b[0m\u001b[0;34m(\u001b[0m\u001b[0;34mf\"worker {self} received {sy.codes.code2MSGTYPE[msg_type]} {contents}\"\u001b[0m\u001b[0;34m)\u001b[0m\u001b[0;34m\u001b[0m\u001b[0m\n\u001b[1;32m    291\u001b[0m         \u001b[0;31m# Step 1: route message to appropriate function\u001b[0m\u001b[0;34m\u001b[0m\u001b[0;34m\u001b[0m\u001b[0m\n\u001b[0;32m--> 292\u001b[0;31m         \u001b[0mresponse\u001b[0m \u001b[0;34m=\u001b[0m \u001b[0mself\u001b[0m\u001b[0;34m.\u001b[0m\u001b[0m_message_router\u001b[0m\u001b[0;34m[\u001b[0m\u001b[0mmsg_type\u001b[0m\u001b[0;34m]\u001b[0m\u001b[0;34m(\u001b[0m\u001b[0mcontents\u001b[0m\u001b[0;34m)\u001b[0m\u001b[0;34m\u001b[0m\u001b[0m\n\u001b[0m\u001b[1;32m    293\u001b[0m \u001b[0;34m\u001b[0m\u001b[0m\n\u001b[1;32m    294\u001b[0m         \u001b[0;31m# Step 2: Serialize the message to simple python objects\u001b[0m\u001b[0;34m\u001b[0m\u001b[0;34m\u001b[0m\u001b[0m\n",
      "\u001b[0;32m~/code/PySyft/syft/workers/base.py\u001b[0m in \u001b[0;36msearch\u001b[0;34m(self, query)\u001b[0m\n\u001b[1;32m    940\u001b[0m                 \u001b[0;31m# for a tensor we don't own, then it's probably someone else's\u001b[0m\u001b[0;34m\u001b[0m\u001b[0;34m\u001b[0m\u001b[0m\n\u001b[1;32m    941\u001b[0m                 \u001b[0;31m# decision to decide when to delete the tensor.\u001b[0m\u001b[0;34m\u001b[0m\u001b[0;34m\u001b[0m\u001b[0m\n\u001b[0;32m--> 942\u001b[0;31m                 \u001b[0mptr\u001b[0m \u001b[0;34m=\u001b[0m \u001b[0mobj\u001b[0m\u001b[0;34m.\u001b[0m\u001b[0mcreate_pointer\u001b[0m\u001b[0;34m(\u001b[0m\u001b[0mgarbage_collect_data\u001b[0m\u001b[0;34m=\u001b[0m\u001b[0;32mFalse\u001b[0m\u001b[0;34m,\u001b[0m \u001b[0mowner\u001b[0m\u001b[0;34m=\u001b[0m\u001b[0msy\u001b[0m\u001b[0;34m.\u001b[0m\u001b[0mlocal_worker\u001b[0m\u001b[0;34m)\u001b[0m\u001b[0;34m.\u001b[0m\u001b[0mwrap\u001b[0m\u001b[0;34m(\u001b[0m\u001b[0;34m)\u001b[0m\u001b[0;34m\u001b[0m\u001b[0m\n\u001b[0m\u001b[1;32m    943\u001b[0m                 \u001b[0mresults\u001b[0m\u001b[0;34m.\u001b[0m\u001b[0mappend\u001b[0m\u001b[0;34m(\u001b[0m\u001b[0mptr\u001b[0m\u001b[0;34m)\u001b[0m\u001b[0;34m\u001b[0m\u001b[0m\n\u001b[1;32m    944\u001b[0m \u001b[0;34m\u001b[0m\u001b[0m\n",
      "\u001b[0;31mTypeError\u001b[0m: create_pointer() missing 2 required positional arguments: 'location' and 'id_at_location'"
     ]
    }
   ],
   "source": [
    "#protocol.deploy(alice, bob, charlie)\n",
    "\n",
    "protocol.send(james)\n",
    "id_at_location = protocol.id"
   ]
  },
  {
   "cell_type": "code",
   "execution_count": 10,
   "metadata": {},
   "outputs": [],
   "source": [
    "protocol_ptr = me.request_search('my_protocol', location=james)[0]"
   ]
  },
  {
   "cell_type": "code",
   "execution_count": 11,
   "metadata": {},
   "outputs": [
    {
     "data": {
      "text/plain": [
       "[PointerProtocol | me:58809894900 -> dan:47276697871]"
      ]
     },
     "execution_count": 11,
     "metadata": {},
     "output_type": "execute_result"
    }
   ],
   "source": [
    "protocol_ptr"
   ]
  },
  {
   "cell_type": "code",
   "execution_count": 12,
   "metadata": {},
   "outputs": [],
   "source": [
    "protocol = protocol_ptr.get()"
   ]
  },
  {
   "cell_type": "code",
   "execution_count": 13,
   "metadata": {},
   "outputs": [
    {
     "data": {
      "text/plain": [
       "<Protocol id:47276697871 owner:me resolved>\n",
       " - alice: <Plan inc1 id:59652532761 owner:me location:alice built>\n",
       " - bob: <Plan inc2 id:78744869617 owner:me location:bob built>\n",
       " - charlie: <Plan inc3 id:31525630869 owner:me location:charlie built>"
      ]
     },
     "execution_count": 13,
     "metadata": {},
     "output_type": "execute_result"
    }
   ],
   "source": [
    "protocol.deploy(alice, bob, charlie)"
   ]
  },
  {
   "cell_type": "code",
   "execution_count": 14,
   "metadata": {},
   "outputs": [
    {
     "name": "stdout",
     "output_type": "stream",
     "text": [
      "send alice\n",
      "move alice  ->  bob\n",
      "move bob  ->  charlie\n"
     ]
    },
    {
     "data": {
      "text/plain": [
       "tensor([4.])"
      ]
     },
     "execution_count": 14,
     "metadata": {},
     "output_type": "execute_result"
    }
   ],
   "source": [
    "x = th.tensor([1.0])\n",
    "ptr = protocol.run(x)\n",
    "ptr.get()"
   ]
  },
  {
   "cell_type": "code",
   "execution_count": null,
   "metadata": {},
   "outputs": [],
   "source": []
  },
  {
   "cell_type": "code",
   "execution_count": null,
   "metadata": {},
   "outputs": [],
   "source": []
  },
  {
   "cell_type": "code",
   "execution_count": 5,
   "metadata": {},
   "outputs": [],
   "source": [
    "deployed_protocol"
   ]
  },
  {
   "cell_type": "code",
   "execution_count": 6,
   "metadata": {},
   "outputs": [
    {
     "ename": "RuntimeError",
     "evalue": "This protocol is already deployed to alice bob charlie.",
     "output_type": "error",
     "traceback": [
      "\u001b[0;31m---------------------------------------------------------------------------\u001b[0m",
      "\u001b[0;31mRuntimeError\u001b[0m                              Traceback (most recent call last)",
      "\u001b[0;32m<ipython-input-6-5bb274fac8bd>\u001b[0m in \u001b[0;36m<module>\u001b[0;34m\u001b[0m\n\u001b[0;32m----> 1\u001b[0;31m \u001b[0mprotocol\u001b[0m\u001b[0;34m.\u001b[0m\u001b[0mdeploy\u001b[0m\u001b[0;34m(\u001b[0m\u001b[0mcharlie\u001b[0m\u001b[0;34m,\u001b[0m \u001b[0malice\u001b[0m\u001b[0;34m,\u001b[0m \u001b[0mbob\u001b[0m\u001b[0;34m)\u001b[0m\u001b[0;34m\u001b[0m\u001b[0m\n\u001b[0m",
      "\u001b[0;32m~/code/PySyft/syft/messaging/protocol.py\u001b[0m in \u001b[0;36mdeploy\u001b[0;34m(self, *workers)\u001b[0m\n\u001b[1;32m     69\u001b[0m         \u001b[0;32mif\u001b[0m \u001b[0mself\u001b[0m\u001b[0;34m.\u001b[0m\u001b[0mworkers_resolved\u001b[0m\u001b[0;34m:\u001b[0m\u001b[0;34m\u001b[0m\u001b[0m\n\u001b[1;32m     70\u001b[0m             raise RuntimeError(\n\u001b[0;32m---> 71\u001b[0;31m                 \u001b[0;34mf\"This protocol is already deployed to {' '.join(worker.id for worker, plan in self.plans)}.\"\u001b[0m\u001b[0;34m\u001b[0m\u001b[0m\n\u001b[0m\u001b[1;32m     72\u001b[0m             )\n\u001b[1;32m     73\u001b[0m \u001b[0;34m\u001b[0m\u001b[0m\n",
      "\u001b[0;31mRuntimeError\u001b[0m: This protocol is already deployed to alice bob charlie."
     ]
    }
   ],
   "source": [
    "protocol.deploy(charlie, alice, bob)"
   ]
  },
  {
   "cell_type": "code",
   "execution_count": null,
   "metadata": {},
   "outputs": [],
   "source": [
    "protocol"
   ]
  },
  {
   "cell_type": "code",
   "execution_count": 3,
   "metadata": {},
   "outputs": [
    {
     "name": "stdout",
     "output_type": "stream",
     "text": [
      "send remote run request to dan\n",
      "send alice\n",
      "(execute_plan) args (tensor([1.]),)\n",
      ".... local execute_plan\n",
      ".... local responses tensor([2.])\n",
      "move alice  ->  bob\n",
      "(execute_plan) args (tensor([2.]),)\n",
      ".... local execute_plan\n",
      ".... local responses tensor([3.])\n",
      "move bob  ->  charlie\n",
      "(execute_plan) args (tensor([3.]),)\n",
      ".... local execute_plan\n",
      ".... local responses tensor([4.])\n",
      "? (Wrapper)>[PointerTensor | dan:67744734326 -> charlie:65078198954]\n",
      "[PointerProtocol | me:65193420717 -> dan:44860555800]\n",
      "(Wrapper)>[PointerTensor | me:51287856018 -> dan:88727440166]\n",
      "(Wrapper)>[PointerTensor | me:88727440166 -> charlie:65078198954]\n"
     ]
    }
   ],
   "source": [
    "protocol.deploy(alice, bob, charlie)\n",
    "\n",
    "protocol.send(james)\n",
    "id_at_location = protocol.id\n",
    "\n",
    "protocol_ptr = me.request_search([id_at_location], location=james)[0]\n",
    "\n",
    "x = th.tensor([1.0]).send(james)\n",
    "\n",
    "ptr = protocol_ptr.run(x)\n",
    "print(protocol_ptr)\n",
    "print(ptr)\n",
    "assert isinstance(ptr, FrameworkTensor) and ptr.is_wrapper\n",
    "ptr = ptr.get()\n",
    "print(ptr)\n",
    "assert isinstance(ptr, FrameworkTensor) and ptr.is_wrapper and isinstance(ptr.child, PointerTensor)\n",
    "\n",
    "assert (ptr.get() == th.tensor([4.0])).all()"
   ]
  },
  {
   "cell_type": "code",
   "execution_count": 4,
   "metadata": {},
   "outputs": [],
   "source": [
    "def foo():\n",
    "    pass"
   ]
  },
  {
   "cell_type": "code",
   "execution_count": 7,
   "metadata": {},
   "outputs": [
    {
     "data": {
      "text/plain": [
       "'k'"
      ]
     },
     "execution_count": 7,
     "metadata": {},
     "output_type": "execute_result"
    }
   ],
   "source": [
    "foo.__name__"
   ]
  },
  {
   "cell_type": "code",
   "execution_count": 6,
   "metadata": {},
   "outputs": [],
   "source": [
    "foo.__name__ = \"k\""
   ]
  },
  {
   "cell_type": "code",
   "execution_count": null,
   "metadata": {},
   "outputs": [],
   "source": []
  },
  {
   "cell_type": "markdown",
   "metadata": {},
   "source": [
    "# REAL FETCH AND DEPLOY"
   ]
  },
  {
   "cell_type": "code",
   "execution_count": 5,
   "metadata": {},
   "outputs": [],
   "source": [
    "@sy.func2plan(args_shape=[(1,)])\n",
    "def inc1(x):\n",
    "    return x + 1\n",
    "\n",
    "@sy.func2plan(args_shape=[(1,)])\n",
    "def inc2(x):\n",
    "    return x + 1\n",
    "\n",
    "@sy.func2plan(args_shape=[(1,)])\n",
    "def inc3(x):\n",
    "    return x + 1\n",
    "\n",
    "protocol = sy.Protocol([\n",
    "    ('worker1', inc1),\n",
    "    ('worker2', inc2),\n",
    "    ('worker3', inc3),\n",
    "])\n",
    "protocol.send(james)"
   ]
  },
  {
   "cell_type": "code",
   "execution_count": 6,
   "metadata": {},
   "outputs": [
    {
     "data": {
      "text/plain": [
       "{45988558759: <Plan inc1 id:45988558759 owner:dan built>,\n",
       " 14690656600: <Plan inc2 id:14690656600 owner:dan built>,\n",
       " 59564740431: <Plan inc3 id:59564740431 owner:dan built>,\n",
       " 68295267122: <Protocol id:68295267122 owner:dan>\n",
       "  - dan: <Plan inc1 id:45988558759 owner:dan built>\n",
       "  - dan: <Plan inc2 id:14690656600 owner:dan built>\n",
       "  - dan: <Plan inc3 id:59564740431 owner:dan built>}"
      ]
     },
     "execution_count": 6,
     "metadata": {},
     "output_type": "execute_result"
    }
   ],
   "source": [
    "james._objects"
   ]
  },
  {
   "cell_type": "code",
   "execution_count": 7,
   "metadata": {},
   "outputs": [
    {
     "data": {
      "text/plain": [
       "<Protocol id:68295267122 owner:me>\n",
       " - worker1: <Plan inc1 id:45988558759 owner:me location:dan built>\n",
       " - worker2: <Plan inc2 id:14690656600 owner:me location:dan built>\n",
       " - worker3: <Plan inc3 id:59564740431 owner:me location:dan built>"
      ]
     },
     "execution_count": 7,
     "metadata": {},
     "output_type": "execute_result"
    }
   ],
   "source": [
    "protocol"
   ]
  },
  {
   "cell_type": "code",
   "execution_count": 8,
   "metadata": {},
   "outputs": [
    {
     "data": {
      "text/plain": [
       "[PointerProtocol | me:15381868250 -> dan:68295267122]"
      ]
     },
     "execution_count": 8,
     "metadata": {},
     "output_type": "execute_result"
    }
   ],
   "source": [
    "ptr_protocol = me.request_search([protocol.id], location=james)[0]\n",
    "ptr_protocol"
   ]
  },
  {
   "cell_type": "code",
   "execution_count": 9,
   "metadata": {},
   "outputs": [
    {
     "data": {
      "text/plain": [
       "<Protocol id:68295267122 owner:me>\n",
       " - me: <Plan inc1 id:45988558759 owner:me built>\n",
       " - me: <Plan inc2 id:14690656600 owner:me built>\n",
       " - me: <Plan inc3 id:59564740431 owner:me built>"
      ]
     },
     "execution_count": 9,
     "metadata": {},
     "output_type": "execute_result"
    }
   ],
   "source": [
    "protocol_back = ptr_protocol.get()\n",
    "protocol_back"
   ]
  },
  {
   "cell_type": "code",
   "execution_count": 10,
   "metadata": {},
   "outputs": [],
   "source": [
    "protocol_back.deploy(alice, bob, charlie)"
   ]
  },
  {
   "cell_type": "code",
   "execution_count": 11,
   "metadata": {},
   "outputs": [
    {
     "name": "stdout",
     "output_type": "stream",
     "text": [
      "send alice\n",
      "(execute_plan) args ((Wrapper)>[PointerTensor | me:57978269988 -> alice:32860665240],)\n",
      "... call to request_execute_plan tensor([1.])\n",
      "> ((Wrapper)>[PointerTensor | me:57978269988 -> alice:32860665240],)\n",
      "< [(Wrapper)>[PointerTensor | me:57978269988 -> alice:32860665240]]\n",
      "(execute_plan) args [(Wrapper)>tensor([1.])]\n",
      ".... local execute_plan\n",
      ".... local responses tensor([2.])\n",
      "... returned [PointerTensor | me:74201678487 -> alice:32831671132]\n",
      "move alice  ->  bob\n",
      "(execute_plan) args ((Wrapper)>[PointerTensor | me:72613409068 -> bob:74201678487],)\n",
      "... call to request_execute_plan tensor([2.])\n",
      "> ((Wrapper)>[PointerTensor | me:72613409068 -> bob:74201678487],)\n",
      "< [(Wrapper)>[PointerTensor | me:72613409068 -> bob:74201678487]]\n",
      "(execute_plan) args [(Wrapper)>tensor([2.])]\n",
      ".... local execute_plan\n",
      ".... local responses tensor([3.])\n",
      "... returned [PointerTensor | me:88026559351 -> bob:47927396608]\n",
      "move bob  ->  charlie\n",
      "(execute_plan) args ((Wrapper)>[PointerTensor | me:11424726935 -> charlie:88026559351],)\n",
      "... call to request_execute_plan tensor([3.])\n",
      "> ((Wrapper)>[PointerTensor | me:11424726935 -> charlie:88026559351],)\n",
      "< [(Wrapper)>[PointerTensor | me:11424726935 -> charlie:88026559351]]\n",
      "(execute_plan) args [(Wrapper)>tensor([3.])]\n",
      ".... local execute_plan\n",
      ".... local responses tensor([4.])\n",
      "... returned [PointerTensor | me:71914276799 -> charlie:4131479225]\n",
      "? (Wrapper)>[PointerTensor | me:71914276799 -> charlie:4131479225]\n",
      "RES (Wrapper)>[PointerTensor | me:71914276799 -> charlie:4131479225]\n"
     ]
    },
    {
     "data": {
      "text/plain": [
       "tensor([4.])"
      ]
     },
     "execution_count": 11,
     "metadata": {},
     "output_type": "execute_result"
    }
   ],
   "source": [
    "x = th.tensor([1.])\n",
    "p = protocol_back.run(x)\n",
    "print('RES', p)\n",
    "p.get()"
   ]
  },
  {
   "cell_type": "code",
   "execution_count": 12,
   "metadata": {},
   "outputs": [],
   "source": [
    "dan.clear_objects()\n",
    "protocol = protocol_back"
   ]
  },
  {
   "cell_type": "code",
   "execution_count": 13,
   "metadata": {},
   "outputs": [],
   "source": [
    "protocol.send(dan)"
   ]
  },
  {
   "cell_type": "code",
   "execution_count": 14,
   "metadata": {},
   "outputs": [
    {
     "data": {
      "text/plain": [
       "{55454062232: [PointerPlan | dan:55454062232 -> alice:45988558759],\n",
       " 35961983958: [PointerPlan | dan:35961983958 -> bob:14690656600],\n",
       " 97364543672: [PointerPlan | dan:97364543672 -> charlie:59564740431],\n",
       " 68295267122: <Protocol id:68295267122 owner:dan resolved>\n",
       "  - alice: [PointerPlan | dan:55454062232 -> alice:45988558759]\n",
       "  - bob: [PointerPlan | dan:35961983958 -> bob:14690656600]\n",
       "  - charlie: [PointerPlan | dan:97364543672 -> charlie:59564740431]}"
      ]
     },
     "execution_count": 14,
     "metadata": {},
     "output_type": "execute_result"
    }
   ],
   "source": [
    "dan._objects"
   ]
  },
  {
   "cell_type": "code",
   "execution_count": 15,
   "metadata": {},
   "outputs": [],
   "source": [
    "ptr_protocol = me.request_search([protocol.id], location=dan)[0]"
   ]
  },
  {
   "cell_type": "code",
   "execution_count": 16,
   "metadata": {},
   "outputs": [
    {
     "data": {
      "text/plain": [
       "<Protocol id:68295267122 owner:me resolved>\n",
       " - alice: [PointerPlan | me:25947000035 -> alice:45988558759]\n",
       " - bob: [PointerPlan | me:35636099266 -> bob:14690656600]\n",
       " - charlie: [PointerPlan | me:33760632866 -> charlie:59564740431]"
      ]
     },
     "execution_count": 16,
     "metadata": {},
     "output_type": "execute_result"
    }
   ],
   "source": [
    "protocol_back = ptr_protocol.get()\n",
    "protocol_back"
   ]
  },
  {
   "cell_type": "code",
   "execution_count": 17,
   "metadata": {},
   "outputs": [
    {
     "name": "stdout",
     "output_type": "stream",
     "text": [
      "send alice\n",
      "(execute_plan) args (tensor([1.]),)\n",
      ".... local execute_plan\n",
      ".... local responses tensor([2.])\n",
      "move alice  ->  bob\n",
      "(execute_plan) args (tensor([2.]),)\n",
      ".... local execute_plan\n",
      ".... local responses tensor([3.])\n",
      "move bob  ->  charlie\n",
      "(execute_plan) args (tensor([3.]),)\n",
      ".... local execute_plan\n",
      ".... local responses tensor([4.])\n",
      "? (Wrapper)>[PointerTensor | me:37269776288 -> charlie:22615623854]\n"
     ]
    },
    {
     "data": {
      "text/plain": [
       "(Wrapper)>[PointerTensor | me:37269776288 -> charlie:22615623854]"
      ]
     },
     "execution_count": 17,
     "metadata": {},
     "output_type": "execute_result"
    }
   ],
   "source": [
    "x = th.tensor([1.])\n",
    "protocol_back.run(x)"
   ]
  },
  {
   "cell_type": "markdown",
   "metadata": {},
   "source": [
    "STOP"
   ]
  },
  {
   "cell_type": "code",
   "execution_count": null,
   "metadata": {},
   "outputs": [],
   "source": []
  },
  {
   "cell_type": "code",
   "execution_count": null,
   "metadata": {},
   "outputs": [],
   "source": []
  },
  {
   "cell_type": "code",
   "execution_count": null,
   "metadata": {},
   "outputs": [],
   "source": []
  },
  {
   "cell_type": "code",
   "execution_count": 15,
   "metadata": {},
   "outputs": [
    {
     "name": "stdout",
     "output_type": "stream",
     "text": [
      "(Wrapper)>[PointerTensor | me:61674986282 -> dan:32019656284]\n",
      "send remote run request to dan\n",
      "send alice\n",
      "(execute_plan) args ((Wrapper)>(Wrapper)>tensor([1.]),)\n",
      ".... local execute_plan\n",
      "[34091477799]  vs  [32019656284]\n",
      ".... local responses tensor([2.])\n",
      "move alice  ->  bob\n",
      "(execute_plan) args (tensor([2.]),)\n",
      ".... local execute_plan\n",
      "[3088290791]  vs  [71397902329]\n",
      ".... local responses tensor([3.])\n",
      "move bob  ->  charlie\n",
      "(execute_plan) args (tensor([3.]),)\n",
      ".... local execute_plan\n",
      "[59914992287]  vs  [84731278022]\n",
      ".... local responses tensor([4.])\n",
      "[PointerTensor | me:98335168638 -> dan:16547780861]\n"
     ]
    }
   ],
   "source": [
    "x = th.tensor([1.]).send(dan)\n",
    "print(x)\n",
    "r = ptr_protocol.run(x)\n",
    "print(r)"
   ]
  },
  {
   "cell_type": "code",
   "execution_count": null,
   "metadata": {},
   "outputs": [],
   "source": [
    "r.get().get()"
   ]
  },
  {
   "cell_type": "code",
   "execution_count": null,
   "metadata": {},
   "outputs": [],
   "source": [
    "x = th.tensor([1.]).send(dan)\n",
    "r = protocol.run(x)\n",
    "print('#', r)\n",
    "r = r.get()\n",
    "print('#', r)\n",
    "r = r.get()\n",
    "print('#', r)"
   ]
  },
  {
   "cell_type": "code",
   "execution_count": null,
   "metadata": {},
   "outputs": [],
   "source": []
  },
  {
   "cell_type": "code",
   "execution_count": null,
   "metadata": {},
   "outputs": [],
   "source": []
  },
  {
   "cell_type": "code",
   "execution_count": null,
   "metadata": {},
   "outputs": [],
   "source": []
  },
  {
   "cell_type": "code",
   "execution_count": null,
   "metadata": {},
   "outputs": [],
   "source": []
  },
  {
   "cell_type": "code",
   "execution_count": null,
   "metadata": {},
   "outputs": [],
   "source": [
    "p = th.tensor([1.]).fix_prec().share(alice, bob, crypto_provider=charlie).send(dan)\n",
    "print(p, p.location._objects[p.id_at_location])\n",
    "p2 = p + p\n",
    "print(p2, p2.location._objects[p2.id_at_location])\n",
    "p2.remote_get().float_prec()"
   ]
  },
  {
   "cell_type": "code",
   "execution_count": null,
   "metadata": {},
   "outputs": [],
   "source": [
    "None is not 3 != 3"
   ]
  },
  {
   "cell_type": "code",
   "execution_count": null,
   "metadata": {},
   "outputs": [],
   "source": [
    "x, y = map(lambda x: print(x), (1, 2, 3))"
   ]
  },
  {
   "cell_type": "code",
   "execution_count": null,
   "metadata": {},
   "outputs": [],
   "source": []
  },
  {
   "cell_type": "code",
   "execution_count": null,
   "metadata": {},
   "outputs": [],
   "source": [
    "# Fetch plan\n",
    "fetched_plan = plan.owner.fetch_plan(plan.id, james, copy=True)\n",
    "\n",
    "# Execute the fetch plan\n",
    "x = th.tensor([-1.0])\n",
    "x_sh = x.fix_precision().share(alice, bob, crypto_provider=charlie)\n",
    "decrypted = fetched_plan(x_sh).get().float_prec()\n",
    "\n",
    "# Compare with local plan\n",
    "plan.get().get().float_precision()\n",
    "expected = plan(x)\n",
    "assert th.all(decrypted - expected.detach() < 1e-2)\n",
    "assert fetched_plan.state_ids != plan.state_ids\n",
    "\n",
    "# Make sure fetched_plan is using the readable_plan\n",
    "assert fetched_plan.forward is None\n",
    "assert fetched_plan.is_built\n",
    "\n",
    "# Make sure plan is using the blueprint: forward\n",
    "assert plan.forward is not None\n",
    "\n"
   ]
  },
  {
   "cell_type": "code",
   "execution_count": null,
   "metadata": {},
   "outputs": [],
   "source": [
    "dan._objects[59244868788].child.id"
   ]
  },
  {
   "cell_type": "code",
   "execution_count": null,
   "metadata": {},
   "outputs": [],
   "source": [
    "dan.clear_objects()\n",
    "x = th.tensor([-1.0])\n",
    "x_sh = x.fix_precision().share_(alice, bob, crypto_provider=charlie)\n",
    "p = x_sh.send_(dan)\n",
    "\n",
    "assert p.id_at_location in dan._objects"
   ]
  },
  {
   "cell_type": "code",
   "execution_count": null,
   "metadata": {},
   "outputs": [],
   "source": [
    "plan.bias"
   ]
  },
  {
   "cell_type": "code",
   "execution_count": null,
   "metadata": {},
   "outputs": [],
   "source": [
    "for p in plan.parameters():\n",
    "    print(':', p)"
   ]
  },
  {
   "cell_type": "code",
   "execution_count": null,
   "metadata": {},
   "outputs": [],
   "source": []
  },
  {
   "cell_type": "code",
   "execution_count": null,
   "metadata": {},
   "outputs": [],
   "source": []
  },
  {
   "cell_type": "code",
   "execution_count": null,
   "metadata": {},
   "outputs": [],
   "source": []
  },
  {
   "cell_type": "code",
   "execution_count": null,
   "metadata": {},
   "outputs": [],
   "source": []
  },
  {
   "cell_type": "code",
   "execution_count": null,
   "metadata": {},
   "outputs": [],
   "source": []
  },
  {
   "cell_type": "code",
   "execution_count": null,
   "metadata": {},
   "outputs": [],
   "source": []
  },
  {
   "cell_type": "code",
   "execution_count": null,
   "metadata": {},
   "outputs": [],
   "source": []
  },
  {
   "cell_type": "code",
   "execution_count": null,
   "metadata": {},
   "outputs": [],
   "source": [
    "hook.local_worker.is_client_worker = False\n",
    "\n",
    "@sy.func2plan(args_shape=[(1,)], state={\"bias\": th.tensor([1.0])})\n",
    "def plan_mult_3(data, state):\n",
    "    bias = state.read('bias')\n",
    "    return data * 3 + bias\n",
    "\n",
    "plan_mult_3.send(bob)\n",
    "\n",
    "print(plan_mult_3)\n",
    "\n",
    "# Fetch plan\n",
    "fetched_plan = plan_mult_3.owner.fetch_ref_to_plan(plan_mult_3.id, bob)\n",
    "print(fetched_plan.readable_plan)\n",
    "print('####', fetched_plan.arg_ids)\n",
    "\n",
    "# Execute it locally\n",
    "x = th.tensor([-1., 2, 3]).send(bob)\n",
    "print(x)\n",
    "#assert (plan_mult_3(x) == th.tensor([-2., 7, 10])).all()\n",
    "print('****', fetched_plan.locations)\n",
    "assert (fetched_plan(x).get() == th.tensor([-2., 7, 10])).all()\n",
    "assert fetched_plan.forward is None\n",
    "assert fetched_plan.is_built\n",
    "\n",
    "hook.local_worker.is_client_worker = True"
   ]
  },
  {
   "cell_type": "code",
   "execution_count": null,
   "metadata": {},
   "outputs": [],
   "source": [
    "bob._objects"
   ]
  },
  {
   "cell_type": "code",
   "execution_count": null,
   "metadata": {},
   "outputs": [],
   "source": []
  },
  {
   "cell_type": "code",
   "execution_count": null,
   "metadata": {},
   "outputs": [],
   "source": []
  },
  {
   "cell_type": "code",
   "execution_count": null,
   "metadata": {},
   "outputs": [],
   "source": [
    "hook.local_worker.is_client_worker = False\n",
    "\n",
    "@sy.func2plan(args_shape=[(1,)], state={\"bias\": th.tensor([1.0])})\n",
    "def plan_mult_3(data, state):\n",
    "    bias = state.read('bias')\n",
    "    return data * 3 + bias\n",
    "\n",
    "plan_mult_3.send(bob)\n",
    "\n",
    "print(plan_mult_3)\n",
    "\n",
    "# Fetch plan\n",
    "fetched_plan = plan_mult_3.owner.fetch_plan(plan_mult_3.id, bob)\n",
    "print(fetched_plan.readable_plan)\n",
    "\n",
    "# Execute it locally\n",
    "x = th.tensor([-1., 2, 3])\n",
    "assert (plan_mult_3(x) == th.tensor([-2., 7, 10])).all()\n",
    "assert (fetched_plan(x) == th.tensor([-2., 7, 10])).all()\n",
    "assert fetched_plan.forward is None\n",
    "assert fetched_plan.is_built\n",
    "\n",
    "\n",
    "hook.local_worker.is_client_worker = True"
   ]
  },
  {
   "cell_type": "code",
   "execution_count": null,
   "metadata": {},
   "outputs": [],
   "source": [
    "bob.clear_objects()\n",
    "\n",
    "bob.log_msgs = True\n",
    "\n",
    "x = th.tensor([1, 2, 3, 4]).send(bob)\n",
    "\n",
    "id_on_worker = x.id_at_location\n",
    "\n",
    "assert id_on_worker in bob._objects\n",
    "\n",
    "del x  # this is the test\n",
    "assert isinstance(bob._get_msg(-1), sy.messaging.ForceObjectDeleteMessage)"
   ]
  },
  {
   "cell_type": "code",
   "execution_count": null,
   "metadata": {},
   "outputs": [],
   "source": [
    "x = th.tensor([1, 2, 3, 4, 5])\n",
    "type(x.fix_prec().child)"
   ]
  },
  {
   "cell_type": "code",
   "execution_count": null,
   "metadata": {},
   "outputs": [],
   "source": [
    "t = torch.tensor([1.,2.,3.])\n",
    "t.shape                         # torch.Size([3])\n",
    "bds = sy.BaseDataset(t, t)\n",
    "bds.send(bob)\n",
    "bds.data.shape  "
   ]
  },
  {
   "cell_type": "code",
   "execution_count": null,
   "metadata": {},
   "outputs": [],
   "source": []
  },
  {
   "cell_type": "code",
   "execution_count": null,
   "metadata": {},
   "outputs": [],
   "source": []
  },
  {
   "cell_type": "code",
   "execution_count": null,
   "metadata": {},
   "outputs": [],
   "source": []
  },
  {
   "cell_type": "code",
   "execution_count": null,
   "metadata": {},
   "outputs": [],
   "source": [
    "me.clear_objects()\n",
    "bob.clear_objects()\n",
    "alice.clear_objects()\n",
    "\n",
    "t = th.tensor([5.])\n",
    "p = t.send(bob)\n",
    "print('---')\n",
    "#print(me._objects)\n",
    "print(bob._objects)\n",
    "print(alice._objects)\n",
    "\n",
    "p2 = p.send(alice)\n",
    "\n",
    "print('---')\n",
    "#print(me._objects)\n",
    "print(bob._objects)\n",
    "print(alice._objects)\n",
    "\n",
    "p2.get().get()"
   ]
  },
  {
   "cell_type": "code",
   "execution_count": null,
   "metadata": {},
   "outputs": [],
   "source": [
    "me.clear_objects()\n",
    "for i in range(2):\n",
    "    #x = th.randint(1, 4, (1,))\n",
    "    x = th.Tensor([1])\n",
    "    #p = x.send(bob)\n",
    "    y = x + 1\n",
    "    print(me._objects)"
   ]
  },
  {
   "cell_type": "markdown",
   "metadata": {},
   "source": [
    "LOCAL AST"
   ]
  },
  {
   "cell_type": "code",
   "execution_count": null,
   "metadata": {},
   "outputs": [],
   "source": [
    "me.clear_objects()\n",
    "bob.clear_objects()\n",
    "t = th.tensor([5.])\n",
    "print('---')\n",
    "print(me._objects)\n",
    "print(bob._objects)\n",
    "fp = t.fix_precision()\n",
    "print('&&&', fp.owner.id, fp.child.owner.id)\n",
    "ast = fp.share(bob, charlie, crypto_provider=dan)\n",
    "print('---')\n",
    "print(me._objects)\n",
    "print(bob._objects)"
   ]
  },
  {
   "cell_type": "code",
   "execution_count": null,
   "metadata": {},
   "outputs": [],
   "source": [
    "me.clear_objects()\n",
    "bob.clear_objects()\n",
    "t = th.tensor([5.])\n",
    "p = t.send(bob)\n",
    "print('---')\n",
    "#print(me._objects)\n",
    "print(bob._objects)\n",
    "fp = p.fix_precision()\n",
    "ast = fp.share(alice, charlie, crypto_provider=dan)\n",
    "print('---')\n",
    "#print(me._objects)\n",
    "print(bob._objects)\n",
    "\n",
    "print(ast.get().get().float_prec())"
   ]
  },
  {
   "cell_type": "code",
   "execution_count": null,
   "metadata": {},
   "outputs": [],
   "source": [
    "t = th.tensor([1.])\n",
    "x = t.send(dan).fix_precision().share(bob, charlie, crypto_provider=dan)"
   ]
  },
  {
   "cell_type": "code",
   "execution_count": null,
   "metadata": {},
   "outputs": [],
   "source": [
    "dan._objects"
   ]
  },
  {
   "cell_type": "code",
   "execution_count": null,
   "metadata": {},
   "outputs": [],
   "source": [
    "@sy.func2plan(args_shape=[(1,)])\n",
    "def plan_mult_3(data):\n",
    "    return data * 3\n",
    "\n",
    "plan_mult_3.send(alice)\n",
    "\n",
    "# Fetch plan\n",
    "fetched_plan = alice.fetch_plan(plan_mult_3.id)\n",
    "\n",
    "hook.local_worker.clear_objects()\n",
    "\n",
    "t = th.tensor([1.])\n",
    "#p = t.send(bob)\n",
    "#fetched_plan.fix_precision().share(bob, charlie, crypto_provider=dan)\n",
    "x = t.fix_precision().share(bob, charlie, crypto_provider=dan)\n",
    "\n",
    "print('original', t.id)\n",
    "print('AST', x.id)\n",
    "print('Shares', [(p.id, p.id_at_location)  for k, p in x.child.child.child.items()])\n",
    "\n",
    "print(hook.local_worker._objects)\n",
    "print(fetched_plan.readable_plan)\n",
    "# Execute it with an AST\n",
    "print(fetched_plan(x))"
   ]
  },
  {
   "cell_type": "markdown",
   "metadata": {},
   "source": [
    "Pointers"
   ]
  },
  {
   "cell_type": "code",
   "execution_count": null,
   "metadata": {},
   "outputs": [],
   "source": [
    "@sy.func2plan(args_shape=[(1,)])\n",
    "def plan_mult_3(data):\n",
    "    return data * 3\n",
    "\n",
    "sent_plan = plan_mult_3.send(alice)\n",
    "\n",
    "# Fetch plan\n",
    "fetched_plan = alice.fetch_plan(sent_plan.id)\n",
    "get_plan = sent_plan.get()\n",
    "\n",
    "t = th.tensor([1.])\n",
    "p = t.send(bob)\n",
    "fetched_plan.send(bob)\n",
    "#x = t.fix_precision().share(bob, charlie, crypto_provider=dan)\n",
    "# Execute it with an AST\n",
    "print(fetched_plan(p).get())"
   ]
  },
  {
   "cell_type": "code",
   "execution_count": null,
   "metadata": {},
   "outputs": [],
   "source": []
  }
 ],
 "metadata": {
  "kernelspec": {
   "display_name": "Python (Pysyft)",
   "language": "python",
   "name": "pysyft"
  },
  "language_info": {
   "codemirror_mode": {
    "name": "ipython",
    "version": 3
   },
   "file_extension": ".py",
   "mimetype": "text/x-python",
   "name": "python",
   "nbconvert_exporter": "python",
   "pygments_lexer": "ipython3",
   "version": "3.7.0"
  }
 },
 "nbformat": 4,
 "nbformat_minor": 2
}
